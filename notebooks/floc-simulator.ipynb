{
 "cells": [
  {
   "cell_type": "code",
   "execution_count": null,
   "metadata": {},
   "outputs": [],
   "source": [
    "import pandas as pd\n",
    "import numpy as np\n",
    "import sys\n",
    "%autoreload 2\n",
    "%matplotlib inline\n",
    "sys.path.append('..')"
   ]
  },
  {
   "cell_type": "markdown",
   "metadata": {},
   "source": [
    "# Transactions -> Domains\n",
    "\n",
    "Read data and convert to domain sets for each `machine_id, week` pair"
   ]
  },
  {
   "cell_type": "code",
   "execution_count": null,
   "metadata": {},
   "outputs": [],
   "source": [
    "panels = pd.read_csv(\"../output/all_panels.csv\", index_col=0)\n",
    "\n",
    "transactions_fpath = '../data/comscore/2017/transactions.csv'\n",
    "transactions_df = pd.read_csv(transactions_fpath, parse_dates=['event_date'])[['machine_id', 'event_date', 'domain_name']]"
   ]
  },
  {
   "cell_type": "code",
   "execution_count": null,
   "metadata": {},
   "outputs": [],
   "source": [
    "tdf = (transactions_df\n",
    " .assign(week=lambda x: x.event_date.dt.week)\n",
    " .dropna()\n",
    " .groupby(['machine_id', 'week'])\n",
    " .agg({'domain_name': set}).reset_index()\n",
    "       .assign(n_domains=lambda x: x.domain_name.map(len))\n",
    "       .assign(domain_name=lambda x: x.domain_name.map(lambda y: \"|\".join(list(y))))\n",
    "      )"
   ]
  },
  {
   "cell_type": "code",
   "execution_count": null,
   "metadata": {},
   "outputs": [],
   "source": [
    "tdf.sort_values('n_domains', ascending=False).head(10)"
   ]
  },
  {
   "cell_type": "code",
   "execution_count": null,
   "metadata": {},
   "outputs": [],
   "source": [
    "tdf.to_csv('../output/domains_by_week.csv')"
   ]
  },
  {
   "cell_type": "markdown",
   "metadata": {},
   "source": [
    "## Fake Floc\n",
    "\n",
    "1. assign domain list history to machine IDs\n",
    "2. For each panel, calculate cohort assignment for a given week\n",
    "3. calculate t-closeness across stratified variables and other variables of interest"
   ]
  },
  {
   "cell_type": "code",
   "execution_count": null,
   "metadata": {},
   "outputs": [],
   "source": [
    "panels.head()"
   ]
  }
 ],
 "metadata": {
  "kernelspec": {
   "display_name": "conda-floc",
   "language": "python",
   "name": "conda-floc"
  },
  "language_info": {
   "codemirror_mode": {
    "name": "ipython",
    "version": 3
   },
   "file_extension": ".py",
   "mimetype": "text/x-python",
   "name": "python",
   "nbconvert_exporter": "python",
   "pygments_lexer": "ipython3",
   "version": "3.9.7"
  }
 },
 "nbformat": 4,
 "nbformat_minor": 2
}
