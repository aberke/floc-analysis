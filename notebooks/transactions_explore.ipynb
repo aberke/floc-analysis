{
 "cells": [
  {
   "cell_type": "code",
   "execution_count": 25,
   "id": "999ebbce",
   "metadata": {},
   "outputs": [],
   "source": [
    "import matplotlib.pyplot as plt\n",
    "import numpy as np\n",
    "import pandas as pd\n",
    "\n",
    "transactions_fpath = '../data/comscore/2017/transactions.csv'"
   ]
  },
  {
   "cell_type": "code",
   "execution_count": 9,
   "id": "79700889",
   "metadata": {},
   "outputs": [
    {
     "name": "stderr",
     "output_type": "stream",
     "text": [
      "/Users/aberke/projects/CSL_Andorra_COVID_Public/env/lib/python3.7/site-packages/IPython/core/interactiveshell.py:3166: DtypeWarning: Columns (4) have mixed types.Specify dtype option on import or set low_memory=False.\n",
      "  interactivity=interactivity, compiler=compiler, result=result)\n"
     ]
    },
    {
     "data": {
      "text/plain": [
       "Index(['machine_id', 'site_session_id', 'prod_category_id', 'prod_name',\n",
       "       'domain_id', 'prod_qty', 'prod_totprice', 'basket_tot', 'event_date',\n",
       "       'event_time', 'hoh_most_education', 'census_region', 'household_size',\n",
       "       'hoh_oldest_age', 'household_income', 'children', 'racial_background',\n",
       "       'connection_speed', 'country_of_origin', 'zip_code', 'domain_name'],\n",
       "      dtype='object')"
      ]
     },
     "execution_count": 9,
     "metadata": {},
     "output_type": "execute_result"
    }
   ],
   "source": [
    "transactions_df = pd.read_csv(transactions_fpath)\n",
    "transactions_df.columns"
   ]
  },
  {
   "cell_type": "code",
   "execution_count": 24,
   "id": "a13428d4",
   "metadata": {},
   "outputs": [
    {
     "name": "stdout",
     "output_type": "stream",
     "text": [
      "19282 unique machine ids\n",
      "transactions per machine id:\n",
      "count    19282.000000\n",
      "mean         5.970750\n",
      "std         14.048549\n",
      "min          1.000000\n",
      "25%          1.000000\n",
      "50%          3.000000\n",
      "75%          6.000000\n",
      "max       1311.000000\n",
      "Name: transactions, dtype: float64\n"
     ]
    },
    {
     "data": {
      "text/plain": [
       "array([   1,    1,    1, ...,  240,  415, 1311])"
      ]
     },
     "execution_count": 24,
     "metadata": {},
     "output_type": "execute_result"
    }
   ],
   "source": [
    "print('%s unique machine ids'%transactions_df['machine_id'].nunique())\n",
    "print('transactions per machine id:')\n",
    "print(transactions_df['machine_id'].value_counts().rename('transactions').to_frame()['transactions'].describe())\n",
    "transaction_per_machine_id = transactions_df['machine_id'].value_counts().values\n",
    "transaction_per_machine_id.sort()\n",
    "transaction_per_machine_id"
   ]
  },
  {
   "cell_type": "code",
   "execution_count": 30,
   "id": "95b062e4",
   "metadata": {},
   "outputs": [
    {
     "data": {
      "image/png": "[encoded data removed]",
      "text/plain": [
       "<Figure size 432x432 with 1 Axes>"
      ]
     },
     "metadata": {
      "needs_background": "light"
     },
     "output_type": "display_data"
    }
   ],
   "source": [
    "# plot without that crazy outlier\n",
    "fig, ax = plt.subplots(1,1,figsize=(6,6))\n",
    "_ = ax.hist(transaction_per_machine_id[:-1])"
   ]
  },
  {
   "cell_type": "code",
   "execution_count": 7,
   "id": "3f5570a7",
   "metadata": {},
   "outputs": [
    {
     "data": {
      "text/plain": [
       "207"
      ]
     },
     "execution_count": 7,
     "metadata": {},
     "output_type": "execute_result"
    }
   ],
   "source": [
    "transactions_df['domain_name'].nunique()"
   ]
  },
  {
   "cell_type": "code",
   "execution_count": null,
   "id": "9ddfab18",
   "metadata": {},
   "outputs": [],
   "source": []
  }
 ],
 "metadata": {
  "kernelspec": {
   "display_name": "Python 3.7.1 64-bit ('env': venv)",
   "language": "python",
   "name": "python37164bitenvvenv8bc9e11411a346f699f1ee06d9e74332"
  },
  "language_info": {
   "codemirror_mode": {
    "name": "ipython",
    "version": 3
   },
   "file_extension": ".py",
   "mimetype": "text/x-python",
   "name": "python",
   "nbconvert_exporter": "python",
   "pygments_lexer": "ipython3",
   "version": "3.7.1"
  }
 },
 "nbformat": 4,
 "nbformat_minor": 5
}
