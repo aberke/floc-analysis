{
 "cells": [
  {
   "cell_type": "markdown",
   "id": "19c61bed",
   "metadata": {},
   "source": [
    "# ComScore data: Explore demographics\n",
    "\n",
    "\n",
    "ACS 5-YEAR estimates are used for comparison.\n",
    "\n",
    "[Here](https://api.census.gov/data/2017/acs/acs5/profile/variables.html) is the resource for variables."
   ]
  },
  {
   "cell_type": "code",
   "execution_count": 440,
   "id": "f981a4fe",
   "metadata": {},
   "outputs": [],
   "source": [
    "\n",
    "import joblib\n",
    "import matplotlib.pyplot as plt\n",
    "%matplotlib inline\n",
    "import numpy as np\n",
    "import pandas as pd\n",
    "\n",
    "from census import Census\n",
    "import us\n",
    "from pyzipcode import ZipCodeDatabase\n",
    "\n",
    "\n",
    "YEAR = 2017 \n",
    "c = Census(\"14a343e581b5dd1df551f4cd87f31aede50ec908\", year=YEAR)\n",
    "demographics_fpath = '../data/comscore/{year}/demographics.csv'.format(year=YEAR)"
   ]
  },
  {
   "cell_type": "code",
   "execution_count": 441,
   "id": "e2253fe7",
   "metadata": {},
   "outputs": [],
   "source": [
    "# Plot colors and things\n",
    "c_acs = 'black'\n",
    "c_comscore = 'purple'"
   ]
  },
  {
   "cell_type": "markdown",
   "id": "fef58be7",
   "metadata": {},
   "source": [
    "Reads in the ComScore demographic data and drops rows for machine IDs where the U.S. zipcode or state cannot be identified."
   ]
  },
  {
   "cell_type": "code",
   "execution_count": 442,
   "id": "82371353",
   "metadata": {},
   "outputs": [],
   "source": [
    "def get_state_fips(zipcode, err=False):\n",
    "    \"\"\"returns a state FIPS for the state with given zipcide.\n",
    "    \n",
    "    if it can't find the zip code, return np.nan if err=False.\n",
    "    \n",
    "    parameters\n",
    "    ----------\n",
    "    err: boolean. True if function should raise a ValueError if it can't find a zip code. False by default.\n",
    "    \"\"\"\n",
    "    \n",
    "    zcdb = ZipCodeDatabase()\n",
    "    if zipcode not in zcdb:\n",
    "        if err:\n",
    "            raise ValueError(\"Zip code not found\")\n",
    "        else:\n",
    "            return np.nan\n",
    "    zipcode = zcdb[zipcode]\n",
    "    state = us.states.lookup(zipcode.state)\n",
    "    return state.fips"
   ]
  },
  {
   "cell_type": "code",
   "execution_count": 199,
   "id": "2fe8c800",
   "metadata": {},
   "outputs": [
    {
     "name": "stdout",
     "output_type": "stream",
     "text": [
      "93808 rows before\n"
     ]
    },
    {
     "data": {
      "text/html": [
       "<div>\n",
       "<style scoped>\n",
       "    .dataframe tbody tr th:only-of-type {\n",
       "        vertical-align: middle;\n",
       "    }\n",
       "\n",
       "    .dataframe tbody tr th {\n",
       "        vertical-align: top;\n",
       "    }\n",
       "\n",
       "    .dataframe thead th {\n",
       "        text-align: right;\n",
       "    }\n",
       "</style>\n",
       "<table border=\"1\" class=\"dataframe\">\n",
       "  <thead>\n",
       "    <tr style=\"text-align: right;\">\n",
       "      <th></th>\n",
       "      <th>hoh_most_education</th>\n",
       "      <th>census_region</th>\n",
       "      <th>household_size</th>\n",
       "      <th>hoh_oldest_age</th>\n",
       "      <th>household_income</th>\n",
       "      <th>children</th>\n",
       "      <th>racial_background</th>\n",
       "      <th>connection_speed</th>\n",
       "      <th>country_of_origin</th>\n",
       "      <th>zip_code</th>\n",
       "    </tr>\n",
       "  </thead>\n",
       "  <tbody>\n",
       "    <tr>\n",
       "      <th>0</th>\n",
       "      <td>NaN</td>\n",
       "      <td>4.0</td>\n",
       "      <td>5.0</td>\n",
       "      <td>8.0</td>\n",
       "      <td>16.0</td>\n",
       "      <td>0.0</td>\n",
       "      <td>1.0</td>\n",
       "      <td>1.0</td>\n",
       "      <td>0.0</td>\n",
       "      <td>98611</td>\n",
       "    </tr>\n",
       "    <tr>\n",
       "      <th>1</th>\n",
       "      <td>3.0</td>\n",
       "      <td>4.0</td>\n",
       "      <td>3.0</td>\n",
       "      <td>8.0</td>\n",
       "      <td>14.0</td>\n",
       "      <td>0.0</td>\n",
       "      <td>1.0</td>\n",
       "      <td>1.0</td>\n",
       "      <td>0.0</td>\n",
       "      <td>80910</td>\n",
       "    </tr>\n",
       "    <tr>\n",
       "      <th>2</th>\n",
       "      <td>4.0</td>\n",
       "      <td>1.0</td>\n",
       "      <td>3.0</td>\n",
       "      <td>11.0</td>\n",
       "      <td>16.0</td>\n",
       "      <td>1.0</td>\n",
       "      <td>1.0</td>\n",
       "      <td>1.0</td>\n",
       "      <td>0.0</td>\n",
       "      <td>07076</td>\n",
       "    </tr>\n",
       "  </tbody>\n",
       "</table>\n",
       "</div>"
      ],
      "text/plain": [
       "   hoh_most_education  census_region  household_size  hoh_oldest_age  \\\n",
       "0                 NaN            4.0             5.0             8.0   \n",
       "1                 3.0            4.0             3.0             8.0   \n",
       "2                 4.0            1.0             3.0            11.0   \n",
       "\n",
       "   household_income  children  racial_background  connection_speed  \\\n",
       "0              16.0       0.0                1.0               1.0   \n",
       "1              14.0       0.0                1.0               1.0   \n",
       "2              16.0       1.0                1.0               1.0   \n",
       "\n",
       "   country_of_origin zip_code  \n",
       "0                0.0    98611  \n",
       "1                0.0    80910  \n",
       "2                0.0    07076  "
      ]
     },
     "execution_count": 199,
     "metadata": {},
     "output_type": "execute_result"
    }
   ],
   "source": [
    "# drops machine ID since it is not needed for this data exploration\n",
    "# safer way to show data\n",
    "demo_df = (pd.read_csv(demographics_fpath, dtype={'zip_code': str})\n",
    "           .drop('machine_id', axis=1)\n",
    "           .replace({99:np.nan}))\n",
    "rows = len(demo_df)\n",
    "print('%s rows before' % rows)\n",
    "demo_df.head(3)"
   ]
  },
  {
   "cell_type": "code",
   "execution_count": 200,
   "id": "c39135e1",
   "metadata": {},
   "outputs": [
    {
     "name": "stdout",
     "output_type": "stream",
     "text": [
      "92884 rows after\n",
      "dropped 924 rows\n"
     ]
    }
   ],
   "source": [
    "demo_df = (demo_df\n",
    "           .dropna(subset=['zip_code'])\n",
    "           # make sure zips are zip5\n",
    "           .assign(zip_code=lambda x: x.zip_code.apply(lambda z: '0' + z if len(z) < 5 else z))\n",
    "           # get state fips code for each zip\n",
    "           .assign(state_fips=lambda x: x.zip_code.apply(lambda z: get_state_fips(z)))\n",
    "           .dropna(subset=['state_fips'])\n",
    "           .assign(state=lambda x: x.state_fips.apply(lambda s: us.states.lookup(s).abbr))\n",
    "          )\n",
    "print('%s rows after' % len(demo_df))\n",
    "print('dropped %s rows' % (rows - len(demo_df))) # "
   ]
  },
  {
   "cell_type": "code",
   "execution_count": 201,
   "id": "d4471c5c",
   "metadata": {},
   "outputs": [
    {
     "data": {
      "text/html": [
       "<div>\n",
       "<style scoped>\n",
       "    .dataframe tbody tr th:only-of-type {\n",
       "        vertical-align: middle;\n",
       "    }\n",
       "\n",
       "    .dataframe tbody tr th {\n",
       "        vertical-align: top;\n",
       "    }\n",
       "\n",
       "    .dataframe thead th {\n",
       "        text-align: right;\n",
       "    }\n",
       "</style>\n",
       "<table border=\"1\" class=\"dataframe\">\n",
       "  <thead>\n",
       "    <tr style=\"text-align: right;\">\n",
       "      <th></th>\n",
       "      <th>hoh_most_education</th>\n",
       "      <th>census_region</th>\n",
       "      <th>household_size</th>\n",
       "      <th>hoh_oldest_age</th>\n",
       "      <th>household_income</th>\n",
       "      <th>children</th>\n",
       "      <th>racial_background</th>\n",
       "      <th>connection_speed</th>\n",
       "      <th>country_of_origin</th>\n",
       "      <th>zip_code</th>\n",
       "      <th>state_fips</th>\n",
       "      <th>state</th>\n",
       "    </tr>\n",
       "  </thead>\n",
       "  <tbody>\n",
       "    <tr>\n",
       "      <th>0</th>\n",
       "      <td>NaN</td>\n",
       "      <td>4.0</td>\n",
       "      <td>5.0</td>\n",
       "      <td>8.0</td>\n",
       "      <td>16.0</td>\n",
       "      <td>0.0</td>\n",
       "      <td>1.0</td>\n",
       "      <td>1.0</td>\n",
       "      <td>0.0</td>\n",
       "      <td>98611</td>\n",
       "      <td>53</td>\n",
       "      <td>WA</td>\n",
       "    </tr>\n",
       "    <tr>\n",
       "      <th>1</th>\n",
       "      <td>3.0</td>\n",
       "      <td>4.0</td>\n",
       "      <td>3.0</td>\n",
       "      <td>8.0</td>\n",
       "      <td>14.0</td>\n",
       "      <td>0.0</td>\n",
       "      <td>1.0</td>\n",
       "      <td>1.0</td>\n",
       "      <td>0.0</td>\n",
       "      <td>80910</td>\n",
       "      <td>08</td>\n",
       "      <td>CO</td>\n",
       "    </tr>\n",
       "    <tr>\n",
       "      <th>2</th>\n",
       "      <td>4.0</td>\n",
       "      <td>1.0</td>\n",
       "      <td>3.0</td>\n",
       "      <td>11.0</td>\n",
       "      <td>16.0</td>\n",
       "      <td>1.0</td>\n",
       "      <td>1.0</td>\n",
       "      <td>1.0</td>\n",
       "      <td>0.0</td>\n",
       "      <td>07076</td>\n",
       "      <td>34</td>\n",
       "      <td>NJ</td>\n",
       "    </tr>\n",
       "    <tr>\n",
       "      <th>3</th>\n",
       "      <td>3.0</td>\n",
       "      <td>2.0</td>\n",
       "      <td>1.0</td>\n",
       "      <td>9.0</td>\n",
       "      <td>16.0</td>\n",
       "      <td>0.0</td>\n",
       "      <td>1.0</td>\n",
       "      <td>1.0</td>\n",
       "      <td>0.0</td>\n",
       "      <td>62554</td>\n",
       "      <td>17</td>\n",
       "      <td>IL</td>\n",
       "    </tr>\n",
       "    <tr>\n",
       "      <th>5</th>\n",
       "      <td>1.0</td>\n",
       "      <td>4.0</td>\n",
       "      <td>3.0</td>\n",
       "      <td>7.0</td>\n",
       "      <td>12.0</td>\n",
       "      <td>0.0</td>\n",
       "      <td>1.0</td>\n",
       "      <td>1.0</td>\n",
       "      <td>1.0</td>\n",
       "      <td>93436</td>\n",
       "      <td>06</td>\n",
       "      <td>CA</td>\n",
       "    </tr>\n",
       "  </tbody>\n",
       "</table>\n",
       "</div>"
      ],
      "text/plain": [
       "   hoh_most_education  census_region  household_size  hoh_oldest_age  \\\n",
       "0                 NaN            4.0             5.0             8.0   \n",
       "1                 3.0            4.0             3.0             8.0   \n",
       "2                 4.0            1.0             3.0            11.0   \n",
       "3                 3.0            2.0             1.0             9.0   \n",
       "5                 1.0            4.0             3.0             7.0   \n",
       "\n",
       "   household_income  children  racial_background  connection_speed  \\\n",
       "0              16.0       0.0                1.0               1.0   \n",
       "1              14.0       0.0                1.0               1.0   \n",
       "2              16.0       1.0                1.0               1.0   \n",
       "3              16.0       0.0                1.0               1.0   \n",
       "5              12.0       0.0                1.0               1.0   \n",
       "\n",
       "   country_of_origin zip_code state_fips state  \n",
       "0                0.0    98611         53    WA  \n",
       "1                0.0    80910         08    CO  \n",
       "2                0.0    07076         34    NJ  \n",
       "3                0.0    62554         17    IL  \n",
       "5                1.0    93436         06    CA  "
      ]
     },
     "execution_count": 201,
     "metadata": {},
     "output_type": "execute_result"
    }
   ],
   "source": [
    "demo_df.head()"
   ]
  },
  {
   "cell_type": "code",
   "execution_count": 202,
   "id": "883f31a3",
   "metadata": {},
   "outputs": [
    {
     "name": "stdout",
     "output_type": "stream",
     "text": [
      "household income variable probably coded with extra 1\n",
      "11.0    21189\n",
      "13.0    15970\n",
      "12.0    15895\n",
      "16.0    11224\n",
      "15.0    10984\n",
      "14.0     8666\n",
      "18.0     4703\n",
      "17.0     4253\n",
      "Name: household_income, dtype: int64\n"
     ]
    },
    {
     "data": {
      "image/png": "[encoded data removed]",
      "text/plain": [
       "<Figure size 432x288 with 1 Axes>"
      ]
     },
     "metadata": {
      "needs_background": "light"
     },
     "output_type": "display_data"
    }
   ],
   "source": [
    "# What is wrong with household income?\n",
    "print('household income variable probably coded with extra 1')\n",
    "print(demo_df.household_income.value_counts())\n",
    "_ = demo_df.household_income.value_counts().plot.bar()"
   ]
  },
  {
   "cell_type": "code",
   "execution_count": 203,
   "id": "50da8a02",
   "metadata": {},
   "outputs": [
    {
     "data": {
      "text/html": [
       "<div>\n",
       "<style scoped>\n",
       "    .dataframe tbody tr th:only-of-type {\n",
       "        vertical-align: middle;\n",
       "    }\n",
       "\n",
       "    .dataframe tbody tr th {\n",
       "        vertical-align: top;\n",
       "    }\n",
       "\n",
       "    .dataframe thead th {\n",
       "        text-align: right;\n",
       "    }\n",
       "</style>\n",
       "<table border=\"1\" class=\"dataframe\">\n",
       "  <thead>\n",
       "    <tr style=\"text-align: right;\">\n",
       "      <th></th>\n",
       "      <th>hoh_most_education</th>\n",
       "      <th>census_region</th>\n",
       "      <th>household_size</th>\n",
       "      <th>hoh_oldest_age</th>\n",
       "      <th>household_income</th>\n",
       "      <th>children</th>\n",
       "      <th>racial_background</th>\n",
       "      <th>connection_speed</th>\n",
       "      <th>country_of_origin</th>\n",
       "      <th>zip_code</th>\n",
       "      <th>state_fips</th>\n",
       "      <th>state</th>\n",
       "    </tr>\n",
       "  </thead>\n",
       "  <tbody>\n",
       "    <tr>\n",
       "      <th>0</th>\n",
       "      <td>NaN</td>\n",
       "      <td>4.0</td>\n",
       "      <td>5.0</td>\n",
       "      <td>8.0</td>\n",
       "      <td>6.0</td>\n",
       "      <td>0.0</td>\n",
       "      <td>1.0</td>\n",
       "      <td>1.0</td>\n",
       "      <td>0.0</td>\n",
       "      <td>98611</td>\n",
       "      <td>53</td>\n",
       "      <td>WA</td>\n",
       "    </tr>\n",
       "    <tr>\n",
       "      <th>1</th>\n",
       "      <td>3.0</td>\n",
       "      <td>4.0</td>\n",
       "      <td>3.0</td>\n",
       "      <td>8.0</td>\n",
       "      <td>4.0</td>\n",
       "      <td>0.0</td>\n",
       "      <td>1.0</td>\n",
       "      <td>1.0</td>\n",
       "      <td>0.0</td>\n",
       "      <td>80910</td>\n",
       "      <td>08</td>\n",
       "      <td>CO</td>\n",
       "    </tr>\n",
       "    <tr>\n",
       "      <th>2</th>\n",
       "      <td>4.0</td>\n",
       "      <td>1.0</td>\n",
       "      <td>3.0</td>\n",
       "      <td>11.0</td>\n",
       "      <td>6.0</td>\n",
       "      <td>1.0</td>\n",
       "      <td>1.0</td>\n",
       "      <td>1.0</td>\n",
       "      <td>0.0</td>\n",
       "      <td>07076</td>\n",
       "      <td>34</td>\n",
       "      <td>NJ</td>\n",
       "    </tr>\n",
       "    <tr>\n",
       "      <th>3</th>\n",
       "      <td>3.0</td>\n",
       "      <td>2.0</td>\n",
       "      <td>1.0</td>\n",
       "      <td>9.0</td>\n",
       "      <td>6.0</td>\n",
       "      <td>0.0</td>\n",
       "      <td>1.0</td>\n",
       "      <td>1.0</td>\n",
       "      <td>0.0</td>\n",
       "      <td>62554</td>\n",
       "      <td>17</td>\n",
       "      <td>IL</td>\n",
       "    </tr>\n",
       "    <tr>\n",
       "      <th>5</th>\n",
       "      <td>1.0</td>\n",
       "      <td>4.0</td>\n",
       "      <td>3.0</td>\n",
       "      <td>7.0</td>\n",
       "      <td>2.0</td>\n",
       "      <td>0.0</td>\n",
       "      <td>1.0</td>\n",
       "      <td>1.0</td>\n",
       "      <td>1.0</td>\n",
       "      <td>93436</td>\n",
       "      <td>06</td>\n",
       "      <td>CA</td>\n",
       "    </tr>\n",
       "  </tbody>\n",
       "</table>\n",
       "</div>"
      ],
      "text/plain": [
       "   hoh_most_education  census_region  household_size  hoh_oldest_age  \\\n",
       "0                 NaN            4.0             5.0             8.0   \n",
       "1                 3.0            4.0             3.0             8.0   \n",
       "2                 4.0            1.0             3.0            11.0   \n",
       "3                 3.0            2.0             1.0             9.0   \n",
       "5                 1.0            4.0             3.0             7.0   \n",
       "\n",
       "   household_income  children  racial_background  connection_speed  \\\n",
       "0               6.0       0.0                1.0               1.0   \n",
       "1               4.0       0.0                1.0               1.0   \n",
       "2               6.0       1.0                1.0               1.0   \n",
       "3               6.0       0.0                1.0               1.0   \n",
       "5               2.0       0.0                1.0               1.0   \n",
       "\n",
       "   country_of_origin zip_code state_fips state  \n",
       "0                0.0    98611         53    WA  \n",
       "1                0.0    80910         08    CO  \n",
       "2                0.0    07076         34    NJ  \n",
       "3                0.0    62554         17    IL  \n",
       "5                1.0    93436         06    CA  "
      ]
     },
     "execution_count": 203,
     "metadata": {},
     "output_type": "execute_result"
    }
   ],
   "source": [
    "demo_df.household_income = demo_df.household_income % 10\n",
    "demo_df.head()"
   ]
  },
  {
   "cell_type": "markdown",
   "id": "0e97a56c",
   "metadata": {},
   "source": [
    "## Retrieving census data"
   ]
  },
  {
   "cell_type": "markdown",
   "id": "c759b7b1",
   "metadata": {},
   "source": [
    "Let's test getting relevant census data. I went [here](https://api.census.gov/data/2017/acs/acs5/profile/variables.html) and looked up relevant variables and just hand-coded them below. I added a mapping to the relevant comscore coding.\n",
    "\n",
    "TODO: \n",
    "\n",
    "- [x] Add additional codes for other variables\n",
    "- [ ] verify we did this right"
   ]
  },
  {
   "cell_type": "code",
   "execution_count": 387,
   "id": "47c0c1a0",
   "metadata": {},
   "outputs": [],
   "source": [
    "census_mapping = pd.DataFrame([\n",
    "    # education level. \n",
    "    # Note discrepancy: ACS is for individuals > 25 yrs\n",
    "    # vs ComScore data for household\n",
    "    ['DP02_0064E', 4, 'bachelors degree', 'hoh_most_education'],\n",
    "    ['DP02_0061E', 1, 'high school graduate', 'hoh_most_education'],\n",
    "    ['DP02_0065E', 5, 'graduate degree', 'hoh_most_education'],\n",
    "    ['DP02_0062E', 2, 'some college, no degree', 'hoh_most_education'],\n",
    "    ['DP02_0063E', 3, 'associates degree', 'hoh_most_education'],\n",
    "    # two rows for comscore-coded zero. Should sum for comparison.\n",
    "    ['DP02_0060E', 0, '9-12 grade no diploma', 'hoh_most_education'],\n",
    "    ['DP02_0059E', 0, 'less than 9th grade', 'hoh_most_education'],\n",
    "    # Racial Background\n",
    "    # ComScore uses 1,2,3,5\n",
    "    # TODO / Question: is non-hispanic encoding right one to use?\n",
    "    # e.g. instead use DP05_0037PE\n",
    "    ['DP05_0077E', 1, 'non-hispanic white', 'racial_background'], \n",
    "    ['DP05_0078E', 2, 'non-hispanic black', 'racial_background'],\n",
    "    ['DP05_0080E', 3, 'non-hispanic asian', 'racial_background'],\n",
    "    # ComScore 5: other\n",
    "    \n",
    "    # Country of origin: hispanic / non-hispanic\n",
    "    ['DP05_0071E', 1, 'hispanic', 'country_of_origin'],\n",
    "    \n",
    "    # Household income\n",
    "    # ComScore: 1 Less than 15k 2 15k-24.999k 3 25k-34.999k \n",
    "    # 4 35k-49.999k 5 50k-74.999k 6 75k-99.999k 7 100k+\n",
    "    # two rows for ComScore-coded 1\n",
    "    ['DP03_0052E', 1, 'Less than $10,000', 'household_income'],\n",
    "    ['DP03_0053E', 1, '\\$10,000 to $14,999', 'household_income'],\n",
    "    ['DP03_0054E', 2, '\\$15,000 to $24,999', 'household_income'],\n",
    "    ['DP03_0055E', 3, '\\$25,000 to $34,999', 'household_income'],\n",
    "    ['DP03_0056E', 4, '\\$35,000 to $49,999', 'household_income'],\n",
    "    ['DP03_0057E', 5, '\\$50,000 to $74,999', 'household_income'],\n",
    "    ['DP03_0058E', 6, '\\$75,000 to $99,999', 'household_income'],\n",
    "    ['DP03_0059E', 7, '\\$100,000 to $149,999', 'household_income'],\n",
    "    ['DP03_0060E', 7, '\\$150,000 to $199,999', 'household_income'],\n",
    "    ['DP03_0061E', 7, '\\$200,000 or more', 'household_income'],\n",
    "    \n",
    "], columns=['census_code', 'comscore_code', 'description', 'comscore_column'])"
   ]
  },
  {
   "cell_type": "code",
   "execution_count": 388,
   "id": "092776f1",
   "metadata": {},
   "outputs": [
    {
     "data": {
      "text/html": [
       "<div>\n",
       "<style scoped>\n",
       "    .dataframe tbody tr th:only-of-type {\n",
       "        vertical-align: middle;\n",
       "    }\n",
       "\n",
       "    .dataframe tbody tr th {\n",
       "        vertical-align: top;\n",
       "    }\n",
       "\n",
       "    .dataframe thead th {\n",
       "        text-align: right;\n",
       "    }\n",
       "</style>\n",
       "<table border=\"1\" class=\"dataframe\">\n",
       "  <thead>\n",
       "    <tr style=\"text-align: right;\">\n",
       "      <th></th>\n",
       "      <th>census_code</th>\n",
       "      <th>comscore_code</th>\n",
       "      <th>description</th>\n",
       "      <th>comscore_column</th>\n",
       "    </tr>\n",
       "  </thead>\n",
       "  <tbody>\n",
       "    <tr>\n",
       "      <th>0</th>\n",
       "      <td>DP02_0064E</td>\n",
       "      <td>4</td>\n",
       "      <td>bachelors degree</td>\n",
       "      <td>hoh_most_education</td>\n",
       "    </tr>\n",
       "    <tr>\n",
       "      <th>1</th>\n",
       "      <td>DP02_0061E</td>\n",
       "      <td>1</td>\n",
       "      <td>high school graduate</td>\n",
       "      <td>hoh_most_education</td>\n",
       "    </tr>\n",
       "    <tr>\n",
       "      <th>2</th>\n",
       "      <td>DP02_0065E</td>\n",
       "      <td>5</td>\n",
       "      <td>graduate degree</td>\n",
       "      <td>hoh_most_education</td>\n",
       "    </tr>\n",
       "    <tr>\n",
       "      <th>3</th>\n",
       "      <td>DP02_0062E</td>\n",
       "      <td>2</td>\n",
       "      <td>some college, no degree</td>\n",
       "      <td>hoh_most_education</td>\n",
       "    </tr>\n",
       "    <tr>\n",
       "      <th>4</th>\n",
       "      <td>DP02_0063E</td>\n",
       "      <td>3</td>\n",
       "      <td>associates degree</td>\n",
       "      <td>hoh_most_education</td>\n",
       "    </tr>\n",
       "    <tr>\n",
       "      <th>5</th>\n",
       "      <td>DP02_0060E</td>\n",
       "      <td>0</td>\n",
       "      <td>9-12 grade no diploma</td>\n",
       "      <td>hoh_most_education</td>\n",
       "    </tr>\n",
       "    <tr>\n",
       "      <th>6</th>\n",
       "      <td>DP02_0059E</td>\n",
       "      <td>0</td>\n",
       "      <td>less than 9th grade</td>\n",
       "      <td>hoh_most_education</td>\n",
       "    </tr>\n",
       "    <tr>\n",
       "      <th>7</th>\n",
       "      <td>DP05_0077E</td>\n",
       "      <td>1</td>\n",
       "      <td>non-hispanic white</td>\n",
       "      <td>racial_background</td>\n",
       "    </tr>\n",
       "    <tr>\n",
       "      <th>8</th>\n",
       "      <td>DP05_0078E</td>\n",
       "      <td>2</td>\n",
       "      <td>non-hispanic black</td>\n",
       "      <td>racial_background</td>\n",
       "    </tr>\n",
       "    <tr>\n",
       "      <th>9</th>\n",
       "      <td>DP05_0080E</td>\n",
       "      <td>3</td>\n",
       "      <td>non-hispanic asian</td>\n",
       "      <td>racial_background</td>\n",
       "    </tr>\n",
       "    <tr>\n",
       "      <th>10</th>\n",
       "      <td>DP05_0071E</td>\n",
       "      <td>1</td>\n",
       "      <td>hispanic</td>\n",
       "      <td>country_of_origin</td>\n",
       "    </tr>\n",
       "    <tr>\n",
       "      <th>11</th>\n",
       "      <td>DP03_0052E</td>\n",
       "      <td>1</td>\n",
       "      <td>Less than $10,000</td>\n",
       "      <td>household_income</td>\n",
       "    </tr>\n",
       "    <tr>\n",
       "      <th>12</th>\n",
       "      <td>DP03_0053E</td>\n",
       "      <td>1</td>\n",
       "      <td>\\$10,000 to $14,999</td>\n",
       "      <td>household_income</td>\n",
       "    </tr>\n",
       "    <tr>\n",
       "      <th>13</th>\n",
       "      <td>DP03_0054E</td>\n",
       "      <td>2</td>\n",
       "      <td>\\$15,000 to $24,999</td>\n",
       "      <td>household_income</td>\n",
       "    </tr>\n",
       "    <tr>\n",
       "      <th>14</th>\n",
       "      <td>DP03_0055E</td>\n",
       "      <td>3</td>\n",
       "      <td>\\$25,000 to $34,999</td>\n",
       "      <td>household_income</td>\n",
       "    </tr>\n",
       "    <tr>\n",
       "      <th>15</th>\n",
       "      <td>DP03_0056E</td>\n",
       "      <td>4</td>\n",
       "      <td>\\$35,000 to $49,999</td>\n",
       "      <td>household_income</td>\n",
       "    </tr>\n",
       "    <tr>\n",
       "      <th>16</th>\n",
       "      <td>DP03_0057E</td>\n",
       "      <td>5</td>\n",
       "      <td>\\$50,000 to $74,999</td>\n",
       "      <td>household_income</td>\n",
       "    </tr>\n",
       "    <tr>\n",
       "      <th>17</th>\n",
       "      <td>DP03_0058E</td>\n",
       "      <td>6</td>\n",
       "      <td>\\$75,000 to $99,999</td>\n",
       "      <td>household_income</td>\n",
       "    </tr>\n",
       "    <tr>\n",
       "      <th>18</th>\n",
       "      <td>DP03_0059E</td>\n",
       "      <td>7</td>\n",
       "      <td>\\$100,000 to $149,999</td>\n",
       "      <td>household_income</td>\n",
       "    </tr>\n",
       "    <tr>\n",
       "      <th>19</th>\n",
       "      <td>DP03_0060E</td>\n",
       "      <td>7</td>\n",
       "      <td>\\$150,000 to $199,999</td>\n",
       "      <td>household_income</td>\n",
       "    </tr>\n",
       "    <tr>\n",
       "      <th>20</th>\n",
       "      <td>DP03_0061E</td>\n",
       "      <td>7</td>\n",
       "      <td>\\$200,000 or more</td>\n",
       "      <td>household_income</td>\n",
       "    </tr>\n",
       "  </tbody>\n",
       "</table>\n",
       "</div>"
      ],
      "text/plain": [
       "   census_code  comscore_code              description     comscore_column\n",
       "0   DP02_0064E              4         bachelors degree  hoh_most_education\n",
       "1   DP02_0061E              1     high school graduate  hoh_most_education\n",
       "2   DP02_0065E              5          graduate degree  hoh_most_education\n",
       "3   DP02_0062E              2  some college, no degree  hoh_most_education\n",
       "4   DP02_0063E              3        associates degree  hoh_most_education\n",
       "5   DP02_0060E              0    9-12 grade no diploma  hoh_most_education\n",
       "6   DP02_0059E              0      less than 9th grade  hoh_most_education\n",
       "7   DP05_0077E              1       non-hispanic white   racial_background\n",
       "8   DP05_0078E              2       non-hispanic black   racial_background\n",
       "9   DP05_0080E              3       non-hispanic asian   racial_background\n",
       "10  DP05_0071E              1                 hispanic   country_of_origin\n",
       "11  DP03_0052E              1        Less than $10,000    household_income\n",
       "12  DP03_0053E              1      \\$10,000 to $14,999    household_income\n",
       "13  DP03_0054E              2      \\$15,000 to $24,999    household_income\n",
       "14  DP03_0055E              3      \\$25,000 to $34,999    household_income\n",
       "15  DP03_0056E              4      \\$35,000 to $49,999    household_income\n",
       "16  DP03_0057E              5      \\$50,000 to $74,999    household_income\n",
       "17  DP03_0058E              6      \\$75,000 to $99,999    household_income\n",
       "18  DP03_0059E              7    \\$100,000 to $149,999    household_income\n",
       "19  DP03_0060E              7    \\$150,000 to $199,999    household_income\n",
       "20  DP03_0061E              7        \\$200,000 or more    household_income"
      ]
     },
     "execution_count": 388,
     "metadata": {},
     "output_type": "execute_result"
    }
   ],
   "source": [
    "census_mapping"
   ]
  },
  {
   "cell_type": "code",
   "execution_count": 389,
   "id": "3cc3d1dc",
   "metadata": {},
   "outputs": [],
   "source": [
    "census_vars = list(census_mapping.census_code.values)"
   ]
  },
  {
   "cell_type": "markdown",
   "id": "e0a053df",
   "metadata": {},
   "source": [
    "### for US level"
   ]
  },
  {
   "cell_type": "code",
   "execution_count": 412,
   "id": "9e9f0373",
   "metadata": {},
   "outputs": [
    {
     "data": {
      "text/html": [
       "<div>\n",
       "<style scoped>\n",
       "    .dataframe tbody tr th:only-of-type {\n",
       "        vertical-align: middle;\n",
       "    }\n",
       "\n",
       "    .dataframe tbody tr th {\n",
       "        vertical-align: top;\n",
       "    }\n",
       "\n",
       "    .dataframe thead th {\n",
       "        text-align: right;\n",
       "    }\n",
       "</style>\n",
       "<table border=\"1\" class=\"dataframe\">\n",
       "  <thead>\n",
       "    <tr style=\"text-align: right;\">\n",
       "      <th></th>\n",
       "      <th>DP02_0064E</th>\n",
       "      <th>DP02_0061E</th>\n",
       "      <th>DP02_0065E</th>\n",
       "      <th>DP02_0062E</th>\n",
       "      <th>DP02_0063E</th>\n",
       "      <th>DP02_0060E</th>\n",
       "      <th>DP02_0059E</th>\n",
       "      <th>DP05_0077E</th>\n",
       "      <th>DP05_0078E</th>\n",
       "      <th>DP05_0080E</th>\n",
       "      <th>...</th>\n",
       "      <th>DP03_0053E</th>\n",
       "      <th>DP03_0054E</th>\n",
       "      <th>DP03_0055E</th>\n",
       "      <th>DP03_0056E</th>\n",
       "      <th>DP03_0057E</th>\n",
       "      <th>DP03_0058E</th>\n",
       "      <th>DP03_0059E</th>\n",
       "      <th>DP03_0060E</th>\n",
       "      <th>DP03_0061E</th>\n",
       "      <th>population estimate</th>\n",
       "    </tr>\n",
       "  </thead>\n",
       "  <tbody>\n",
       "    <tr>\n",
       "      <th>0</th>\n",
       "      <td>41377068.0</td>\n",
       "      <td>59093612.0</td>\n",
       "      <td>25510535.0</td>\n",
       "      <td>44935834.0</td>\n",
       "      <td>17917481.0</td>\n",
       "      <td>15677560.0</td>\n",
       "      <td>11759554.0</td>\n",
       "      <td>197277789.0</td>\n",
       "      <td>39445495.0</td>\n",
       "      <td>16989540.0</td>\n",
       "      <td>...</td>\n",
       "      <td>5768114.0</td>\n",
       "      <td>11637905.0</td>\n",
       "      <td>11330288.0</td>\n",
       "      <td>15412493.0</td>\n",
       "      <td>21000314.0</td>\n",
       "      <td>14636046.0</td>\n",
       "      <td>16701857.0</td>\n",
       "      <td>6931136.0</td>\n",
       "      <td>7465517.0</td>\n",
       "      <td>321004407.0</td>\n",
       "    </tr>\n",
       "  </tbody>\n",
       "</table>\n",
       "<p>1 rows × 22 columns</p>\n",
       "</div>"
      ],
      "text/plain": [
       "   DP02_0064E  DP02_0061E  DP02_0065E  DP02_0062E  DP02_0063E  DP02_0060E  \\\n",
       "0  41377068.0  59093612.0  25510535.0  44935834.0  17917481.0  15677560.0   \n",
       "\n",
       "   DP02_0059E   DP05_0077E  DP05_0078E  DP05_0080E  ...  DP03_0053E  \\\n",
       "0  11759554.0  197277789.0  39445495.0  16989540.0  ...   5768114.0   \n",
       "\n",
       "   DP03_0054E  DP03_0055E  DP03_0056E  DP03_0057E  DP03_0058E  DP03_0059E  \\\n",
       "0  11637905.0  11330288.0  15412493.0  21000314.0  14636046.0  16701857.0   \n",
       "\n",
       "   DP03_0060E  DP03_0061E  population estimate  \n",
       "0   6931136.0   7465517.0          321004407.0  \n",
       "\n",
       "[1 rows x 22 columns]"
      ]
     },
     "execution_count": 412,
     "metadata": {},
     "output_type": "execute_result"
    }
   ],
   "source": [
    "us_census_data = c.acs5dp.us(census_vars) \n",
    "us_census_df = pd.DataFrame(\n",
    "    us_census_data\n",
    ").drop('us', axis=1)\n",
    "us_census_df['population estimate'] = c.acs5dp.us(['DP05_0070E'])[0]['DP05_0070E']\n",
    "us_census_df.head()"
   ]
  },
  {
   "cell_type": "markdown",
   "id": "ed0bfc87",
   "metadata": {},
   "source": [
    "### for states\n",
    "\n",
    "Retrieving census data by states \n",
    "\n",
    "instead of zip codes because:\n",
    "- ComScore data by zip codes is sparse \n",
    "- Therefore need to aggregate by state anyhow\n",
    "- Data is retrieved via API calls; So this is faster b/c fewer states than zipcodes\n",
    "\n",
    "Data is also retrieved by state further below."
   ]
  },
  {
   "cell_type": "code",
   "execution_count": 391,
   "id": "fd738b90",
   "metadata": {},
   "outputs": [],
   "source": [
    "def get_census_data_for_state(state_fips, var_names, year=YEAR):\n",
    "    \"\"\"\n",
    "    retrieves census variables for a given STATE and year from the ACS\n",
    "    \n",
    "    parameters\n",
    "    ----------\n",
    "    state_fips: string. state FIPs to search for\n",
    "    var_names: list. list of variable names from the ACS.\n",
    "    \n",
    "    returns\n",
    "    -------\n",
    "    A dict with a key for each var in var_names where the value\n",
    "    is the corresponding value for the zipcode, plus a key for `state` with \n",
    "    the corresponding FIPS code and a key for `zip code tabulation area` \n",
    "    that parrots the zip.\n",
    "    \n",
    "    example\n",
    "    -------\n",
    "    >>> get_census_data_for_state('25', ['DP05_0080PE'])\n",
    "    \"\"\"\n",
    "    try:\n",
    "        result = c.acs5dp.state(\n",
    "            var_names,\n",
    "            state_fips,\n",
    "            year=year)[0]\n",
    "        return result\n",
    "    except Exception as e:\n",
    "        print(\"Couldn't retrieve census data for state {}: {}\".format(state_fips, e))\n",
    "        return None\n",
    "\n",
    "r = demo_df.iloc[0]"
   ]
  },
  {
   "cell_type": "code",
   "execution_count": 392,
   "id": "51eb31a9",
   "metadata": {},
   "outputs": [
    {
     "name": "stdout",
     "output_type": "stream",
     "text": [
      "51\n"
     ]
    }
   ],
   "source": [
    "states_fips = list(demo_df.state_fips.unique())\n",
    "print(len(states_fips))\n",
    "# states_fips"
   ]
  },
  {
   "cell_type": "code",
   "execution_count": 393,
   "id": "5e538f87",
   "metadata": {},
   "outputs": [],
   "source": [
    "state_census_data = [get_census_data_for_state(s, census_vars) for s in states_fips]"
   ]
  },
  {
   "cell_type": "code",
   "execution_count": 394,
   "id": "ba219e9f",
   "metadata": {},
   "outputs": [
    {
     "data": {
      "text/html": [
       "<div>\n",
       "<style scoped>\n",
       "    .dataframe tbody tr th:only-of-type {\n",
       "        vertical-align: middle;\n",
       "    }\n",
       "\n",
       "    .dataframe tbody tr th {\n",
       "        vertical-align: top;\n",
       "    }\n",
       "\n",
       "    .dataframe thead th {\n",
       "        text-align: right;\n",
       "    }\n",
       "</style>\n",
       "<table border=\"1\" class=\"dataframe\">\n",
       "  <thead>\n",
       "    <tr style=\"text-align: right;\">\n",
       "      <th></th>\n",
       "      <th>DP02_0064E</th>\n",
       "      <th>DP02_0061E</th>\n",
       "      <th>DP02_0065E</th>\n",
       "      <th>DP02_0062E</th>\n",
       "      <th>DP02_0063E</th>\n",
       "      <th>DP02_0060E</th>\n",
       "      <th>DP02_0059E</th>\n",
       "      <th>DP05_0077E</th>\n",
       "      <th>DP05_0078E</th>\n",
       "      <th>DP05_0080E</th>\n",
       "      <th>...</th>\n",
       "      <th>DP03_0052E</th>\n",
       "      <th>DP03_0053E</th>\n",
       "      <th>DP03_0054E</th>\n",
       "      <th>DP03_0055E</th>\n",
       "      <th>DP03_0056E</th>\n",
       "      <th>DP03_0057E</th>\n",
       "      <th>DP03_0058E</th>\n",
       "      <th>DP03_0059E</th>\n",
       "      <th>DP03_0060E</th>\n",
       "      <th>DP03_0061E</th>\n",
       "    </tr>\n",
       "    <tr>\n",
       "      <th>state_fips</th>\n",
       "      <th></th>\n",
       "      <th></th>\n",
       "      <th></th>\n",
       "      <th></th>\n",
       "      <th></th>\n",
       "      <th></th>\n",
       "      <th></th>\n",
       "      <th></th>\n",
       "      <th></th>\n",
       "      <th></th>\n",
       "      <th></th>\n",
       "      <th></th>\n",
       "      <th></th>\n",
       "      <th></th>\n",
       "      <th></th>\n",
       "      <th></th>\n",
       "      <th></th>\n",
       "      <th></th>\n",
       "      <th></th>\n",
       "      <th></th>\n",
       "      <th></th>\n",
       "    </tr>\n",
       "  </thead>\n",
       "  <tbody>\n",
       "    <tr>\n",
       "      <th>53</th>\n",
       "      <td>1064440.0</td>\n",
       "      <td>1101904.0</td>\n",
       "      <td>622908.0</td>\n",
       "      <td>1174696.0</td>\n",
       "      <td>483549.0</td>\n",
       "      <td>260358.0</td>\n",
       "      <td>188200.0</td>\n",
       "      <td>5001482.0</td>\n",
       "      <td>251603.0</td>\n",
       "      <td>573457.0</td>\n",
       "      <td>...</td>\n",
       "      <td>155404.0</td>\n",
       "      <td>102595.0</td>\n",
       "      <td>217004.0</td>\n",
       "      <td>228787.0</td>\n",
       "      <td>335962.0</td>\n",
       "      <td>497935.0</td>\n",
       "      <td>372647.0</td>\n",
       "      <td>450796.0</td>\n",
       "      <td>194700.0</td>\n",
       "      <td>199867.0</td>\n",
       "    </tr>\n",
       "    <tr>\n",
       "      <th>08</th>\n",
       "      <td>909794.0</td>\n",
       "      <td>791683.0</td>\n",
       "      <td>536679.0</td>\n",
       "      <td>798224.0</td>\n",
       "      <td>307078.0</td>\n",
       "      <td>191957.0</td>\n",
       "      <td>133062.0</td>\n",
       "      <td>3731976.0</td>\n",
       "      <td>209885.0</td>\n",
       "      <td>161733.0</td>\n",
       "      <td>...</td>\n",
       "      <td>111732.0</td>\n",
       "      <td>76241.0</td>\n",
       "      <td>165617.0</td>\n",
       "      <td>178164.0</td>\n",
       "      <td>261592.0</td>\n",
       "      <td>377542.0</td>\n",
       "      <td>281673.0</td>\n",
       "      <td>337068.0</td>\n",
       "      <td>146006.0</td>\n",
       "      <td>146896.0</td>\n",
       "    </tr>\n",
       "    <tr>\n",
       "      <th>34</th>\n",
       "      <td>1439971.0</td>\n",
       "      <td>1722597.0</td>\n",
       "      <td>907865.0</td>\n",
       "      <td>1026060.0</td>\n",
       "      <td>400424.0</td>\n",
       "      <td>351184.0</td>\n",
       "      <td>315598.0</td>\n",
       "      <td>5023606.0</td>\n",
       "      <td>1136347.0</td>\n",
       "      <td>838872.0</td>\n",
       "      <td>...</td>\n",
       "      <td>170840.0</td>\n",
       "      <td>113188.0</td>\n",
       "      <td>247138.0</td>\n",
       "      <td>232026.0</td>\n",
       "      <td>322263.0</td>\n",
       "      <td>490325.0</td>\n",
       "      <td>390092.0</td>\n",
       "      <td>556938.0</td>\n",
       "      <td>296256.0</td>\n",
       "      <td>380045.0</td>\n",
       "    </tr>\n",
       "    <tr>\n",
       "      <th>17</th>\n",
       "      <td>1776326.0</td>\n",
       "      <td>2281524.0</td>\n",
       "      <td>1122258.0</td>\n",
       "      <td>1812247.0</td>\n",
       "      <td>682300.0</td>\n",
       "      <td>544799.0</td>\n",
       "      <td>446625.0</td>\n",
       "      <td>7955484.0</td>\n",
       "      <td>1806398.0</td>\n",
       "      <td>666890.0</td>\n",
       "      <td>...</td>\n",
       "      <td>331315.0</td>\n",
       "      <td>204278.0</td>\n",
       "      <td>446453.0</td>\n",
       "      <td>425803.0</td>\n",
       "      <td>593198.0</td>\n",
       "      <td>836760.0</td>\n",
       "      <td>613614.0</td>\n",
       "      <td>724960.0</td>\n",
       "      <td>311141.0</td>\n",
       "      <td>330930.0</td>\n",
       "    </tr>\n",
       "    <tr>\n",
       "      <th>06</th>\n",
       "      <td>5291984.0</td>\n",
       "      <td>5345542.0</td>\n",
       "      <td>3161747.0</td>\n",
       "      <td>5586071.0</td>\n",
       "      <td>2021944.0</td>\n",
       "      <td>2033160.0</td>\n",
       "      <td>2510370.0</td>\n",
       "      <td>14777594.0</td>\n",
       "      <td>2161459.0</td>\n",
       "      <td>5427928.0</td>\n",
       "      <td>...</td>\n",
       "      <td>694945.0</td>\n",
       "      <td>604666.0</td>\n",
       "      <td>1105197.0</td>\n",
       "      <td>1063551.0</td>\n",
       "      <td>1465836.0</td>\n",
       "      <td>2095531.0</td>\n",
       "      <td>1568843.0</td>\n",
       "      <td>2025327.0</td>\n",
       "      <td>1008388.0</td>\n",
       "      <td>1255844.0</td>\n",
       "    </tr>\n",
       "  </tbody>\n",
       "</table>\n",
       "<p>5 rows × 21 columns</p>\n",
       "</div>"
      ],
      "text/plain": [
       "            DP02_0064E  DP02_0061E  DP02_0065E  DP02_0062E  DP02_0063E  \\\n",
       "state_fips                                                               \n",
       "53           1064440.0   1101904.0    622908.0   1174696.0    483549.0   \n",
       "08            909794.0    791683.0    536679.0    798224.0    307078.0   \n",
       "34           1439971.0   1722597.0    907865.0   1026060.0    400424.0   \n",
       "17           1776326.0   2281524.0   1122258.0   1812247.0    682300.0   \n",
       "06           5291984.0   5345542.0   3161747.0   5586071.0   2021944.0   \n",
       "\n",
       "            DP02_0060E  DP02_0059E  DP05_0077E  DP05_0078E  DP05_0080E  ...  \\\n",
       "state_fips                                                              ...   \n",
       "53            260358.0    188200.0   5001482.0    251603.0    573457.0  ...   \n",
       "08            191957.0    133062.0   3731976.0    209885.0    161733.0  ...   \n",
       "34            351184.0    315598.0   5023606.0   1136347.0    838872.0  ...   \n",
       "17            544799.0    446625.0   7955484.0   1806398.0    666890.0  ...   \n",
       "06           2033160.0   2510370.0  14777594.0   2161459.0   5427928.0  ...   \n",
       "\n",
       "            DP03_0052E  DP03_0053E  DP03_0054E  DP03_0055E  DP03_0056E  \\\n",
       "state_fips                                                               \n",
       "53            155404.0    102595.0    217004.0    228787.0    335962.0   \n",
       "08            111732.0     76241.0    165617.0    178164.0    261592.0   \n",
       "34            170840.0    113188.0    247138.0    232026.0    322263.0   \n",
       "17            331315.0    204278.0    446453.0    425803.0    593198.0   \n",
       "06            694945.0    604666.0   1105197.0   1063551.0   1465836.0   \n",
       "\n",
       "            DP03_0057E  DP03_0058E  DP03_0059E  DP03_0060E  DP03_0061E  \n",
       "state_fips                                                              \n",
       "53            497935.0    372647.0    450796.0    194700.0    199867.0  \n",
       "08            377542.0    281673.0    337068.0    146006.0    146896.0  \n",
       "34            490325.0    390092.0    556938.0    296256.0    380045.0  \n",
       "17            836760.0    613614.0    724960.0    311141.0    330930.0  \n",
       "06           2095531.0   1568843.0   2025327.0   1008388.0   1255844.0  \n",
       "\n",
       "[5 rows x 21 columns]"
      ]
     },
     "execution_count": 394,
     "metadata": {},
     "output_type": "execute_result"
    }
   ],
   "source": [
    "state_census_df = pd.DataFrame(\n",
    "    [s for s in state_census_data if s is not None]\n",
    ").rename(columns={'state':'state_fips'}).set_index('state_fips')\n",
    "state_census_df.head()"
   ]
  },
  {
   "cell_type": "markdown",
   "id": "f1e46f9c",
   "metadata": {},
   "source": [
    "Add in total population\n",
    "\n",
    "Question: Are ACS total population estimates consistent across survey questions?\n",
    "\n",
    "Answer: Yes.\n",
    "\n",
    "But keep in mind that some questions are for all individuals, some for households, some for individuals > 25 years... etc"
   ]
  },
  {
   "cell_type": "code",
   "execution_count": 395,
   "id": "df847005",
   "metadata": {},
   "outputs": [
    {
     "name": "stdout",
     "output_type": "stream",
     "text": [
      "[{'DP05_0070E': 6789319.0, 'state': '25'}]\n",
      "[{'DP05_0033E': 6789319.0, 'state': '25'}]\n"
     ]
    }
   ],
   "source": [
    "# Estimate!!HISPANIC OR LATINO AND RACE!!Total population\n",
    "# DP05_0070E\n",
    "print(c.acs5dp.state(['DP05_0070E'], '25', year=YEAR))\n",
    "# Estimate!!RACE!!Total population\n",
    "# DP05_0033E\n",
    "print(c.acs5dp.state(['DP05_0033E'], '25', year=YEAR))"
   ]
  },
  {
   "cell_type": "code",
   "execution_count": 396,
   "id": "40eb9cb4",
   "metadata": {},
   "outputs": [],
   "source": [
    "def get_pop_estimate_for_state(state_fips, year=YEAR):\n",
    "    data = get_census_data_for_state(state_fips, ['DP05_0070E'])['DP05_0070E']\n",
    "    return data"
   ]
  },
  {
   "cell_type": "code",
   "execution_count": 397,
   "id": "088680a0",
   "metadata": {},
   "outputs": [],
   "source": [
    "state_census_df['population estimate'] = state_census_df.index.map(get_pop_estimate_for_state)"
   ]
  },
  {
   "cell_type": "code",
   "execution_count": 398,
   "id": "8b94e7b1",
   "metadata": {},
   "outputs": [
    {
     "data": {
      "text/html": [
       "<div>\n",
       "<style scoped>\n",
       "    .dataframe tbody tr th:only-of-type {\n",
       "        vertical-align: middle;\n",
       "    }\n",
       "\n",
       "    .dataframe tbody tr th {\n",
       "        vertical-align: top;\n",
       "    }\n",
       "\n",
       "    .dataframe thead th {\n",
       "        text-align: right;\n",
       "    }\n",
       "</style>\n",
       "<table border=\"1\" class=\"dataframe\">\n",
       "  <thead>\n",
       "    <tr style=\"text-align: right;\">\n",
       "      <th></th>\n",
       "      <th>DP02_0064E</th>\n",
       "      <th>DP02_0061E</th>\n",
       "      <th>DP02_0065E</th>\n",
       "      <th>DP02_0062E</th>\n",
       "      <th>DP02_0063E</th>\n",
       "      <th>DP02_0060E</th>\n",
       "      <th>DP02_0059E</th>\n",
       "      <th>DP05_0077E</th>\n",
       "      <th>DP05_0078E</th>\n",
       "      <th>DP05_0080E</th>\n",
       "      <th>...</th>\n",
       "      <th>DP03_0053E</th>\n",
       "      <th>DP03_0054E</th>\n",
       "      <th>DP03_0055E</th>\n",
       "      <th>DP03_0056E</th>\n",
       "      <th>DP03_0057E</th>\n",
       "      <th>DP03_0058E</th>\n",
       "      <th>DP03_0059E</th>\n",
       "      <th>DP03_0060E</th>\n",
       "      <th>DP03_0061E</th>\n",
       "      <th>population estimate</th>\n",
       "    </tr>\n",
       "    <tr>\n",
       "      <th>state_fips</th>\n",
       "      <th></th>\n",
       "      <th></th>\n",
       "      <th></th>\n",
       "      <th></th>\n",
       "      <th></th>\n",
       "      <th></th>\n",
       "      <th></th>\n",
       "      <th></th>\n",
       "      <th></th>\n",
       "      <th></th>\n",
       "      <th></th>\n",
       "      <th></th>\n",
       "      <th></th>\n",
       "      <th></th>\n",
       "      <th></th>\n",
       "      <th></th>\n",
       "      <th></th>\n",
       "      <th></th>\n",
       "      <th></th>\n",
       "      <th></th>\n",
       "      <th></th>\n",
       "    </tr>\n",
       "  </thead>\n",
       "  <tbody>\n",
       "    <tr>\n",
       "      <th>53</th>\n",
       "      <td>1064440.0</td>\n",
       "      <td>1101904.0</td>\n",
       "      <td>622908.0</td>\n",
       "      <td>1174696.0</td>\n",
       "      <td>483549.0</td>\n",
       "      <td>260358.0</td>\n",
       "      <td>188200.0</td>\n",
       "      <td>5001482.0</td>\n",
       "      <td>251603.0</td>\n",
       "      <td>573457.0</td>\n",
       "      <td>...</td>\n",
       "      <td>102595.0</td>\n",
       "      <td>217004.0</td>\n",
       "      <td>228787.0</td>\n",
       "      <td>335962.0</td>\n",
       "      <td>497935.0</td>\n",
       "      <td>372647.0</td>\n",
       "      <td>450796.0</td>\n",
       "      <td>194700.0</td>\n",
       "      <td>199867.0</td>\n",
       "      <td>7169967.0</td>\n",
       "    </tr>\n",
       "    <tr>\n",
       "      <th>08</th>\n",
       "      <td>909794.0</td>\n",
       "      <td>791683.0</td>\n",
       "      <td>536679.0</td>\n",
       "      <td>798224.0</td>\n",
       "      <td>307078.0</td>\n",
       "      <td>191957.0</td>\n",
       "      <td>133062.0</td>\n",
       "      <td>3731976.0</td>\n",
       "      <td>209885.0</td>\n",
       "      <td>161733.0</td>\n",
       "      <td>...</td>\n",
       "      <td>76241.0</td>\n",
       "      <td>165617.0</td>\n",
       "      <td>178164.0</td>\n",
       "      <td>261592.0</td>\n",
       "      <td>377542.0</td>\n",
       "      <td>281673.0</td>\n",
       "      <td>337068.0</td>\n",
       "      <td>146006.0</td>\n",
       "      <td>146896.0</td>\n",
       "      <td>5436519.0</td>\n",
       "    </tr>\n",
       "    <tr>\n",
       "      <th>34</th>\n",
       "      <td>1439971.0</td>\n",
       "      <td>1722597.0</td>\n",
       "      <td>907865.0</td>\n",
       "      <td>1026060.0</td>\n",
       "      <td>400424.0</td>\n",
       "      <td>351184.0</td>\n",
       "      <td>315598.0</td>\n",
       "      <td>5023606.0</td>\n",
       "      <td>1136347.0</td>\n",
       "      <td>838872.0</td>\n",
       "      <td>...</td>\n",
       "      <td>113188.0</td>\n",
       "      <td>247138.0</td>\n",
       "      <td>232026.0</td>\n",
       "      <td>322263.0</td>\n",
       "      <td>490325.0</td>\n",
       "      <td>390092.0</td>\n",
       "      <td>556938.0</td>\n",
       "      <td>296256.0</td>\n",
       "      <td>380045.0</td>\n",
       "      <td>8960161.0</td>\n",
       "    </tr>\n",
       "    <tr>\n",
       "      <th>17</th>\n",
       "      <td>1776326.0</td>\n",
       "      <td>2281524.0</td>\n",
       "      <td>1122258.0</td>\n",
       "      <td>1812247.0</td>\n",
       "      <td>682300.0</td>\n",
       "      <td>544799.0</td>\n",
       "      <td>446625.0</td>\n",
       "      <td>7955484.0</td>\n",
       "      <td>1806398.0</td>\n",
       "      <td>666890.0</td>\n",
       "      <td>...</td>\n",
       "      <td>204278.0</td>\n",
       "      <td>446453.0</td>\n",
       "      <td>425803.0</td>\n",
       "      <td>593198.0</td>\n",
       "      <td>836760.0</td>\n",
       "      <td>613614.0</td>\n",
       "      <td>724960.0</td>\n",
       "      <td>311141.0</td>\n",
       "      <td>330930.0</td>\n",
       "      <td>12854526.0</td>\n",
       "    </tr>\n",
       "    <tr>\n",
       "      <th>06</th>\n",
       "      <td>5291984.0</td>\n",
       "      <td>5345542.0</td>\n",
       "      <td>3161747.0</td>\n",
       "      <td>5586071.0</td>\n",
       "      <td>2021944.0</td>\n",
       "      <td>2033160.0</td>\n",
       "      <td>2510370.0</td>\n",
       "      <td>14777594.0</td>\n",
       "      <td>2161459.0</td>\n",
       "      <td>5427928.0</td>\n",
       "      <td>...</td>\n",
       "      <td>604666.0</td>\n",
       "      <td>1105197.0</td>\n",
       "      <td>1063551.0</td>\n",
       "      <td>1465836.0</td>\n",
       "      <td>2095531.0</td>\n",
       "      <td>1568843.0</td>\n",
       "      <td>2025327.0</td>\n",
       "      <td>1008388.0</td>\n",
       "      <td>1255844.0</td>\n",
       "      <td>38982847.0</td>\n",
       "    </tr>\n",
       "  </tbody>\n",
       "</table>\n",
       "<p>5 rows × 22 columns</p>\n",
       "</div>"
      ],
      "text/plain": [
       "            DP02_0064E  DP02_0061E  DP02_0065E  DP02_0062E  DP02_0063E  \\\n",
       "state_fips                                                               \n",
       "53           1064440.0   1101904.0    622908.0   1174696.0    483549.0   \n",
       "08            909794.0    791683.0    536679.0    798224.0    307078.0   \n",
       "34           1439971.0   1722597.0    907865.0   1026060.0    400424.0   \n",
       "17           1776326.0   2281524.0   1122258.0   1812247.0    682300.0   \n",
       "06           5291984.0   5345542.0   3161747.0   5586071.0   2021944.0   \n",
       "\n",
       "            DP02_0060E  DP02_0059E  DP05_0077E  DP05_0078E  DP05_0080E  ...  \\\n",
       "state_fips                                                              ...   \n",
       "53            260358.0    188200.0   5001482.0    251603.0    573457.0  ...   \n",
       "08            191957.0    133062.0   3731976.0    209885.0    161733.0  ...   \n",
       "34            351184.0    315598.0   5023606.0   1136347.0    838872.0  ...   \n",
       "17            544799.0    446625.0   7955484.0   1806398.0    666890.0  ...   \n",
       "06           2033160.0   2510370.0  14777594.0   2161459.0   5427928.0  ...   \n",
       "\n",
       "            DP03_0053E  DP03_0054E  DP03_0055E  DP03_0056E  DP03_0057E  \\\n",
       "state_fips                                                               \n",
       "53            102595.0    217004.0    228787.0    335962.0    497935.0   \n",
       "08             76241.0    165617.0    178164.0    261592.0    377542.0   \n",
       "34            113188.0    247138.0    232026.0    322263.0    490325.0   \n",
       "17            204278.0    446453.0    425803.0    593198.0    836760.0   \n",
       "06            604666.0   1105197.0   1063551.0   1465836.0   2095531.0   \n",
       "\n",
       "            DP03_0058E  DP03_0059E  DP03_0060E  DP03_0061E  \\\n",
       "state_fips                                                   \n",
       "53            372647.0    450796.0    194700.0    199867.0   \n",
       "08            281673.0    337068.0    146006.0    146896.0   \n",
       "34            390092.0    556938.0    296256.0    380045.0   \n",
       "17            613614.0    724960.0    311141.0    330930.0   \n",
       "06           1568843.0   2025327.0   1008388.0   1255844.0   \n",
       "\n",
       "            population estimate  \n",
       "state_fips                       \n",
       "53                    7169967.0  \n",
       "08                    5436519.0  \n",
       "34                    8960161.0  \n",
       "17                   12854526.0  \n",
       "06                   38982847.0  \n",
       "\n",
       "[5 rows x 22 columns]"
      ]
     },
     "execution_count": 398,
     "metadata": {},
     "output_type": "execute_result"
    }
   ],
   "source": [
    "state_census_df.head()"
   ]
  },
  {
   "cell_type": "code",
   "execution_count": 399,
   "id": "67f06392",
   "metadata": {},
   "outputs": [],
   "source": [
    "state_census_df['state_abbr'] = (state_census_df.index.map(str)\n",
    "    .map(lambda s: '0'+s if len(s) < 2 else s)\n",
    "    .map(lambda s: us.states.lookup(s).abbr)\n",
    ")"
   ]
  },
  {
   "cell_type": "code",
   "execution_count": 400,
   "id": "2f54cc0b",
   "metadata": {},
   "outputs": [
    {
     "data": {
      "text/html": [
       "<div>\n",
       "<style scoped>\n",
       "    .dataframe tbody tr th:only-of-type {\n",
       "        vertical-align: middle;\n",
       "    }\n",
       "\n",
       "    .dataframe tbody tr th {\n",
       "        vertical-align: top;\n",
       "    }\n",
       "\n",
       "    .dataframe thead th {\n",
       "        text-align: right;\n",
       "    }\n",
       "</style>\n",
       "<table border=\"1\" class=\"dataframe\">\n",
       "  <thead>\n",
       "    <tr style=\"text-align: right;\">\n",
       "      <th></th>\n",
       "      <th>DP02_0064E</th>\n",
       "      <th>DP02_0061E</th>\n",
       "      <th>DP02_0065E</th>\n",
       "      <th>DP02_0062E</th>\n",
       "      <th>DP02_0063E</th>\n",
       "      <th>DP02_0060E</th>\n",
       "      <th>DP02_0059E</th>\n",
       "      <th>DP05_0077E</th>\n",
       "      <th>DP05_0078E</th>\n",
       "      <th>DP05_0080E</th>\n",
       "      <th>...</th>\n",
       "      <th>DP03_0054E</th>\n",
       "      <th>DP03_0055E</th>\n",
       "      <th>DP03_0056E</th>\n",
       "      <th>DP03_0057E</th>\n",
       "      <th>DP03_0058E</th>\n",
       "      <th>DP03_0059E</th>\n",
       "      <th>DP03_0060E</th>\n",
       "      <th>DP03_0061E</th>\n",
       "      <th>population estimate</th>\n",
       "      <th>state_abbr</th>\n",
       "    </tr>\n",
       "    <tr>\n",
       "      <th>state_fips</th>\n",
       "      <th></th>\n",
       "      <th></th>\n",
       "      <th></th>\n",
       "      <th></th>\n",
       "      <th></th>\n",
       "      <th></th>\n",
       "      <th></th>\n",
       "      <th></th>\n",
       "      <th></th>\n",
       "      <th></th>\n",
       "      <th></th>\n",
       "      <th></th>\n",
       "      <th></th>\n",
       "      <th></th>\n",
       "      <th></th>\n",
       "      <th></th>\n",
       "      <th></th>\n",
       "      <th></th>\n",
       "      <th></th>\n",
       "      <th></th>\n",
       "      <th></th>\n",
       "    </tr>\n",
       "  </thead>\n",
       "  <tbody>\n",
       "    <tr>\n",
       "      <th>53</th>\n",
       "      <td>1064440.0</td>\n",
       "      <td>1101904.0</td>\n",
       "      <td>622908.0</td>\n",
       "      <td>1174696.0</td>\n",
       "      <td>483549.0</td>\n",
       "      <td>260358.0</td>\n",
       "      <td>188200.0</td>\n",
       "      <td>5001482.0</td>\n",
       "      <td>251603.0</td>\n",
       "      <td>573457.0</td>\n",
       "      <td>...</td>\n",
       "      <td>217004.0</td>\n",
       "      <td>228787.0</td>\n",
       "      <td>335962.0</td>\n",
       "      <td>497935.0</td>\n",
       "      <td>372647.0</td>\n",
       "      <td>450796.0</td>\n",
       "      <td>194700.0</td>\n",
       "      <td>199867.0</td>\n",
       "      <td>7169967.0</td>\n",
       "      <td>WA</td>\n",
       "    </tr>\n",
       "    <tr>\n",
       "      <th>08</th>\n",
       "      <td>909794.0</td>\n",
       "      <td>791683.0</td>\n",
       "      <td>536679.0</td>\n",
       "      <td>798224.0</td>\n",
       "      <td>307078.0</td>\n",
       "      <td>191957.0</td>\n",
       "      <td>133062.0</td>\n",
       "      <td>3731976.0</td>\n",
       "      <td>209885.0</td>\n",
       "      <td>161733.0</td>\n",
       "      <td>...</td>\n",
       "      <td>165617.0</td>\n",
       "      <td>178164.0</td>\n",
       "      <td>261592.0</td>\n",
       "      <td>377542.0</td>\n",
       "      <td>281673.0</td>\n",
       "      <td>337068.0</td>\n",
       "      <td>146006.0</td>\n",
       "      <td>146896.0</td>\n",
       "      <td>5436519.0</td>\n",
       "      <td>CO</td>\n",
       "    </tr>\n",
       "    <tr>\n",
       "      <th>34</th>\n",
       "      <td>1439971.0</td>\n",
       "      <td>1722597.0</td>\n",
       "      <td>907865.0</td>\n",
       "      <td>1026060.0</td>\n",
       "      <td>400424.0</td>\n",
       "      <td>351184.0</td>\n",
       "      <td>315598.0</td>\n",
       "      <td>5023606.0</td>\n",
       "      <td>1136347.0</td>\n",
       "      <td>838872.0</td>\n",
       "      <td>...</td>\n",
       "      <td>247138.0</td>\n",
       "      <td>232026.0</td>\n",
       "      <td>322263.0</td>\n",
       "      <td>490325.0</td>\n",
       "      <td>390092.0</td>\n",
       "      <td>556938.0</td>\n",
       "      <td>296256.0</td>\n",
       "      <td>380045.0</td>\n",
       "      <td>8960161.0</td>\n",
       "      <td>NJ</td>\n",
       "    </tr>\n",
       "    <tr>\n",
       "      <th>17</th>\n",
       "      <td>1776326.0</td>\n",
       "      <td>2281524.0</td>\n",
       "      <td>1122258.0</td>\n",
       "      <td>1812247.0</td>\n",
       "      <td>682300.0</td>\n",
       "      <td>544799.0</td>\n",
       "      <td>446625.0</td>\n",
       "      <td>7955484.0</td>\n",
       "      <td>1806398.0</td>\n",
       "      <td>666890.0</td>\n",
       "      <td>...</td>\n",
       "      <td>446453.0</td>\n",
       "      <td>425803.0</td>\n",
       "      <td>593198.0</td>\n",
       "      <td>836760.0</td>\n",
       "      <td>613614.0</td>\n",
       "      <td>724960.0</td>\n",
       "      <td>311141.0</td>\n",
       "      <td>330930.0</td>\n",
       "      <td>12854526.0</td>\n",
       "      <td>IL</td>\n",
       "    </tr>\n",
       "    <tr>\n",
       "      <th>06</th>\n",
       "      <td>5291984.0</td>\n",
       "      <td>5345542.0</td>\n",
       "      <td>3161747.0</td>\n",
       "      <td>5586071.0</td>\n",
       "      <td>2021944.0</td>\n",
       "      <td>2033160.0</td>\n",
       "      <td>2510370.0</td>\n",
       "      <td>14777594.0</td>\n",
       "      <td>2161459.0</td>\n",
       "      <td>5427928.0</td>\n",
       "      <td>...</td>\n",
       "      <td>1105197.0</td>\n",
       "      <td>1063551.0</td>\n",
       "      <td>1465836.0</td>\n",
       "      <td>2095531.0</td>\n",
       "      <td>1568843.0</td>\n",
       "      <td>2025327.0</td>\n",
       "      <td>1008388.0</td>\n",
       "      <td>1255844.0</td>\n",
       "      <td>38982847.0</td>\n",
       "      <td>CA</td>\n",
       "    </tr>\n",
       "  </tbody>\n",
       "</table>\n",
       "<p>5 rows × 23 columns</p>\n",
       "</div>"
      ],
      "text/plain": [
       "            DP02_0064E  DP02_0061E  DP02_0065E  DP02_0062E  DP02_0063E  \\\n",
       "state_fips                                                               \n",
       "53           1064440.0   1101904.0    622908.0   1174696.0    483549.0   \n",
       "08            909794.0    791683.0    536679.0    798224.0    307078.0   \n",
       "34           1439971.0   1722597.0    907865.0   1026060.0    400424.0   \n",
       "17           1776326.0   2281524.0   1122258.0   1812247.0    682300.0   \n",
       "06           5291984.0   5345542.0   3161747.0   5586071.0   2021944.0   \n",
       "\n",
       "            DP02_0060E  DP02_0059E  DP05_0077E  DP05_0078E  DP05_0080E  ...  \\\n",
       "state_fips                                                              ...   \n",
       "53            260358.0    188200.0   5001482.0    251603.0    573457.0  ...   \n",
       "08            191957.0    133062.0   3731976.0    209885.0    161733.0  ...   \n",
       "34            351184.0    315598.0   5023606.0   1136347.0    838872.0  ...   \n",
       "17            544799.0    446625.0   7955484.0   1806398.0    666890.0  ...   \n",
       "06           2033160.0   2510370.0  14777594.0   2161459.0   5427928.0  ...   \n",
       "\n",
       "            DP03_0054E  DP03_0055E  DP03_0056E  DP03_0057E  DP03_0058E  \\\n",
       "state_fips                                                               \n",
       "53            217004.0    228787.0    335962.0    497935.0    372647.0   \n",
       "08            165617.0    178164.0    261592.0    377542.0    281673.0   \n",
       "34            247138.0    232026.0    322263.0    490325.0    390092.0   \n",
       "17            446453.0    425803.0    593198.0    836760.0    613614.0   \n",
       "06           1105197.0   1063551.0   1465836.0   2095531.0   1568843.0   \n",
       "\n",
       "            DP03_0059E  DP03_0060E  DP03_0061E  population estimate  \\\n",
       "state_fips                                                            \n",
       "53            450796.0    194700.0    199867.0            7169967.0   \n",
       "08            337068.0    146006.0    146896.0            5436519.0   \n",
       "34            556938.0    296256.0    380045.0            8960161.0   \n",
       "17            724960.0    311141.0    330930.0           12854526.0   \n",
       "06           2025327.0   1008388.0   1255844.0           38982847.0   \n",
       "\n",
       "            state_abbr  \n",
       "state_fips              \n",
       "53                  WA  \n",
       "08                  CO  \n",
       "34                  NJ  \n",
       "17                  IL  \n",
       "06                  CA  \n",
       "\n",
       "[5 rows x 23 columns]"
      ]
     },
     "execution_count": 400,
     "metadata": {},
     "output_type": "execute_result"
    }
   ],
   "source": [
    "state_census_df.head()"
   ]
  },
  {
   "cell_type": "code",
   "execution_count": 401,
   "id": "1eff6e36",
   "metadata": {},
   "outputs": [],
   "source": [
    "state_census_df.reset_index().to_csv(\"../output/state_census.csv\", index=False)"
   ]
  },
  {
   "cell_type": "markdown",
   "id": "c198df44",
   "metadata": {},
   "source": [
    "script re-entry point"
   ]
  },
  {
   "cell_type": "code",
   "execution_count": 402,
   "id": "ab1b709d",
   "metadata": {},
   "outputs": [
    {
     "data": {
      "text/html": [
       "<div>\n",
       "<style scoped>\n",
       "    .dataframe tbody tr th:only-of-type {\n",
       "        vertical-align: middle;\n",
       "    }\n",
       "\n",
       "    .dataframe tbody tr th {\n",
       "        vertical-align: top;\n",
       "    }\n",
       "\n",
       "    .dataframe thead th {\n",
       "        text-align: right;\n",
       "    }\n",
       "</style>\n",
       "<table border=\"1\" class=\"dataframe\">\n",
       "  <thead>\n",
       "    <tr style=\"text-align: right;\">\n",
       "      <th></th>\n",
       "      <th>DP02_0064E</th>\n",
       "      <th>DP02_0061E</th>\n",
       "      <th>DP02_0065E</th>\n",
       "      <th>DP02_0062E</th>\n",
       "      <th>DP02_0063E</th>\n",
       "      <th>DP02_0060E</th>\n",
       "      <th>DP02_0059E</th>\n",
       "      <th>DP05_0077E</th>\n",
       "      <th>DP05_0078E</th>\n",
       "      <th>DP05_0080E</th>\n",
       "      <th>...</th>\n",
       "      <th>DP03_0054E</th>\n",
       "      <th>DP03_0055E</th>\n",
       "      <th>DP03_0056E</th>\n",
       "      <th>DP03_0057E</th>\n",
       "      <th>DP03_0058E</th>\n",
       "      <th>DP03_0059E</th>\n",
       "      <th>DP03_0060E</th>\n",
       "      <th>DP03_0061E</th>\n",
       "      <th>population estimate</th>\n",
       "      <th>state_abbr</th>\n",
       "    </tr>\n",
       "    <tr>\n",
       "      <th>state_fips</th>\n",
       "      <th></th>\n",
       "      <th></th>\n",
       "      <th></th>\n",
       "      <th></th>\n",
       "      <th></th>\n",
       "      <th></th>\n",
       "      <th></th>\n",
       "      <th></th>\n",
       "      <th></th>\n",
       "      <th></th>\n",
       "      <th></th>\n",
       "      <th></th>\n",
       "      <th></th>\n",
       "      <th></th>\n",
       "      <th></th>\n",
       "      <th></th>\n",
       "      <th></th>\n",
       "      <th></th>\n",
       "      <th></th>\n",
       "      <th></th>\n",
       "      <th></th>\n",
       "    </tr>\n",
       "  </thead>\n",
       "  <tbody>\n",
       "    <tr>\n",
       "      <th>53</th>\n",
       "      <td>1064440.0</td>\n",
       "      <td>1101904.0</td>\n",
       "      <td>622908.0</td>\n",
       "      <td>1174696.0</td>\n",
       "      <td>483549.0</td>\n",
       "      <td>260358.0</td>\n",
       "      <td>188200.0</td>\n",
       "      <td>5001482.0</td>\n",
       "      <td>251603.0</td>\n",
       "      <td>573457.0</td>\n",
       "      <td>...</td>\n",
       "      <td>217004.0</td>\n",
       "      <td>228787.0</td>\n",
       "      <td>335962.0</td>\n",
       "      <td>497935.0</td>\n",
       "      <td>372647.0</td>\n",
       "      <td>450796.0</td>\n",
       "      <td>194700.0</td>\n",
       "      <td>199867.0</td>\n",
       "      <td>7169967.0</td>\n",
       "      <td>WA</td>\n",
       "    </tr>\n",
       "    <tr>\n",
       "      <th>08</th>\n",
       "      <td>909794.0</td>\n",
       "      <td>791683.0</td>\n",
       "      <td>536679.0</td>\n",
       "      <td>798224.0</td>\n",
       "      <td>307078.0</td>\n",
       "      <td>191957.0</td>\n",
       "      <td>133062.0</td>\n",
       "      <td>3731976.0</td>\n",
       "      <td>209885.0</td>\n",
       "      <td>161733.0</td>\n",
       "      <td>...</td>\n",
       "      <td>165617.0</td>\n",
       "      <td>178164.0</td>\n",
       "      <td>261592.0</td>\n",
       "      <td>377542.0</td>\n",
       "      <td>281673.0</td>\n",
       "      <td>337068.0</td>\n",
       "      <td>146006.0</td>\n",
       "      <td>146896.0</td>\n",
       "      <td>5436519.0</td>\n",
       "      <td>CO</td>\n",
       "    </tr>\n",
       "    <tr>\n",
       "      <th>34</th>\n",
       "      <td>1439971.0</td>\n",
       "      <td>1722597.0</td>\n",
       "      <td>907865.0</td>\n",
       "      <td>1026060.0</td>\n",
       "      <td>400424.0</td>\n",
       "      <td>351184.0</td>\n",
       "      <td>315598.0</td>\n",
       "      <td>5023606.0</td>\n",
       "      <td>1136347.0</td>\n",
       "      <td>838872.0</td>\n",
       "      <td>...</td>\n",
       "      <td>247138.0</td>\n",
       "      <td>232026.0</td>\n",
       "      <td>322263.0</td>\n",
       "      <td>490325.0</td>\n",
       "      <td>390092.0</td>\n",
       "      <td>556938.0</td>\n",
       "      <td>296256.0</td>\n",
       "      <td>380045.0</td>\n",
       "      <td>8960161.0</td>\n",
       "      <td>NJ</td>\n",
       "    </tr>\n",
       "    <tr>\n",
       "      <th>17</th>\n",
       "      <td>1776326.0</td>\n",
       "      <td>2281524.0</td>\n",
       "      <td>1122258.0</td>\n",
       "      <td>1812247.0</td>\n",
       "      <td>682300.0</td>\n",
       "      <td>544799.0</td>\n",
       "      <td>446625.0</td>\n",
       "      <td>7955484.0</td>\n",
       "      <td>1806398.0</td>\n",
       "      <td>666890.0</td>\n",
       "      <td>...</td>\n",
       "      <td>446453.0</td>\n",
       "      <td>425803.0</td>\n",
       "      <td>593198.0</td>\n",
       "      <td>836760.0</td>\n",
       "      <td>613614.0</td>\n",
       "      <td>724960.0</td>\n",
       "      <td>311141.0</td>\n",
       "      <td>330930.0</td>\n",
       "      <td>12854526.0</td>\n",
       "      <td>IL</td>\n",
       "    </tr>\n",
       "    <tr>\n",
       "      <th>06</th>\n",
       "      <td>5291984.0</td>\n",
       "      <td>5345542.0</td>\n",
       "      <td>3161747.0</td>\n",
       "      <td>5586071.0</td>\n",
       "      <td>2021944.0</td>\n",
       "      <td>2033160.0</td>\n",
       "      <td>2510370.0</td>\n",
       "      <td>14777594.0</td>\n",
       "      <td>2161459.0</td>\n",
       "      <td>5427928.0</td>\n",
       "      <td>...</td>\n",
       "      <td>1105197.0</td>\n",
       "      <td>1063551.0</td>\n",
       "      <td>1465836.0</td>\n",
       "      <td>2095531.0</td>\n",
       "      <td>1568843.0</td>\n",
       "      <td>2025327.0</td>\n",
       "      <td>1008388.0</td>\n",
       "      <td>1255844.0</td>\n",
       "      <td>38982847.0</td>\n",
       "      <td>CA</td>\n",
       "    </tr>\n",
       "  </tbody>\n",
       "</table>\n",
       "<p>5 rows × 23 columns</p>\n",
       "</div>"
      ],
      "text/plain": [
       "            DP02_0064E  DP02_0061E  DP02_0065E  DP02_0062E  DP02_0063E  \\\n",
       "state_fips                                                               \n",
       "53           1064440.0   1101904.0    622908.0   1174696.0    483549.0   \n",
       "08            909794.0    791683.0    536679.0    798224.0    307078.0   \n",
       "34           1439971.0   1722597.0    907865.0   1026060.0    400424.0   \n",
       "17           1776326.0   2281524.0   1122258.0   1812247.0    682300.0   \n",
       "06           5291984.0   5345542.0   3161747.0   5586071.0   2021944.0   \n",
       "\n",
       "            DP02_0060E  DP02_0059E  DP05_0077E  DP05_0078E  DP05_0080E  ...  \\\n",
       "state_fips                                                              ...   \n",
       "53            260358.0    188200.0   5001482.0    251603.0    573457.0  ...   \n",
       "08            191957.0    133062.0   3731976.0    209885.0    161733.0  ...   \n",
       "34            351184.0    315598.0   5023606.0   1136347.0    838872.0  ...   \n",
       "17            544799.0    446625.0   7955484.0   1806398.0    666890.0  ...   \n",
       "06           2033160.0   2510370.0  14777594.0   2161459.0   5427928.0  ...   \n",
       "\n",
       "            DP03_0054E  DP03_0055E  DP03_0056E  DP03_0057E  DP03_0058E  \\\n",
       "state_fips                                                               \n",
       "53            217004.0    228787.0    335962.0    497935.0    372647.0   \n",
       "08            165617.0    178164.0    261592.0    377542.0    281673.0   \n",
       "34            247138.0    232026.0    322263.0    490325.0    390092.0   \n",
       "17            446453.0    425803.0    593198.0    836760.0    613614.0   \n",
       "06           1105197.0   1063551.0   1465836.0   2095531.0   1568843.0   \n",
       "\n",
       "            DP03_0059E  DP03_0060E  DP03_0061E  population estimate  \\\n",
       "state_fips                                                            \n",
       "53            450796.0    194700.0    199867.0            7169967.0   \n",
       "08            337068.0    146006.0    146896.0            5436519.0   \n",
       "34            556938.0    296256.0    380045.0            8960161.0   \n",
       "17            724960.0    311141.0    330930.0           12854526.0   \n",
       "06           2025327.0   1008388.0   1255844.0           38982847.0   \n",
       "\n",
       "            state_abbr  \n",
       "state_fips              \n",
       "53                  WA  \n",
       "08                  CO  \n",
       "34                  NJ  \n",
       "17                  IL  \n",
       "06                  CA  \n",
       "\n",
       "[5 rows x 23 columns]"
      ]
     },
     "execution_count": 402,
     "metadata": {},
     "output_type": "execute_result"
    }
   ],
   "source": [
    "state_census_df = pd.read_csv(\"../output/state_census.csv\", dtype={'state_fips': str}).set_index('state_fips')\n",
    "state_census_df.head()"
   ]
  },
  {
   "cell_type": "markdown",
   "id": "22720b75",
   "metadata": {},
   "source": [
    "### for zip codes\n",
    "\n",
    "So far we don't need this. but here we have it."
   ]
  },
  {
   "cell_type": "code",
   "execution_count": 16,
   "id": "306ade9e",
   "metadata": {},
   "outputs": [],
   "source": [
    "def get_census_data_for_zip(zipcode, var_names, year=2017):\n",
    "    \"\"\"retrieves census variables for a given zipcode and year from the ACS\n",
    "    \n",
    "    parameters\n",
    "    ----------\n",
    "    zipcode: string. zip code to search for\n",
    "    var_names: list. list of variable names from the ACS.\n",
    "    \n",
    "    returns\n",
    "    -------\n",
    "    A dict with a key for each var in var_names where the value\n",
    "    is the corresponding value for the zipcode, plus a key for `state` with \n",
    "    the corresponding FIPS code and a key for `zip code tabulation area` \n",
    "    that parrots the zip.\n",
    "    \n",
    "    example\n",
    "    -------\n",
    "    >>> get_census_data_for_zip('02130', ['DP05_0080PE'])\n",
    "    \"\"\"\n",
    "    state_fips = get_state_fips(zipcode)\n",
    "    if not state_fips:\n",
    "        return None\n",
    "    try:\n",
    "        result = c.acs5dp.state_zipcode(\n",
    "            var_names,\n",
    "            state_fips,\n",
    "            zipcode,\n",
    "            year=year)[0]\n",
    "        return result\n",
    "    except Exception as e:\n",
    "        print(\"Couldn't retrieve census data for zip {}: {}\".format(zipcode, e))\n",
    "        return None\n",
    "\n",
    "r = demo_df.iloc[0]\n",
    "zips = list(set(demo_df.zip_code))\n",
    "zip_demos = c.acs5dp.state_zipcode(list(census_mapping.census_code.values), r.state_fips, r.zip_code, year=2017)"
   ]
  },
  {
   "cell_type": "markdown",
   "id": "59a16ad1",
   "metadata": {},
   "source": [
    "It takes a while, so run in parallel (way faster)"
   ]
  },
  {
   "cell_type": "code",
   "execution_count": 24,
   "id": "d6949413",
   "metadata": {},
   "outputs": [
    {
     "name": "stdout",
     "output_type": "stream",
     "text": [
      "CPU times: user 1min 20s, sys: 4.15 s, total: 1min 24s\n",
      "Wall time: 17min 58s\n"
     ]
    }
   ],
   "source": [
    "from joblib import Parallel, delayed\n",
    "N_CORES = 24\n",
    "\n",
    "%time zip_census_data = Parallel(n_jobs=N_CORES)(delayed(get_census_data_for_zip)(zip, census_vars) for zip in zips)\n",
    "zip_census_df = pd.DataFrame([z for z in zip_census_data if z is not None])\n",
    "\n",
    "%mkdir ../output\n",
    "zip_census_df.rename(\n",
    "    columns={'zip code tabulation area': 'zip_code'}\n",
    ").to_csv(\"../output/zip_census.csv\", index=False)"
   ]
  },
  {
   "cell_type": "markdown",
   "id": "c1ad39c1",
   "metadata": {},
   "source": [
    "script re-entry point"
   ]
  },
  {
   "cell_type": "code",
   "execution_count": 36,
   "id": "9b90934a",
   "metadata": {},
   "outputs": [
    {
     "data": {
      "text/html": [
       "<div>\n",
       "<style scoped>\n",
       "    .dataframe tbody tr th:only-of-type {\n",
       "        vertical-align: middle;\n",
       "    }\n",
       "\n",
       "    .dataframe tbody tr th {\n",
       "        vertical-align: top;\n",
       "    }\n",
       "\n",
       "    .dataframe thead th {\n",
       "        text-align: right;\n",
       "    }\n",
       "</style>\n",
       "<table border=\"1\" class=\"dataframe\">\n",
       "  <thead>\n",
       "    <tr style=\"text-align: right;\">\n",
       "      <th></th>\n",
       "      <th>DP02_0064PE</th>\n",
       "      <th>DP02_0061PE</th>\n",
       "      <th>DP02_0065PE</th>\n",
       "      <th>DP02_0062PE</th>\n",
       "      <th>DP02_0063PE</th>\n",
       "      <th>DP02_0060PE</th>\n",
       "      <th>DP02_0059PE</th>\n",
       "      <th>DP05_0077PE</th>\n",
       "      <th>DP05_0078PE</th>\n",
       "      <th>DP05_0080PE</th>\n",
       "      <th>state</th>\n",
       "    </tr>\n",
       "    <tr>\n",
       "      <th>zip_code</th>\n",
       "      <th></th>\n",
       "      <th></th>\n",
       "      <th></th>\n",
       "      <th></th>\n",
       "      <th></th>\n",
       "      <th></th>\n",
       "      <th></th>\n",
       "      <th></th>\n",
       "      <th></th>\n",
       "      <th></th>\n",
       "      <th></th>\n",
       "    </tr>\n",
       "  </thead>\n",
       "  <tbody>\n",
       "    <tr>\n",
       "      <th>33948</th>\n",
       "      <td>12.9</td>\n",
       "      <td>33.9</td>\n",
       "      <td>10.6</td>\n",
       "      <td>25.5</td>\n",
       "      <td>8.7</td>\n",
       "      <td>5.7</td>\n",
       "      <td>2.9</td>\n",
       "      <td>81.5</td>\n",
       "      <td>5.8</td>\n",
       "      <td>1.9</td>\n",
       "      <td>12</td>\n",
       "    </tr>\n",
       "    <tr>\n",
       "      <th>30668</th>\n",
       "      <td>5.6</td>\n",
       "      <td>50.8</td>\n",
       "      <td>2.3</td>\n",
       "      <td>15.9</td>\n",
       "      <td>4.3</td>\n",
       "      <td>15.4</td>\n",
       "      <td>5.6</td>\n",
       "      <td>70.4</td>\n",
       "      <td>27.4</td>\n",
       "      <td>0.0</td>\n",
       "      <td>13</td>\n",
       "    </tr>\n",
       "    <tr>\n",
       "      <th>29302</th>\n",
       "      <td>25.1</td>\n",
       "      <td>20.9</td>\n",
       "      <td>20.4</td>\n",
       "      <td>15.1</td>\n",
       "      <td>8.7</td>\n",
       "      <td>7.3</td>\n",
       "      <td>2.4</td>\n",
       "      <td>74.2</td>\n",
       "      <td>18.2</td>\n",
       "      <td>4.3</td>\n",
       "      <td>45</td>\n",
       "    </tr>\n",
       "    <tr>\n",
       "      <th>92315</th>\n",
       "      <td>15.1</td>\n",
       "      <td>23.9</td>\n",
       "      <td>8.2</td>\n",
       "      <td>27.9</td>\n",
       "      <td>14.6</td>\n",
       "      <td>6.7</td>\n",
       "      <td>3.6</td>\n",
       "      <td>67.3</td>\n",
       "      <td>1.1</td>\n",
       "      <td>1.0</td>\n",
       "      <td>6</td>\n",
       "    </tr>\n",
       "    <tr>\n",
       "      <th>32404</th>\n",
       "      <td>8.6</td>\n",
       "      <td>34.5</td>\n",
       "      <td>5.0</td>\n",
       "      <td>29.3</td>\n",
       "      <td>10.7</td>\n",
       "      <td>9.5</td>\n",
       "      <td>2.4</td>\n",
       "      <td>75.1</td>\n",
       "      <td>12.1</td>\n",
       "      <td>3.1</td>\n",
       "      <td>12</td>\n",
       "    </tr>\n",
       "  </tbody>\n",
       "</table>\n",
       "</div>"
      ],
      "text/plain": [
       "          DP02_0064PE  DP02_0061PE  DP02_0065PE  DP02_0062PE  DP02_0063PE  \\\n",
       "zip_code                                                                    \n",
       "33948            12.9         33.9         10.6         25.5          8.7   \n",
       "30668             5.6         50.8          2.3         15.9          4.3   \n",
       "29302            25.1         20.9         20.4         15.1          8.7   \n",
       "92315            15.1         23.9          8.2         27.9         14.6   \n",
       "32404             8.6         34.5          5.0         29.3         10.7   \n",
       "\n",
       "          DP02_0060PE  DP02_0059PE  DP05_0077PE  DP05_0078PE  DP05_0080PE  \\\n",
       "zip_code                                                                    \n",
       "33948             5.7          2.9         81.5          5.8          1.9   \n",
       "30668            15.4          5.6         70.4         27.4          0.0   \n",
       "29302             7.3          2.4         74.2         18.2          4.3   \n",
       "92315             6.7          3.6         67.3          1.1          1.0   \n",
       "32404             9.5          2.4         75.1         12.1          3.1   \n",
       "\n",
       "          state  \n",
       "zip_code         \n",
       "33948        12  \n",
       "30668        13  \n",
       "29302        45  \n",
       "92315         6  \n",
       "32404        12  "
      ]
     },
     "execution_count": 36,
     "metadata": {},
     "output_type": "execute_result"
    }
   ],
   "source": [
    "zip_census_df = pd.read_csv(\"../output/zip_census.csv\").set_index('zip_code')\n",
    "zip_census_df.head()"
   ]
  },
  {
   "cell_type": "code",
   "execution_count": 38,
   "id": "661064b6",
   "metadata": {},
   "outputs": [
    {
     "data": {
      "text/plain": [
       "51"
      ]
     },
     "execution_count": 38,
     "metadata": {},
     "output_type": "execute_result"
    }
   ],
   "source": [
    "zip_census_df.state.nunique()"
   ]
  },
  {
   "cell_type": "code",
   "execution_count": 70,
   "id": "e3040538",
   "metadata": {},
   "outputs": [
    {
     "data": {
      "text/plain": [
       "16993"
      ]
     },
     "execution_count": 70,
     "metadata": {},
     "output_type": "execute_result"
    }
   ],
   "source": [
    "len(zip_census_df)"
   ]
  },
  {
   "cell_type": "markdown",
   "id": "01c0b2fe",
   "metadata": {},
   "source": [
    "## Compare aggregate statistics\n",
    "\n",
    "Look at total population.\n",
    "\n",
    "Look at demographic breakdowns by comparing percent estimates.\n",
    "\n",
    "When computing percent estimates from ComScore data, do separately for each demographic category and use total as the sum that reported data for that category.\n",
    "This is because some rows are missing data for some categories, so totals are different."
   ]
  },
  {
   "cell_type": "markdown",
   "id": "21164631",
   "metadata": {},
   "source": [
    "### State populations totals"
   ]
  },
  {
   "cell_type": "code",
   "execution_count": 403,
   "id": "09916fc5",
   "metadata": {},
   "outputs": [
    {
     "data": {
      "text/html": [
       "<div>\n",
       "<style scoped>\n",
       "    .dataframe tbody tr th:only-of-type {\n",
       "        vertical-align: middle;\n",
       "    }\n",
       "\n",
       "    .dataframe tbody tr th {\n",
       "        vertical-align: top;\n",
       "    }\n",
       "\n",
       "    .dataframe thead th {\n",
       "        text-align: right;\n",
       "    }\n",
       "</style>\n",
       "<table border=\"1\" class=\"dataframe\">\n",
       "  <thead>\n",
       "    <tr style=\"text-align: right;\">\n",
       "      <th></th>\n",
       "      <th>population estimate</th>\n",
       "      <th>state_abbr</th>\n",
       "      <th>comscore_count</th>\n",
       "    </tr>\n",
       "    <tr>\n",
       "      <th>state_fips</th>\n",
       "      <th></th>\n",
       "      <th></th>\n",
       "      <th></th>\n",
       "    </tr>\n",
       "  </thead>\n",
       "  <tbody>\n",
       "    <tr>\n",
       "      <th>06</th>\n",
       "      <td>38982847.0</td>\n",
       "      <td>CA</td>\n",
       "      <td>9285</td>\n",
       "    </tr>\n",
       "    <tr>\n",
       "      <th>48</th>\n",
       "      <td>27419612.0</td>\n",
       "      <td>TX</td>\n",
       "      <td>8028</td>\n",
       "    </tr>\n",
       "    <tr>\n",
       "      <th>12</th>\n",
       "      <td>20278447.0</td>\n",
       "      <td>FL</td>\n",
       "      <td>7110</td>\n",
       "    </tr>\n",
       "    <tr>\n",
       "      <th>36</th>\n",
       "      <td>19798228.0</td>\n",
       "      <td>NY</td>\n",
       "      <td>5798</td>\n",
       "    </tr>\n",
       "    <tr>\n",
       "      <th>17</th>\n",
       "      <td>12854526.0</td>\n",
       "      <td>IL</td>\n",
       "      <td>3670</td>\n",
       "    </tr>\n",
       "  </tbody>\n",
       "</table>\n",
       "</div>"
      ],
      "text/plain": [
       "            population estimate state_abbr  comscore_count\n",
       "state_fips                                                \n",
       "06                   38982847.0         CA            9285\n",
       "48                   27419612.0         TX            8028\n",
       "12                   20278447.0         FL            7110\n",
       "36                   19798228.0         NY            5798\n",
       "17                   12854526.0         IL            3670"
      ]
     },
     "execution_count": 403,
     "metadata": {},
     "output_type": "execute_result"
    }
   ],
   "source": [
    "state_pop_df = (\n",
    "    state_census_df[['population estimate','state_abbr']]\n",
    "    .assign(comscore_count=lambda x: x.index.map(demo_df.state_fips.value_counts()))\n",
    ").sort_values('population estimate', ascending=False)\n",
    "state_pop_df.head()"
   ]
  },
  {
   "cell_type": "code",
   "execution_count": 404,
   "id": "c9e786f0",
   "metadata": {},
   "outputs": [
    {
     "data": {
      "image/png": "[encoded data removed]",
      "text/plain": [
       "<Figure size 1600x400 with 2 Axes>"
      ]
     },
     "metadata": {
      "needs_background": "light"
     },
     "output_type": "display_data"
    }
   ],
   "source": [
    "fig,ax = plt.subplots(1,1,figsize=(16,4), dpi=100)\n",
    "ax.bar(\n",
    "    state_pop_df.state_abbr, state_pop_df['population estimate'],\n",
    "    color=c_acs, alpha=0.6, label='ACS'\n",
    ")\n",
    "ax.ticklabel_format(useOffset=False, axis='y', style='plain')\n",
    "ax.set_xlim(-1, len(state_pop_df))\n",
    "ax.set_ylabel('ACS population')\n",
    "ax2 = ax.twinx()\n",
    "ax2.bar(\n",
    "    state_pop_df.state_abbr, state_pop_df['comscore_count'],\n",
    "    color=c_comscore, alpha=0.6, label='ComScore'\n",
    ")\n",
    "ax2.set_ylabel('ComScore population')\n",
    "lines, labels = ax.get_legend_handles_labels()\n",
    "lines2, labels2 = ax2.get_legend_handles_labels()\n",
    "_ = ax2.legend(lines + lines2, labels + labels2, loc=0)"
   ]
  },
  {
   "cell_type": "code",
   "execution_count": 405,
   "id": "eaf121c9",
   "metadata": {},
   "outputs": [],
   "source": [
    "from scipy.stats import pearsonr"
   ]
  },
  {
   "cell_type": "code",
   "execution_count": 406,
   "id": "4d3005b8",
   "metadata": {},
   "outputs": [
    {
     "data": {
      "text/plain": [
       "(0.9829504951737682, 1.054087082875075e-37)"
      ]
     },
     "execution_count": 406,
     "metadata": {},
     "output_type": "execute_result"
    }
   ],
   "source": [
    "r, pvalue = pearsonr(state_pop_df['comscore_count'], state_pop_df['population estimate'])\n",
    "r, pvalue"
   ]
  },
  {
   "cell_type": "markdown",
   "id": "d1dbb32f",
   "metadata": {},
   "source": [
    "## Income"
   ]
  },
  {
   "cell_type": "code",
   "execution_count": 427,
   "id": "49d7fb3e",
   "metadata": {},
   "outputs": [
    {
     "data": {
      "text/html": [
       "<div>\n",
       "<style scoped>\n",
       "    .dataframe tbody tr th:only-of-type {\n",
       "        vertical-align: middle;\n",
       "    }\n",
       "\n",
       "    .dataframe tbody tr th {\n",
       "        vertical-align: top;\n",
       "    }\n",
       "\n",
       "    .dataframe thead th {\n",
       "        text-align: right;\n",
       "    }\n",
       "</style>\n",
       "<table border=\"1\" class=\"dataframe\">\n",
       "  <thead>\n",
       "    <tr style=\"text-align: right;\">\n",
       "      <th></th>\n",
       "      <th>comscore_code</th>\n",
       "      <th>count</th>\n",
       "    </tr>\n",
       "    <tr>\n",
       "      <th>census_code</th>\n",
       "      <th></th>\n",
       "      <th></th>\n",
       "    </tr>\n",
       "  </thead>\n",
       "  <tbody>\n",
       "    <tr>\n",
       "      <th>DP03_0052E</th>\n",
       "      <td>1</td>\n",
       "      <td>7942251.0</td>\n",
       "    </tr>\n",
       "    <tr>\n",
       "      <th>DP03_0053E</th>\n",
       "      <td>1</td>\n",
       "      <td>5768114.0</td>\n",
       "    </tr>\n",
       "    <tr>\n",
       "      <th>DP03_0054E</th>\n",
       "      <td>2</td>\n",
       "      <td>11637905.0</td>\n",
       "    </tr>\n",
       "    <tr>\n",
       "      <th>DP03_0055E</th>\n",
       "      <td>3</td>\n",
       "      <td>11330288.0</td>\n",
       "    </tr>\n",
       "    <tr>\n",
       "      <th>DP03_0056E</th>\n",
       "      <td>4</td>\n",
       "      <td>15412493.0</td>\n",
       "    </tr>\n",
       "    <tr>\n",
       "      <th>DP03_0057E</th>\n",
       "      <td>5</td>\n",
       "      <td>21000314.0</td>\n",
       "    </tr>\n",
       "    <tr>\n",
       "      <th>DP03_0058E</th>\n",
       "      <td>6</td>\n",
       "      <td>14636046.0</td>\n",
       "    </tr>\n",
       "    <tr>\n",
       "      <th>DP03_0059E</th>\n",
       "      <td>7</td>\n",
       "      <td>16701857.0</td>\n",
       "    </tr>\n",
       "    <tr>\n",
       "      <th>DP03_0060E</th>\n",
       "      <td>7</td>\n",
       "      <td>6931136.0</td>\n",
       "    </tr>\n",
       "    <tr>\n",
       "      <th>DP03_0061E</th>\n",
       "      <td>7</td>\n",
       "      <td>7465517.0</td>\n",
       "    </tr>\n",
       "  </tbody>\n",
       "</table>\n",
       "</div>"
      ],
      "text/plain": [
       "             comscore_code       count\n",
       "census_code                           \n",
       "DP03_0052E               1   7942251.0\n",
       "DP03_0053E               1   5768114.0\n",
       "DP03_0054E               2  11637905.0\n",
       "DP03_0055E               3  11330288.0\n",
       "DP03_0056E               4  15412493.0\n",
       "DP03_0057E               5  21000314.0\n",
       "DP03_0058E               6  14636046.0\n",
       "DP03_0059E               7  16701857.0\n",
       "DP03_0060E               7   6931136.0\n",
       "DP03_0061E               7   7465517.0"
      ]
     },
     "execution_count": 427,
     "metadata": {},
     "output_type": "execute_result"
    }
   ],
   "source": [
    "census_incomes = census_mapping[census_mapping.comscore_column == 'household_income'][\n",
    "    ['census_code','comscore_code']\n",
    "].set_index('census_code')\n",
    "census_incomes['count'] = us_census_df.transpose()\n",
    "census_incomes"
   ]
  },
  {
   "cell_type": "code",
   "execution_count": 439,
   "id": "cf3d3fef",
   "metadata": {},
   "outputs": [
    {
     "data": {
      "text/plain": [
       "1.0    21189\n",
       "3.0    15970\n",
       "2.0    15895\n",
       "6.0    11224\n",
       "5.0    10984\n",
       "4.0     8666\n",
       "8.0     4703\n",
       "7.0     4253\n",
       "Name: household_income, dtype: int64"
      ]
     },
     "execution_count": 439,
     "metadata": {},
     "output_type": "execute_result"
    }
   ],
   "source": [
    "# WHAT does 8 mean? We don't know and we drop it\n",
    "demo_df['household_income'].value_counts()"
   ]
  },
  {
   "cell_type": "code",
   "execution_count": 489,
   "id": "787e4fce",
   "metadata": {},
   "outputs": [
    {
     "data": {
      "image/png": "[encoded data removed]",
      "text/plain": [
       "<Figure size 288x288 with 2 Axes>"
      ]
     },
     "metadata": {
      "needs_background": "light"
     },
     "output_type": "display_data"
    }
   ],
   "source": [
    "fig,ax = plt.subplots(1,1,figsize=(4,4))\n",
    "labels = list(range(1,8))\n",
    "ax.bar(labels, demo_df['household_income'].value_counts().drop(8).values, \n",
    "       label='comscore',\n",
    "       alpha=0.5, color=c_comscore)\n",
    "ax2 = ax.twinx()\n",
    "ax2.bar(labels, census_incomes.groupby('comscore_code').agg('sum')['count'], \n",
    "       label='ACS',\n",
    "       alpha=0.5, color=c_acs)\n",
    "_ = ax.legend()"
   ]
  },
  {
   "cell_type": "markdown",
   "id": "6dabadd5",
   "metadata": {},
   "source": [
    "## State census incomes"
   ]
  },
  {
   "cell_type": "code",
   "execution_count": 470,
   "id": "6ed96a87",
   "metadata": {
    "scrolled": true
   },
   "outputs": [
    {
     "data": {
      "text/html": [
       "<div>\n",
       "<style scoped>\n",
       "    .dataframe tbody tr th:only-of-type {\n",
       "        vertical-align: middle;\n",
       "    }\n",
       "\n",
       "    .dataframe tbody tr th {\n",
       "        vertical-align: top;\n",
       "    }\n",
       "\n",
       "    .dataframe thead th {\n",
       "        text-align: right;\n",
       "    }\n",
       "</style>\n",
       "<table border=\"1\" class=\"dataframe\">\n",
       "  <thead>\n",
       "    <tr style=\"text-align: right;\">\n",
       "      <th>state_fips</th>\n",
       "      <th>53</th>\n",
       "      <th>08</th>\n",
       "      <th>34</th>\n",
       "      <th>17</th>\n",
       "      <th>06</th>\n",
       "      <th>49</th>\n",
       "      <th>45</th>\n",
       "      <th>42</th>\n",
       "      <th>51</th>\n",
       "      <th>25</th>\n",
       "      <th>...</th>\n",
       "      <th>44</th>\n",
       "      <th>54</th>\n",
       "      <th>10</th>\n",
       "      <th>16</th>\n",
       "      <th>41</th>\n",
       "      <th>56</th>\n",
       "      <th>38</th>\n",
       "      <th>50</th>\n",
       "      <th>33</th>\n",
       "      <th>11</th>\n",
       "    </tr>\n",
       "    <tr>\n",
       "      <th>comscore code</th>\n",
       "      <th></th>\n",
       "      <th></th>\n",
       "      <th></th>\n",
       "      <th></th>\n",
       "      <th></th>\n",
       "      <th></th>\n",
       "      <th></th>\n",
       "      <th></th>\n",
       "      <th></th>\n",
       "      <th></th>\n",
       "      <th></th>\n",
       "      <th></th>\n",
       "      <th></th>\n",
       "      <th></th>\n",
       "      <th></th>\n",
       "      <th></th>\n",
       "      <th></th>\n",
       "      <th></th>\n",
       "      <th></th>\n",
       "      <th></th>\n",
       "      <th></th>\n",
       "    </tr>\n",
       "  </thead>\n",
       "  <tbody>\n",
       "    <tr>\n",
       "      <th>1</th>\n",
       "      <td>257999.0</td>\n",
       "      <td>187973.0</td>\n",
       "      <td>284028.0</td>\n",
       "      <td>535593.0</td>\n",
       "      <td>1299611.0</td>\n",
       "      <td>73030.0</td>\n",
       "      <td>261808.0</td>\n",
       "      <td>576106.0</td>\n",
       "      <td>288796.0</td>\n",
       "      <td>269677.0</td>\n",
       "      <td>...</td>\n",
       "      <td>52033.0</td>\n",
       "      <td>116105.0</td>\n",
       "      <td>33831.0</td>\n",
       "      <td>71692.0</td>\n",
       "      <td>176879.0</td>\n",
       "      <td>21103.0</td>\n",
       "      <td>31964.0</td>\n",
       "      <td>27479.0</td>\n",
       "      <td>39091.0</td>\n",
       "      <td>39079.0</td>\n",
       "    </tr>\n",
       "    <tr>\n",
       "      <th>2</th>\n",
       "      <td>217004.0</td>\n",
       "      <td>165617.0</td>\n",
       "      <td>247138.0</td>\n",
       "      <td>446453.0</td>\n",
       "      <td>1105197.0</td>\n",
       "      <td>69801.0</td>\n",
       "      <td>214556.0</td>\n",
       "      <td>502208.0</td>\n",
       "      <td>240698.0</td>\n",
       "      <td>203309.0</td>\n",
       "      <td>...</td>\n",
       "      <td>38490.0</td>\n",
       "      <td>98901.0</td>\n",
       "      <td>28737.0</td>\n",
       "      <td>64685.0</td>\n",
       "      <td>156932.0</td>\n",
       "      <td>21785.0</td>\n",
       "      <td>27190.0</td>\n",
       "      <td>25810.0</td>\n",
       "      <td>40350.0</td>\n",
       "      <td>19346.0</td>\n",
       "    </tr>\n",
       "    <tr>\n",
       "      <th>3</th>\n",
       "      <td>228787.0</td>\n",
       "      <td>178164.0</td>\n",
       "      <td>232026.0</td>\n",
       "      <td>425803.0</td>\n",
       "      <td>1063551.0</td>\n",
       "      <td>79338.0</td>\n",
       "      <td>210196.0</td>\n",
       "      <td>483144.0</td>\n",
       "      <td>246542.0</td>\n",
       "      <td>186707.0</td>\n",
       "      <td>...</td>\n",
       "      <td>35651.0</td>\n",
       "      <td>85131.0</td>\n",
       "      <td>32426.0</td>\n",
       "      <td>68175.0</td>\n",
       "      <td>157131.0</td>\n",
       "      <td>21695.0</td>\n",
       "      <td>28707.0</td>\n",
       "      <td>24931.0</td>\n",
       "      <td>42221.0</td>\n",
       "      <td>17893.0</td>\n",
       "    </tr>\n",
       "    <tr>\n",
       "      <th>4</th>\n",
       "      <td>335962.0</td>\n",
       "      <td>261592.0</td>\n",
       "      <td>322263.0</td>\n",
       "      <td>593198.0</td>\n",
       "      <td>1465836.0</td>\n",
       "      <td>122029.0</td>\n",
       "      <td>268161.0</td>\n",
       "      <td>653515.0</td>\n",
       "      <td>361936.0</td>\n",
       "      <td>255677.0</td>\n",
       "      <td>...</td>\n",
       "      <td>47817.0</td>\n",
       "      <td>108061.0</td>\n",
       "      <td>45507.0</td>\n",
       "      <td>93091.0</td>\n",
       "      <td>212471.0</td>\n",
       "      <td>30505.0</td>\n",
       "      <td>40668.0</td>\n",
       "      <td>33798.0</td>\n",
       "      <td>60684.0</td>\n",
       "      <td>22915.0</td>\n",
       "    </tr>\n",
       "    <tr>\n",
       "      <th>5</th>\n",
       "      <td>497935.0</td>\n",
       "      <td>377542.0</td>\n",
       "      <td>490325.0</td>\n",
       "      <td>836760.0</td>\n",
       "      <td>2095531.0</td>\n",
       "      <td>194204.0</td>\n",
       "      <td>342557.0</td>\n",
       "      <td>908240.0</td>\n",
       "      <td>531135.0</td>\n",
       "      <td>390219.0</td>\n",
       "      <td>...</td>\n",
       "      <td>67672.0</td>\n",
       "      <td>132714.0</td>\n",
       "      <td>64740.0</td>\n",
       "      <td>122368.0</td>\n",
       "      <td>291503.0</td>\n",
       "      <td>43455.0</td>\n",
       "      <td>56924.0</td>\n",
       "      <td>49311.0</td>\n",
       "      <td>94712.0</td>\n",
       "      <td>36395.0</td>\n",
       "    </tr>\n",
       "    <tr>\n",
       "      <th>6</th>\n",
       "      <td>372647.0</td>\n",
       "      <td>281673.0</td>\n",
       "      <td>390092.0</td>\n",
       "      <td>613614.0</td>\n",
       "      <td>1568843.0</td>\n",
       "      <td>142832.0</td>\n",
       "      <td>220018.0</td>\n",
       "      <td>635089.0</td>\n",
       "      <td>398836.0</td>\n",
       "      <td>317494.0</td>\n",
       "      <td>...</td>\n",
       "      <td>53331.0</td>\n",
       "      <td>80683.0</td>\n",
       "      <td>48383.0</td>\n",
       "      <td>75052.0</td>\n",
       "      <td>202965.0</td>\n",
       "      <td>32555.0</td>\n",
       "      <td>43906.0</td>\n",
       "      <td>36006.0</td>\n",
       "      <td>74488.0</td>\n",
       "      <td>29781.0</td>\n",
       "    </tr>\n",
       "    <tr>\n",
       "      <th>7</th>\n",
       "      <td>845363.0</td>\n",
       "      <td>629970.0</td>\n",
       "      <td>1233239.0</td>\n",
       "      <td>1367031.0</td>\n",
       "      <td>4289559.0</td>\n",
       "      <td>257131.0</td>\n",
       "      <td>354011.0</td>\n",
       "      <td>1249140.0</td>\n",
       "      <td>1037693.0</td>\n",
       "      <td>962632.0</td>\n",
       "      <td>...</td>\n",
       "      <td>117034.0</td>\n",
       "      <td>116076.0</td>\n",
       "      <td>98733.0</td>\n",
       "      <td>114061.0</td>\n",
       "      <td>373750.0</td>\n",
       "      <td>59139.0</td>\n",
       "      <td>82166.0</td>\n",
       "      <td>61200.0</td>\n",
       "      <td>175164.0</td>\n",
       "      <td>112576.0</td>\n",
       "    </tr>\n",
       "  </tbody>\n",
       "</table>\n",
       "<p>7 rows × 51 columns</p>\n",
       "</div>"
      ],
      "text/plain": [
       "state_fips           53        08         34         17         06        49  \\\n",
       "comscore code                                                                  \n",
       "1              257999.0  187973.0   284028.0   535593.0  1299611.0   73030.0   \n",
       "2              217004.0  165617.0   247138.0   446453.0  1105197.0   69801.0   \n",
       "3              228787.0  178164.0   232026.0   425803.0  1063551.0   79338.0   \n",
       "4              335962.0  261592.0   322263.0   593198.0  1465836.0  122029.0   \n",
       "5              497935.0  377542.0   490325.0   836760.0  2095531.0  194204.0   \n",
       "6              372647.0  281673.0   390092.0   613614.0  1568843.0  142832.0   \n",
       "7              845363.0  629970.0  1233239.0  1367031.0  4289559.0  257131.0   \n",
       "\n",
       "state_fips           45         42         51        25  ...        44  \\\n",
       "comscore code                                            ...             \n",
       "1              261808.0   576106.0   288796.0  269677.0  ...   52033.0   \n",
       "2              214556.0   502208.0   240698.0  203309.0  ...   38490.0   \n",
       "3              210196.0   483144.0   246542.0  186707.0  ...   35651.0   \n",
       "4              268161.0   653515.0   361936.0  255677.0  ...   47817.0   \n",
       "5              342557.0   908240.0   531135.0  390219.0  ...   67672.0   \n",
       "6              220018.0   635089.0   398836.0  317494.0  ...   53331.0   \n",
       "7              354011.0  1249140.0  1037693.0  962632.0  ...  117034.0   \n",
       "\n",
       "state_fips           54       10        16        41       56       38  \\\n",
       "comscore code                                                            \n",
       "1              116105.0  33831.0   71692.0  176879.0  21103.0  31964.0   \n",
       "2               98901.0  28737.0   64685.0  156932.0  21785.0  27190.0   \n",
       "3               85131.0  32426.0   68175.0  157131.0  21695.0  28707.0   \n",
       "4              108061.0  45507.0   93091.0  212471.0  30505.0  40668.0   \n",
       "5              132714.0  64740.0  122368.0  291503.0  43455.0  56924.0   \n",
       "6               80683.0  48383.0   75052.0  202965.0  32555.0  43906.0   \n",
       "7              116076.0  98733.0  114061.0  373750.0  59139.0  82166.0   \n",
       "\n",
       "state_fips          50        33        11  \n",
       "comscore code                               \n",
       "1              27479.0   39091.0   39079.0  \n",
       "2              25810.0   40350.0   19346.0  \n",
       "3              24931.0   42221.0   17893.0  \n",
       "4              33798.0   60684.0   22915.0  \n",
       "5              49311.0   94712.0   36395.0  \n",
       "6              36006.0   74488.0   29781.0  \n",
       "7              61200.0  175164.0  112576.0  \n",
       "\n",
       "[7 rows x 51 columns]"
      ]
     },
     "execution_count": 470,
     "metadata": {},
     "output_type": "execute_result"
    }
   ],
   "source": [
    "state_census_incomes = state_census_df.transpose().loc[census_incomes.index]\n",
    "state_census_incomes['comscore code'] = state_census_incomes.index.map(census_incomes['comscore_code'])\n",
    "state_census_incomes = state_census_incomes.groupby('comscore code').agg('sum')\n",
    "state_census_incomes"
   ]
  },
  {
   "cell_type": "code",
   "execution_count": 495,
   "id": "ec5c607f",
   "metadata": {
    "scrolled": true
   },
   "outputs": [
    {
     "name": "stdout",
     "output_type": "stream",
     "text": [
      "household income for ComScore data\n"
     ]
    },
    {
     "name": "stderr",
     "output_type": "stream",
     "text": [
      "/Users/aberke/projects/floc-analysis/venv/lib/python3.7/site-packages/ipykernel_launcher.py:5: RuntimeWarning: More than 20 figures have been opened. Figures created through the pyplot interface (`matplotlib.pyplot.figure`) are retained until explicitly closed and may consume too much memory. (To control this warning, see the rcParam `figure.max_open_warning`).\n",
      "  \"\"\"\n"
     ]
    },
    {
     "data": {
      "image/png": "[encoded data removed]",
      "text/plain": [
       "<Figure size 144x144 with 2 Axes>"
      ]
     },
     "metadata": {
      "needs_background": "light"
     },
     "output_type": "display_data"
    },
    {
     "data": {
      "image/png": "[encoded data removed]",
      "text/plain": [
       "<Figure size 144x144 with 2 Axes>"
      ]
     },
     "metadata": {
      "needs_background": "light"
     },
     "output_type": "display_data"
    },
    {
     "data": {
      "image/png": "[encoded data removed]",
      "text/plain": [
       "<Figure size 144x144 with 2 Axes>"
      ]
     },
     "metadata": {
      "needs_background": "light"
     },
     "output_type": "display_data"
    },
    {
     "data": {
      "image/png": "[encoded data removed]",
      "text/plain": [
       "<Figure size 144x144 with 2 Axes>"
      ]
     },
     "metadata": {
      "needs_background": "light"
     },
     "output_type": "display_data"
    },
    {
     "data": {
      "image/png": "[encoded data removed]",
      "text/plain": [
       "<Figure size 144x144 with 2 Axes>"
      ]
     },
     "metadata": {
      "needs_background": "light"
     },
     "output_type": "display_data"
    },
    {
     "data": {
      "image/png": "[encoded data removed]",
      "text/plain": [
       "<Figure size 144x144 with 2 Axes>"
      ]
     },
     "metadata": {
      "needs_background": "light"
     },
     "output_type": "display_data"
    },
    {
     "data": {
      "image/png": "[encoded data removed]",
      "text/plain": [
       "<Figure size 144x144 with 2 Axes>"
      ]
     },
     "metadata": {
      "needs_background": "light"
     },
     "output_type": "display_data"
    },
    {
     "data": {
      "image/png": "[encoded data removed]",
      "text/plain": [
       "<Figure size 144x144 with 2 Axes>"
      ]
     },
     "metadata": {
      "needs_background": "light"
     },
     "output_type": "display_data"
    },
    {
     "data": {
      "image/png": "[encoded data removed]",
      "text/plain": [
       "<Figure size 144x144 with 2 Axes>"
      ]
     },
     "metadata": {
      "needs_background": "light"
     },
     "output_type": "display_data"
    },
    {
     "data": {
      "image/png": "[encoded data removed]",
      "text/plain": [
       "<Figure size 144x144 with 2 Axes>"
      ]
     },
     "metadata": {
      "needs_background": "light"
     },
     "output_type": "display_data"
    },
    {
     "data": {
      "image/png": "[encoded data removed]",
      "text/plain": [
       "<Figure size 144x144 with 2 Axes>"
      ]
     },
     "metadata": {
      "needs_background": "light"
     },
     "output_type": "display_data"
    },
    {
     "data": {
      "image/png": "[encoded data removed]",
      "text/plain": [
       "<Figure size 144x144 with 2 Axes>"
      ]
     },
     "metadata": {
      "needs_background": "light"
     },
     "output_type": "display_data"
    },
    {
     "data": {
      "image/png": "[encoded data removed]",
      "text/plain": [
       "<Figure size 144x144 with 2 Axes>"
      ]
     },
     "metadata": {
      "needs_background": "light"
     },
     "output_type": "display_data"
    },
    {
     "data": {
      "image/png": "[encoded data removed]",
      "text/plain": [
       "<Figure size 144x144 with 2 Axes>"
      ]
     },
     "metadata": {
      "needs_background": "light"
     },
     "output_type": "display_data"
    },
    {
     "data": {
      "image/png": "[encoded data removed]",
      "text/plain": [
       "<Figure size 144x144 with 2 Axes>"
      ]
     },
     "metadata": {
      "needs_background": "light"
     },
     "output_type": "display_data"
    },
    {
     "data": {
      "image/png": "[encoded data removed]",
      "text/plain": [
       "<Figure size 144x144 with 2 Axes>"
      ]
     },
     "metadata": {
      "needs_background": "light"
     },
     "output_type": "display_data"
    },
    {
     "data": {
      "image/png": "[encoded data removed]",
      "text/plain": [
       "<Figure size 144x144 with 2 Axes>"
      ]
     },
     "metadata": {
      "needs_background": "light"
     },
     "output_type": "display_data"
    },
    {
     "data": {
      "image/png": "[encoded data removed]",
      "text/plain": [
       "<Figure size 144x144 with 2 Axes>"
      ]
     },
     "metadata": {
      "needs_background": "light"
     },
     "output_type": "display_data"
    },
    {
     "data": {
      "image/png": "[encoded data removed]",
      "text/plain": [
       "<Figure size 144x144 with 2 Axes>"
      ]
     },
     "metadata": {
      "needs_background": "light"
     },
     "output_type": "display_data"
    },
    {
     "data": {
      "image/png": "[encoded data removed]",
      "text/plain": [
       "<Figure size 144x144 with 2 Axes>"
      ]
     },
     "metadata": {
      "needs_background": "light"
     },
     "output_type": "display_data"
    },
    {
     "data": {
      "image/png": "[encoded data removed]",
      "text/plain": [
       "<Figure size 144x144 with 2 Axes>"
      ]
     },
     "metadata": {
      "needs_background": "light"
     },
     "output_type": "display_data"
    },
    {
     "data": {
      "image/png": "[encoded data removed]",
      "text/plain": [
       "<Figure size 144x144 with 2 Axes>"
      ]
     },
     "metadata": {
      "needs_background": "light"
     },
     "output_type": "display_data"
    },
    {
     "data": {
      "image/png": "[encoded data removed]",
      "text/plain": [
       "<Figure size 144x144 with 2 Axes>"
      ]
     },
     "metadata": {
      "needs_background": "light"
     },
     "output_type": "display_data"
    },
    {
     "data": {
      "image/png": "[encoded data removed]",
      "text/plain": [
       "<Figure size 144x144 with 2 Axes>"
      ]
     },
     "metadata": {
      "needs_background": "light"
     },
     "output_type": "display_data"
    },
    {
     "data": {
      "image/png": "[encoded data removed]",
      "text/plain": [
       "<Figure size 144x144 with 2 Axes>"
      ]
     },
     "metadata": {
      "needs_background": "light"
     },
     "output_type": "display_data"
    },
    {
     "data": {
      "image/png": "[encoded data removed]",
      "text/plain": [
       "<Figure size 144x144 with 2 Axes>"
      ]
     },
     "metadata": {
      "needs_background": "light"
     },
     "output_type": "display_data"
    },
    {
     "data": {
      "image/png": "[encoded data removed]",
      "text/plain": [
       "<Figure size 144x144 with 2 Axes>"
      ]
     },
     "metadata": {
      "needs_background": "light"
     },
     "output_type": "display_data"
    },
    {
     "data": {
      "image/png": "[encoded data removed]",
      "text/plain": [
       "<Figure size 144x144 with 2 Axes>"
      ]
     },
     "metadata": {
      "needs_background": "light"
     },
     "output_type": "display_data"
    },
    {
     "data": {
      "image/png": "[encoded data removed]",
      "text/plain": [
       "<Figure size 144x144 with 2 Axes>"
      ]
     },
     "metadata": {
      "needs_background": "light"
     },
     "output_type": "display_data"
    },
    {
     "data": {
      "image/png": "[encoded data removed]",
      "text/plain": [
       "<Figure size 144x144 with 2 Axes>"
      ]
     },
     "metadata": {
      "needs_background": "light"
     },
     "output_type": "display_data"
    },
    {
     "data": {
      "image/png": "[encoded data removed]",
      "text/plain": [
       "<Figure size 144x144 with 2 Axes>"
      ]
     },
     "metadata": {
      "needs_background": "light"
     },
     "output_type": "display_data"
    },
    {
     "data": {
      "image/png": "[encoded data removed]",
      "text/plain": [
       "<Figure size 144x144 with 2 Axes>"
      ]
     },
     "metadata": {
      "needs_background": "light"
     },
     "output_type": "display_data"
    },
    {
     "data": {
      "image/png": "[encoded data removed]",
      "text/plain": [
       "<Figure size 144x144 with 2 Axes>"
      ]
     },
     "metadata": {
      "needs_background": "light"
     },
     "output_type": "display_data"
    },
    {
     "data": {
      "image/png": "[encoded data removed]",
      "text/plain": [
       "<Figure size 144x144 with 2 Axes>"
      ]
     },
     "metadata": {
      "needs_background": "light"
     },
     "output_type": "display_data"
    },
    {
     "data": {
      "image/png": "[encoded data removed]",
      "text/plain": [
       "<Figure size 144x144 with 2 Axes>"
      ]
     },
     "metadata": {
      "needs_background": "light"
     },
     "output_type": "display_data"
    },
    {
     "data": {
      "image/png": "[encoded data removed]",
      "text/plain": [
       "<Figure size 144x144 with 2 Axes>"
      ]
     },
     "metadata": {
      "needs_background": "light"
     },
     "output_type": "display_data"
    },
    {
     "data": {
      "image/png": "[encoded data removed]",
      "text/plain": [
       "<Figure size 144x144 with 2 Axes>"
      ]
     },
     "metadata": {
      "needs_background": "light"
     },
     "output_type": "display_data"
    },
    {
     "data": {
      "image/png": "[encoded data removed]",
      "text/plain": [
       "<Figure size 144x144 with 2 Axes>"
      ]
     },
     "metadata": {
      "needs_background": "light"
     },
     "output_type": "display_data"
    },
    {
     "data": {
      "image/png": "[encoded data removed]",
      "text/plain": [
       "<Figure size 144x144 with 2 Axes>"
      ]
     },
     "metadata": {
      "needs_background": "light"
     },
     "output_type": "display_data"
    },
    {
     "data": {
      "image/png": "[encoded data removed]",
      "text/plain": [
       "<Figure size 144x144 with 2 Axes>"
      ]
     },
     "metadata": {
      "needs_background": "light"
     },
     "output_type": "display_data"
    },
    {
     "data": {
      "image/png": "[encoded data removed]",
      "text/plain": [
       "<Figure size 144x144 with 2 Axes>"
      ]
     },
     "metadata": {
      "needs_background": "light"
     },
     "output_type": "display_data"
    },
    {
     "data": {
      "image/png": "[encoded data removed]",
      "text/plain": [
       "<Figure size 144x144 with 2 Axes>"
      ]
     },
     "metadata": {
      "needs_background": "light"
     },
     "output_type": "display_data"
    },
    {
     "data": {
      "image/png": "[encoded data removed]",
      "text/plain": [
       "<Figure size 144x144 with 2 Axes>"
      ]
     },
     "metadata": {
      "needs_background": "light"
     },
     "output_type": "display_data"
    },
    {
     "data": {
      "image/png": "[encoded data removed]",
      "text/plain": [
       "<Figure size 144x144 with 2 Axes>"
      ]
     },
     "metadata": {
      "needs_background": "light"
     },
     "output_type": "display_data"
    },
    {
     "data": {
      "image/png": "[encoded data removed]",
      "text/plain": [
       "<Figure size 144x144 with 2 Axes>"
      ]
     },
     "metadata": {
      "needs_background": "light"
     },
     "output_type": "display_data"
    },
    {
     "data": {
      "image/png": "[encoded data removed]",
      "text/plain": [
       "<Figure size 144x144 with 2 Axes>"
      ]
     },
     "metadata": {
      "needs_background": "light"
     },
     "output_type": "display_data"
    },
    {
     "data": {
      "image/png": "[encoded data removed]",
      "text/plain": [
       "<Figure size 144x144 with 2 Axes>"
      ]
     },
     "metadata": {
      "needs_background": "light"
     },
     "output_type": "display_data"
    },
    {
     "data": {
      "image/png": "[encoded data removed]",
      "text/plain": [
       "<Figure size 144x144 with 2 Axes>"
      ]
     },
     "metadata": {
      "needs_background": "light"
     },
     "output_type": "display_data"
    },
    {
     "data": {
      "image/png": "[encoded data removed]",
      "text/plain": [
       "<Figure size 144x144 with 2 Axes>"
      ]
     },
     "metadata": {
      "needs_background": "light"
     },
     "output_type": "display_data"
    },
    {
     "data": {
      "image/png": "[encoded data removed]",
      "text/plain": [
       "<Figure size 144x144 with 2 Axes>"
      ]
     },
     "metadata": {
      "needs_background": "light"
     },
     "output_type": "display_data"
    },
    {
     "data": {
      "image/png": "[encoded data removed]",
      "text/plain": [
       "<Figure size 144x144 with 2 Axes>"
      ]
     },
     "metadata": {
      "needs_background": "light"
     },
     "output_type": "display_data"
    }
   ],
   "source": [
    "states = list(demo_df['state_fips'].unique())\n",
    "labels = list(range(1,8))\n",
    "print('household income for ComScore data')\n",
    "for state_fips in states:\n",
    "    fig,ax = plt.subplots(1,1,figsize=(2,2))\n",
    "    state_demo_df = demo_df[demo_df.state_fips == state]\n",
    "    state_acs_incomes = state_census_incomes[state_fips]\n",
    "    ax.bar(labels, state_demo_df['household_income'].value_counts().drop(8).values)\n",
    "    ax.set_title(state_fips)\n",
    "    ax2 = ax.twinx()\n",
    "    ax2.bar(labels, state_acs_incomes, \n",
    "       label='ACS',\n",
    "       alpha=0.5, color=c_acs)\n"
   ]
  },
  {
   "cell_type": "markdown",
   "id": "99d66fe6",
   "metadata": {},
   "source": [
    "## Race\n",
    "\n",
    "### Country of origin / hispanic vs non-hispanic"
   ]
  },
  {
   "cell_type": "code",
   "execution_count": 276,
   "id": "be114031",
   "metadata": {},
   "outputs": [
    {
     "data": {
      "text/html": [
       "<div>\n",
       "<style scoped>\n",
       "    .dataframe tbody tr th:only-of-type {\n",
       "        vertical-align: middle;\n",
       "    }\n",
       "\n",
       "    .dataframe tbody tr th {\n",
       "        vertical-align: top;\n",
       "    }\n",
       "\n",
       "    .dataframe thead th {\n",
       "        text-align: right;\n",
       "    }\n",
       "</style>\n",
       "<table border=\"1\" class=\"dataframe\">\n",
       "  <thead>\n",
       "    <tr style=\"text-align: right;\">\n",
       "      <th></th>\n",
       "      <th>DP02_0064PE</th>\n",
       "      <th>DP02_0061PE</th>\n",
       "      <th>DP02_0065PE</th>\n",
       "      <th>DP02_0062PE</th>\n",
       "      <th>DP02_0063PE</th>\n",
       "      <th>DP02_0060PE</th>\n",
       "      <th>DP02_0059PE</th>\n",
       "      <th>DP05_0077PE</th>\n",
       "      <th>DP05_0078PE</th>\n",
       "      <th>DP05_0080PE</th>\n",
       "      <th>...</th>\n",
       "      <th>DP03_0054PE</th>\n",
       "      <th>DP03_0055PE</th>\n",
       "      <th>DP03_0056PE</th>\n",
       "      <th>DP03_0057PE</th>\n",
       "      <th>DP03_0058PE</th>\n",
       "      <th>DP03_0059PE</th>\n",
       "      <th>DP03_0060PE</th>\n",
       "      <th>DP03_0061PE</th>\n",
       "      <th>population estimate</th>\n",
       "      <th>state_abbr</th>\n",
       "    </tr>\n",
       "    <tr>\n",
       "      <th>state_fips</th>\n",
       "      <th></th>\n",
       "      <th></th>\n",
       "      <th></th>\n",
       "      <th></th>\n",
       "      <th></th>\n",
       "      <th></th>\n",
       "      <th></th>\n",
       "      <th></th>\n",
       "      <th></th>\n",
       "      <th></th>\n",
       "      <th></th>\n",
       "      <th></th>\n",
       "      <th></th>\n",
       "      <th></th>\n",
       "      <th></th>\n",
       "      <th></th>\n",
       "      <th></th>\n",
       "      <th></th>\n",
       "      <th></th>\n",
       "      <th></th>\n",
       "      <th></th>\n",
       "    </tr>\n",
       "  </thead>\n",
       "  <tbody>\n",
       "    <tr>\n",
       "      <th>53</th>\n",
       "      <td>21.7</td>\n",
       "      <td>22.5</td>\n",
       "      <td>12.7</td>\n",
       "      <td>24.0</td>\n",
       "      <td>9.9</td>\n",
       "      <td>5.3</td>\n",
       "      <td>3.8</td>\n",
       "      <td>69.8</td>\n",
       "      <td>3.5</td>\n",
       "      <td>8.0</td>\n",
       "      <td>...</td>\n",
       "      <td>7.9</td>\n",
       "      <td>8.3</td>\n",
       "      <td>12.2</td>\n",
       "      <td>18.1</td>\n",
       "      <td>13.5</td>\n",
       "      <td>16.4</td>\n",
       "      <td>7.1</td>\n",
       "      <td>7.3</td>\n",
       "      <td>7169967.0</td>\n",
       "      <td>WA</td>\n",
       "    </tr>\n",
       "    <tr>\n",
       "      <th>08</th>\n",
       "      <td>24.8</td>\n",
       "      <td>21.6</td>\n",
       "      <td>14.6</td>\n",
       "      <td>21.8</td>\n",
       "      <td>8.4</td>\n",
       "      <td>5.2</td>\n",
       "      <td>3.6</td>\n",
       "      <td>68.6</td>\n",
       "      <td>3.9</td>\n",
       "      <td>3.0</td>\n",
       "      <td>...</td>\n",
       "      <td>8.0</td>\n",
       "      <td>8.6</td>\n",
       "      <td>12.6</td>\n",
       "      <td>18.1</td>\n",
       "      <td>13.5</td>\n",
       "      <td>16.2</td>\n",
       "      <td>7.0</td>\n",
       "      <td>7.1</td>\n",
       "      <td>5436519.0</td>\n",
       "      <td>CO</td>\n",
       "    </tr>\n",
       "    <tr>\n",
       "      <th>34</th>\n",
       "      <td>23.4</td>\n",
       "      <td>27.9</td>\n",
       "      <td>14.7</td>\n",
       "      <td>16.6</td>\n",
       "      <td>6.5</td>\n",
       "      <td>5.7</td>\n",
       "      <td>5.1</td>\n",
       "      <td>56.1</td>\n",
       "      <td>12.7</td>\n",
       "      <td>9.4</td>\n",
       "      <td>...</td>\n",
       "      <td>7.7</td>\n",
       "      <td>7.3</td>\n",
       "      <td>10.1</td>\n",
       "      <td>15.3</td>\n",
       "      <td>12.2</td>\n",
       "      <td>17.4</td>\n",
       "      <td>9.3</td>\n",
       "      <td>11.9</td>\n",
       "      <td>8960161.0</td>\n",
       "      <td>NJ</td>\n",
       "    </tr>\n",
       "    <tr>\n",
       "      <th>17</th>\n",
       "      <td>20.5</td>\n",
       "      <td>26.3</td>\n",
       "      <td>13.0</td>\n",
       "      <td>20.9</td>\n",
       "      <td>7.9</td>\n",
       "      <td>6.3</td>\n",
       "      <td>5.2</td>\n",
       "      <td>61.9</td>\n",
       "      <td>14.1</td>\n",
       "      <td>5.2</td>\n",
       "      <td>...</td>\n",
       "      <td>9.3</td>\n",
       "      <td>8.8</td>\n",
       "      <td>12.3</td>\n",
       "      <td>17.4</td>\n",
       "      <td>12.7</td>\n",
       "      <td>15.0</td>\n",
       "      <td>6.5</td>\n",
       "      <td>6.9</td>\n",
       "      <td>12854526.0</td>\n",
       "      <td>IL</td>\n",
       "    </tr>\n",
       "    <tr>\n",
       "      <th>06</th>\n",
       "      <td>20.4</td>\n",
       "      <td>20.6</td>\n",
       "      <td>12.2</td>\n",
       "      <td>21.5</td>\n",
       "      <td>7.8</td>\n",
       "      <td>7.8</td>\n",
       "      <td>9.7</td>\n",
       "      <td>37.9</td>\n",
       "      <td>5.5</td>\n",
       "      <td>13.9</td>\n",
       "      <td>...</td>\n",
       "      <td>8.6</td>\n",
       "      <td>8.3</td>\n",
       "      <td>11.4</td>\n",
       "      <td>16.3</td>\n",
       "      <td>12.2</td>\n",
       "      <td>15.7</td>\n",
       "      <td>7.8</td>\n",
       "      <td>9.7</td>\n",
       "      <td>38982847.0</td>\n",
       "      <td>CA</td>\n",
       "    </tr>\n",
       "  </tbody>\n",
       "</table>\n",
       "<p>5 rows × 23 columns</p>\n",
       "</div>"
      ],
      "text/plain": [
       "            DP02_0064PE  DP02_0061PE  DP02_0065PE  DP02_0062PE  DP02_0063PE  \\\n",
       "state_fips                                                                    \n",
       "53                 21.7         22.5         12.7         24.0          9.9   \n",
       "08                 24.8         21.6         14.6         21.8          8.4   \n",
       "34                 23.4         27.9         14.7         16.6          6.5   \n",
       "17                 20.5         26.3         13.0         20.9          7.9   \n",
       "06                 20.4         20.6         12.2         21.5          7.8   \n",
       "\n",
       "            DP02_0060PE  DP02_0059PE  DP05_0077PE  DP05_0078PE  DP05_0080PE  \\\n",
       "state_fips                                                                    \n",
       "53                  5.3          3.8         69.8          3.5          8.0   \n",
       "08                  5.2          3.6         68.6          3.9          3.0   \n",
       "34                  5.7          5.1         56.1         12.7          9.4   \n",
       "17                  6.3          5.2         61.9         14.1          5.2   \n",
       "06                  7.8          9.7         37.9          5.5         13.9   \n",
       "\n",
       "            ...  DP03_0054PE  DP03_0055PE  DP03_0056PE  DP03_0057PE  \\\n",
       "state_fips  ...                                                       \n",
       "53          ...          7.9          8.3         12.2         18.1   \n",
       "08          ...          8.0          8.6         12.6         18.1   \n",
       "34          ...          7.7          7.3         10.1         15.3   \n",
       "17          ...          9.3          8.8         12.3         17.4   \n",
       "06          ...          8.6          8.3         11.4         16.3   \n",
       "\n",
       "            DP03_0058PE  DP03_0059PE  DP03_0060PE  DP03_0061PE  \\\n",
       "state_fips                                                       \n",
       "53                 13.5         16.4          7.1          7.3   \n",
       "08                 13.5         16.2          7.0          7.1   \n",
       "34                 12.2         17.4          9.3         11.9   \n",
       "17                 12.7         15.0          6.5          6.9   \n",
       "06                 12.2         15.7          7.8          9.7   \n",
       "\n",
       "            population estimate  state_abbr  \n",
       "state_fips                                   \n",
       "53                    7169967.0          WA  \n",
       "08                    5436519.0          CO  \n",
       "34                    8960161.0          NJ  \n",
       "17                   12854526.0          IL  \n",
       "06                   38982847.0          CA  \n",
       "\n",
       "[5 rows x 23 columns]"
      ]
     },
     "execution_count": 276,
     "metadata": {},
     "output_type": "execute_result"
    }
   ],
   "source": [
    "state_census_df.head()"
   ]
  },
  {
   "cell_type": "code",
   "execution_count": null,
   "id": "65d809cd",
   "metadata": {},
   "outputs": [],
   "source": []
  },
  {
   "cell_type": "code",
   "execution_count": null,
   "id": "316bb8a5",
   "metadata": {},
   "outputs": [],
   "source": []
  },
  {
   "cell_type": "code",
   "execution_count": null,
   "id": "711980ab",
   "metadata": {},
   "outputs": [],
   "source": []
  },
  {
   "cell_type": "markdown",
   "id": "1da29e39",
   "metadata": {},
   "source": [
    "some stuff from before...\n",
    "\n",
    "## Create aggregates from comScore demographics"
   ]
  },
  {
   "cell_type": "code",
   "execution_count": 207,
   "id": "55d60c52",
   "metadata": {},
   "outputs": [
    {
     "data": {
      "text/html": [
       "<div>\n",
       "<style scoped>\n",
       "    .dataframe tbody tr th:only-of-type {\n",
       "        vertical-align: middle;\n",
       "    }\n",
       "\n",
       "    .dataframe tbody tr th {\n",
       "        vertical-align: top;\n",
       "    }\n",
       "\n",
       "    .dataframe thead th {\n",
       "        text-align: right;\n",
       "    }\n",
       "</style>\n",
       "<table border=\"1\" class=\"dataframe\">\n",
       "  <thead>\n",
       "    <tr style=\"text-align: right;\">\n",
       "      <th></th>\n",
       "      <th></th>\n",
       "      <th></th>\n",
       "      <th>count</th>\n",
       "    </tr>\n",
       "    <tr>\n",
       "      <th>state_fips</th>\n",
       "      <th>var_name</th>\n",
       "      <th>val</th>\n",
       "      <th></th>\n",
       "    </tr>\n",
       "  </thead>\n",
       "  <tbody>\n",
       "    <tr>\n",
       "      <th rowspan=\"19\" valign=\"top\">01</th>\n",
       "      <th rowspan=\"2\" valign=\"top\">country_of_origin</th>\n",
       "      <th>0.0</th>\n",
       "      <td>1442</td>\n",
       "    </tr>\n",
       "    <tr>\n",
       "      <th>1.0</th>\n",
       "      <td>83</td>\n",
       "    </tr>\n",
       "    <tr>\n",
       "      <th rowspan=\"5\" valign=\"top\">hoh_most_education</th>\n",
       "      <th>1.0</th>\n",
       "      <td>25</td>\n",
       "    </tr>\n",
       "    <tr>\n",
       "      <th>2.0</th>\n",
       "      <td>447</td>\n",
       "    </tr>\n",
       "    <tr>\n",
       "      <th>3.0</th>\n",
       "      <td>304</td>\n",
       "    </tr>\n",
       "    <tr>\n",
       "      <th>4.0</th>\n",
       "      <td>192</td>\n",
       "    </tr>\n",
       "    <tr>\n",
       "      <th>5.0</th>\n",
       "      <td>32</td>\n",
       "    </tr>\n",
       "    <tr>\n",
       "      <th rowspan=\"8\" valign=\"top\">household_income</th>\n",
       "      <th>1.0</th>\n",
       "      <td>421</td>\n",
       "    </tr>\n",
       "    <tr>\n",
       "      <th>2.0</th>\n",
       "      <td>339</td>\n",
       "    </tr>\n",
       "    <tr>\n",
       "      <th>3.0</th>\n",
       "      <td>270</td>\n",
       "    </tr>\n",
       "    <tr>\n",
       "      <th>4.0</th>\n",
       "      <td>97</td>\n",
       "    </tr>\n",
       "    <tr>\n",
       "      <th>5.0</th>\n",
       "      <td>156</td>\n",
       "    </tr>\n",
       "    <tr>\n",
       "      <th>6.0</th>\n",
       "      <td>133</td>\n",
       "    </tr>\n",
       "    <tr>\n",
       "      <th>7.0</th>\n",
       "      <td>57</td>\n",
       "    </tr>\n",
       "    <tr>\n",
       "      <th>8.0</th>\n",
       "      <td>52</td>\n",
       "    </tr>\n",
       "    <tr>\n",
       "      <th rowspan=\"4\" valign=\"top\">racial_background</th>\n",
       "      <th>1.0</th>\n",
       "      <td>927</td>\n",
       "    </tr>\n",
       "    <tr>\n",
       "      <th>2.0</th>\n",
       "      <td>410</td>\n",
       "    </tr>\n",
       "    <tr>\n",
       "      <th>3.0</th>\n",
       "      <td>37</td>\n",
       "    </tr>\n",
       "    <tr>\n",
       "      <th>5.0</th>\n",
       "      <td>151</td>\n",
       "    </tr>\n",
       "    <tr>\n",
       "      <th>02</th>\n",
       "      <th>country_of_origin</th>\n",
       "      <th>0.0</th>\n",
       "      <td>148</td>\n",
       "    </tr>\n",
       "  </tbody>\n",
       "</table>\n",
       "</div>"
      ],
      "text/plain": [
       "                                   count\n",
       "state_fips var_name           val       \n",
       "01         country_of_origin  0.0   1442\n",
       "                              1.0     83\n",
       "           hoh_most_education 1.0     25\n",
       "                              2.0    447\n",
       "                              3.0    304\n",
       "                              4.0    192\n",
       "                              5.0     32\n",
       "           household_income   1.0    421\n",
       "                              2.0    339\n",
       "                              3.0    270\n",
       "                              4.0     97\n",
       "                              5.0    156\n",
       "                              6.0    133\n",
       "                              7.0     57\n",
       "                              8.0     52\n",
       "           racial_background  1.0    927\n",
       "                              2.0    410\n",
       "                              3.0     37\n",
       "                              5.0    151\n",
       "02         country_of_origin  0.0    148"
      ]
     },
     "execution_count": 207,
     "metadata": {},
     "output_type": "execute_result"
    }
   ],
   "source": [
    "state_df = (pd.melt(demo_df,\n",
    "       id_vars=['state_fips'],\n",
    "       value_vars=[\n",
    "           'hoh_most_education', 'racial_background',\n",
    "           'household_income', 'country_of_origin'\n",
    "       ],\n",
    "       value_name='val',\n",
    "       var_name='var_name').groupby(['state_fips', 'var_name', 'val'])).val.agg(['count'])\n",
    "state_df.head(20)"
   ]
  },
  {
   "cell_type": "code",
   "execution_count": 43,
   "id": "213ea3f9",
   "metadata": {},
   "outputs": [
    {
     "data": {
      "text/html": [
       "<div>\n",
       "<style scoped>\n",
       "    .dataframe tbody tr th:only-of-type {\n",
       "        vertical-align: middle;\n",
       "    }\n",
       "\n",
       "    .dataframe tbody tr th {\n",
       "        vertical-align: top;\n",
       "    }\n",
       "\n",
       "    .dataframe thead th {\n",
       "        text-align: right;\n",
       "    }\n",
       "</style>\n",
       "<table border=\"1\" class=\"dataframe\">\n",
       "  <thead>\n",
       "    <tr style=\"text-align: right;\">\n",
       "      <th></th>\n",
       "      <th></th>\n",
       "      <th>count</th>\n",
       "    </tr>\n",
       "    <tr>\n",
       "      <th>state_fips</th>\n",
       "      <th>var_name</th>\n",
       "      <th></th>\n",
       "    </tr>\n",
       "  </thead>\n",
       "  <tbody>\n",
       "    <tr>\n",
       "      <th rowspan=\"2\" valign=\"top\">01</th>\n",
       "      <th>hoh_most_education</th>\n",
       "      <td>1000</td>\n",
       "    </tr>\n",
       "    <tr>\n",
       "      <th>racial_background</th>\n",
       "      <td>1525</td>\n",
       "    </tr>\n",
       "    <tr>\n",
       "      <th rowspan=\"2\" valign=\"top\">02</th>\n",
       "      <th>hoh_most_education</th>\n",
       "      <td>98</td>\n",
       "    </tr>\n",
       "    <tr>\n",
       "      <th>racial_background</th>\n",
       "      <td>167</td>\n",
       "    </tr>\n",
       "    <tr>\n",
       "      <th>04</th>\n",
       "      <th>hoh_most_education</th>\n",
       "      <td>901</td>\n",
       "    </tr>\n",
       "    <tr>\n",
       "      <th>...</th>\n",
       "      <th>...</th>\n",
       "      <td>...</td>\n",
       "    </tr>\n",
       "    <tr>\n",
       "      <th>54</th>\n",
       "      <th>racial_background</th>\n",
       "      <td>599</td>\n",
       "    </tr>\n",
       "    <tr>\n",
       "      <th rowspan=\"2\" valign=\"top\">55</th>\n",
       "      <th>hoh_most_education</th>\n",
       "      <td>970</td>\n",
       "    </tr>\n",
       "    <tr>\n",
       "      <th>racial_background</th>\n",
       "      <td>1451</td>\n",
       "    </tr>\n",
       "    <tr>\n",
       "      <th rowspan=\"2\" valign=\"top\">56</th>\n",
       "      <th>hoh_most_education</th>\n",
       "      <td>86</td>\n",
       "    </tr>\n",
       "    <tr>\n",
       "      <th>racial_background</th>\n",
       "      <td>134</td>\n",
       "    </tr>\n",
       "  </tbody>\n",
       "</table>\n",
       "<p>102 rows × 1 columns</p>\n",
       "</div>"
      ],
      "text/plain": [
       "                               count\n",
       "state_fips var_name                 \n",
       "01         hoh_most_education   1000\n",
       "           racial_background    1525\n",
       "02         hoh_most_education     98\n",
       "           racial_background     167\n",
       "04         hoh_most_education    901\n",
       "...                              ...\n",
       "54         racial_background     599\n",
       "55         hoh_most_education    970\n",
       "           racial_background    1451\n",
       "56         hoh_most_education     86\n",
       "           racial_background     134\n",
       "\n",
       "[102 rows x 1 columns]"
      ]
     },
     "execution_count": 43,
     "metadata": {},
     "output_type": "execute_result"
    }
   ],
   "source": [
    "(state_df\n",
    " .groupby(['state_fips', 'var_name'])\n",
    " .agg({'count': np.sum}))"
   ]
  },
  {
   "cell_type": "code",
   "execution_count": 44,
   "id": "28c65610",
   "metadata": {},
   "outputs": [],
   "source": [
    "state_vars = (state_df.merge(state_df\n",
    " .groupby(['state_fips', 'var_name'])\n",
    " .agg({'count': np.sum}), \n",
    "            how='left',\n",
    "            right_index=True,\n",
    "            left_on=['state_fips', 'var_name'])\n",
    " .assign(pct=lambda x: x.count_x/x.count_y)\n",
    ").rename(columns={'count_x': 'count', 'count_y': 'total'})"
   ]
  },
  {
   "cell_type": "code",
   "execution_count": 45,
   "id": "f2c2c156",
   "metadata": {},
   "outputs": [
    {
     "data": {
      "text/html": [
       "<div>\n",
       "<style scoped>\n",
       "    .dataframe tbody tr th:only-of-type {\n",
       "        vertical-align: middle;\n",
       "    }\n",
       "\n",
       "    .dataframe tbody tr th {\n",
       "        vertical-align: top;\n",
       "    }\n",
       "\n",
       "    .dataframe thead th {\n",
       "        text-align: right;\n",
       "    }\n",
       "</style>\n",
       "<table border=\"1\" class=\"dataframe\">\n",
       "  <thead>\n",
       "    <tr style=\"text-align: right;\">\n",
       "      <th></th>\n",
       "      <th></th>\n",
       "      <th></th>\n",
       "      <th>count</th>\n",
       "      <th>total</th>\n",
       "      <th>pct</th>\n",
       "    </tr>\n",
       "    <tr>\n",
       "      <th>state_fips</th>\n",
       "      <th>var_name</th>\n",
       "      <th>val</th>\n",
       "      <th></th>\n",
       "      <th></th>\n",
       "      <th></th>\n",
       "    </tr>\n",
       "  </thead>\n",
       "  <tbody>\n",
       "    <tr>\n",
       "      <th rowspan=\"5\" valign=\"top\">01</th>\n",
       "      <th rowspan=\"5\" valign=\"top\">hoh_most_education</th>\n",
       "      <th>1.0</th>\n",
       "      <td>25</td>\n",
       "      <td>1000</td>\n",
       "      <td>0.025000</td>\n",
       "    </tr>\n",
       "    <tr>\n",
       "      <th>2.0</th>\n",
       "      <td>447</td>\n",
       "      <td>1000</td>\n",
       "      <td>0.447000</td>\n",
       "    </tr>\n",
       "    <tr>\n",
       "      <th>3.0</th>\n",
       "      <td>304</td>\n",
       "      <td>1000</td>\n",
       "      <td>0.304000</td>\n",
       "    </tr>\n",
       "    <tr>\n",
       "      <th>4.0</th>\n",
       "      <td>192</td>\n",
       "      <td>1000</td>\n",
       "      <td>0.192000</td>\n",
       "    </tr>\n",
       "    <tr>\n",
       "      <th>5.0</th>\n",
       "      <td>32</td>\n",
       "      <td>1000</td>\n",
       "      <td>0.032000</td>\n",
       "    </tr>\n",
       "    <tr>\n",
       "      <th>...</th>\n",
       "      <th>...</th>\n",
       "      <th>...</th>\n",
       "      <td>...</td>\n",
       "      <td>...</td>\n",
       "      <td>...</td>\n",
       "    </tr>\n",
       "    <tr>\n",
       "      <th rowspan=\"5\" valign=\"top\">56</th>\n",
       "      <th>hoh_most_education</th>\n",
       "      <th>5.0</th>\n",
       "      <td>3</td>\n",
       "      <td>86</td>\n",
       "      <td>0.034884</td>\n",
       "    </tr>\n",
       "    <tr>\n",
       "      <th rowspan=\"4\" valign=\"top\">racial_background</th>\n",
       "      <th>1.0</th>\n",
       "      <td>102</td>\n",
       "      <td>134</td>\n",
       "      <td>0.761194</td>\n",
       "    </tr>\n",
       "    <tr>\n",
       "      <th>2.0</th>\n",
       "      <td>11</td>\n",
       "      <td>134</td>\n",
       "      <td>0.082090</td>\n",
       "    </tr>\n",
       "    <tr>\n",
       "      <th>3.0</th>\n",
       "      <td>3</td>\n",
       "      <td>134</td>\n",
       "      <td>0.022388</td>\n",
       "    </tr>\n",
       "    <tr>\n",
       "      <th>5.0</th>\n",
       "      <td>18</td>\n",
       "      <td>134</td>\n",
       "      <td>0.134328</td>\n",
       "    </tr>\n",
       "  </tbody>\n",
       "</table>\n",
       "<p>458 rows × 3 columns</p>\n",
       "</div>"
      ],
      "text/plain": [
       "                                   count  total       pct\n",
       "state_fips var_name           val                        \n",
       "01         hoh_most_education 1.0     25   1000  0.025000\n",
       "                              2.0    447   1000  0.447000\n",
       "                              3.0    304   1000  0.304000\n",
       "                              4.0    192   1000  0.192000\n",
       "                              5.0     32   1000  0.032000\n",
       "...                                  ...    ...       ...\n",
       "56         hoh_most_education 5.0      3     86  0.034884\n",
       "           racial_background  1.0    102    134  0.761194\n",
       "                              2.0     11    134  0.082090\n",
       "                              3.0      3    134  0.022388\n",
       "                              5.0     18    134  0.134328\n",
       "\n",
       "[458 rows x 3 columns]"
      ]
     },
     "execution_count": 45,
     "metadata": {},
     "output_type": "execute_result"
    }
   ],
   "source": [
    "state_vars"
   ]
  },
  {
   "cell_type": "code",
   "execution_count": 117,
   "id": "e6573eed",
   "metadata": {},
   "outputs": [],
   "source": [
    "state_vars.to_csv('../output/state_census_distributions.csv')"
   ]
  }
 ],
 "metadata": {
  "kernelspec": {
   "display_name": "Python 3 (ipykernel)",
   "language": "python",
   "name": "python3"
  },
  "language_info": {
   "codemirror_mode": {
    "name": "ipython",
    "version": 3
   },
   "file_extension": ".py",
   "mimetype": "text/x-python",
   "name": "python",
   "nbconvert_exporter": "python",
   "pygments_lexer": "ipython3",
   "version": "3.7.1"
  }
 },
 "nbformat": 4,
 "nbformat_minor": 5
}
