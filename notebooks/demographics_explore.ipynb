{
 "cells": [
  {
   "cell_type": "markdown",
   "id": "favorite-tuesday",
   "metadata": {},
   "source": [
    "# ComScore data: Explore demographics"
   ]
  },
  {
   "cell_type": "code",
   "execution_count": null,
   "id": "numerical-queensland",
   "metadata": {},
   "outputs": [],
   "source": []
  }
 ],
 "metadata": {
  "kernelspec": {
   "display_name": "Python 3.7.1 64-bit ('env': venv)",
   "language": "python",
   "name": "python37164bitenvvenv8bc9e11411a346f699f1ee06d9e74332"
  }
 },
 "nbformat": 4,
 "nbformat_minor": 5
}
