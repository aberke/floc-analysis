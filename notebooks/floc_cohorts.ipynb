{
 "cells": [
  {
   "cell_type": "code",
   "execution_count": 3,
   "id": "54b33a50",
   "metadata": {},
   "outputs": [],
   "source": [
    "from datetime import datetime\n",
    "import sys\n",
    "sys.path.append('..')\n",
    "\n",
    "import matplotlib.pyplot as plt\n",
    "import numpy as np\n",
    "import pandas as pd\n"
   ]
  },
  {
   "cell_type": "code",
   "execution_count": 4,
   "id": "feeb6bc6",
   "metadata": {},
   "outputs": [],
   "source": [
    "panels_df = pd.read_csv(\"../output/all_panels.csv\", index_col=0)"
   ]
  },
  {
   "cell_type": "code",
   "execution_count": 5,
   "id": "286d38e9",
   "metadata": {},
   "outputs": [
    {
     "data": {
      "text/html": [
       "<div>\n",
       "<style scoped>\n",
       "    .dataframe tbody tr th:only-of-type {\n",
       "        vertical-align: middle;\n",
       "    }\n",
       "\n",
       "    .dataframe tbody tr th {\n",
       "        vertical-align: top;\n",
       "    }\n",
       "\n",
       "    .dataframe thead th {\n",
       "        text-align: right;\n",
       "    }\n",
       "</style>\n",
       "<table border=\"1\" class=\"dataframe\">\n",
       "  <thead>\n",
       "    <tr style=\"text-align: right;\">\n",
       "      <th></th>\n",
       "      <th>machine_id</th>\n",
       "      <th>household_income</th>\n",
       "      <th>racial_background</th>\n",
       "      <th>stratify</th>\n",
       "      <th>panel_id</th>\n",
       "    </tr>\n",
       "  </thead>\n",
       "  <tbody>\n",
       "    <tr>\n",
       "      <th>0</th>\n",
       "      <td>215349037.0</td>\n",
       "      <td>1</td>\n",
       "      <td>1.0</td>\n",
       "      <td>1.0, 1.0</td>\n",
       "      <td>0</td>\n",
       "    </tr>\n",
       "    <tr>\n",
       "      <th>1</th>\n",
       "      <td>186981885.0</td>\n",
       "      <td>1</td>\n",
       "      <td>1.0</td>\n",
       "      <td>1.0, 1.0</td>\n",
       "      <td>0</td>\n",
       "    </tr>\n",
       "    <tr>\n",
       "      <th>2</th>\n",
       "      <td>219531739.0</td>\n",
       "      <td>1</td>\n",
       "      <td>1.0</td>\n",
       "      <td>1.0, 1.0</td>\n",
       "      <td>0</td>\n",
       "    </tr>\n",
       "    <tr>\n",
       "      <th>3</th>\n",
       "      <td>173181751.0</td>\n",
       "      <td>1</td>\n",
       "      <td>1.0</td>\n",
       "      <td>1.0, 1.0</td>\n",
       "      <td>0</td>\n",
       "    </tr>\n",
       "    <tr>\n",
       "      <th>4</th>\n",
       "      <td>202252399.0</td>\n",
       "      <td>1</td>\n",
       "      <td>1.0</td>\n",
       "      <td>1.0, 1.0</td>\n",
       "      <td>0</td>\n",
       "    </tr>\n",
       "  </tbody>\n",
       "</table>\n",
       "</div>"
      ],
      "text/plain": [
       "    machine_id  household_income  racial_background  stratify  panel_id\n",
       "0  215349037.0                 1                1.0  1.0, 1.0         0\n",
       "1  186981885.0                 1                1.0  1.0, 1.0         0\n",
       "2  219531739.0                 1                1.0  1.0, 1.0         0\n",
       "3  173181751.0                 1                1.0  1.0, 1.0         0\n",
       "4  202252399.0                 1                1.0  1.0, 1.0         0"
      ]
     },
     "execution_count": 5,
     "metadata": {},
     "output_type": "execute_result"
    }
   ],
   "source": [
    "panels_df.head()"
   ]
  },
  {
   "cell_type": "code",
   "execution_count": 11,
   "id": "7bc0f488",
   "metadata": {},
   "outputs": [
    {
     "name": "stdout",
     "output_type": "stream",
     "text": [
      "panel_id\n",
      "0      23670\n",
      "1      23670\n",
      "2      23670\n",
      "3      23670\n",
      "4      23670\n",
      "       ...  \n",
      "495    23670\n",
      "496    23670\n",
      "497    23670\n",
      "498    23670\n",
      "499    23670\n",
      "Name: machine_id, Length: 500, dtype: int64\n",
      "\n",
      "23670 = N machines per panel\n",
      "284040 = 12 x N machines per panel\n"
     ]
    }
   ],
   "source": [
    "# assuming we use 12 weeks of data, how large will our panel of data be?\n",
    "print(panels_df.groupby('panel_id')['machine_id'].count())\n",
    "N_machines = panels_df.groupby('panel_id')['machine_id'].count()[0]\n",
    "print(\"\\n%s = N machines per panel\" % N_machines)\n",
    "print(\"%s = 12 x N machines per panel\" % (12*N_machines))"
   ]
  },
  {
   "cell_type": "code",
   "execution_count": 12,
   "id": "ef293862",
   "metadata": {},
   "outputs": [
    {
     "name": "stdout",
     "output_type": "stream",
     "text": [
      "SimulateError: blocked\n"
     ]
    },
    {
     "data": {
      "text/plain": [
       "24884"
      ]
     },
     "execution_count": 12,
     "metadata": {},
     "output_type": "execute_result"
    }
   ],
   "source": [
    "import floc\n",
    "\n",
    "# sanity check: The same host list used in the GO and python implementations generate\n",
    "# the same cohort ID\n",
    "host_list = [\n",
    "    'www.nikkei.com',\n",
    "    'jovi0608.hatenablog.com',\n",
    "    'www.nikkansports.com',\n",
    "    'www.yahoo.co.jp',\n",
    "    'www.sponichi.co.jp',\n",
    "    'www.cnn.co.jp',\n",
    "    'floc.glitch.me',\n",
    "    'html5.ohtsu.org',\n",
    "]\n",
    "assert(floc.simulate(host_list) == 21454)\n",
    "\n",
    "# here is an example of a domain list for a cohort deemed sensitive\n",
    "sensitive_cohort_domain_list = [\n",
    "    \"www.dominos.com\",\n",
    "    \"shop.lululemon.com\",\n",
    "    \"www.homedepot.com\",\n",
    "    \"www.ticketliquidator.com\",\n",
    "    \"www.livenation.com\",\n",
    "    \"www.tracfone.com\",\n",
    "    \"www.officedepot.com\"\n",
    "]\n",
    "try:\n",
    "    floc.simulate(sensitive_cohort_domain_list)\n",
    "except Exception as e:\n",
    "    print(\"SimulateError:\", e)\n",
    "floc.simulate(sensitive_cohort_domain_list, check_sensiveness=False)"
   ]
  },
  {
   "cell_type": "markdown",
   "id": "f715635c",
   "metadata": {},
   "source": [
    "## Compute cohorts"
   ]
  },
  {
   "cell_type": "markdown",
   "id": "3c3443a0",
   "metadata": {},
   "source": [
    "Make table mapping machine_ids to domains.\n",
    "\n",
    "TODO: update this step to use the real sessions data (once we have it)\n",
    "\n",
    "Here we make fake sessions/domains data, by using the transactions data. Here the domains are the domains where the transactions for a user were made.\n",
    "\n",
    "But we need at least 7 domains and most user data is sparse... so we insert more domains into a user's weekly domain history."
   ]
  },
  {
   "cell_type": "code",
   "execution_count": 13,
   "id": "4a20cdb8",
   "metadata": {},
   "outputs": [
    {
     "name": "stderr",
     "output_type": "stream",
     "text": [
      "/Users/aberke/projects/floc-analysis/venv/lib/python3.7/site-packages/IPython/core/interactiveshell.py:3444: DtypeWarning: Columns (4) have mixed types.Specify dtype option on import or set low_memory=False.\n",
      "  exec(code_obj, self.user_global_ns, self.user_ns)\n"
     ]
    },
    {
     "data": {
      "text/html": [
       "<div>\n",
       "<style scoped>\n",
       "    .dataframe tbody tr th:only-of-type {\n",
       "        vertical-align: middle;\n",
       "    }\n",
       "\n",
       "    .dataframe tbody tr th {\n",
       "        vertical-align: top;\n",
       "    }\n",
       "\n",
       "    .dataframe thead th {\n",
       "        text-align: right;\n",
       "    }\n",
       "</style>\n",
       "<table border=\"1\" class=\"dataframe\">\n",
       "  <thead>\n",
       "    <tr style=\"text-align: right;\">\n",
       "      <th></th>\n",
       "      <th>event_date</th>\n",
       "      <th>domain_name</th>\n",
       "    </tr>\n",
       "  </thead>\n",
       "  <tbody>\n",
       "    <tr>\n",
       "      <th>25</th>\n",
       "      <td>2017-01-04</td>\n",
       "      <td>verizonwireless.com</td>\n",
       "    </tr>\n",
       "    <tr>\n",
       "      <th>26</th>\n",
       "      <td>2017-03-22</td>\n",
       "      <td>verizonwireless.com</td>\n",
       "    </tr>\n",
       "    <tr>\n",
       "      <th>27</th>\n",
       "      <td>2017-01-07</td>\n",
       "      <td>verizonwireless.com</td>\n",
       "    </tr>\n",
       "    <tr>\n",
       "      <th>28</th>\n",
       "      <td>2017-03-13</td>\n",
       "      <td>verizonwireless.com</td>\n",
       "    </tr>\n",
       "    <tr>\n",
       "      <th>29</th>\n",
       "      <td>2017-02-28</td>\n",
       "      <td>verizonwireless.com</td>\n",
       "    </tr>\n",
       "  </tbody>\n",
       "</table>\n",
       "</div>"
      ],
      "text/plain": [
       "   event_date          domain_name\n",
       "25 2017-01-04  verizonwireless.com\n",
       "26 2017-03-22  verizonwireless.com\n",
       "27 2017-01-07  verizonwireless.com\n",
       "28 2017-03-13  verizonwireless.com\n",
       "29 2017-02-28  verizonwireless.com"
      ]
     },
     "execution_count": 13,
     "metadata": {},
     "output_type": "execute_result"
    }
   ],
   "source": [
    "transactions_fpath = '../data/comscore/2017/transactions.csv'\n",
    "transactions_df = pd.read_csv(transactions_fpath,\n",
    "                              parse_dates=['event_date'],\n",
    "                              encoding=\"ISO-8859-1\")[\n",
    "    ['machine_id', 'event_date', 'domain_name']\n",
    "]\n",
    "(transactions_df\n",
    " .drop('machine_id',axis=1)\n",
    " .dropna()\n",
    ").head()"
   ]
  },
  {
   "cell_type": "code",
   "execution_count": 14,
   "id": "25201f98",
   "metadata": {},
   "outputs": [
    {
     "name": "stderr",
     "output_type": "stream",
     "text": [
      "/Users/aberke/projects/floc-analysis/venv/lib/python3.7/site-packages/ipykernel_launcher.py:2: FutureWarning: Series.dt.weekofyear and Series.dt.week have been deprecated.  Please use Series.dt.isocalendar().week instead.\n",
      "  \n"
     ]
    }
   ],
   "source": [
    "tdf = (transactions_df\n",
    " .assign(week=lambda x: x.event_date.dt.week)\n",
    " .dropna()\n",
    " .groupby(['machine_id', 'week'])\n",
    " .agg({'domain_name': set}).reset_index()\n",
    "       .assign(n_domains=lambda x: x.domain_name.map(len))\n",
    "       .assign(domain_name=lambda x: x.domain_name.map(lambda y: \"|\".join(list(y))))\n",
    "      )"
   ]
  },
  {
   "cell_type": "code",
   "execution_count": 15,
   "id": "6c856ae6",
   "metadata": {},
   "outputs": [
    {
     "data": {
      "text/html": [
       "<div>\n",
       "<style scoped>\n",
       "    .dataframe tbody tr th:only-of-type {\n",
       "        vertical-align: middle;\n",
       "    }\n",
       "\n",
       "    .dataframe tbody tr th {\n",
       "        vertical-align: top;\n",
       "    }\n",
       "\n",
       "    .dataframe thead th {\n",
       "        text-align: right;\n",
       "    }\n",
       "</style>\n",
       "<table border=\"1\" class=\"dataframe\">\n",
       "  <thead>\n",
       "    <tr style=\"text-align: right;\">\n",
       "      <th></th>\n",
       "      <th>week</th>\n",
       "      <th>domain_name</th>\n",
       "      <th>n_domains</th>\n",
       "    </tr>\n",
       "  </thead>\n",
       "  <tbody>\n",
       "    <tr>\n",
       "      <th>24571</th>\n",
       "      <td>10</td>\n",
       "      <td>toysrus.com|ebay.com|macys.com|gap.com|ups.com...</td>\n",
       "      <td>8</td>\n",
       "    </tr>\n",
       "    <tr>\n",
       "      <th>40382</th>\n",
       "      <td>12</td>\n",
       "      <td>expedia.com|dominos.com|avis.com|amazon.com|en...</td>\n",
       "      <td>7</td>\n",
       "    </tr>\n",
       "    <tr>\n",
       "      <th>22464</th>\n",
       "      <td>1</td>\n",
       "      <td>bestwestern.com|dickssportinggoods.com|choiceh...</td>\n",
       "      <td>7</td>\n",
       "    </tr>\n",
       "    <tr>\n",
       "      <th>22470</th>\n",
       "      <td>7</td>\n",
       "      <td>dickssportinggoods.com|ebay.com|walmart.com|be...</td>\n",
       "      <td>6</td>\n",
       "    </tr>\n",
       "    <tr>\n",
       "      <th>13162</th>\n",
       "      <td>1</td>\n",
       "      <td>sephora.com|carters.com|6pm.com|gap.com|amazon...</td>\n",
       "      <td>6</td>\n",
       "    </tr>\n",
       "    <tr>\n",
       "      <th>1275</th>\n",
       "      <td>5</td>\n",
       "      <td>lowes.com|overstock.com|etsy.com|walmart.com|a...</td>\n",
       "      <td>5</td>\n",
       "    </tr>\n",
       "    <tr>\n",
       "      <th>11114</th>\n",
       "      <td>4</td>\n",
       "      <td>bestwestern.com|ticketmaster.com|dominos.com|t...</td>\n",
       "      <td>5</td>\n",
       "    </tr>\n",
       "    <tr>\n",
       "      <th>22543</th>\n",
       "      <td>1</td>\n",
       "      <td>dsw.com|yahoo.net|hertz.com|searspartsdirect.c...</td>\n",
       "      <td>5</td>\n",
       "    </tr>\n",
       "    <tr>\n",
       "      <th>24967</th>\n",
       "      <td>10</td>\n",
       "      <td>shutterfly.com|disneystore.com|qvc.com|amazon....</td>\n",
       "      <td>5</td>\n",
       "    </tr>\n",
       "    <tr>\n",
       "      <th>17162</th>\n",
       "      <td>8</td>\n",
       "      <td>etsy.com|shutterfly.com|officedepot.com|carter...</td>\n",
       "      <td>5</td>\n",
       "    </tr>\n",
       "  </tbody>\n",
       "</table>\n",
       "</div>"
      ],
      "text/plain": [
       "       week                                        domain_name  n_domains\n",
       "24571    10  toysrus.com|ebay.com|macys.com|gap.com|ups.com...          8\n",
       "40382    12  expedia.com|dominos.com|avis.com|amazon.com|en...          7\n",
       "22464     1  bestwestern.com|dickssportinggoods.com|choiceh...          7\n",
       "22470     7  dickssportinggoods.com|ebay.com|walmart.com|be...          6\n",
       "13162     1  sephora.com|carters.com|6pm.com|gap.com|amazon...          6\n",
       "1275      5  lowes.com|overstock.com|etsy.com|walmart.com|a...          5\n",
       "11114     4  bestwestern.com|ticketmaster.com|dominos.com|t...          5\n",
       "22543     1  dsw.com|yahoo.net|hertz.com|searspartsdirect.c...          5\n",
       "24967    10  shutterfly.com|disneystore.com|qvc.com|amazon....          5\n",
       "17162     8  etsy.com|shutterfly.com|officedepot.com|carter...          5"
      ]
     },
     "execution_count": 15,
     "metadata": {},
     "output_type": "execute_result"
    }
   ],
   "source": [
    "(tdf\n",
    " .sort_values('n_domains', ascending=False)\n",
    " .drop('machine_id', axis=1)\n",
    ").head(10)"
   ]
  },
  {
   "cell_type": "markdown",
   "id": "d9cdd477",
   "metadata": {},
   "source": [
    "There are not enough domains per machine ^.\n",
    "\n",
    "Pad the domain histories for each machine to have at least 7 per machine."
   ]
  },
  {
   "cell_type": "code",
   "execution_count": 16,
   "id": "4c26225f",
   "metadata": {},
   "outputs": [],
   "source": [
    "import itertools\n",
    "unique_domains = list(set(itertools.chain(*[d.split(\"|\") for d in tdf.domain_name])))\n",
    "\n",
    "def pad_domains(l, s):\n",
    "    n = 7 - len(l)\n",
    "    if n > 0:\n",
    "        return list(l) + list(np.random.choice(s, n))\n",
    "    else:\n",
    "        return l\n",
    "\n",
    "tdf['padded_domains'] = tdf.apply(lambda x: pad_domains(x.domain_name.split(\"|\"), unique_domains), axis=1)"
   ]
  },
  {
   "cell_type": "code",
   "execution_count": 17,
   "id": "2be8488c",
   "metadata": {},
   "outputs": [
    {
     "data": {
      "text/html": [
       "<div>\n",
       "<style scoped>\n",
       "    .dataframe tbody tr th:only-of-type {\n",
       "        vertical-align: middle;\n",
       "    }\n",
       "\n",
       "    .dataframe tbody tr th {\n",
       "        vertical-align: top;\n",
       "    }\n",
       "\n",
       "    .dataframe thead th {\n",
       "        text-align: right;\n",
       "    }\n",
       "</style>\n",
       "<table border=\"1\" class=\"dataframe\">\n",
       "  <thead>\n",
       "    <tr style=\"text-align: right;\">\n",
       "      <th></th>\n",
       "      <th>week</th>\n",
       "      <th>domain_name</th>\n",
       "      <th>n_domains</th>\n",
       "      <th>padded_domains</th>\n",
       "    </tr>\n",
       "  </thead>\n",
       "  <tbody>\n",
       "    <tr>\n",
       "      <th>24571</th>\n",
       "      <td>10</td>\n",
       "      <td>toysrus.com|ebay.com|macys.com|gap.com|ups.com...</td>\n",
       "      <td>8</td>\n",
       "      <td>[toysrus.com, ebay.com, macys.com, gap.com, up...</td>\n",
       "    </tr>\n",
       "    <tr>\n",
       "      <th>40382</th>\n",
       "      <td>12</td>\n",
       "      <td>expedia.com|dominos.com|avis.com|amazon.com|en...</td>\n",
       "      <td>7</td>\n",
       "      <td>[expedia.com, dominos.com, avis.com, amazon.co...</td>\n",
       "    </tr>\n",
       "    <tr>\n",
       "      <th>22464</th>\n",
       "      <td>1</td>\n",
       "      <td>bestwestern.com|dickssportinggoods.com|choiceh...</td>\n",
       "      <td>7</td>\n",
       "      <td>[bestwestern.com, dickssportinggoods.com, choi...</td>\n",
       "    </tr>\n",
       "    <tr>\n",
       "      <th>22470</th>\n",
       "      <td>7</td>\n",
       "      <td>dickssportinggoods.com|ebay.com|walmart.com|be...</td>\n",
       "      <td>6</td>\n",
       "      <td>[dickssportinggoods.com, ebay.com, walmart.com...</td>\n",
       "    </tr>\n",
       "    <tr>\n",
       "      <th>13162</th>\n",
       "      <td>1</td>\n",
       "      <td>sephora.com|carters.com|6pm.com|gap.com|amazon...</td>\n",
       "      <td>6</td>\n",
       "      <td>[sephora.com, carters.com, 6pm.com, gap.com, a...</td>\n",
       "    </tr>\n",
       "  </tbody>\n",
       "</table>\n",
       "</div>"
      ],
      "text/plain": [
       "       week                                        domain_name  n_domains  \\\n",
       "24571    10  toysrus.com|ebay.com|macys.com|gap.com|ups.com...          8   \n",
       "40382    12  expedia.com|dominos.com|avis.com|amazon.com|en...          7   \n",
       "22464     1  bestwestern.com|dickssportinggoods.com|choiceh...          7   \n",
       "22470     7  dickssportinggoods.com|ebay.com|walmart.com|be...          6   \n",
       "13162     1  sephora.com|carters.com|6pm.com|gap.com|amazon...          6   \n",
       "\n",
       "                                          padded_domains  \n",
       "24571  [toysrus.com, ebay.com, macys.com, gap.com, up...  \n",
       "40382  [expedia.com, dominos.com, avis.com, amazon.co...  \n",
       "22464  [bestwestern.com, dickssportinggoods.com, choi...  \n",
       "22470  [dickssportinggoods.com, ebay.com, walmart.com...  \n",
       "13162  [sephora.com, carters.com, 6pm.com, gap.com, a...  "
      ]
     },
     "execution_count": 17,
     "metadata": {},
     "output_type": "execute_result"
    }
   ],
   "source": [
    "(tdf\n",
    " .sort_values('n_domains', ascending=False)\n",
    " .drop('machine_id', axis=1)\n",
    ").head(5)"
   ]
  },
  {
   "cell_type": "markdown",
   "id": "11f65777",
   "metadata": {},
   "source": [
    "### Apply simhash\n",
    "\n",
    "Using steps from https://github.com/shigeki/floc_simulator/blob/292fe1beb8a827f27a96dc951345a5c1cfb8da56/demos/floc_sample/main.go\n",
    "\n",
    "```\n",
    "var kMaxNumberOfBitsInFloc uint8 = 50\n",
    "sim_hash := floc.SimHashString(domain_list, kMaxNumberOfBitsInFloc)\n",
    "```"
   ]
  },
  {
   "cell_type": "code",
   "execution_count": 19,
   "id": "84911fd7",
   "metadata": {},
   "outputs": [
    {
     "data": {
      "text/plain": [
       "<function floc.hashes.sim_hash_string(domains: List[str], k_max_numbers_of_bits_in_floc: int = 50) -> int>"
      ]
     },
     "execution_count": 19,
     "metadata": {},
     "output_type": "execute_result"
    }
   ],
   "source": [
    "kMaxNumberOfBitsInFloc = 50\n",
    "floc.hashes.sim_hash_string"
   ]
  },
  {
   "cell_type": "code",
   "execution_count": 20,
   "id": "09e542d5",
   "metadata": {},
   "outputs": [
    {
     "data": {
      "text/html": [
       "<div>\n",
       "<style scoped>\n",
       "    .dataframe tbody tr th:only-of-type {\n",
       "        vertical-align: middle;\n",
       "    }\n",
       "\n",
       "    .dataframe tbody tr th {\n",
       "        vertical-align: top;\n",
       "    }\n",
       "\n",
       "    .dataframe thead th {\n",
       "        text-align: right;\n",
       "    }\n",
       "</style>\n",
       "<table border=\"1\" class=\"dataframe\">\n",
       "  <thead>\n",
       "    <tr style=\"text-align: right;\">\n",
       "      <th></th>\n",
       "      <th>domain_name</th>\n",
       "      <th>n_domains</th>\n",
       "      <th>padded_domains</th>\n",
       "      <th>simhash</th>\n",
       "    </tr>\n",
       "  </thead>\n",
       "  <tbody>\n",
       "    <tr>\n",
       "      <th>40204</th>\n",
       "      <td>aa.com</td>\n",
       "      <td>1</td>\n",
       "      <td>[aa.com, lakeside.com, hotwire.com, att.com, j...</td>\n",
       "      <td>1125676033592074</td>\n",
       "    </tr>\n",
       "    <tr>\n",
       "      <th>22885</th>\n",
       "      <td>amazon.com</td>\n",
       "      <td>1</td>\n",
       "      <td>[amazon.com, ftd.com, fingerhut.com, hsn.com, ...</td>\n",
       "      <td>1125614727690250</td>\n",
       "    </tr>\n",
       "    <tr>\n",
       "      <th>9911</th>\n",
       "      <td>amazon.com</td>\n",
       "      <td>1</td>\n",
       "      <td>[amazon.com, hsn.com, jcpenney.com, jet.com, w...</td>\n",
       "      <td>1125611309348226</td>\n",
       "    </tr>\n",
       "    <tr>\n",
       "      <th>33871</th>\n",
       "      <td>booking.com</td>\n",
       "      <td>1</td>\n",
       "      <td>[booking.com, jcpenney.com, kay.com, jjill.com...</td>\n",
       "      <td>1125253885742882</td>\n",
       "    </tr>\n",
       "    <tr>\n",
       "      <th>18877</th>\n",
       "      <td>marriott.com</td>\n",
       "      <td>1</td>\n",
       "      <td>[marriott.com, shopmyexchange.com, hsn.com, jc...</td>\n",
       "      <td>1125245138221408</td>\n",
       "    </tr>\n",
       "  </tbody>\n",
       "</table>\n",
       "</div>"
      ],
      "text/plain": [
       "        domain_name  n_domains  \\\n",
       "40204        aa.com          1   \n",
       "22885    amazon.com          1   \n",
       "9911     amazon.com          1   \n",
       "33871   booking.com          1   \n",
       "18877  marriott.com          1   \n",
       "\n",
       "                                          padded_domains           simhash  \n",
       "40204  [aa.com, lakeside.com, hotwire.com, att.com, j...  1125676033592074  \n",
       "22885  [amazon.com, ftd.com, fingerhut.com, hsn.com, ...  1125614727690250  \n",
       "9911   [amazon.com, hsn.com, jcpenney.com, jet.com, w...  1125611309348226  \n",
       "33871  [booking.com, jcpenney.com, kay.com, jjill.com...  1125253885742882  \n",
       "18877  [marriott.com, shopmyexchange.com, hsn.com, jc...  1125245138221408  "
      ]
     },
     "execution_count": 20,
     "metadata": {},
     "output_type": "execute_result"
    }
   ],
   "source": [
    "tdf['simhash'] = tdf.padded_domains.apply(floc.hashes.sim_hash_string)\n",
    "(tdf\n",
    " .sort_values('simhash', ascending=False)\n",
    " .drop(['machine_id', 'week'], axis=1)\n",
    ").head(5)"
   ]
  },
  {
   "cell_type": "markdown",
   "id": "be8f42e3",
   "metadata": {},
   "source": [
    "Assign cohort IDs by applying the prefixLSH algorithm on all of the eligible machines in the panel.\n",
    "\n",
    "Note: In the browser implementation, the sorting has already been done and the browser has a clusters data file. The browser then queries for the specific cohort ID for a machine based on this clusters data.\n",
    "\n",
    "This is necessary for the real-world deployment.\n",
    "\n",
    "The clusters data file is not necessary for this analysis.\n",
    "\n",
    "Here we do the sorting and assignment together."
   ]
  },
  {
   "cell_type": "code",
   "execution_count": 21,
   "id": "bad9771d",
   "metadata": {},
   "outputs": [],
   "source": [
    "def binary_hash(h):\n",
    "    return np.binary_repr(h, width=kMaxNumberOfBitsInFloc)"
   ]
  },
  {
   "cell_type": "code",
   "execution_count": 23,
   "id": "7e18a501",
   "metadata": {},
   "outputs": [
    {
     "name": "stdout",
     "output_type": "stream",
     "text": [
      "100110001011001000101010001001110001000011011010\n",
      "48\n"
     ]
    }
   ],
   "source": [
    "simhashes = tdf['simhash']\n",
    "print(np.binary_repr(simhashes[0]))\n",
    "print(len(np.binary_repr(simhashes[0])))\n",
    "\n",
    "# some sanity checks\n",
    "\n",
    "# check that all simhashes have binary representation less than 50 bits\n",
    "for _i, simhash in enumerate(simhashes):\n",
    "    assert(len(np.binary_repr(simhash)) <= 50)\n",
    "    \n",
    "# check that the ordering of the simhashes is the same for binary\n",
    "# actually this will only work when we pad the higher bits with zeros\n",
    "# as in the binary_hash implementation\n",
    "sorted_simhashes = sorted(simhashes)\n",
    "for i in range(1, len(simhashes)):\n",
    "    assert(binary_hash(sorted_simhashes[i-1]) <= binary_hash(sorted_simhashes[i]))\n",
    "    assert(sorted_simhashes[i-1] <= sorted_simhashes[i])\n",
    "    \n",
    "# sorted_simhashes"
   ]
  },
  {
   "cell_type": "markdown",
   "id": "cf485189",
   "metadata": {},
   "source": [
    "Get a mapping from the simhashes to their cohorts, where this is determined by sorting all of the simhashes with prefixLSH."
   ]
  },
  {
   "cell_type": "code",
   "execution_count": 42,
   "id": "7ae92b58",
   "metadata": {},
   "outputs": [
    {
     "name": "stdout",
     "output_type": "stream",
     "text": [
      "476 cohorts\n",
      "43880 samples (rows)\n",
      "92.2 avg samples per cohort\n"
     ]
    },
    {
     "data": {
      "text/html": [
       "<div>\n",
       "<style scoped>\n",
       "    .dataframe tbody tr th:only-of-type {\n",
       "        vertical-align: middle;\n",
       "    }\n",
       "\n",
       "    .dataframe tbody tr th {\n",
       "        vertical-align: top;\n",
       "    }\n",
       "\n",
       "    .dataframe thead th {\n",
       "        text-align: right;\n",
       "    }\n",
       "</style>\n",
       "<table border=\"1\" class=\"dataframe\">\n",
       "  <thead>\n",
       "    <tr style=\"text-align: right;\">\n",
       "      <th></th>\n",
       "      <th>machine_id</th>\n",
       "      <th>week</th>\n",
       "      <th>domain_name</th>\n",
       "      <th>n_domains</th>\n",
       "      <th>padded_domains</th>\n",
       "      <th>simhash</th>\n",
       "      <th>cohort</th>\n",
       "    </tr>\n",
       "  </thead>\n",
       "  <tbody>\n",
       "    <tr>\n",
       "      <th>0</th>\n",
       "      <td>46569906</td>\n",
       "      <td>8</td>\n",
       "      <td>amazon.com</td>\n",
       "      <td>1</td>\n",
       "      <td>[amazon.com, uhaul.com, walmart.com, ulta.com,...</td>\n",
       "      <td>167890978803930</td>\n",
       "      <td>121</td>\n",
       "    </tr>\n",
       "    <tr>\n",
       "      <th>1</th>\n",
       "      <td>46569906</td>\n",
       "      <td>12</td>\n",
       "      <td>amazon.com|nordstromrack.com</td>\n",
       "      <td>2</td>\n",
       "      <td>[amazon.com, nordstromrack.com, jjill.com, nor...</td>\n",
       "      <td>186572767891310</td>\n",
       "      <td>138</td>\n",
       "    </tr>\n",
       "    <tr>\n",
       "      <th>2</th>\n",
       "      <td>70298839</td>\n",
       "      <td>12</td>\n",
       "      <td>ebay.com</td>\n",
       "      <td>1</td>\n",
       "      <td>[ebay.com, mcafee.com, zales.com, eventbrite.c...</td>\n",
       "      <td>176031626721700</td>\n",
       "      <td>130</td>\n",
       "    </tr>\n",
       "    <tr>\n",
       "      <th>3</th>\n",
       "      <td>100607252</td>\n",
       "      <td>11</td>\n",
       "      <td>dominos.com</td>\n",
       "      <td>1</td>\n",
       "      <td>[dominos.com, lowes.com, avon.com, lanebryant....</td>\n",
       "      <td>748381777952488</td>\n",
       "      <td>377</td>\n",
       "    </tr>\n",
       "    <tr>\n",
       "      <th>4</th>\n",
       "      <td>119721244</td>\n",
       "      <td>8</td>\n",
       "      <td>amazon.com</td>\n",
       "      <td>1</td>\n",
       "      <td>[amazon.com, snapfish.com, hotwire.com, roaman...</td>\n",
       "      <td>267263370136316</td>\n",
       "      <td>194</td>\n",
       "    </tr>\n",
       "  </tbody>\n",
       "</table>\n",
       "</div>"
      ],
      "text/plain": [
       "   machine_id  week                   domain_name  n_domains  \\\n",
       "0    46569906     8                    amazon.com          1   \n",
       "1    46569906    12  amazon.com|nordstromrack.com          2   \n",
       "2    70298839    12                      ebay.com          1   \n",
       "3   100607252    11                   dominos.com          1   \n",
       "4   119721244     8                    amazon.com          1   \n",
       "\n",
       "                                      padded_domains          simhash  cohort  \n",
       "0  [amazon.com, uhaul.com, walmart.com, ulta.com,...  167890978803930     121  \n",
       "1  [amazon.com, nordstromrack.com, jjill.com, nor...  186572767891310     138  \n",
       "2  [ebay.com, mcafee.com, zales.com, eventbrite.c...  176031626721700     130  \n",
       "3  [dominos.com, lowes.com, avon.com, lanebryant....  748381777952488     377  \n",
       "4  [amazon.com, snapfish.com, hotwire.com, roaman...  267263370136316     194  "
      ]
     },
     "execution_count": 42,
     "metadata": {},
     "output_type": "execute_result"
    }
   ],
   "source": [
    "import prefixLSH\n",
    "\n",
    "\n",
    "cohorts_dict = prefixLSH.get_cohorts_dict(tdf['simhash'])\n",
    "tdf[\"cohort\"] = tdf['simhash'].map(cohorts_dict)\n",
    "\n",
    "print(\"%s cohorts\" % tdf[\"cohort\"].nunique())\n",
    "assert(tdf[\"cohort\"].max() == tdf[\"cohort\"].nunique())\n",
    "\n",
    "print(\"%s samples (rows)\" % len(tdf))\n",
    "print(\"%0.1f avg samples per cohort\" % (len(tdf)/tdf[\"cohort\"].nunique()))\n",
    "\n",
    "tdf.head()"
   ]
  },
  {
   "cell_type": "code",
   "execution_count": 49,
   "id": "b5dbed2b",
   "metadata": {},
   "outputs": [
    {
     "data": {
      "text/plain": [
       "275    234\n",
       "220    226\n",
       "369    224\n",
       "372    209\n",
       "273    208\n",
       "      ... \n",
       "339     50\n",
       "125     50\n",
       "359     50\n",
       "300     50\n",
       "391     50\n",
       "Name: cohort, Length: 476, dtype: int64"
      ]
     },
     "execution_count": 49,
     "metadata": {},
     "output_type": "execute_result"
    },
    {
     "data": {
      "image/png": "[encoded data removed]",
      "text/plain": [
       "<Figure size 400x200 with 1 Axes>"
      ]
     },
     "metadata": {
      "needs_background": "light"
     },
     "output_type": "display_data"
    }
   ],
   "source": [
    "fig,ax = plt.subplots(1,1,figsize=(4,2), dpi=100)\n",
    "tdf[\"cohort\"].value_counts().hist(ax=ax)\n",
    "plt.ylabel(\"cohorts\")\n",
    "plt.xlabel(\"cohort size\")\n",
    "\n",
    "tdf[\"cohort\"].value_counts()"
   ]
  },
  {
   "cell_type": "code",
   "execution_count": null,
   "id": "0b9e29a8",
   "metadata": {},
   "outputs": [],
   "source": []
  }
 ],
 "metadata": {
  "kernelspec": {
   "display_name": "Python 3 (ipykernel)",
   "language": "python",
   "name": "python3"
  },
  "language_info": {
   "codemirror_mode": {
    "name": "ipython",
    "version": 3
   },
   "file_extension": ".py",
   "mimetype": "text/x-python",
   "name": "python",
   "nbconvert_exporter": "python",
   "pygments_lexer": "ipython3",
   "version": "3.7.1"
  }
 },
 "nbformat": 4,
 "nbformat_minor": 5
}
