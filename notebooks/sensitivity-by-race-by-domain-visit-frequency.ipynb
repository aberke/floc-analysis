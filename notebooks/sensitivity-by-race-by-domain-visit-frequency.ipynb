{
 "cells": [
  {
   "cell_type": "code",
   "execution_count": 1,
   "id": "52b4069d",
   "metadata": {},
   "outputs": [],
   "source": [
    "from datetime import datetime\n",
    "import sys\n",
    "sys.path.append('..')\n",
    "\n",
    "import matplotlib.pyplot as plt\n",
    "\n",
    "import numpy as np\n",
    "import pandas as pd\n",
    "\n",
    "from itertools import chain, combinations\n",
    "from collections import Counter\n",
    "\n",
    "\n",
    "from comscore.data import read_weeks_machines_domains, read_comscore_demo_df\n",
    "\n",
    "TOP_N_DOMAINS = 50"
   ]
  },
  {
   "cell_type": "markdown",
   "id": "debe90f7",
   "metadata": {},
   "source": [
    "# Demonstrating Browsing Differences by Race"
   ]
  },
  {
   "cell_type": "markdown",
   "id": "76f26ef0",
   "metadata": {},
   "source": [
    "A core question left unanswered by our analysis of FLoC's sensitivity is whether racial groups in our dataset exhibit significant browsing behavior differences. If users' browsing history does not vary by racial group, then we should expect any clustering algorithm, including FLoC, to group independently of race. We use a Chi-Squared homogeneity test to test if racial groups' browsing behaviors are independent from race, treating each racial group as a separate population, and the top domains visited in our dataset as the categorical variable of interest. To calculate domain visit frequencies, we construct a set $D_w^m$ consisting of each unique domain visited by a machine $m$ in a given week $w$. "
   ]
  },
  {
   "cell_type": "code",
   "execution_count": 2,
   "id": "53270bd4",
   "metadata": {},
   "outputs": [
    {
     "name": "stdout",
     "output_type": "stream",
     "text": [
      "reading from ../output/weeks_machines_domains.csv...\n",
      "... read 4877236 rows\n"
     ]
    }
   ],
   "source": [
    "# read in the pre-processed sessions data \n",
    "# this maps week,machine_id -> domains set\n",
    "weeks_machines_domains_fpath = '../output/weeks_machines_domains.csv'\n",
    "weeks_machines_domains_df = read_weeks_machines_domains(weeks_machines_domains_fpath)"
   ]
  },
  {
   "cell_type": "code",
   "execution_count": 3,
   "id": "58490e1b",
   "metadata": {
    "scrolled": true
   },
   "outputs": [],
   "source": [
    "comscore_demo_df = (read_comscore_demo_df(fpath=\"../data/comscore/2017/demographics.csv\", year=2017)\n",
    "           .assign(machine_id=lambda x: x.machine_id.astype(int))\n",
    "          )\n",
    "\n",
    "df = (weeks_machines_domains_df.merge(comscore_demo_df, \n",
    "               how='inner', # only include machine_ids with valid data (no nan race)\n",
    "               left_on='machine_id', \n",
    "               right_on='machine_id')\n",
    "      .query(\"n_domains > 0\")\n",
    "     )\n",
    "# convert to list\n",
    "df.domains = [list(d) for d in df.domains]"
   ]
  },
  {
   "cell_type": "markdown",
   "id": "1dbd2a78",
   "metadata": {},
   "source": [
    "To validate the chi-square tests, we also generate a random sample population with an N equal to 1/4 our total population. We uniformly sample across all users in our original cohort and assign a fake, new race identifier - '6.0'. This allows us to compare chi-square significance between this cohort and our real cohorts for a sanity-check."
   ]
  },
  {
   "cell_type": "code",
   "execution_count": 4,
   "id": "39677ae5",
   "metadata": {},
   "outputs": [],
   "source": [
    "# random sample\n",
    "samp_df = (df.sample(n = round(len(df) * 0.25))\n",
    "           .assign(racial_background = 6.0)\n",
    "          )\n",
    "df = pd.concat([df, samp_df])"
   ]
  },
  {
   "cell_type": "markdown",
   "id": "44b0da13",
   "metadata": {},
   "source": [
    "Then, we calculate the frequencies at which each domain appears in the weekly unique domain list for each racial group. This is our categorical distribution, across all races."
   ]
  },
  {
   "cell_type": "code",
   "execution_count": 5,
   "id": "de3b20e2",
   "metadata": {},
   "outputs": [
    {
     "name": "stdout",
     "output_type": "stream",
     "text": [
      "took 0:01:00.812554\n"
     ]
    }
   ],
   "source": [
    "# Calculate frequencies for each race group\n",
    "# takes a couple mins on my mac mini\n",
    "start_time = datetime.now()\n",
    "freqs = []\n",
    "for race in df.racial_background.unique():\n",
    "    df2 = df[df.racial_background == race]\n",
    "    counter = pd.Series(Counter(chain.from_iterable(df2.domains)))\n",
    "    freqs.append(counter)\n",
    "\n",
    "end_time = datetime.now()\n",
    "time = end_time - start_time\n",
    "print('took %s' % (time))"
   ]
  },
  {
   "cell_type": "code",
   "execution_count": 6,
   "id": "28fe664d",
   "metadata": {},
   "outputs": [],
   "source": [
    "races = df.racial_background.unique()\n",
    "dfs = [(pd.DataFrame(distribution)\n",
    "       .assign(race=races[i])) for i, distribution in enumerate(freqs)]\n",
    "\n",
    "race_distributions = (pd.concat(dfs)\n",
    "                      .reset_index()\n",
    "                      .rename({'index': 'domain', 0: 'count'}, axis=1)\n",
    "                     )\n",
    "total_counts = race_distributions.groupby('race')['count'].sum()\n",
    "\n",
    "race_distributions['p'] = race_distributions.apply(lambda x: x['count']/total_counts[x['race']], axis=1)"
   ]
  },
  {
   "cell_type": "code",
   "execution_count": 7,
   "id": "6ee1facd",
   "metadata": {},
   "outputs": [
    {
     "data": {
      "text/html": [
       "<div>\n",
       "<style scoped>\n",
       "    .dataframe tbody tr th:only-of-type {\n",
       "        vertical-align: middle;\n",
       "    }\n",
       "\n",
       "    .dataframe tbody tr th {\n",
       "        vertical-align: top;\n",
       "    }\n",
       "\n",
       "    .dataframe thead th {\n",
       "        text-align: right;\n",
       "    }\n",
       "</style>\n",
       "<table border=\"1\" class=\"dataframe\">\n",
       "  <thead>\n",
       "    <tr style=\"text-align: right;\">\n",
       "      <th></th>\n",
       "      <th>domain</th>\n",
       "      <th>count</th>\n",
       "      <th>race</th>\n",
       "      <th>p</th>\n",
       "    </tr>\n",
       "  </thead>\n",
       "  <tbody>\n",
       "    <tr>\n",
       "      <th>0</th>\n",
       "      <td>mountainwarehouse.com</td>\n",
       "      <td>5</td>\n",
       "      <td>2.0</td>\n",
       "      <td>5.699648e-07</td>\n",
       "    </tr>\n",
       "    <tr>\n",
       "      <th>1</th>\n",
       "      <td>hilltopads.net</td>\n",
       "      <td>1086</td>\n",
       "      <td>2.0</td>\n",
       "      <td>1.237964e-04</td>\n",
       "    </tr>\n",
       "    <tr>\n",
       "      <th>2</th>\n",
       "      <td>propertysolutions.com</td>\n",
       "      <td>22</td>\n",
       "      <td>2.0</td>\n",
       "      <td>2.507845e-06</td>\n",
       "    </tr>\n",
       "    <tr>\n",
       "      <th>3</th>\n",
       "      <td>xhamster.com</td>\n",
       "      <td>10739</td>\n",
       "      <td>2.0</td>\n",
       "      <td>1.224170e-03</td>\n",
       "    </tr>\n",
       "    <tr>\n",
       "      <th>4</th>\n",
       "      <td>adblockplus.org</td>\n",
       "      <td>1515</td>\n",
       "      <td>2.0</td>\n",
       "      <td>1.726993e-04</td>\n",
       "    </tr>\n",
       "  </tbody>\n",
       "</table>\n",
       "</div>"
      ],
      "text/plain": [
       "                  domain  count  race             p\n",
       "0  mountainwarehouse.com      5   2.0  5.699648e-07\n",
       "1         hilltopads.net   1086   2.0  1.237964e-04\n",
       "2  propertysolutions.com     22   2.0  2.507845e-06\n",
       "3           xhamster.com  10739   2.0  1.224170e-03\n",
       "4        adblockplus.org   1515   2.0  1.726993e-04"
      ]
     },
     "execution_count": 7,
     "metadata": {},
     "output_type": "execute_result"
    }
   ],
   "source": [
    "race_distributions.head()"
   ]
  },
  {
   "cell_type": "markdown",
   "id": "2439a6c6",
   "metadata": {},
   "source": [
    "Then, we calculate the overall distribution for all races, excluding our randomly sampled sub-population, to be able to compute the top N domains visited in our dataset:"
   ]
  },
  {
   "cell_type": "code",
   "execution_count": 8,
   "id": "1933476b",
   "metadata": {},
   "outputs": [
    {
     "data": {
      "text/html": [
       "<div>\n",
       "<style scoped>\n",
       "    .dataframe tbody tr th:only-of-type {\n",
       "        vertical-align: middle;\n",
       "    }\n",
       "\n",
       "    .dataframe tbody tr th {\n",
       "        vertical-align: top;\n",
       "    }\n",
       "\n",
       "    .dataframe thead th {\n",
       "        text-align: right;\n",
       "    }\n",
       "</style>\n",
       "<table border=\"1\" class=\"dataframe\">\n",
       "  <thead>\n",
       "    <tr style=\"text-align: right;\">\n",
       "      <th></th>\n",
       "      <th>count</th>\n",
       "      <th>p</th>\n",
       "    </tr>\n",
       "    <tr>\n",
       "      <th>domain</th>\n",
       "      <th></th>\n",
       "      <th></th>\n",
       "    </tr>\n",
       "  </thead>\n",
       "  <tbody>\n",
       "    <tr>\n",
       "      <th>google.com</th>\n",
       "      <td>1411233</td>\n",
       "      <td>0.023044</td>\n",
       "    </tr>\n",
       "    <tr>\n",
       "      <th>yahoo.com</th>\n",
       "      <td>947341</td>\n",
       "      <td>0.015469</td>\n",
       "    </tr>\n",
       "    <tr>\n",
       "      <th>bing.com</th>\n",
       "      <td>940938</td>\n",
       "      <td>0.015365</td>\n",
       "    </tr>\n",
       "    <tr>\n",
       "      <th>msn.com</th>\n",
       "      <td>923215</td>\n",
       "      <td>0.015075</td>\n",
       "    </tr>\n",
       "    <tr>\n",
       "      <th>facebook.com</th>\n",
       "      <td>852397</td>\n",
       "      <td>0.013919</td>\n",
       "    </tr>\n",
       "  </tbody>\n",
       "</table>\n",
       "</div>"
      ],
      "text/plain": [
       "                count         p\n",
       "domain                         \n",
       "google.com    1411233  0.023044\n",
       "yahoo.com      947341  0.015469\n",
       "bing.com       940938  0.015365\n",
       "msn.com        923215  0.015075\n",
       "facebook.com   852397  0.013919"
      ]
     },
     "execution_count": 8,
     "metadata": {},
     "output_type": "execute_result"
    }
   ],
   "source": [
    "all_distribution = (race_distributions\n",
    " .query(\"race != 6.0\")\n",
    " .drop(['race', 'p'], axis=1)\n",
    " .groupby('domain')\n",
    " .aggregate({'count': sum})\n",
    " .assign(p=lambda x: x['count'] / x['count'].sum())\n",
    ")\n",
    "all_distribution.sort_values('p', ascending=False).head()"
   ]
  },
  {
   "cell_type": "code",
   "execution_count": 9,
   "id": "c9774fb4",
   "metadata": {},
   "outputs": [
    {
     "data": {
      "text/html": [
       "<div>\n",
       "<style scoped>\n",
       "    .dataframe tbody tr th:only-of-type {\n",
       "        vertical-align: middle;\n",
       "    }\n",
       "\n",
       "    .dataframe tbody tr th {\n",
       "        vertical-align: top;\n",
       "    }\n",
       "\n",
       "    .dataframe thead th {\n",
       "        text-align: right;\n",
       "    }\n",
       "</style>\n",
       "<table border=\"1\" class=\"dataframe\">\n",
       "  <thead>\n",
       "    <tr style=\"text-align: right;\">\n",
       "      <th></th>\n",
       "      <th>count</th>\n",
       "      <th>p</th>\n",
       "    </tr>\n",
       "    <tr>\n",
       "      <th>domain</th>\n",
       "      <th></th>\n",
       "      <th></th>\n",
       "    </tr>\n",
       "  </thead>\n",
       "  <tbody>\n",
       "    <tr>\n",
       "      <th>google.com</th>\n",
       "      <td>1411233</td>\n",
       "      <td>0.023044</td>\n",
       "    </tr>\n",
       "    <tr>\n",
       "      <th>yahoo.com</th>\n",
       "      <td>947341</td>\n",
       "      <td>0.015469</td>\n",
       "    </tr>\n",
       "    <tr>\n",
       "      <th>bing.com</th>\n",
       "      <td>940938</td>\n",
       "      <td>0.015365</td>\n",
       "    </tr>\n",
       "    <tr>\n",
       "      <th>msn.com</th>\n",
       "      <td>923215</td>\n",
       "      <td>0.015075</td>\n",
       "    </tr>\n",
       "    <tr>\n",
       "      <th>facebook.com</th>\n",
       "      <td>852397</td>\n",
       "      <td>0.013919</td>\n",
       "    </tr>\n",
       "  </tbody>\n",
       "</table>\n",
       "</div>"
      ],
      "text/plain": [
       "                count         p\n",
       "domain                         \n",
       "google.com    1411233  0.023044\n",
       "yahoo.com      947341  0.015469\n",
       "bing.com       940938  0.015365\n",
       "msn.com        923215  0.015075\n",
       "facebook.com   852397  0.013919"
      ]
     },
     "execution_count": 9,
     "metadata": {},
     "output_type": "execute_result"
    }
   ],
   "source": [
    "# top N domains overall\n",
    "top_domains = all_distribution.nlargest(TOP_N_DOMAINS, columns='p')\n",
    "# uncomment if you would like the top domain dist to sum to 1\n",
    "#top_domains['p'] = top_domains['count'] / top_domains['count'].sum()\n",
    "top_domains.head()"
   ]
  },
  {
   "cell_type": "markdown",
   "id": "29913179",
   "metadata": {},
   "source": [
    "Rather than using Chi-Square to test whether all groups are from the same underlying distribution, we construct a series of pairwise Chi-Square tests to test if any two racial groups exhibit similar browsing behavior. We find that each racial group's browsing distributions are significantly different from the overall population, for all values of N."
   ]
  },
  {
   "cell_type": "code",
   "execution_count": 12,
   "id": "05cecc33",
   "metadata": {},
   "outputs": [],
   "source": [
    "from scipy.stats import chi2_contingency\n",
    "\n",
    "def chi_square_data(top_domains):\n",
    "    \"\"\"\n",
    "    TOP_N: N top domains overall to consider\n",
    "    all_dist_df: dataframe of 'all_distribution'\n",
    "    \"\"\"\n",
    "    race_dist_df = race_distributions[race_distributions.domain.isin(top_domains.index)]\n",
    "\n",
    "    race_X = (race_dist_df\n",
    "     [['domain', 'race', 'count']]\n",
    "     .pivot(index='domain', columns='race')\n",
    "              # calc frequencies\n",
    "    )\n",
    "    return race_X\n",
    "\n",
    "def chi_square_overall(N, all_dist_df):\n",
    "    top_domains = all_dist_df.nlargest(N, columns='p')\n",
    "    race_X = chi_square_data(top_domains)\n",
    "    df = race_X['count']\n",
    "    results = []\n",
    "    for col in df.columns:\n",
    "        df = race_X['count']\n",
    "        X = pd.concat([df[col], top_domains['count']], axis=1).values\n",
    "        results.append(chi2_contingency(X))\n",
    "    return results\n",
    "\n",
    "def chi_square_pairwise(N, all_dist_df):\n",
    "    top_domains = all_dist_df.nlargest(N, columns='p')\n",
    "    race_X = chi_square_data(top_domains)\n",
    "    pairs = combinations([c[1] for c in race_X.columns], r=2)\n",
    "\n",
    "    df = race_X['count']\n",
    "    results = []\n",
    "    for c1, c2 in pairs:\n",
    "        df = race_X['count']\n",
    "        X = pd.concat([df[c1], df[c2]], axis=1).values\n",
    "        results.append(chi2_contingency(X))\n",
    "    #    chi2, p, dof, ex = chi2_contingency(X)\n",
    "    return results\n"
   ]
  },
  {
   "cell_type": "code",
   "execution_count": 21,
   "id": "e6657108",
   "metadata": {},
   "outputs": [
    {
     "name": "stdout",
     "output_type": "stream",
     "text": [
      "Overall dataframe:\n"
     ]
    },
    {
     "data": {
      "text/html": [
       "<div>\n",
       "<style scoped>\n",
       "    .dataframe tbody tr th:only-of-type {\n",
       "        vertical-align: middle;\n",
       "    }\n",
       "\n",
       "    .dataframe tbody tr th {\n",
       "        vertical-align: top;\n",
       "    }\n",
       "\n",
       "    .dataframe thead th {\n",
       "        text-align: right;\n",
       "    }\n",
       "</style>\n",
       "<table border=\"1\" class=\"dataframe\">\n",
       "  <thead>\n",
       "    <tr style=\"text-align: right;\">\n",
       "      <th>race</th>\n",
       "      <th>1.0</th>\n",
       "      <th>2.0</th>\n",
       "      <th>3.0</th>\n",
       "      <th>5.0</th>\n",
       "      <th>6.0</th>\n",
       "      <th>N</th>\n",
       "    </tr>\n",
       "  </thead>\n",
       "  <tbody>\n",
       "    <tr>\n",
       "      <th>0</th>\n",
       "      <td>0.0</td>\n",
       "      <td>0.0</td>\n",
       "      <td>0.0</td>\n",
       "      <td>0.0</td>\n",
       "      <td>0.922994</td>\n",
       "      <td>10</td>\n",
       "    </tr>\n",
       "    <tr>\n",
       "      <th>1</th>\n",
       "      <td>0.0</td>\n",
       "      <td>0.0</td>\n",
       "      <td>0.0</td>\n",
       "      <td>0.0</td>\n",
       "      <td>0.977386</td>\n",
       "      <td>20</td>\n",
       "    </tr>\n",
       "    <tr>\n",
       "      <th>2</th>\n",
       "      <td>0.0</td>\n",
       "      <td>0.0</td>\n",
       "      <td>0.0</td>\n",
       "      <td>0.0</td>\n",
       "      <td>0.919951</td>\n",
       "      <td>30</td>\n",
       "    </tr>\n",
       "    <tr>\n",
       "      <th>3</th>\n",
       "      <td>0.0</td>\n",
       "      <td>0.0</td>\n",
       "      <td>0.0</td>\n",
       "      <td>0.0</td>\n",
       "      <td>0.934993</td>\n",
       "      <td>40</td>\n",
       "    </tr>\n",
       "    <tr>\n",
       "      <th>4</th>\n",
       "      <td>0.0</td>\n",
       "      <td>0.0</td>\n",
       "      <td>0.0</td>\n",
       "      <td>0.0</td>\n",
       "      <td>0.982576</td>\n",
       "      <td>50</td>\n",
       "    </tr>\n",
       "    <tr>\n",
       "      <th>5</th>\n",
       "      <td>0.0</td>\n",
       "      <td>0.0</td>\n",
       "      <td>0.0</td>\n",
       "      <td>0.0</td>\n",
       "      <td>0.990502</td>\n",
       "      <td>60</td>\n",
       "    </tr>\n",
       "    <tr>\n",
       "      <th>6</th>\n",
       "      <td>0.0</td>\n",
       "      <td>0.0</td>\n",
       "      <td>0.0</td>\n",
       "      <td>0.0</td>\n",
       "      <td>0.997955</td>\n",
       "      <td>70</td>\n",
       "    </tr>\n",
       "    <tr>\n",
       "      <th>7</th>\n",
       "      <td>0.0</td>\n",
       "      <td>0.0</td>\n",
       "      <td>0.0</td>\n",
       "      <td>0.0</td>\n",
       "      <td>0.998763</td>\n",
       "      <td>80</td>\n",
       "    </tr>\n",
       "    <tr>\n",
       "      <th>8</th>\n",
       "      <td>0.0</td>\n",
       "      <td>0.0</td>\n",
       "      <td>0.0</td>\n",
       "      <td>0.0</td>\n",
       "      <td>0.999527</td>\n",
       "      <td>90</td>\n",
       "    </tr>\n",
       "  </tbody>\n",
       "</table>\n",
       "</div>"
      ],
      "text/plain": [
       "race  1.0  2.0  3.0  5.0       6.0   N\n",
       "0     0.0  0.0  0.0  0.0  0.922994  10\n",
       "1     0.0  0.0  0.0  0.0  0.977386  20\n",
       "2     0.0  0.0  0.0  0.0  0.919951  30\n",
       "3     0.0  0.0  0.0  0.0  0.934993  40\n",
       "4     0.0  0.0  0.0  0.0  0.982576  50\n",
       "5     0.0  0.0  0.0  0.0  0.990502  60\n",
       "6     0.0  0.0  0.0  0.0  0.997955  70\n",
       "7     0.0  0.0  0.0  0.0  0.998763  80\n",
       "8     0.0  0.0  0.0  0.0  0.999527  90"
      ]
     },
     "execution_count": 21,
     "metadata": {},
     "output_type": "execute_result"
    }
   ],
   "source": [
    "\n",
    "results = []\n",
    "for N in np.arange(10,100,10):\n",
    "    overall = chi_square_overall(N, all_distribution)\n",
    "    pairwise = chi_square_pairwise(N, all_distribution)\n",
    "    overall_p = [r[1] for r in overall]\n",
    "    pairwise_p = [r[1] for r in pairwise]\n",
    "    results.append((N, overall_p, pairwise_p))\n",
    "\n",
    "print(\"Overall dataframe:\")\n",
    "pvals = [r[1] for r in results]\n",
    "Ns = [r[0] for r in results]\n",
    "chi_df = pd.DataFrame(pvals, columns=race_X['count'].columns)\n",
    "chi_df['N'] = Ns\n",
    "chi_df"
   ]
  },
  {
   "cell_type": "markdown",
   "id": "8af71d1b",
   "metadata": {},
   "source": [
    "---\n",
    "# Plots"
   ]
  },
  {
   "cell_type": "markdown",
   "id": "0df772c8",
   "metadata": {},
   "source": [
    "While the Chi-Square test demonstrates that there *is* a difference in browsing behavior between racial groups, it doesn't show the degree of that difference. To get a sense for differences in behavior, two plots displaying distributions over domain frequencies are below. The first is grouped, which gives a better sense of overall domains, and the second is faceted, which provides a sense of the actual differences in shape:"
   ]
  },
  {
   "cell_type": "code",
   "execution_count": 32,
   "id": "877eacc4",
   "metadata": {},
   "outputs": [],
   "source": [
    "# get top 50 for demonstration\n",
    "top_domains = all_distribution.nlargest(50, columns='p')\n",
    "race_dist_df = race_distributions[race_distributions.domain.isin(top_domains.index)]\n",
    "\n",
    "race_X = (race_dist_df\n",
    " [['domain', 'race', 'count']]\n",
    " .pivot(index='domain', columns='race')\n",
    "          # calc frequencies\n",
    ")"
   ]
  },
  {
   "cell_type": "code",
   "execution_count": 33,
   "id": "1441821b",
   "metadata": {
    "scrolled": true
   },
   "outputs": [],
   "source": [
    "from plotnine import (ggplot, geom_point, aes, stat_smooth, \n",
    "                      facet_wrap, geom_bar, element_text, \n",
    "                      theme, theme_minimal, labs, element_blank, \n",
    "                      element_line)\n",
    "\n",
    "# Organize data\n",
    "race_values = {1:'white', 2:'black', 3:'asian', 5:'other', 6: 'control', 7: 'any'}\n",
    "\n",
    "plot_df = (pd.concat([(top_domains.reset_index()\n",
    "                       .rename({'index': 'domain'}, axis=1)\n",
    "                       .assign(race=7)), \n",
    "                      race_dist_df])\n",
    "           # convert to readable strings, then categorical vars\n",
    "           .assign(race = lambda x: x.race.astype(int).map(race_values))\n",
    "           .assign(race=lambda x: pd.Categorical(x.race, categories=x.race.unique().sort()),\n",
    "                   domain=lambda x: pd.Categorical(x.domain, categories=x.domain.unique()),\n",
    "                   p=lambda x: x.p.astype(float))\n",
    "          )\n",
    "\n",
    "# adds p_any (from aggregate) to DF for plotting convenience\n",
    "p_any_df = (plot_df[plot_df.race == 'any'][['domain', 'p']])\n",
    "p_domains_any = plot_df[plot_df.race == 'any'][['domain', 'p']].set_index('domain').to_dict()['p']\n",
    "plot_df = plot_df.assign(p_any=lambda x: x.domain.map(p_domains_any).astype(float))"
   ]
  },
  {
   "cell_type": "code",
   "execution_count": 34,
   "id": "92a1e76d",
   "metadata": {
    "scrolled": false
   },
   "outputs": [
    {
     "data": {
      "image/png": "[encoded data removed]",
      "text/plain": [
       "<Figure size 2700x900 with 4 Axes>"
      ]
     },
     "metadata": {
      "needs_background": "light"
     },
     "output_type": "display_data"
    },
    {
     "data": {
      "text/plain": [
       "<ggplot: (778165486)>"
      ]
     },
     "execution_count": 34,
     "metadata": {},
     "output_type": "execute_result"
    }
   ],
   "source": [
    "from plotnine import geom_density, geom_col\n",
    "(plot_df\n",
    " # reorder\n",
    " .assign(race=lambda x: x.race.cat.reorder_categories([\n",
    "     \"white\", \n",
    "     \"black\", \n",
    "     \"asian\", \n",
    "     \"other\", \n",
    "     \"control\", \n",
    "     \"any\"]))\n",
    " # remove any and control\n",
    " .query(\"race != 'any' & race != 'control'\")\n",
    " # capitalize for plot titles\n",
    " .assign(race=lambda x: x.race.cat.rename_categories(lambda x: x.capitalize()))\n",
    " .pipe(lambda x:\n",
    "     ggplot(x, aes(x='reorder(domain, -p_any)', y='p')) +\n",
    "#       geom_density() +\n",
    "     geom_col(position='dodge', width=0.9, alpha=1) +\n",
    "     theme_minimal() +\n",
    "     theme(axis_text_x=element_blank(),\n",
    "          panel_grid=element_blank(),\n",
    "          panel_grid_major_y = element_line(linetype='dashdot', size=1, alpha=0.4)) +\n",
    "#          panel_grid_minor_y = element_line(linetype='dashed', size=0.4, alpha=0.4)) +\n",
    "     labs(x=\"Domain\", y=\"Frequency\") +\n",
    "     facet_wrap('~race', nrow=1) +\n",
    "     theme(legend_position='bottom', \n",
    "           dpi=300,\n",
    "           figure_size=(9,3))\n",
    "))"
   ]
  },
  {
   "cell_type": "markdown",
   "id": "1b6a0693",
   "metadata": {},
   "source": [
    "Although the distributions are generally shaped similarly, there are significant differences in overall frequencies to the top few sites overall."
   ]
  },
  {
   "cell_type": "markdown",
   "id": "f758f25f",
   "metadata": {},
   "source": [
    "Aggregating across weeks for each racial group, this gives us a distribution over all domains in our dataset. For example, here are the top 5 domains visited by each racial group in the comscore data:"
   ]
  },
  {
   "cell_type": "markdown",
   "id": "e88156d3",
   "metadata": {},
   "source": [
    "# Table: Browsing distributions, top N"
   ]
  },
  {
   "cell_type": "code",
   "execution_count": 53,
   "id": "ef42232e",
   "metadata": {},
   "outputs": [
    {
     "data": {
      "text/html": [
       "<div>\n",
       "<style scoped>\n",
       "    .dataframe tbody tr th:only-of-type {\n",
       "        vertical-align: middle;\n",
       "    }\n",
       "\n",
       "    .dataframe tbody tr th {\n",
       "        vertical-align: top;\n",
       "    }\n",
       "\n",
       "    .dataframe thead th {\n",
       "        text-align: right;\n",
       "    }\n",
       "</style>\n",
       "<table border=\"1\" class=\"dataframe\">\n",
       "  <thead>\n",
       "    <tr style=\"text-align: right;\">\n",
       "      <th>race</th>\n",
       "      <th>white</th>\n",
       "      <th>black</th>\n",
       "      <th>asian</th>\n",
       "      <th>other</th>\n",
       "      <th>control</th>\n",
       "    </tr>\n",
       "    <tr>\n",
       "      <th>domain</th>\n",
       "      <th></th>\n",
       "      <th></th>\n",
       "      <th></th>\n",
       "      <th></th>\n",
       "      <th></th>\n",
       "    </tr>\n",
       "  </thead>\n",
       "  <tbody>\n",
       "    <tr>\n",
       "      <th>google.com</th>\n",
       "      <td>2.2%</td>\n",
       "      <td>2.4%</td>\n",
       "      <td>2.5%</td>\n",
       "      <td>2.7%</td>\n",
       "      <td>2.3%</td>\n",
       "    </tr>\n",
       "    <tr>\n",
       "      <th>yahoo.com</th>\n",
       "      <td>1.5%</td>\n",
       "      <td>1.8%</td>\n",
       "      <td>1.5%</td>\n",
       "      <td>1.6%</td>\n",
       "      <td>1.5%</td>\n",
       "    </tr>\n",
       "    <tr>\n",
       "      <th>bing.com</th>\n",
       "      <td>1.5%</td>\n",
       "      <td>1.9%</td>\n",
       "      <td>1.1%</td>\n",
       "      <td>1.6%</td>\n",
       "      <td>1.5%</td>\n",
       "    </tr>\n",
       "    <tr>\n",
       "      <th>msn.com</th>\n",
       "      <td>1.5%</td>\n",
       "      <td>1.7%</td>\n",
       "      <td>1.1%</td>\n",
       "      <td>1.6%</td>\n",
       "      <td>1.5%</td>\n",
       "    </tr>\n",
       "    <tr>\n",
       "      <th>facebook.com</th>\n",
       "      <td>1.4%</td>\n",
       "      <td>1.4%</td>\n",
       "      <td>1.2%</td>\n",
       "      <td>1.4%</td>\n",
       "      <td>1.4%</td>\n",
       "    </tr>\n",
       "    <tr>\n",
       "      <th>youtube.com</th>\n",
       "      <td>1.1%</td>\n",
       "      <td>1.5%</td>\n",
       "      <td>1.6%</td>\n",
       "      <td>1.6%</td>\n",
       "      <td>1.2%</td>\n",
       "    </tr>\n",
       "    <tr>\n",
       "      <th>live.com</th>\n",
       "      <td>1.0%</td>\n",
       "      <td>1.3%</td>\n",
       "      <td>0.9%</td>\n",
       "      <td>1.3%</td>\n",
       "      <td>1.1%</td>\n",
       "    </tr>\n",
       "    <tr>\n",
       "      <th>amazon.com</th>\n",
       "      <td>0.9%</td>\n",
       "      <td>0.7%</td>\n",
       "      <td>0.9%</td>\n",
       "      <td>0.8%</td>\n",
       "      <td>0.8%</td>\n",
       "    </tr>\n",
       "    <tr>\n",
       "      <th>ebay.com</th>\n",
       "      <td>0.4%</td>\n",
       "      <td>0.3%</td>\n",
       "      <td>0.3%</td>\n",
       "      <td>0.4%</td>\n",
       "      <td>0.4%</td>\n",
       "    </tr>\n",
       "    <tr>\n",
       "      <th>microsoft.com</th>\n",
       "      <td>0.3%</td>\n",
       "      <td>0.4%</td>\n",
       "      <td>0.3%</td>\n",
       "      <td>0.4%</td>\n",
       "      <td>0.3%</td>\n",
       "    </tr>\n",
       "  </tbody>\n",
       "</table>\n",
       "</div>"
      ],
      "text/plain": [
       "race          white black asian other control\n",
       "domain                                       \n",
       "google.com     2.2%  2.4%  2.5%  2.7%    2.3%\n",
       "yahoo.com      1.5%  1.8%  1.5%  1.6%    1.5%\n",
       "bing.com       1.5%  1.9%  1.1%  1.6%    1.5%\n",
       "msn.com        1.5%  1.7%  1.1%  1.6%    1.5%\n",
       "facebook.com   1.4%  1.4%  1.2%  1.4%    1.4%\n",
       "youtube.com    1.1%  1.5%  1.6%  1.6%    1.2%\n",
       "live.com       1.0%  1.3%  0.9%  1.3%    1.1%\n",
       "amazon.com     0.9%  0.7%  0.9%  0.8%    0.8%\n",
       "ebay.com       0.4%  0.3%  0.3%  0.4%    0.4%\n",
       "microsoft.com  0.3%  0.4%  0.3%  0.4%    0.3%"
      ]
     },
     "execution_count": 53,
     "metadata": {},
     "output_type": "execute_result"
    }
   ],
   "source": [
    "(plot_df\n",
    " .groupby('race')\n",
    " .apply(lambda x: x.nlargest(10, columns='p_any'))\n",
    " [['domain', 'race', 'p']]\n",
    " .pivot(index='domain', columns='race')\n",
    " ['p']\n",
    " .applymap(lambda x: '{0:.1%}'.format(x))\n",
    ")[['white', 'black', 'asian', 'other', 'control']]"
   ]
  }
 ],
 "metadata": {
  "kernelspec": {
   "display_name": "Python 3 (ipykernel)",
   "language": "python",
   "name": "python3"
  },
  "language_info": {
   "codemirror_mode": {
    "name": "ipython",
    "version": 3
   },
   "file_extension": ".py",
   "mimetype": "text/x-python",
   "name": "python",
   "nbconvert_exporter": "python",
   "pygments_lexer": "ipython3",
   "version": "3.9.1"
  }
 },
 "nbformat": 4,
 "nbformat_minor": 5
}
