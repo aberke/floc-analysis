{
 "cells": [
  {
   "cell_type": "markdown",
   "id": "68ab2275",
   "metadata": {},
   "source": [
    "# Unicity analysis\n",
    "\n",
    "Here we do not use the panel data (can then use more data).\n",
    "\n",
    "sketch of what happens here\n",
    "- divide the 52 weeks into sequences of w=5 weeks (excluding last 2 weeks)\n",
    "- w then represents a week of browsing data. We do this to make the data bigger.\n",
    "- Each sequence then contains a set of machines with browsing history in the each of the w weeks in the sequence\n",
    "- For each w weeks, compute k-anonymous cohorts.\n",
    "- Use various k, k=2000, k=1000, k=500 ...what are good k?\n",
    "- Map each user to their sequence of cohort IDs. Then consider k-anonymous cohort sequences\n",
    "- For week 1, sequence [c1]\n",
    "- For week 2, sequence [c1, c2]\n",
    "\n",
    "...\n",
    "And so on\n",
    "- At each week, how many users are in cohort sequences with k=1?\n",
    "- How does this change when we also add some rough proxy of fingerprinting data, like US state?\n",
    "\n",
    "Are there other interesting things to measure?\n",
    "- How does the avg k change?\n"
   ]
  },
  {
   "cell_type": "code",
   "execution_count": 297,
   "id": "17cb5d11",
   "metadata": {},
   "outputs": [],
   "source": [
    "from datetime import datetime\n",
    "import sys\n",
    "sys.path.append('..')\n",
    "import matplotlib.pyplot as plt\n",
    "import numpy as np\n",
    "import pandas as pd\n",
    "import floc\n",
    "\n",
    "from comscore.data import read_weeks_machines_domains\n",
    "import prefixLSH"
   ]
  },
  {
   "cell_type": "markdown",
   "id": "d4036e93",
   "metadata": {},
   "source": [
    "## Preprocessing\n",
    "\n",
    "Set up the data"
   ]
  },
  {
   "cell_type": "markdown",
   "id": "d1e27e1f",
   "metadata": {},
   "source": [
    "### Preprocess demographic data for fingerprinting proxy\n",
    "\n",
    "\n",
    "##### Create mapping from machine ID to U.S. State\n",
    "\n",
    "Want to use U.S. State as a weak proxy for fingerprinting\n",
    "\n",
    "Use demographic data file for machine IDs to create mapping from machine id to U.S. State"
   ]
  },
  {
   "cell_type": "code",
   "execution_count": 298,
   "id": "a804e6be",
   "metadata": {},
   "outputs": [
    {
     "name": "stdout",
     "output_type": "stream",
     "text": [
      "93808 rows\n",
      "dropping rows we cannot find U.S. State data for\n",
      "92884 rows after\n",
      "dropped 924 rows\n"
     ]
    },
    {
     "data": {
      "text/html": [
       "<div>\n",
       "<style scoped>\n",
       "    .dataframe tbody tr th:only-of-type {\n",
       "        vertical-align: middle;\n",
       "    }\n",
       "\n",
       "    .dataframe tbody tr th {\n",
       "        vertical-align: top;\n",
       "    }\n",
       "\n",
       "    .dataframe thead th {\n",
       "        text-align: right;\n",
       "    }\n",
       "</style>\n",
       "<table border=\"1\" class=\"dataframe\">\n",
       "  <thead>\n",
       "    <tr style=\"text-align: right;\">\n",
       "      <th></th>\n",
       "      <th>hoh_most_education</th>\n",
       "      <th>census_region</th>\n",
       "      <th>household_size</th>\n",
       "      <th>hoh_oldest_age</th>\n",
       "      <th>household_income</th>\n",
       "      <th>children</th>\n",
       "      <th>racial_background</th>\n",
       "      <th>connection_speed</th>\n",
       "      <th>country_of_origin</th>\n",
       "      <th>zip_code</th>\n",
       "      <th>state_fips</th>\n",
       "      <th>state</th>\n",
       "    </tr>\n",
       "  </thead>\n",
       "  <tbody>\n",
       "    <tr>\n",
       "      <th>0</th>\n",
       "      <td>NaN</td>\n",
       "      <td>4.0</td>\n",
       "      <td>5.0</td>\n",
       "      <td>8.0</td>\n",
       "      <td>16.0</td>\n",
       "      <td>0.0</td>\n",
       "      <td>1.0</td>\n",
       "      <td>1.0</td>\n",
       "      <td>0.0</td>\n",
       "      <td>98611</td>\n",
       "      <td>53</td>\n",
       "      <td>WA</td>\n",
       "    </tr>\n",
       "    <tr>\n",
       "      <th>1</th>\n",
       "      <td>3.0</td>\n",
       "      <td>4.0</td>\n",
       "      <td>3.0</td>\n",
       "      <td>8.0</td>\n",
       "      <td>14.0</td>\n",
       "      <td>0.0</td>\n",
       "      <td>1.0</td>\n",
       "      <td>1.0</td>\n",
       "      <td>0.0</td>\n",
       "      <td>80910</td>\n",
       "      <td>08</td>\n",
       "      <td>CO</td>\n",
       "    </tr>\n",
       "    <tr>\n",
       "      <th>2</th>\n",
       "      <td>4.0</td>\n",
       "      <td>1.0</td>\n",
       "      <td>3.0</td>\n",
       "      <td>11.0</td>\n",
       "      <td>16.0</td>\n",
       "      <td>1.0</td>\n",
       "      <td>1.0</td>\n",
       "      <td>1.0</td>\n",
       "      <td>0.0</td>\n",
       "      <td>07076</td>\n",
       "      <td>34</td>\n",
       "      <td>NJ</td>\n",
       "    </tr>\n",
       "    <tr>\n",
       "      <th>3</th>\n",
       "      <td>3.0</td>\n",
       "      <td>2.0</td>\n",
       "      <td>1.0</td>\n",
       "      <td>9.0</td>\n",
       "      <td>16.0</td>\n",
       "      <td>0.0</td>\n",
       "      <td>1.0</td>\n",
       "      <td>1.0</td>\n",
       "      <td>0.0</td>\n",
       "      <td>62554</td>\n",
       "      <td>17</td>\n",
       "      <td>IL</td>\n",
       "    </tr>\n",
       "    <tr>\n",
       "      <th>5</th>\n",
       "      <td>1.0</td>\n",
       "      <td>4.0</td>\n",
       "      <td>3.0</td>\n",
       "      <td>7.0</td>\n",
       "      <td>12.0</td>\n",
       "      <td>0.0</td>\n",
       "      <td>1.0</td>\n",
       "      <td>1.0</td>\n",
       "      <td>1.0</td>\n",
       "      <td>93436</td>\n",
       "      <td>06</td>\n",
       "      <td>CA</td>\n",
       "    </tr>\n",
       "  </tbody>\n",
       "</table>\n",
       "</div>"
      ],
      "text/plain": [
       "   hoh_most_education  census_region  household_size  hoh_oldest_age  \\\n",
       "0                 NaN            4.0             5.0             8.0   \n",
       "1                 3.0            4.0             3.0             8.0   \n",
       "2                 4.0            1.0             3.0            11.0   \n",
       "3                 3.0            2.0             1.0             9.0   \n",
       "5                 1.0            4.0             3.0             7.0   \n",
       "\n",
       "   household_income  children  racial_background  connection_speed  \\\n",
       "0              16.0       0.0                1.0               1.0   \n",
       "1              14.0       0.0                1.0               1.0   \n",
       "2              16.0       1.0                1.0               1.0   \n",
       "3              16.0       0.0                1.0               1.0   \n",
       "5              12.0       0.0                1.0               1.0   \n",
       "\n",
       "   country_of_origin zip_code state_fips state  \n",
       "0                0.0    98611         53    WA  \n",
       "1                0.0    80910         08    CO  \n",
       "2                0.0    07076         34    NJ  \n",
       "3                0.0    62554         17    IL  \n",
       "5                1.0    93436         06    CA  "
      ]
     },
     "execution_count": 298,
     "metadata": {},
     "output_type": "execute_result"
    }
   ],
   "source": [
    "from pyzipcode import ZipCodeDatabase\n",
    "import us\n",
    "\n",
    "\n",
    "YEAR = 2017\n",
    "demographics_fpath = '../data/comscore/{year}/demographics.csv'.format(year=YEAR)\n",
    "\n",
    "def get_state_fips(zipcode, err=False):\n",
    "    \"\"\"returns a state FIPS for the state with given zipcide.\n",
    "    \n",
    "    if it can't find the zip code, return np.nan if err=False.\n",
    "    \n",
    "    parameters\n",
    "    ----------\n",
    "    err: boolean. True if function should raise a ValueError if it can't find a zip code. False by default.\n",
    "    \"\"\"\n",
    "    zcdb = ZipCodeDatabase()\n",
    "    if zipcode not in zcdb:\n",
    "        if err:\n",
    "            raise ValueError(\"Zip code not found\")\n",
    "        else:\n",
    "            return np.nan\n",
    "    zipcode = zcdb[zipcode]\n",
    "    state = us.states.lookup(zipcode.state)\n",
    "    return state.fips\n",
    "\n",
    "\n",
    "demo_df = (pd.read_csv(demographics_fpath, dtype={'zip_code': str})\n",
    "           .replace({99:np.nan}))\n",
    "rows = len(demo_df)\n",
    "print('%s rows' % rows)\n",
    "print('dropping rows we cannot find U.S. State data for')\n",
    "demo_df = (demo_df\n",
    "           .dropna(subset=['zip_code'])\n",
    "           # make sure zips are zip5\n",
    "           .assign(zip_code=lambda x: x.zip_code.apply(lambda z: '0' + z if len(z) < 5 else z))\n",
    "           # get state fips code for each zip\n",
    "           .assign(state_fips=lambda x: x.zip_code.apply(lambda z: get_state_fips(z)))\n",
    "           .dropna(subset=['state_fips'])\n",
    "           .assign(state=lambda x: x.state_fips.apply(lambda s: us.states.lookup(s).abbr))\n",
    "          )\n",
    "print('%s rows after' % len(demo_df))\n",
    "print('dropped %s rows' % (rows - len(demo_df)))\n",
    "demo_df.drop('machine_id', axis=1).head()"
   ]
  },
  {
   "cell_type": "markdown",
   "id": "31eb519b",
   "metadata": {},
   "source": [
    "Extract mapping of machine ID to U.S. State "
   ]
  },
  {
   "cell_type": "code",
   "execution_count": 299,
   "id": "0f8135c2",
   "metadata": {},
   "outputs": [
    {
     "data": {
      "text/html": [
       "<div>\n",
       "<style scoped>\n",
       "    .dataframe tbody tr th:only-of-type {\n",
       "        vertical-align: middle;\n",
       "    }\n",
       "\n",
       "    .dataframe tbody tr th {\n",
       "        vertical-align: top;\n",
       "    }\n",
       "\n",
       "    .dataframe thead th {\n",
       "        text-align: right;\n",
       "    }\n",
       "</style>\n",
       "<table border=\"1\" class=\"dataframe\">\n",
       "  <thead>\n",
       "    <tr style=\"text-align: right;\">\n",
       "      <th></th>\n",
       "      <th>state_fips</th>\n",
       "      <th>state</th>\n",
       "    </tr>\n",
       "    <tr>\n",
       "      <th>machine_id</th>\n",
       "      <th></th>\n",
       "      <th></th>\n",
       "    </tr>\n",
       "  </thead>\n",
       "  <tbody>\n",
       "    <tr>\n",
       "      <th>46569906.0</th>\n",
       "      <td>53</td>\n",
       "      <td>WA</td>\n",
       "    </tr>\n",
       "    <tr>\n",
       "      <th>70298839.0</th>\n",
       "      <td>08</td>\n",
       "      <td>CO</td>\n",
       "    </tr>\n",
       "    <tr>\n",
       "      <th>76984170.0</th>\n",
       "      <td>34</td>\n",
       "      <td>NJ</td>\n",
       "    </tr>\n",
       "    <tr>\n",
       "      <th>76991725.0</th>\n",
       "      <td>17</td>\n",
       "      <td>IL</td>\n",
       "    </tr>\n",
       "    <tr>\n",
       "      <th>81191519.0</th>\n",
       "      <td>06</td>\n",
       "      <td>CA</td>\n",
       "    </tr>\n",
       "  </tbody>\n",
       "</table>\n",
       "</div>"
      ],
      "text/plain": [
       "           state_fips state\n",
       "machine_id                 \n",
       "46569906.0         53    WA\n",
       "70298839.0         08    CO\n",
       "76984170.0         34    NJ\n",
       "76991725.0         17    IL\n",
       "81191519.0         06    CA"
      ]
     },
     "execution_count": 299,
     "metadata": {},
     "output_type": "execute_result"
    }
   ],
   "source": [
    "machine_state_df = demo_df.set_index('machine_id')[['state_fips', 'state']]\n",
    "machine_state_df.head()"
   ]
  },
  {
   "cell_type": "markdown",
   "id": "3ea55e6d",
   "metadata": {},
   "source": [
    "## Preprocess browsing history data"
   ]
  },
  {
   "cell_type": "code",
   "execution_count": 2,
   "id": "fa213af6",
   "metadata": {},
   "outputs": [
    {
     "name": "stdout",
     "output_type": "stream",
     "text": [
      "reading from ../output/weeks_machines_domains.csv...\n",
      "... read 4877236 rows\n"
     ]
    }
   ],
   "source": [
    "weeks_machines_domains_fpath = '../output/weeks_machines_domains.csv'\n",
    "\n",
    "weeks_machines_domains_df = read_weeks_machines_domains(weeks_machines_domains_fpath)"
   ]
  },
  {
   "cell_type": "markdown",
   "id": "52766148",
   "metadata": {},
   "source": [
    "#### Preprocessing: Apply simhash to each machine week\n",
    "\n",
    "simhash can only be applied when there are at least 7 unique domains for the week\n",
    "\n",
    "otherwise the cohort ID is null\n",
    "\n",
    "Compute simhash for machine weeks with >= 7 domains or otherwise assign null value"
   ]
  },
  {
   "cell_type": "code",
   "execution_count": 5,
   "id": "77988f95",
   "metadata": {},
   "outputs": [],
   "source": [
    "def assign_simhash(row):\n",
    "    \"\"\"Returns simhash value when valid otherwise NaN.\"\"\"\n",
    "    if row.n_domains < 7:\n",
    "        return np.nan\n",
    "    return floc.hashes.sim_hash_string(row.domains)"
   ]
  },
  {
   "cell_type": "code",
   "execution_count": 6,
   "id": "e49c895d",
   "metadata": {},
   "outputs": [],
   "source": [
    "weeks_machines_domains_df['simhash'] = weeks_machines_domains_df.apply(assign_simhash, axis=1)"
   ]
  },
  {
   "cell_type": "code",
   "execution_count": 7,
   "id": "c2467b4e",
   "metadata": {},
   "outputs": [
    {
     "data": {
      "text/html": [
       "<div>\n",
       "<style scoped>\n",
       "    .dataframe tbody tr th:only-of-type {\n",
       "        vertical-align: middle;\n",
       "    }\n",
       "\n",
       "    .dataframe tbody tr th {\n",
       "        vertical-align: top;\n",
       "    }\n",
       "\n",
       "    .dataframe thead th {\n",
       "        text-align: right;\n",
       "    }\n",
       "</style>\n",
       "<table border=\"1\" class=\"dataframe\">\n",
       "  <thead>\n",
       "    <tr style=\"text-align: right;\">\n",
       "      <th></th>\n",
       "      <th>machine_id</th>\n",
       "      <th>week</th>\n",
       "      <th>n_domains</th>\n",
       "      <th>domains</th>\n",
       "      <th>simhash</th>\n",
       "    </tr>\n",
       "  </thead>\n",
       "  <tbody>\n",
       "    <tr>\n",
       "      <th>0</th>\n",
       "      <td>169007206</td>\n",
       "      <td>1</td>\n",
       "      <td>104</td>\n",
       "      <td>{2dopeboyz.com, offers.com, wordpress.com, ora...</td>\n",
       "      <td>1.585204e+14</td>\n",
       "    </tr>\n",
       "    <tr>\n",
       "      <th>1</th>\n",
       "      <td>170331223</td>\n",
       "      <td>1</td>\n",
       "      <td>0</td>\n",
       "      <td>{}</td>\n",
       "      <td>NaN</td>\n",
       "    </tr>\n",
       "    <tr>\n",
       "      <th>2</th>\n",
       "      <td>170422065</td>\n",
       "      <td>1</td>\n",
       "      <td>20</td>\n",
       "      <td>{shein.com, refinery29.com, messenger.com, num...</td>\n",
       "      <td>5.322881e+14</td>\n",
       "    </tr>\n",
       "    <tr>\n",
       "      <th>3</th>\n",
       "      <td>170911221</td>\n",
       "      <td>1</td>\n",
       "      <td>49</td>\n",
       "      <td>{8haodangpu.cc, vjav.com, 51luoben.com, bilibi...</td>\n",
       "      <td>7.213568e+14</td>\n",
       "    </tr>\n",
       "    <tr>\n",
       "      <th>4</th>\n",
       "      <td>171771316</td>\n",
       "      <td>1</td>\n",
       "      <td>64</td>\n",
       "      <td>{youtube.com, thingames.com, hudsonsfurniture....</td>\n",
       "      <td>6.710488e+14</td>\n",
       "    </tr>\n",
       "  </tbody>\n",
       "</table>\n",
       "</div>"
      ],
      "text/plain": [
       "   machine_id  week  n_domains  \\\n",
       "0   169007206     1        104   \n",
       "1   170331223     1          0   \n",
       "2   170422065     1         20   \n",
       "3   170911221     1         49   \n",
       "4   171771316     1         64   \n",
       "\n",
       "                                             domains       simhash  \n",
       "0  {2dopeboyz.com, offers.com, wordpress.com, ora...  1.585204e+14  \n",
       "1                                                 {}           NaN  \n",
       "2  {shein.com, refinery29.com, messenger.com, num...  5.322881e+14  \n",
       "3  {8haodangpu.cc, vjav.com, 51luoben.com, bilibi...  7.213568e+14  \n",
       "4  {youtube.com, thingames.com, hudsonsfurniture....  6.710488e+14  "
      ]
     },
     "execution_count": 7,
     "metadata": {},
     "output_type": "execute_result"
    }
   ],
   "source": [
    "weeks_machines_domains_df.head()"
   ]
  },
  {
   "cell_type": "markdown",
   "id": "1c99f173",
   "metadata": {},
   "source": [
    "Save to file"
   ]
  },
  {
   "cell_type": "code",
   "execution_count": 8,
   "id": "a3387edf",
   "metadata": {},
   "outputs": [],
   "source": [
    "wmd_simhash_fpath = '../output/wmd_simhash.csv'"
   ]
  },
  {
   "cell_type": "code",
   "execution_count": 9,
   "id": "eb089772",
   "metadata": {},
   "outputs": [
    {
     "name": "stdout",
     "output_type": "stream",
     "text": [
      "saving precomputed weeks machines simhash data to ../output/wmd_simhash.csv...\n"
     ]
    }
   ],
   "source": [
    "print('saving precomputed weeks machines simhash data to %s...' % wmd_simhash_fpath)\n",
    "weeks_machines_domains_df.to_csv(wmd_simhash_fpath, index=False)"
   ]
  },
  {
   "cell_type": "markdown",
   "id": "43fd2baa",
   "metadata": {},
   "source": [
    "script re-entry point"
   ]
  },
  {
   "cell_type": "code",
   "execution_count": 300,
   "id": "261f1655",
   "metadata": {},
   "outputs": [
    {
     "name": "stdout",
     "output_type": "stream",
     "text": [
      "read in 4877236 total rows\n"
     ]
    },
    {
     "data": {
      "text/html": [
       "<div>\n",
       "<style scoped>\n",
       "    .dataframe tbody tr th:only-of-type {\n",
       "        vertical-align: middle;\n",
       "    }\n",
       "\n",
       "    .dataframe tbody tr th {\n",
       "        vertical-align: top;\n",
       "    }\n",
       "\n",
       "    .dataframe thead th {\n",
       "        text-align: right;\n",
       "    }\n",
       "</style>\n",
       "<table border=\"1\" class=\"dataframe\">\n",
       "  <thead>\n",
       "    <tr style=\"text-align: right;\">\n",
       "      <th></th>\n",
       "      <th>machine_id</th>\n",
       "      <th>week</th>\n",
       "      <th>n_domains</th>\n",
       "      <th>simhash</th>\n",
       "    </tr>\n",
       "  </thead>\n",
       "  <tbody>\n",
       "    <tr>\n",
       "      <th>0</th>\n",
       "      <td>169007206</td>\n",
       "      <td>1</td>\n",
       "      <td>104</td>\n",
       "      <td>1.585204e+14</td>\n",
       "    </tr>\n",
       "    <tr>\n",
       "      <th>1</th>\n",
       "      <td>170331223</td>\n",
       "      <td>1</td>\n",
       "      <td>0</td>\n",
       "      <td>NaN</td>\n",
       "    </tr>\n",
       "    <tr>\n",
       "      <th>2</th>\n",
       "      <td>170422065</td>\n",
       "      <td>1</td>\n",
       "      <td>20</td>\n",
       "      <td>5.322881e+14</td>\n",
       "    </tr>\n",
       "    <tr>\n",
       "      <th>3</th>\n",
       "      <td>170911221</td>\n",
       "      <td>1</td>\n",
       "      <td>49</td>\n",
       "      <td>7.213568e+14</td>\n",
       "    </tr>\n",
       "    <tr>\n",
       "      <th>4</th>\n",
       "      <td>171771316</td>\n",
       "      <td>1</td>\n",
       "      <td>64</td>\n",
       "      <td>6.710488e+14</td>\n",
       "    </tr>\n",
       "  </tbody>\n",
       "</table>\n",
       "</div>"
      ],
      "text/plain": [
       "   machine_id  week  n_domains       simhash\n",
       "0   169007206     1        104  1.585204e+14\n",
       "1   170331223     1          0           NaN\n",
       "2   170422065     1         20  5.322881e+14\n",
       "3   170911221     1         49  7.213568e+14\n",
       "4   171771316     1         64  6.710488e+14"
      ]
     },
     "execution_count": 300,
     "metadata": {},
     "output_type": "execute_result"
    }
   ],
   "source": [
    "weeks_machines_domains_df = pd.read_csv(wmd_simhash_fpath)\n",
    "print('read in %s total rows' % len(weeks_machines_domains_df))\n",
    "weeks_machines_domains_df.drop('domains', axis=1).head()"
   ]
  },
  {
   "cell_type": "markdown",
   "id": "89ff6d09",
   "metadata": {},
   "source": [
    "How many machine weeks with non-null vs null simhash?"
   ]
  },
  {
   "cell_type": "code",
   "execution_count": 301,
   "id": "2208e0e0",
   "metadata": {},
   "outputs": [
    {
     "name": "stdout",
     "output_type": "stream",
     "text": [
      "domains per week distribution across machines\n",
      "count        975.0\n",
      "mean        5002.0\n",
      "std        60482.0\n",
      "min            1.0\n",
      "25%            1.0\n",
      "50%            2.0\n",
      "75%           40.0\n",
      "max      1819210.0\n",
      "Name: n_domains, dtype: float64\n"
     ]
    },
    {
     "data": {
      "image/png": "[encoded data removed]",
      "text/plain": [
       "<Figure size 432x216 with 1 Axes>"
      ]
     },
     "metadata": {
      "needs_background": "light"
     },
     "output_type": "display_data"
    },
    {
     "name": "stdout",
     "output_type": "stream",
     "text": [
      "0.43 = 2073405/4877236 machine weeks have >= 7 domains\n"
     ]
    }
   ],
   "source": [
    "print('domains per week distribution across machines')\n",
    "n_domains_value_counts = weeks_machines_domains_df.n_domains.value_counts().sort_index()\n",
    "print(n_domains_value_counts.describe().round())\n",
    "\n",
    "fig,ax = plt.subplots(1,1,figsize=(6,3))\n",
    "ax.hist(weeks_machines_domains_df.n_domains, log=True)\n",
    "ax.set_title('domains per week')\n",
    "ax.set_xlabel('domains per week')\n",
    "ax.set_ylabel('machines (log scale)')\n",
    "plt.show()\n",
    "\n",
    "n_domains7 = len(weeks_machines_domains_df[weeks_machines_domains_df.n_domains >= 7])\n",
    "print('%0.2f = %s/%s machine weeks have >= 7 domains' % (\n",
    "    n_domains7/len(weeks_machines_domains_df), \n",
    "    n_domains7, len(weeks_machines_domains_df))\n",
    ")"
   ]
  },
  {
   "cell_type": "markdown",
   "id": "8f3fe0e1",
   "metadata": {},
   "source": [
    "Note all machine IDs occur in all 52 weeks of data."
   ]
  },
  {
   "cell_type": "code",
   "execution_count": 302,
   "id": "137b3a56",
   "metadata": {},
   "outputs": [
    {
     "name": "stdout",
     "output_type": "stream",
     "text": [
      "\n",
      "value counts for weeks per machine:\n",
      "52    93793\n",
      "Name: week, dtype: int64\n"
     ]
    }
   ],
   "source": [
    "machine_week_count = weeks_machines_domains_df.groupby('machine_id')['week'].count()\n",
    "print('\\nvalue counts for weeks per machine:')\n",
    "print(machine_week_count.value_counts())"
   ]
  },
  {
   "cell_type": "markdown",
   "id": "4971ae27",
   "metadata": {},
   "source": [
    "Limit data to machine, weeks with sufficient data for cohort generation: >= 7 domains"
   ]
  },
  {
   "cell_type": "code",
   "execution_count": 303,
   "id": "c8680300",
   "metadata": {},
   "outputs": [
    {
     "name": "stdout",
     "output_type": "stream",
     "text": [
      "dropping machine weeks with < 7 domains\n",
      "dropped 2803831 = 4877236 - 2073405 data rows\n"
     ]
    }
   ],
   "source": [
    "n_domains_threshold = 7\n",
    "print('dropping machine weeks with < %s domains' % n_domains_threshold)\n",
    "s_before = len(weeks_machines_domains_df)\n",
    "wmd7_df = weeks_machines_domains_df[weeks_machines_domains_df.n_domains >= n_domains_threshold]\n",
    "s_after = len(wmd7_df)\n",
    "print('dropped %s = %s - %s data rows' % ((s_before - s_after), s_before, s_after))"
   ]
  },
  {
   "cell_type": "code",
   "execution_count": 304,
   "id": "16dcd6d6",
   "metadata": {},
   "outputs": [
    {
     "data": {
      "text/html": [
       "<div>\n",
       "<style scoped>\n",
       "    .dataframe tbody tr th:only-of-type {\n",
       "        vertical-align: middle;\n",
       "    }\n",
       "\n",
       "    .dataframe tbody tr th {\n",
       "        vertical-align: top;\n",
       "    }\n",
       "\n",
       "    .dataframe thead th {\n",
       "        text-align: right;\n",
       "    }\n",
       "</style>\n",
       "<table border=\"1\" class=\"dataframe\">\n",
       "  <thead>\n",
       "    <tr style=\"text-align: right;\">\n",
       "      <th></th>\n",
       "      <th>week</th>\n",
       "      <th>n_domains</th>\n",
       "      <th>domains</th>\n",
       "      <th>simhash</th>\n",
       "    </tr>\n",
       "  </thead>\n",
       "  <tbody>\n",
       "    <tr>\n",
       "      <th>0</th>\n",
       "      <td>1</td>\n",
       "      <td>104</td>\n",
       "      <td>{'2dopeboyz.com', 'offers.com', 'wordpress.com...</td>\n",
       "      <td>1.585204e+14</td>\n",
       "    </tr>\n",
       "    <tr>\n",
       "      <th>2</th>\n",
       "      <td>1</td>\n",
       "      <td>20</td>\n",
       "      <td>{'shein.com', 'refinery29.com', 'messenger.com...</td>\n",
       "      <td>5.322881e+14</td>\n",
       "    </tr>\n",
       "    <tr>\n",
       "      <th>3</th>\n",
       "      <td>1</td>\n",
       "      <td>49</td>\n",
       "      <td>{'8haodangpu.cc', 'vjav.com', '51luoben.com', ...</td>\n",
       "      <td>7.213568e+14</td>\n",
       "    </tr>\n",
       "    <tr>\n",
       "      <th>4</th>\n",
       "      <td>1</td>\n",
       "      <td>64</td>\n",
       "      <td>{'youtube.com', 'thingames.com', 'hudsonsfurni...</td>\n",
       "      <td>6.710488e+14</td>\n",
       "    </tr>\n",
       "    <tr>\n",
       "      <th>5</th>\n",
       "      <td>1</td>\n",
       "      <td>74</td>\n",
       "      <td>{'cricclubs.com', 'geico.com', 'vanguard.com',...</td>\n",
       "      <td>9.066352e+14</td>\n",
       "    </tr>\n",
       "  </tbody>\n",
       "</table>\n",
       "</div>"
      ],
      "text/plain": [
       "   week  n_domains                                            domains  \\\n",
       "0     1        104  {'2dopeboyz.com', 'offers.com', 'wordpress.com...   \n",
       "2     1         20  {'shein.com', 'refinery29.com', 'messenger.com...   \n",
       "3     1         49  {'8haodangpu.cc', 'vjav.com', '51luoben.com', ...   \n",
       "4     1         64  {'youtube.com', 'thingames.com', 'hudsonsfurni...   \n",
       "5     1         74  {'cricclubs.com', 'geico.com', 'vanguard.com',...   \n",
       "\n",
       "        simhash  \n",
       "0  1.585204e+14  \n",
       "2  5.322881e+14  \n",
       "3  7.213568e+14  \n",
       "4  6.710488e+14  \n",
       "5  9.066352e+14  "
      ]
     },
     "execution_count": 304,
     "metadata": {},
     "output_type": "execute_result"
    }
   ],
   "source": [
    "wmd7_df.drop('machine_id', axis=1).head()"
   ]
  },
  {
   "cell_type": "markdown",
   "id": "02833040",
   "metadata": {},
   "source": [
    "## Preprocessing: Fold / expand data into 5-week sequences\n",
    "\n",
    "We have browsing data representing 52 weeks for our observed machines. Fold this to represent 5 weeks of browsing for *morem achines* by counting machine browsing weeks as new independent samples every 5 weeks.\n",
    "\n",
    "\n",
    "Divide the 52 weeks into 5 week sequences, noted by column s, and where each week within a sequence is noted by w.\n",
    "\n",
    "(0-indexed)\n",
    "\n",
    "\n",
    "`s = (week - 1) // 5`\n",
    "\n",
    "i.e. weeks {1,2,3,4,5} in s=0, weeks {6,7,8,9,10} in s=1, ...\n",
    "\n",
    "each week in a sequence is represented by `w`\n",
    "\n",
    "where `w = (week - 1) % 5`\n",
    "\n",
    "i.e. week 1: w=0, week 2: w=1, ..., week 5: w=4, week 6: w=1, week 7: w=2, ...\n",
    "\n",
    "Then have rows that represent weeks of machine data, where a single machine will have data for multiple w weeks.\n",
    "\n",
    "We create another column that names machines prefixed by their sequence.\n",
    "\n",
    "`s_machine_id` which literally concatenates `s` + `_` + `machine_id`\n",
    "\n",
    "\n",
    "Drop last 2 weeks of data (weeks 51, 52) since they are remainder weeks."
   ]
  },
  {
   "cell_type": "code",
   "execution_count": 305,
   "id": "6c983e7f",
   "metadata": {},
   "outputs": [
    {
     "name": "stdout",
     "output_type": "stream",
     "text": [
      "2073405 rows of data for 52 weeks\n",
      "dropping data for weeks 51, 52\n",
      "2001191 rows of data for 50 weeks\n"
     ]
    }
   ],
   "source": [
    "# create new df for folded 5 week sequences data\n",
    "# drop last 2 weeks of data\n",
    "print('%s rows of data for %s weeks' % (len(wmd7_df), wmd7_df.week.nunique()))\n",
    "print('dropping data for weeks 51, 52')\n",
    "wmd_5s_df = wmd7_df[wmd7_df.week <= 50].copy()\n",
    "print('%s rows of data for %s weeks' % (len(wmd_5s_df), wmd_5s_df.week.nunique()))"
   ]
  },
  {
   "cell_type": "code",
   "execution_count": 306,
   "id": "da90d02d",
   "metadata": {},
   "outputs": [],
   "source": [
    "wmd_5s_df['s'] = wmd_5s_df.week.apply(lambda w: (w - 1) // 5)\n",
    "wmd_5s_df['w'] = wmd_5s_df.week.apply(lambda w: (w - 1) % 5)\n",
    "wmd_5s_df['s_machine_id'] = wmd_5s_df[['machine_id','s']].astype(str).apply(lambda x: ('%s_%s'%(x.s, x.machine_id)), axis=1)"
   ]
  },
  {
   "cell_type": "code",
   "execution_count": 307,
   "id": "18dfd2e9",
   "metadata": {},
   "outputs": [
    {
     "data": {
      "text/html": [
       "<div>\n",
       "<style scoped>\n",
       "    .dataframe tbody tr th:only-of-type {\n",
       "        vertical-align: middle;\n",
       "    }\n",
       "\n",
       "    .dataframe tbody tr th {\n",
       "        vertical-align: top;\n",
       "    }\n",
       "\n",
       "    .dataframe thead th {\n",
       "        text-align: right;\n",
       "    }\n",
       "</style>\n",
       "<table border=\"1\" class=\"dataframe\">\n",
       "  <thead>\n",
       "    <tr style=\"text-align: right;\">\n",
       "      <th></th>\n",
       "      <th>machine_id</th>\n",
       "      <th>week</th>\n",
       "      <th>n_domains</th>\n",
       "      <th>domains</th>\n",
       "      <th>simhash</th>\n",
       "      <th>s</th>\n",
       "      <th>w</th>\n",
       "      <th>s_machine_id</th>\n",
       "    </tr>\n",
       "  </thead>\n",
       "  <tbody>\n",
       "    <tr>\n",
       "      <th>0</th>\n",
       "      <td>169007206</td>\n",
       "      <td>1</td>\n",
       "      <td>104</td>\n",
       "      <td>{'2dopeboyz.com', 'offers.com', 'wordpress.com...</td>\n",
       "      <td>1.585204e+14</td>\n",
       "      <td>0</td>\n",
       "      <td>0</td>\n",
       "      <td>0_169007206</td>\n",
       "    </tr>\n",
       "    <tr>\n",
       "      <th>2</th>\n",
       "      <td>170422065</td>\n",
       "      <td>1</td>\n",
       "      <td>20</td>\n",
       "      <td>{'shein.com', 'refinery29.com', 'messenger.com...</td>\n",
       "      <td>5.322881e+14</td>\n",
       "      <td>0</td>\n",
       "      <td>0</td>\n",
       "      <td>0_170422065</td>\n",
       "    </tr>\n",
       "    <tr>\n",
       "      <th>3</th>\n",
       "      <td>170911221</td>\n",
       "      <td>1</td>\n",
       "      <td>49</td>\n",
       "      <td>{'8haodangpu.cc', 'vjav.com', '51luoben.com', ...</td>\n",
       "      <td>7.213568e+14</td>\n",
       "      <td>0</td>\n",
       "      <td>0</td>\n",
       "      <td>0_170911221</td>\n",
       "    </tr>\n",
       "    <tr>\n",
       "      <th>4</th>\n",
       "      <td>171771316</td>\n",
       "      <td>1</td>\n",
       "      <td>64</td>\n",
       "      <td>{'youtube.com', 'thingames.com', 'hudsonsfurni...</td>\n",
       "      <td>6.710488e+14</td>\n",
       "      <td>0</td>\n",
       "      <td>0</td>\n",
       "      <td>0_171771316</td>\n",
       "    </tr>\n",
       "    <tr>\n",
       "      <th>5</th>\n",
       "      <td>176278357</td>\n",
       "      <td>1</td>\n",
       "      <td>74</td>\n",
       "      <td>{'cricclubs.com', 'geico.com', 'vanguard.com',...</td>\n",
       "      <td>9.066352e+14</td>\n",
       "      <td>0</td>\n",
       "      <td>0</td>\n",
       "      <td>0_176278357</td>\n",
       "    </tr>\n",
       "    <tr>\n",
       "      <th>...</th>\n",
       "      <td>...</td>\n",
       "      <td>...</td>\n",
       "      <td>...</td>\n",
       "      <td>...</td>\n",
       "      <td>...</td>\n",
       "      <td>...</td>\n",
       "      <td>...</td>\n",
       "      <td>...</td>\n",
       "    </tr>\n",
       "    <tr>\n",
       "      <th>4688726</th>\n",
       "      <td>218777517</td>\n",
       "      <td>50</td>\n",
       "      <td>9</td>\n",
       "      <td>{'livejasmin.com', 'edmunds.com', 'surveys-xvi...</td>\n",
       "      <td>9.764213e+14</td>\n",
       "      <td>9</td>\n",
       "      <td>4</td>\n",
       "      <td>9_218777517</td>\n",
       "    </tr>\n",
       "    <tr>\n",
       "      <th>4688751</th>\n",
       "      <td>184175562</td>\n",
       "      <td>50</td>\n",
       "      <td>8</td>\n",
       "      <td>{'driversupport.com', 'microsoft.com', 'cassio...</td>\n",
       "      <td>8.962970e+14</td>\n",
       "      <td>9</td>\n",
       "      <td>4</td>\n",
       "      <td>9_184175562</td>\n",
       "    </tr>\n",
       "    <tr>\n",
       "      <th>4688886</th>\n",
       "      <td>204379062</td>\n",
       "      <td>50</td>\n",
       "      <td>7</td>\n",
       "      <td>{'giftcardmall.com', 'cigarsinternational.com'...</td>\n",
       "      <td>4.523934e+13</td>\n",
       "      <td>9</td>\n",
       "      <td>4</td>\n",
       "      <td>9_204379062</td>\n",
       "    </tr>\n",
       "    <tr>\n",
       "      <th>4688934</th>\n",
       "      <td>216873446</td>\n",
       "      <td>50</td>\n",
       "      <td>7</td>\n",
       "      <td>{'youtube.com', 'meiqia.com', 'google.com', 'v...</td>\n",
       "      <td>4.506417e+14</td>\n",
       "      <td>9</td>\n",
       "      <td>4</td>\n",
       "      <td>9_216873446</td>\n",
       "    </tr>\n",
       "    <tr>\n",
       "      <th>4688999</th>\n",
       "      <td>207052435</td>\n",
       "      <td>50</td>\n",
       "      <td>7</td>\n",
       "      <td>{'rhmodern.com', 'paychex.com', 'restorationha...</td>\n",
       "      <td>8.886685e+14</td>\n",
       "      <td>9</td>\n",
       "      <td>4</td>\n",
       "      <td>9_207052435</td>\n",
       "    </tr>\n",
       "  </tbody>\n",
       "</table>\n",
       "<p>2001191 rows × 8 columns</p>\n",
       "</div>"
      ],
      "text/plain": [
       "         machine_id  week  n_domains  \\\n",
       "0         169007206     1        104   \n",
       "2         170422065     1         20   \n",
       "3         170911221     1         49   \n",
       "4         171771316     1         64   \n",
       "5         176278357     1         74   \n",
       "...             ...   ...        ...   \n",
       "4688726   218777517    50          9   \n",
       "4688751   184175562    50          8   \n",
       "4688886   204379062    50          7   \n",
       "4688934   216873446    50          7   \n",
       "4688999   207052435    50          7   \n",
       "\n",
       "                                                   domains       simhash  s  \\\n",
       "0        {'2dopeboyz.com', 'offers.com', 'wordpress.com...  1.585204e+14  0   \n",
       "2        {'shein.com', 'refinery29.com', 'messenger.com...  5.322881e+14  0   \n",
       "3        {'8haodangpu.cc', 'vjav.com', '51luoben.com', ...  7.213568e+14  0   \n",
       "4        {'youtube.com', 'thingames.com', 'hudsonsfurni...  6.710488e+14  0   \n",
       "5        {'cricclubs.com', 'geico.com', 'vanguard.com',...  9.066352e+14  0   \n",
       "...                                                    ...           ... ..   \n",
       "4688726  {'livejasmin.com', 'edmunds.com', 'surveys-xvi...  9.764213e+14  9   \n",
       "4688751  {'driversupport.com', 'microsoft.com', 'cassio...  8.962970e+14  9   \n",
       "4688886  {'giftcardmall.com', 'cigarsinternational.com'...  4.523934e+13  9   \n",
       "4688934  {'youtube.com', 'meiqia.com', 'google.com', 'v...  4.506417e+14  9   \n",
       "4688999  {'rhmodern.com', 'paychex.com', 'restorationha...  8.886685e+14  9   \n",
       "\n",
       "         w s_machine_id  \n",
       "0        0  0_169007206  \n",
       "2        0  0_170422065  \n",
       "3        0  0_170911221  \n",
       "4        0  0_171771316  \n",
       "5        0  0_176278357  \n",
       "...     ..          ...  \n",
       "4688726  4  9_218777517  \n",
       "4688751  4  9_184175562  \n",
       "4688886  4  9_204379062  \n",
       "4688934  4  9_216873446  \n",
       "4688999  4  9_207052435  \n",
       "\n",
       "[2001191 rows x 8 columns]"
      ]
     },
     "execution_count": 307,
     "metadata": {},
     "output_type": "execute_result"
    }
   ],
   "source": [
    "wmd_5s_df"
   ]
  },
  {
   "cell_type": "markdown",
   "id": "5f042c9b",
   "metadata": {},
   "source": [
    "Limit to machines (`s_machine_id`s) that have data across all weeks (`w`) in a sequence."
   ]
  },
  {
   "cell_type": "code",
   "execution_count": 308,
   "id": "97c8b424",
   "metadata": {},
   "outputs": [
    {
     "name": "stdout",
     "output_type": "stream",
     "text": [
      "\n",
      "value counts for weeks per s_machine_id:\n",
      "5    215625\n",
      "1    122891\n",
      "4     91887\n",
      "2     91479\n",
      "3     83223\n",
      "Name: w, dtype: int64\n"
     ]
    },
    {
     "data": {
      "image/png": "[encoded data removed]",
      "text/plain": [
       "<Figure size 144x144 with 1 Axes>"
      ]
     },
     "metadata": {
      "needs_background": "light"
     },
     "output_type": "display_data"
    }
   ],
   "source": [
    "s_machine_w_count = wmd_5s_df.groupby('s_machine_id')['w'].count()\n",
    "print('\\nvalue counts for weeks per s_machine_id:')\n",
    "print(s_machine_w_count.value_counts())\n",
    "fig,ax = plt.subplots(1,1,figsize=(2,2))\n",
    "_ = s_machine_w_count.value_counts().sort_index().plot.bar(ax=ax)"
   ]
  },
  {
   "cell_type": "code",
   "execution_count": 309,
   "id": "0a95e1a0",
   "metadata": {},
   "outputs": [
    {
     "name": "stdout",
     "output_type": "stream",
     "text": [
      "45738 s_machine_id's after dropping those lacking data across all 5 w in a sequence (87197 before)\n"
     ]
    }
   ],
   "source": [
    "m_before = wmd_5s_df.machine_id.nunique()\n",
    "wmd_5s_df.drop(\n",
    "    wmd_5s_df[(wmd_5s_df.s_machine_id.map(s_machine_w_count) < 5)].index,\n",
    "    inplace=True\n",
    ")\n",
    "m_after = wmd_5s_df.machine_id.nunique()\n",
    "print('%s s_machine_id\\'s after dropping those lacking data across all 5 w in a sequence (%s before)' % (\n",
    "    m_after, m_before))"
   ]
  },
  {
   "cell_type": "markdown",
   "id": "9434ef80",
   "metadata": {},
   "source": [
    "Compute cohorts for each w\n",
    "\n",
    "Trying a range of k values\n",
    "- k=200\n",
    "- k=2000\n",
    "\n",
    "OR diminishing by powers of 2?\n",
    "- k=2000\n",
    "- k=1000\n",
    "- k=500\n",
    "- k=250\n",
    "- k=125"
   ]
  },
  {
   "cell_type": "code",
   "execution_count": 313,
   "id": "1cbd8751",
   "metadata": {
    "scrolled": true
   },
   "outputs": [
    {
     "name": "stdout",
     "output_type": "stream",
     "text": [
      "computing cohorts for k=2000 (column name cohort_k2000)\n",
      "w 0\n",
      "took 0:00:19.768718\n",
      "w 1\n",
      "took 0:00:20.666343\n",
      "w 2\n",
      "took 0:00:19.561003\n",
      "w 3\n",
      "took 0:00:18.968154\n",
      "w 4\n",
      "took 0:00:18.595705\n",
      "computing cohorts for k=1000 (column name cohort_k1000)\n",
      "w 0\n",
      "took 0:00:20.115495\n",
      "w 1\n",
      "took 0:00:18.512794\n",
      "w 2\n",
      "took 0:00:18.421723\n",
      "w 3\n",
      "took 0:00:17.915201\n",
      "w 4\n",
      "took 0:00:19.357381\n",
      "computing cohorts for k=500 (column name cohort_k500)\n",
      "w 0\n",
      "took 0:00:19.117108\n",
      "w 1\n",
      "took 0:00:19.748024\n",
      "w 2\n",
      "took 0:00:19.056213\n",
      "w 3\n",
      "took 0:00:19.408267\n",
      "w 4\n",
      "took 0:00:19.007598\n",
      "computing cohorts for k=250 (column name cohort_k250)\n",
      "w 0\n",
      "took 0:00:20.456154\n",
      "w 1\n",
      "took 0:00:21.240234\n",
      "w 2\n",
      "took 0:00:19.777793\n",
      "w 3\n",
      "took 0:00:19.094063\n",
      "w 4\n",
      "took 0:00:19.197990\n",
      "computing cohorts for k=125 (column name cohort_k125)\n",
      "w 0\n",
      "took 0:00:20.925066\n",
      "w 1\n",
      "took 0:00:21.256284\n",
      "w 2\n",
      "took 0:00:21.024885\n",
      "w 3\n",
      "took 0:00:20.237280\n",
      "w 4\n",
      "took 0:00:20.884966\n",
      "computing cohorts for k=200 (column name cohort_k200)\n",
      "w 0\n",
      "took 0:00:20.653841\n",
      "w 1\n",
      "took 0:00:19.930801\n",
      "w 2\n",
      "took 0:00:20.327437\n",
      "w 3\n",
      "took 0:00:19.914153\n",
      "w 4\n",
      "took 0:00:19.968683\n"
     ]
    }
   ],
   "source": [
    "cohort_ks = [2000,1000,500,250,125, 200]\n",
    "# column names for cohort assignments for given k\n",
    "# e.g. cohort_k2000 = 'cohort_k2000'\n",
    "cohort_k_columns = ['cohort_k%s'%k for k in cohort_ks]\n",
    "\n",
    "cohort_k_column_zip = zip(cohort_ks, cohort_k_columns)\n",
    "\n",
    "# assign cohorts for each w\n",
    "for (k, c) in cohort_k_column_zip:\n",
    "    print('computing cohorts for k=%s (column name %s)' % (k,c))\n",
    "    wmd_5s_df[c] = np.nan\n",
    "    for w in wmd_5s_df.w.unique():\n",
    "        t_start = datetime.now()\n",
    "        print('w %s' % (w))\n",
    "        w_df = wmd_5s_df[(wmd_5s_df.w==w)]\n",
    "        cohorts_dict = prefixLSH.get_cohorts_dict(w_df.simhash.astype(int), min_k=k)\n",
    "        assign_cohort = lambda x: cohorts_dict[x.simhash] if x.w == w else x[c]\n",
    "        wmd_5s_df[c] = wmd_5s_df.apply(assign_cohort, axis=1)\n",
    "        print('took %s' % (datetime.now() - t_start))"
   ]
  },
  {
   "cell_type": "markdown",
   "id": "2a4c0842",
   "metadata": {},
   "source": [
    "How many total cohorts? How many in each cohort? (For a given week)"
   ]
  },
  {
   "cell_type": "code",
   "execution_count": 314,
   "id": "8bb5ad58",
   "metadata": {},
   "outputs": [
    {
     "name": "stdout",
     "output_type": "stream",
     "text": [
      "for k=2000\n"
     ]
    },
    {
     "data": {
      "image/png": "[encoded data removed]",
      "text/plain": [
       "<Figure size 1500x200 with 5 Axes>"
      ]
     },
     "metadata": {
      "needs_background": "light"
     },
     "output_type": "display_data"
    },
    {
     "name": "stdout",
     "output_type": "stream",
     "text": [
      "for k=1000\n"
     ]
    },
    {
     "data": {
      "image/png": "[encoded data removed]",
      "text/plain": [
       "<Figure size 1500x200 with 5 Axes>"
      ]
     },
     "metadata": {
      "needs_background": "light"
     },
     "output_type": "display_data"
    },
    {
     "name": "stdout",
     "output_type": "stream",
     "text": [
      "for k=500\n"
     ]
    },
    {
     "data": {
      "image/png": "[encoded data removed]",
      "text/plain": [
       "<Figure size 1500x200 with 5 Axes>"
      ]
     },
     "metadata": {
      "needs_background": "light"
     },
     "output_type": "display_data"
    },
    {
     "name": "stdout",
     "output_type": "stream",
     "text": [
      "for k=250\n"
     ]
    },
    {
     "data": {
      "image/png": "[encoded data removed]",
      "text/plain": [
       "<Figure size 1500x200 with 5 Axes>"
      ]
     },
     "metadata": {
      "needs_background": "light"
     },
     "output_type": "display_data"
    },
    {
     "name": "stdout",
     "output_type": "stream",
     "text": [
      "for k=125\n"
     ]
    },
    {
     "data": {
      "image/png": "[encoded data removed]",
      "text/plain": [
       "<Figure size 1500x200 with 5 Axes>"
      ]
     },
     "metadata": {
      "needs_background": "light"
     },
     "output_type": "display_data"
    },
    {
     "name": "stdout",
     "output_type": "stream",
     "text": [
      "for k=200\n"
     ]
    },
    {
     "data": {
      "image/png": "[encoded data removed]",
      "text/plain": [
       "<Figure size 1500x200 with 5 Axes>"
      ]
     },
     "metadata": {
      "needs_background": "light"
     },
     "output_type": "display_data"
    }
   ],
   "source": [
    "for (k, c) in zip(cohort_ks, cohort_k_columns):\n",
    "    print('for k=%s'%k)\n",
    "    fig, axes = plt.subplots(1, 5, figsize=(5*3, 2), sharey=True, dpi=100)\n",
    "    plt.tight_layout()\n",
    "    for i, w in enumerate(range(5)):\n",
    "        ax = axes[i]\n",
    "        wmd_5s_df[wmd_5s_df.w == w][c].value_counts().hist(ax=ax)\n",
    "        ax.set_title('w %s: %s cohorts' % (w, wmd_5s_df[wmd_5s_df.w == w][c].nunique()))\n",
    "        ax.set_xlabel(\"cohort size\")\n",
    "    _ = axes[0].set_ylabel(\"cohorts\")\n",
    "    plt.show()"
   ]
  },
  {
   "cell_type": "code",
   "execution_count": 315,
   "id": "29f3bf11",
   "metadata": {},
   "outputs": [
    {
     "data": {
      "text/html": [
       "<div>\n",
       "<style scoped>\n",
       "    .dataframe tbody tr th:only-of-type {\n",
       "        vertical-align: middle;\n",
       "    }\n",
       "\n",
       "    .dataframe tbody tr th {\n",
       "        vertical-align: top;\n",
       "    }\n",
       "\n",
       "    .dataframe thead th {\n",
       "        text-align: right;\n",
       "    }\n",
       "</style>\n",
       "<table border=\"1\" class=\"dataframe\">\n",
       "  <thead>\n",
       "    <tr style=\"text-align: right;\">\n",
       "      <th></th>\n",
       "      <th>machine_id</th>\n",
       "      <th>week</th>\n",
       "      <th>n_domains</th>\n",
       "      <th>domains</th>\n",
       "      <th>simhash</th>\n",
       "      <th>s</th>\n",
       "      <th>w</th>\n",
       "      <th>s_machine_id</th>\n",
       "      <th>cohort_k2000</th>\n",
       "      <th>cohort_k1000</th>\n",
       "      <th>cohort_k500</th>\n",
       "      <th>cohort_k250</th>\n",
       "      <th>cohort_k125</th>\n",
       "      <th>cohort_k200</th>\n",
       "    </tr>\n",
       "  </thead>\n",
       "  <tbody>\n",
       "    <tr>\n",
       "      <th>0</th>\n",
       "      <td>169007206</td>\n",
       "      <td>1</td>\n",
       "      <td>104</td>\n",
       "      <td>{'2dopeboyz.com', 'offers.com', 'wordpress.com...</td>\n",
       "      <td>1.585204e+14</td>\n",
       "      <td>0</td>\n",
       "      <td>0</td>\n",
       "      <td>0_169007206</td>\n",
       "      <td>9.0</td>\n",
       "      <td>20.0</td>\n",
       "      <td>33.0</td>\n",
       "      <td>69.0</td>\n",
       "      <td>143.0</td>\n",
       "      <td>94.0</td>\n",
       "    </tr>\n",
       "    <tr>\n",
       "      <th>2</th>\n",
       "      <td>170422065</td>\n",
       "      <td>1</td>\n",
       "      <td>20</td>\n",
       "      <td>{'shein.com', 'refinery29.com', 'messenger.com...</td>\n",
       "      <td>5.322881e+14</td>\n",
       "      <td>0</td>\n",
       "      <td>0</td>\n",
       "      <td>0_170422065</td>\n",
       "      <td>27.0</td>\n",
       "      <td>63.0</td>\n",
       "      <td>108.0</td>\n",
       "      <td>219.0</td>\n",
       "      <td>461.0</td>\n",
       "      <td>289.0</td>\n",
       "    </tr>\n",
       "    <tr>\n",
       "      <th>3</th>\n",
       "      <td>170911221</td>\n",
       "      <td>1</td>\n",
       "      <td>49</td>\n",
       "      <td>{'8haodangpu.cc', 'vjav.com', '51luoben.com', ...</td>\n",
       "      <td>7.213568e+14</td>\n",
       "      <td>0</td>\n",
       "      <td>0</td>\n",
       "      <td>0_170911221</td>\n",
       "      <td>40.0</td>\n",
       "      <td>90.0</td>\n",
       "      <td>158.0</td>\n",
       "      <td>322.0</td>\n",
       "      <td>658.0</td>\n",
       "      <td>415.0</td>\n",
       "    </tr>\n",
       "    <tr>\n",
       "      <th>4</th>\n",
       "      <td>171771316</td>\n",
       "      <td>1</td>\n",
       "      <td>64</td>\n",
       "      <td>{'youtube.com', 'thingames.com', 'hudsonsfurni...</td>\n",
       "      <td>6.710488e+14</td>\n",
       "      <td>0</td>\n",
       "      <td>0</td>\n",
       "      <td>0_171771316</td>\n",
       "      <td>36.0</td>\n",
       "      <td>82.0</td>\n",
       "      <td>142.0</td>\n",
       "      <td>289.0</td>\n",
       "      <td>597.0</td>\n",
       "      <td>377.0</td>\n",
       "    </tr>\n",
       "    <tr>\n",
       "      <th>5</th>\n",
       "      <td>176278357</td>\n",
       "      <td>1</td>\n",
       "      <td>74</td>\n",
       "      <td>{'cricclubs.com', 'geico.com', 'vanguard.com',...</td>\n",
       "      <td>9.066352e+14</td>\n",
       "      <td>0</td>\n",
       "      <td>0</td>\n",
       "      <td>0_176278357</td>\n",
       "      <td>52.0</td>\n",
       "      <td>119.0</td>\n",
       "      <td>208.0</td>\n",
       "      <td>439.0</td>\n",
       "      <td>878.0</td>\n",
       "      <td>558.0</td>\n",
       "    </tr>\n",
       "  </tbody>\n",
       "</table>\n",
       "</div>"
      ],
      "text/plain": [
       "   machine_id  week  n_domains  \\\n",
       "0   169007206     1        104   \n",
       "2   170422065     1         20   \n",
       "3   170911221     1         49   \n",
       "4   171771316     1         64   \n",
       "5   176278357     1         74   \n",
       "\n",
       "                                             domains       simhash  s  w  \\\n",
       "0  {'2dopeboyz.com', 'offers.com', 'wordpress.com...  1.585204e+14  0  0   \n",
       "2  {'shein.com', 'refinery29.com', 'messenger.com...  5.322881e+14  0  0   \n",
       "3  {'8haodangpu.cc', 'vjav.com', '51luoben.com', ...  7.213568e+14  0  0   \n",
       "4  {'youtube.com', 'thingames.com', 'hudsonsfurni...  6.710488e+14  0  0   \n",
       "5  {'cricclubs.com', 'geico.com', 'vanguard.com',...  9.066352e+14  0  0   \n",
       "\n",
       "  s_machine_id  cohort_k2000  cohort_k1000  cohort_k500  cohort_k250  \\\n",
       "0  0_169007206           9.0          20.0         33.0         69.0   \n",
       "2  0_170422065          27.0          63.0        108.0        219.0   \n",
       "3  0_170911221          40.0          90.0        158.0        322.0   \n",
       "4  0_171771316          36.0          82.0        142.0        289.0   \n",
       "5  0_176278357          52.0         119.0        208.0        439.0   \n",
       "\n",
       "   cohort_k125  cohort_k200  \n",
       "0        143.0         94.0  \n",
       "2        461.0        289.0  \n",
       "3        658.0        415.0  \n",
       "4        597.0        377.0  \n",
       "5        878.0        558.0  "
      ]
     },
     "execution_count": 315,
     "metadata": {},
     "output_type": "execute_result"
    }
   ],
   "source": [
    "wmd_5s_df.head()"
   ]
  },
  {
   "cell_type": "markdown",
   "id": "ac87910c",
   "metadata": {},
   "source": [
    "Make table\n",
    "\n",
    "weekly s_machine_id cohorts `w_smid_cohorts_5s`\n",
    "\n",
    "```\n",
    "s_machine_id, state, w0_cohortkK, ...,  w4_cohortkK\n",
    "```\n",
    "\n",
    "where \n",
    "- each w1_cohortkK corresponds to the cohort assignment for w:1 for k=K for that s_machine_id. etc\n",
    "- state is the u.s. state for the machine with s_machine_id\n",
    "\n",
    "\n",
    "make table for uniqueness of cohort assignments `w_unicity_5s`\n",
    "\n",
    "```\n",
    "w, cohortkK, state_cohortkK\n",
    "```\n",
    "\n",
    "where\n",
    "- cohortkK is the fraction of s_machine_id's that have unique sequences by week w using cohorts assigned with k=K\n",
    "- state_cohortkK is the fraction of s_machine_id's that have unique sequences by week w using cohorts assigned with k=K and combining sequence and state (fingerprinting) data"
   ]
  },
  {
   "cell_type": "code",
   "execution_count": 368,
   "id": "ef0955a4",
   "metadata": {},
   "outputs": [
    {
     "data": {
      "text/plain": [
       "s_machine_id\n",
       "0_100607252     TX\n",
       "0_113363130     IL\n",
       "0_120603212     WI\n",
       "0_122998696    NaN\n",
       "0_124374318     OK\n",
       "Name: machine_id, dtype: object"
      ]
     },
     "execution_count": 368,
     "metadata": {},
     "output_type": "execute_result"
    }
   ],
   "source": [
    "s_machine_to_state = wmd_5s_df.set_index('s_machine_id').drop_duplicates(subset=['machine_id'])['machine_id'].map(machine_state_df['state']).sort_index()\n",
    "s_machine_to_state.head()"
   ]
  },
  {
   "cell_type": "code",
   "execution_count": 371,
   "id": "3803d35e",
   "metadata": {},
   "outputs": [
    {
     "data": {
      "text/html": [
       "<div>\n",
       "<style scoped>\n",
       "    .dataframe tbody tr th:only-of-type {\n",
       "        vertical-align: middle;\n",
       "    }\n",
       "\n",
       "    .dataframe tbody tr th {\n",
       "        vertical-align: top;\n",
       "    }\n",
       "\n",
       "    .dataframe thead th {\n",
       "        text-align: right;\n",
       "    }\n",
       "</style>\n",
       "<table border=\"1\" class=\"dataframe\">\n",
       "  <thead>\n",
       "    <tr style=\"text-align: right;\">\n",
       "      <th></th>\n",
       "      <th>state</th>\n",
       "      <th>w0_cohort_k2000</th>\n",
       "      <th>w1_cohort_k2000</th>\n",
       "      <th>w2_cohort_k2000</th>\n",
       "      <th>w3_cohort_k2000</th>\n",
       "      <th>w4_cohort_k2000</th>\n",
       "      <th>w0_cohort_k1000</th>\n",
       "      <th>w1_cohort_k1000</th>\n",
       "      <th>w2_cohort_k1000</th>\n",
       "      <th>w3_cohort_k1000</th>\n",
       "      <th>...</th>\n",
       "      <th>w0_cohort_k125</th>\n",
       "      <th>w1_cohort_k125</th>\n",
       "      <th>w2_cohort_k125</th>\n",
       "      <th>w3_cohort_k125</th>\n",
       "      <th>w4_cohort_k125</th>\n",
       "      <th>w0_cohort_k200</th>\n",
       "      <th>w1_cohort_k200</th>\n",
       "      <th>w2_cohort_k200</th>\n",
       "      <th>w3_cohort_k200</th>\n",
       "      <th>w4_cohort_k200</th>\n",
       "    </tr>\n",
       "    <tr>\n",
       "      <th>s_machine_id</th>\n",
       "      <th></th>\n",
       "      <th></th>\n",
       "      <th></th>\n",
       "      <th></th>\n",
       "      <th></th>\n",
       "      <th></th>\n",
       "      <th></th>\n",
       "      <th></th>\n",
       "      <th></th>\n",
       "      <th></th>\n",
       "      <th></th>\n",
       "      <th></th>\n",
       "      <th></th>\n",
       "      <th></th>\n",
       "      <th></th>\n",
       "      <th></th>\n",
       "      <th></th>\n",
       "      <th></th>\n",
       "      <th></th>\n",
       "      <th></th>\n",
       "      <th></th>\n",
       "    </tr>\n",
       "  </thead>\n",
       "  <tbody>\n",
       "    <tr>\n",
       "      <th>0_100607252</th>\n",
       "      <td>TX</td>\n",
       "      <td>20</td>\n",
       "      <td>35</td>\n",
       "      <td>16</td>\n",
       "      <td>21</td>\n",
       "      <td>45</td>\n",
       "      <td>46</td>\n",
       "      <td>78</td>\n",
       "      <td>36</td>\n",
       "      <td>47</td>\n",
       "      <td>...</td>\n",
       "      <td>332</td>\n",
       "      <td>593</td>\n",
       "      <td>260</td>\n",
       "      <td>357</td>\n",
       "      <td>764</td>\n",
       "      <td>212</td>\n",
       "      <td>368</td>\n",
       "      <td>170</td>\n",
       "      <td>226</td>\n",
       "      <td>474</td>\n",
       "    </tr>\n",
       "    <tr>\n",
       "      <th>0_113363130</th>\n",
       "      <td>IL</td>\n",
       "      <td>20</td>\n",
       "      <td>6</td>\n",
       "      <td>6</td>\n",
       "      <td>27</td>\n",
       "      <td>18</td>\n",
       "      <td>46</td>\n",
       "      <td>14</td>\n",
       "      <td>14</td>\n",
       "      <td>61</td>\n",
       "      <td>...</td>\n",
       "      <td>331</td>\n",
       "      <td>98</td>\n",
       "      <td>98</td>\n",
       "      <td>464</td>\n",
       "      <td>307</td>\n",
       "      <td>212</td>\n",
       "      <td>61</td>\n",
       "      <td>62</td>\n",
       "      <td>293</td>\n",
       "      <td>188</td>\n",
       "    </tr>\n",
       "    <tr>\n",
       "      <th>0_120603212</th>\n",
       "      <td>WI</td>\n",
       "      <td>17</td>\n",
       "      <td>29</td>\n",
       "      <td>56</td>\n",
       "      <td>48</td>\n",
       "      <td>50</td>\n",
       "      <td>40</td>\n",
       "      <td>65</td>\n",
       "      <td>122</td>\n",
       "      <td>107</td>\n",
       "      <td>...</td>\n",
       "      <td>283</td>\n",
       "      <td>498</td>\n",
       "      <td>916</td>\n",
       "      <td>808</td>\n",
       "      <td>860</td>\n",
       "      <td>181</td>\n",
       "      <td>305</td>\n",
       "      <td>579</td>\n",
       "      <td>516</td>\n",
       "      <td>533</td>\n",
       "    </tr>\n",
       "    <tr>\n",
       "      <th>0_122998696</th>\n",
       "      <td>NaN</td>\n",
       "      <td>18</td>\n",
       "      <td>44</td>\n",
       "      <td>36</td>\n",
       "      <td>29</td>\n",
       "      <td>5</td>\n",
       "      <td>41</td>\n",
       "      <td>100</td>\n",
       "      <td>80</td>\n",
       "      <td>65</td>\n",
       "      <td>...</td>\n",
       "      <td>288</td>\n",
       "      <td>747</td>\n",
       "      <td>600</td>\n",
       "      <td>493</td>\n",
       "      <td>76</td>\n",
       "      <td>186</td>\n",
       "      <td>467</td>\n",
       "      <td>379</td>\n",
       "      <td>310</td>\n",
       "      <td>45</td>\n",
       "    </tr>\n",
       "    <tr>\n",
       "      <th>0_124374318</th>\n",
       "      <td>OK</td>\n",
       "      <td>14</td>\n",
       "      <td>54</td>\n",
       "      <td>27</td>\n",
       "      <td>32</td>\n",
       "      <td>52</td>\n",
       "      <td>33</td>\n",
       "      <td>123</td>\n",
       "      <td>60</td>\n",
       "      <td>71</td>\n",
       "      <td>...</td>\n",
       "      <td>238</td>\n",
       "      <td>916</td>\n",
       "      <td>461</td>\n",
       "      <td>539</td>\n",
       "      <td>894</td>\n",
       "      <td>153</td>\n",
       "      <td>575</td>\n",
       "      <td>286</td>\n",
       "      <td>341</td>\n",
       "      <td>554</td>\n",
       "    </tr>\n",
       "    <tr>\n",
       "      <th>0_125424162</th>\n",
       "      <td>VA</td>\n",
       "      <td>6</td>\n",
       "      <td>43</td>\n",
       "      <td>44</td>\n",
       "      <td>39</td>\n",
       "      <td>25</td>\n",
       "      <td>15</td>\n",
       "      <td>96</td>\n",
       "      <td>94</td>\n",
       "      <td>85</td>\n",
       "      <td>...</td>\n",
       "      <td>105</td>\n",
       "      <td>719</td>\n",
       "      <td>707</td>\n",
       "      <td>640</td>\n",
       "      <td>429</td>\n",
       "      <td>72</td>\n",
       "      <td>446</td>\n",
       "      <td>446</td>\n",
       "      <td>408</td>\n",
       "      <td>259</td>\n",
       "    </tr>\n",
       "    <tr>\n",
       "      <th>0_127266303</th>\n",
       "      <td>ME</td>\n",
       "      <td>25</td>\n",
       "      <td>41</td>\n",
       "      <td>34</td>\n",
       "      <td>22</td>\n",
       "      <td>8</td>\n",
       "      <td>60</td>\n",
       "      <td>93</td>\n",
       "      <td>75</td>\n",
       "      <td>48</td>\n",
       "      <td>...</td>\n",
       "      <td>428</td>\n",
       "      <td>697</td>\n",
       "      <td>568</td>\n",
       "      <td>362</td>\n",
       "      <td>124</td>\n",
       "      <td>274</td>\n",
       "      <td>431</td>\n",
       "      <td>358</td>\n",
       "      <td>230</td>\n",
       "      <td>74</td>\n",
       "    </tr>\n",
       "    <tr>\n",
       "      <th>0_129586098</th>\n",
       "      <td>CO</td>\n",
       "      <td>18</td>\n",
       "      <td>15</td>\n",
       "      <td>66</td>\n",
       "      <td>25</td>\n",
       "      <td>5</td>\n",
       "      <td>42</td>\n",
       "      <td>34</td>\n",
       "      <td>144</td>\n",
       "      <td>57</td>\n",
       "      <td>...</td>\n",
       "      <td>300</td>\n",
       "      <td>249</td>\n",
       "      <td>1070</td>\n",
       "      <td>419</td>\n",
       "      <td>82</td>\n",
       "      <td>194</td>\n",
       "      <td>154</td>\n",
       "      <td>679</td>\n",
       "      <td>269</td>\n",
       "      <td>48</td>\n",
       "    </tr>\n",
       "  </tbody>\n",
       "</table>\n",
       "<p>8 rows × 31 columns</p>\n",
       "</div>"
      ],
      "text/plain": [
       "             state  w0_cohort_k2000  w1_cohort_k2000  w2_cohort_k2000  \\\n",
       "s_machine_id                                                            \n",
       "0_100607252     TX               20               35               16   \n",
       "0_113363130     IL               20                6                6   \n",
       "0_120603212     WI               17               29               56   \n",
       "0_122998696    NaN               18               44               36   \n",
       "0_124374318     OK               14               54               27   \n",
       "0_125424162     VA                6               43               44   \n",
       "0_127266303     ME               25               41               34   \n",
       "0_129586098     CO               18               15               66   \n",
       "\n",
       "              w3_cohort_k2000  w4_cohort_k2000  w0_cohort_k1000  \\\n",
       "s_machine_id                                                      \n",
       "0_100607252                21               45               46   \n",
       "0_113363130                27               18               46   \n",
       "0_120603212                48               50               40   \n",
       "0_122998696                29                5               41   \n",
       "0_124374318                32               52               33   \n",
       "0_125424162                39               25               15   \n",
       "0_127266303                22                8               60   \n",
       "0_129586098                25                5               42   \n",
       "\n",
       "              w1_cohort_k1000  w2_cohort_k1000  w3_cohort_k1000  ...  \\\n",
       "s_machine_id                                                     ...   \n",
       "0_100607252                78               36               47  ...   \n",
       "0_113363130                14               14               61  ...   \n",
       "0_120603212                65              122              107  ...   \n",
       "0_122998696               100               80               65  ...   \n",
       "0_124374318               123               60               71  ...   \n",
       "0_125424162                96               94               85  ...   \n",
       "0_127266303                93               75               48  ...   \n",
       "0_129586098                34              144               57  ...   \n",
       "\n",
       "              w0_cohort_k125  w1_cohort_k125  w2_cohort_k125  w3_cohort_k125  \\\n",
       "s_machine_id                                                                   \n",
       "0_100607252              332             593             260             357   \n",
       "0_113363130              331              98              98             464   \n",
       "0_120603212              283             498             916             808   \n",
       "0_122998696              288             747             600             493   \n",
       "0_124374318              238             916             461             539   \n",
       "0_125424162              105             719             707             640   \n",
       "0_127266303              428             697             568             362   \n",
       "0_129586098              300             249            1070             419   \n",
       "\n",
       "              w4_cohort_k125  w0_cohort_k200  w1_cohort_k200  w2_cohort_k200  \\\n",
       "s_machine_id                                                                   \n",
       "0_100607252              764             212             368             170   \n",
       "0_113363130              307             212              61              62   \n",
       "0_120603212              860             181             305             579   \n",
       "0_122998696               76             186             467             379   \n",
       "0_124374318              894             153             575             286   \n",
       "0_125424162              429              72             446             446   \n",
       "0_127266303              124             274             431             358   \n",
       "0_129586098               82             194             154             679   \n",
       "\n",
       "              w3_cohort_k200  w4_cohort_k200  \n",
       "s_machine_id                                  \n",
       "0_100607252              226             474  \n",
       "0_113363130              293             188  \n",
       "0_120603212              516             533  \n",
       "0_122998696              310              45  \n",
       "0_124374318              341             554  \n",
       "0_125424162              408             259  \n",
       "0_127266303              230              74  \n",
       "0_129586098              269              48  \n",
       "\n",
       "[8 rows x 31 columns]"
      ]
     },
     "execution_count": 371,
     "metadata": {},
     "output_type": "execute_result"
    }
   ],
   "source": [
    "wmd_5s_df = wmd_5s_df.set_index('s_machine_id').sort_index()\n",
    "w_smid_cohorts_5s_df = pd.DataFrame({\n",
    "    's_machine_id': sorted(wmd_5s_df.index.unique()),\n",
    "}).set_index('s_machine_id')\n",
    "w_smid_cohorts_5s_df['state'] = w_smid_cohorts_5s_df.index.map(s_machine_to_state)\n",
    "for c in cohort_k_columns:\n",
    "    for w in range(5):\n",
    "        w_smid_cohorts_5s_df['w%s_%s'%(w, c)] = wmd_5s_df[wmd_5s_df.w==w][c].astype(int)\n",
    "w_smid_cohorts_5s_df.head(8)"
   ]
  },
  {
   "cell_type": "markdown",
   "id": "081f2f98",
   "metadata": {},
   "source": [
    "Note: It should not be surprising that cohort IDs are not repeated across weeks because the cohorts are computed separately for each week, and therefore have different semantic meaning each week."
   ]
  },
  {
   "cell_type": "code",
   "execution_count": 405,
   "id": "d76515d0",
   "metadata": {},
   "outputs": [
    {
     "name": "stdout",
     "output_type": "stream",
     "text": [
      "215625 = total: total number of smids summed across all cohorts\n",
      "45408 = state_total: total number of smids summed across all cohorts that also have state data\n"
     ]
    },
    {
     "data": {
      "text/html": [
       "<div>\n",
       "<style scoped>\n",
       "    .dataframe tbody tr th:only-of-type {\n",
       "        vertical-align: middle;\n",
       "    }\n",
       "\n",
       "    .dataframe tbody tr th {\n",
       "        vertical-align: top;\n",
       "    }\n",
       "\n",
       "    .dataframe thead th {\n",
       "        text-align: right;\n",
       "    }\n",
       "</style>\n",
       "<table border=\"1\" class=\"dataframe\">\n",
       "  <thead>\n",
       "    <tr style=\"text-align: right;\">\n",
       "      <th></th>\n",
       "      <th>cohort_k2000</th>\n",
       "      <th>state_cohort_k2000</th>\n",
       "      <th>cohort_k1000</th>\n",
       "      <th>state_cohort_k1000</th>\n",
       "      <th>cohort_k500</th>\n",
       "      <th>state_cohort_k500</th>\n",
       "      <th>cohort_k250</th>\n",
       "      <th>state_cohort_k250</th>\n",
       "      <th>cohort_k125</th>\n",
       "      <th>state_cohort_k125</th>\n",
       "      <th>cohort_k200</th>\n",
       "      <th>state_cohort_k200</th>\n",
       "    </tr>\n",
       "    <tr>\n",
       "      <th>w</th>\n",
       "      <th></th>\n",
       "      <th></th>\n",
       "      <th></th>\n",
       "      <th></th>\n",
       "      <th></th>\n",
       "      <th></th>\n",
       "      <th></th>\n",
       "      <th></th>\n",
       "      <th></th>\n",
       "      <th></th>\n",
       "      <th></th>\n",
       "      <th></th>\n",
       "    </tr>\n",
       "  </thead>\n",
       "  <tbody>\n",
       "    <tr>\n",
       "      <th>0</th>\n",
       "      <td>0.000000</td>\n",
       "      <td>0.006320</td>\n",
       "      <td>0.000000</td>\n",
       "      <td>0.024797</td>\n",
       "      <td>0.000000</td>\n",
       "      <td>0.058250</td>\n",
       "      <td>0.000000</td>\n",
       "      <td>0.150194</td>\n",
       "      <td>0.000000</td>\n",
       "      <td>0.290015</td>\n",
       "      <td>0.000000</td>\n",
       "      <td>0.195208</td>\n",
       "    </tr>\n",
       "    <tr>\n",
       "      <th>1</th>\n",
       "      <td>0.000000</td>\n",
       "      <td>0.616587</td>\n",
       "      <td>0.002310</td>\n",
       "      <td>0.891429</td>\n",
       "      <td>0.064431</td>\n",
       "      <td>0.958554</td>\n",
       "      <td>0.410611</td>\n",
       "      <td>0.991235</td>\n",
       "      <td>0.766998</td>\n",
       "      <td>0.997710</td>\n",
       "      <td>0.558085</td>\n",
       "      <td>0.994296</td>\n",
       "    </tr>\n",
       "    <tr>\n",
       "      <th>2</th>\n",
       "      <td>0.369711</td>\n",
       "      <td>0.985399</td>\n",
       "      <td>0.865823</td>\n",
       "      <td>0.998282</td>\n",
       "      <td>0.965519</td>\n",
       "      <td>0.999736</td>\n",
       "      <td>0.995066</td>\n",
       "      <td>0.999956</td>\n",
       "      <td>0.999193</td>\n",
       "      <td>1.000000</td>\n",
       "      <td>0.997510</td>\n",
       "      <td>0.999956</td>\n",
       "    </tr>\n",
       "    <tr>\n",
       "      <th>3</th>\n",
       "      <td>0.954704</td>\n",
       "      <td>0.999516</td>\n",
       "      <td>0.996851</td>\n",
       "      <td>1.000000</td>\n",
       "      <td>0.999397</td>\n",
       "      <td>1.000000</td>\n",
       "      <td>0.999930</td>\n",
       "      <td>1.000000</td>\n",
       "      <td>0.999958</td>\n",
       "      <td>1.000000</td>\n",
       "      <td>0.999958</td>\n",
       "      <td>1.000000</td>\n",
       "    </tr>\n",
       "    <tr>\n",
       "      <th>4</th>\n",
       "      <td>0.997542</td>\n",
       "      <td>1.000000</td>\n",
       "      <td>0.999879</td>\n",
       "      <td>1.000000</td>\n",
       "      <td>0.999968</td>\n",
       "      <td>1.000000</td>\n",
       "      <td>0.999981</td>\n",
       "      <td>1.000000</td>\n",
       "      <td>0.999981</td>\n",
       "      <td>1.000000</td>\n",
       "      <td>0.999981</td>\n",
       "      <td>1.000000</td>\n",
       "    </tr>\n",
       "  </tbody>\n",
       "</table>\n",
       "</div>"
      ],
      "text/plain": [
       "   cohort_k2000  state_cohort_k2000  cohort_k1000  state_cohort_k1000  \\\n",
       "w                                                                       \n",
       "0      0.000000            0.006320      0.000000            0.024797   \n",
       "1      0.000000            0.616587      0.002310            0.891429   \n",
       "2      0.369711            0.985399      0.865823            0.998282   \n",
       "3      0.954704            0.999516      0.996851            1.000000   \n",
       "4      0.997542            1.000000      0.999879            1.000000   \n",
       "\n",
       "   cohort_k500  state_cohort_k500  cohort_k250  state_cohort_k250  \\\n",
       "w                                                                   \n",
       "0     0.000000           0.058250     0.000000           0.150194   \n",
       "1     0.064431           0.958554     0.410611           0.991235   \n",
       "2     0.965519           0.999736     0.995066           0.999956   \n",
       "3     0.999397           1.000000     0.999930           1.000000   \n",
       "4     0.999968           1.000000     0.999981           1.000000   \n",
       "\n",
       "   cohort_k125  state_cohort_k125  cohort_k200  state_cohort_k200  \n",
       "w                                                                  \n",
       "0     0.000000           0.290015     0.000000           0.195208  \n",
       "1     0.766998           0.997710     0.558085           0.994296  \n",
       "2     0.999193           1.000000     0.997510           0.999956  \n",
       "3     0.999958           1.000000     0.999958           1.000000  \n",
       "4     0.999981           1.000000     0.999981           1.000000  "
      ]
     },
     "execution_count": 405,
     "metadata": {},
     "output_type": "execute_result"
    }
   ],
   "source": [
    "# note the total number is different for sequences using state because some\n",
    "# machines have NaN state and are excluded from this computation\n",
    "total = len(w_smid_cohorts_5s_df)\n",
    "state_total = len(w_smid_cohorts_5s_df.dropna())\n",
    "print('%s = total: total number of smids summed across all cohorts' % total)\n",
    "print('%s = state_total: total number of smids summed across all cohorts that also have state data' % state_total)\n",
    "\n",
    "\n",
    "w_unicity_5s_df = pd.DataFrame({'w':range(5)}).set_index('w')\n",
    "\n",
    "for c in cohort_k_columns:\n",
    "    c_w_sizes = []\n",
    "    c_state_w_sizes = []\n",
    "    for w in range(5):\n",
    "        w_cols = ['w%s_%s' % (wi, c) for wi in range(w+1)]\n",
    "        state_w_cols = ['state'] + ['w%s_%s' % (wi, c) for wi in range(w+1)]\n",
    "        #print(state_w_cols)\n",
    "        # in the firat week, all cohort sequences are size >= k\n",
    "        cohort_w_seq_sizes = w_smid_cohorts_5s_df.groupby(w_cols).size().values\n",
    "        cohort_state_w_seq_sizes = w_smid_cohorts_5s_df.groupby(state_w_cols).size().values\n",
    "        # how many are size 1?\n",
    "        cohort_w_seq_unique = sum(cohort_w_seq_sizes == 1)\n",
    "        cohort_state_w_seq_unique = sum(cohort_state_w_seq_sizes == 1)\n",
    "        # sanity check: totals / denominators should always be the same size\n",
    "        assert(total==cohort_w_seq_sizes.sum())\n",
    "        assert(state_total==cohort_state_w_seq_sizes.sum())\n",
    "        c_w_sizes += [cohort_w_seq_unique/total]\n",
    "        c_state_w_sizes += [cohort_state_w_seq_unique/state_total]\n",
    "    w_unicity_5s_df[c] = c_w_sizes\n",
    "    w_unicity_5s_df['state_%s'%c] = c_state_w_sizes\n",
    "w_unicity_5s_df"
   ]
  },
  {
   "cell_type": "code",
   "execution_count": 433,
   "id": "18a75d38",
   "metadata": {
    "scrolled": false
   },
   "outputs": [
    {
     "data": {
      "image/png": "[encoded data removed]",
      "text/plain": [
       "<Figure size 400x400 with 1 Axes>"
      ]
     },
     "metadata": {
      "needs_background": "light"
     },
     "output_type": "display_data"
    },
    {
     "data": {
      "image/png": "[encoded data removed]",
      "text/plain": [
       "<Figure size 400x400 with 1 Axes>"
      ]
     },
     "metadata": {
      "needs_background": "light"
     },
     "output_type": "display_data"
    },
    {
     "data": {
      "image/png": "[encoded data removed]",
      "text/plain": [
       "<Figure size 400x400 with 1 Axes>"
      ]
     },
     "metadata": {
      "needs_background": "light"
     },
     "output_type": "display_data"
    },
    {
     "data": {
      "image/png": "[encoded data removed]",
      "text/plain": [
       "<Figure size 400x400 with 1 Axes>"
      ]
     },
     "metadata": {
      "needs_background": "light"
     },
     "output_type": "display_data"
    },
    {
     "data": {
      "image/png": "[encoded data removed]",
      "text/plain": [
       "<Figure size 400x400 with 1 Axes>"
      ]
     },
     "metadata": {
      "needs_background": "light"
     },
     "output_type": "display_data"
    },
    {
     "data": {
      "image/png": "[encoded data removed]",
      "text/plain": [
       "<Figure size 400x400 with 1 Axes>"
      ]
     },
     "metadata": {
      "needs_background": "light"
     },
     "output_type": "display_data"
    }
   ],
   "source": [
    "for (k,c) in cohort_k_column_zip:\n",
    "    fig,ax = plt.subplots(1,1,figsize=(4,4),dpi=100)\n",
    "    w_unicity_5s_df.reset_index().plot(\n",
    "        x='w',\n",
    "        y=[c, 'state_%s'%c],\n",
    "        kind='bar',\n",
    "        ax=ax,\n",
    "    )\n",
    "    ax.set_title('k=%s'%k)\n",
    "    ax.set_ylabel('uniqueness of cohorts across weeks')\n",
    "    ax.set_xlabel('weeks')\n",
    "    ax.set_xticklabels([1,2,3,4,5], rotation=0)\n",
    "    _ = ax.legend(['cohorts data','cohorts with fingerprinting data'], loc='center right')"
   ]
  },
  {
   "cell_type": "markdown",
   "id": "dcdca5ff",
   "metadata": {},
   "source": [
    "It makes sense that smaller k has worse privacy implications because there are more cohorts when k is smaller. Therefore, from week to week, there are more potential cohorts for a machine to belong to."
   ]
  },
  {
   "cell_type": "code",
   "execution_count": null,
   "id": "44720a74",
   "metadata": {},
   "outputs": [],
   "source": []
  }
 ],
 "metadata": {
  "kernelspec": {
   "display_name": ".venv",
   "language": "python",
   "name": ".venv"
  },
  "language_info": {
   "codemirror_mode": {
    "name": "ipython",
    "version": 3
   },
   "file_extension": ".py",
   "mimetype": "text/x-python",
   "name": "python",
   "nbconvert_exporter": "python",
   "pygments_lexer": "ipython3",
   "version": "3.7.1"
  }
 },
 "nbformat": 4,
 "nbformat_minor": 5
}
