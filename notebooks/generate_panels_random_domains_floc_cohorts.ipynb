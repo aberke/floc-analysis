{
 "cells": [
  {
   "cell_type": "markdown",
   "id": "7635348c",
   "metadata": {},
   "source": [
    "# FLoC cohorts from randomly assigning domains to panel samples\n",
    "\n",
    "Here we create a comparison/counterfactual to the true panel data.\n",
    "\n",
    "The same machine_ids for panels are used as for the true data, but where only the sample's demographics are kept.\n",
    "\n",
    "The visited sets of domains are randomly assigned to panel samples, but where domains are assigned in a way proportional to how they occur in the real panel data.\n",
    "\n",
    "With this creation, domain visits and therefore cohorts should not be correlated with demographics.\n",
    "\n",
    "\n",
    "Here's how we do this:\n",
    "\n",
    "- first take the real panel data, where panel samples are joined with their true sessions data, and data is then limited to samples with >= 7 domains per sample.\n",
    "\n",
    "- take the distribution of n_domains \n",
    "\n",
    "- take the distribution of domains, using each domain's frequency of occurance in the real samples.\n",
    "i.e. when domains are randomly sampled, their sampling weight is proportional to the number of samples for which they occur in the real panel data.\n",
    "\n",
    "Create fake panel data where\n",
    "- each machine,week sample from the real panel is assigned a set of domains by randomly sampling from the distribution of n_domains and the distribution of domains"
   ]
  },
  {
   "cell_type": "code",
   "execution_count": 7,
   "id": "2ecc480b",
   "metadata": {},
   "outputs": [],
   "source": [
    "from datetime import datetime\n",
    "import sys\n",
    "sys.path.append('..')\n",
    "\n",
    "import matplotlib.pyplot as plt\n",
    "import numpy as np\n",
    "import pandas as pd\n",
    "import random\n",
    "\n",
    "import floc\n",
    "\n",
    "from comscore.data import read_weeks_machines_domains\n",
    "import prefixLSH\n"
   ]
  },
  {
   "cell_type": "markdown",
   "id": "76161f2b",
   "metadata": {},
   "source": [
    "Read in the sessions data and join with the panel data as and make the distributions to randomly sample the fake panel data from:\n",
    "- n_domains distribution\n",
    "- domains distribution"
   ]
  },
  {
   "cell_type": "code",
   "execution_count": 8,
   "id": "a5cce6ac",
   "metadata": {},
   "outputs": [
    {
     "name": "stdout",
     "output_type": "stream",
     "text": [
      "reading from ../output/weeks_machines_domains.csv...\n",
      "... read 4877236 rows\n"
     ]
    },
    {
     "data": {
      "text/html": [
       "<div>\n",
       "<style scoped>\n",
       "    .dataframe tbody tr th:only-of-type {\n",
       "        vertical-align: middle;\n",
       "    }\n",
       "\n",
       "    .dataframe tbody tr th {\n",
       "        vertical-align: top;\n",
       "    }\n",
       "\n",
       "    .dataframe thead th {\n",
       "        text-align: right;\n",
       "    }\n",
       "</style>\n",
       "<table border=\"1\" class=\"dataframe\">\n",
       "  <thead>\n",
       "    <tr style=\"text-align: right;\">\n",
       "      <th></th>\n",
       "      <th>week</th>\n",
       "      <th>n_domains</th>\n",
       "    </tr>\n",
       "  </thead>\n",
       "  <tbody>\n",
       "    <tr>\n",
       "      <th>0</th>\n",
       "      <td>1</td>\n",
       "      <td>104</td>\n",
       "    </tr>\n",
       "    <tr>\n",
       "      <th>1</th>\n",
       "      <td>1</td>\n",
       "      <td>0</td>\n",
       "    </tr>\n",
       "    <tr>\n",
       "      <th>2</th>\n",
       "      <td>1</td>\n",
       "      <td>20</td>\n",
       "    </tr>\n",
       "    <tr>\n",
       "      <th>3</th>\n",
       "      <td>1</td>\n",
       "      <td>49</td>\n",
       "    </tr>\n",
       "    <tr>\n",
       "      <th>4</th>\n",
       "      <td>1</td>\n",
       "      <td>64</td>\n",
       "    </tr>\n",
       "  </tbody>\n",
       "</table>\n",
       "</div>"
      ],
      "text/plain": [
       "   week  n_domains\n",
       "0     1        104\n",
       "1     1          0\n",
       "2     1         20\n",
       "3     1         49\n",
       "4     1         64"
      ]
     },
     "execution_count": 8,
     "metadata": {},
     "output_type": "execute_result"
    }
   ],
   "source": [
    "# read in the pre-processed sessions data \n",
    "# this maps week,machine_id -> domains set\n",
    "weeks_machines_domains_fpath = '../output/weeks_machines_domains.csv'\n",
    "weeks_machines_domains_df = read_weeks_machines_domains(weeks_machines_domains_fpath)\n",
    "weeks_machines_domains_df.drop(['machine_id', 'domains'], axis=1).head()"
   ]
  },
  {
   "cell_type": "code",
   "execution_count": 9,
   "id": "fa912f56",
   "metadata": {},
   "outputs": [
    {
     "name": "stdout",
     "output_type": "stream",
     "text": [
      "read in all panels: 3302090 total rows\n",
      "520 panels\n"
     ]
    },
    {
     "data": {
      "text/html": [
       "<div>\n",
       "<style scoped>\n",
       "    .dataframe tbody tr th:only-of-type {\n",
       "        vertical-align: middle;\n",
       "    }\n",
       "\n",
       "    .dataframe tbody tr th {\n",
       "        vertical-align: top;\n",
       "    }\n",
       "\n",
       "    .dataframe thead th {\n",
       "        text-align: right;\n",
       "    }\n",
       "</style>\n",
       "<table border=\"1\" class=\"dataframe\">\n",
       "  <thead>\n",
       "    <tr style=\"text-align: right;\">\n",
       "      <th></th>\n",
       "      <th>week</th>\n",
       "      <th>n_domains</th>\n",
       "      <th>household_income</th>\n",
       "      <th>racial_background</th>\n",
       "      <th>stratify</th>\n",
       "      <th>panel_id</th>\n",
       "    </tr>\n",
       "  </thead>\n",
       "  <tbody>\n",
       "    <tr>\n",
       "      <th>0</th>\n",
       "      <td>1</td>\n",
       "      <td>40</td>\n",
       "      <td>1.0</td>\n",
       "      <td>1.0</td>\n",
       "      <td>1.0, 1.0</td>\n",
       "      <td>1</td>\n",
       "    </tr>\n",
       "    <tr>\n",
       "      <th>1</th>\n",
       "      <td>1</td>\n",
       "      <td>43</td>\n",
       "      <td>1.0</td>\n",
       "      <td>1.0</td>\n",
       "      <td>1.0, 1.0</td>\n",
       "      <td>1</td>\n",
       "    </tr>\n",
       "    <tr>\n",
       "      <th>2</th>\n",
       "      <td>1</td>\n",
       "      <td>147</td>\n",
       "      <td>1.0</td>\n",
       "      <td>1.0</td>\n",
       "      <td>1.0, 1.0</td>\n",
       "      <td>1</td>\n",
       "    </tr>\n",
       "    <tr>\n",
       "      <th>3</th>\n",
       "      <td>1</td>\n",
       "      <td>45</td>\n",
       "      <td>1.0</td>\n",
       "      <td>1.0</td>\n",
       "      <td>1.0, 1.0</td>\n",
       "      <td>1</td>\n",
       "    </tr>\n",
       "    <tr>\n",
       "      <th>4</th>\n",
       "      <td>1</td>\n",
       "      <td>22</td>\n",
       "      <td>1.0</td>\n",
       "      <td>1.0</td>\n",
       "      <td>1.0, 1.0</td>\n",
       "      <td>1</td>\n",
       "    </tr>\n",
       "  </tbody>\n",
       "</table>\n",
       "</div>"
      ],
      "text/plain": [
       "   week  n_domains  household_income  racial_background  stratify  panel_id\n",
       "0     1         40               1.0                1.0  1.0, 1.0         1\n",
       "1     1         43               1.0                1.0  1.0, 1.0         1\n",
       "2     1        147               1.0                1.0  1.0, 1.0         1\n",
       "3     1         45               1.0                1.0  1.0, 1.0         1\n",
       "4     1         22               1.0                1.0  1.0, 1.0         1"
      ]
     },
     "execution_count": 9,
     "metadata": {},
     "output_type": "execute_result"
    }
   ],
   "source": [
    "all_panels_fpath = '../output/all_panels.csv'\n",
    "all_panels_df = pd.read_csv(all_panels_fpath)\n",
    "print('read in all panels: %s total rows' % len(all_panels_df))\n",
    "print('%s panels' % all_panels_df.panel_id.nunique())\n",
    "all_panels_df.drop(['machine_id'], axis=1).head()"
   ]
  },
  {
   "cell_type": "code",
   "execution_count": 10,
   "id": "0cf058d2",
   "metadata": {},
   "outputs": [
    {
     "data": {
      "text/html": [
       "<div>\n",
       "<style scoped>\n",
       "    .dataframe tbody tr th:only-of-type {\n",
       "        vertical-align: middle;\n",
       "    }\n",
       "\n",
       "    .dataframe tbody tr th {\n",
       "        vertical-align: top;\n",
       "    }\n",
       "\n",
       "    .dataframe thead th {\n",
       "        text-align: right;\n",
       "    }\n",
       "</style>\n",
       "<table border=\"1\" class=\"dataframe\">\n",
       "  <thead>\n",
       "    <tr style=\"text-align: right;\">\n",
       "      <th></th>\n",
       "      <th>week</th>\n",
       "      <th>n_domains</th>\n",
       "      <th>household_income</th>\n",
       "      <th>racial_background</th>\n",
       "      <th>stratify</th>\n",
       "      <th>panel_id</th>\n",
       "    </tr>\n",
       "  </thead>\n",
       "  <tbody>\n",
       "    <tr>\n",
       "      <th>0</th>\n",
       "      <td>1</td>\n",
       "      <td>40</td>\n",
       "      <td>1.0</td>\n",
       "      <td>1.0</td>\n",
       "      <td>1.0, 1.0</td>\n",
       "      <td>1</td>\n",
       "    </tr>\n",
       "    <tr>\n",
       "      <th>1</th>\n",
       "      <td>1</td>\n",
       "      <td>43</td>\n",
       "      <td>1.0</td>\n",
       "      <td>1.0</td>\n",
       "      <td>1.0, 1.0</td>\n",
       "      <td>1</td>\n",
       "    </tr>\n",
       "    <tr>\n",
       "      <th>2</th>\n",
       "      <td>1</td>\n",
       "      <td>147</td>\n",
       "      <td>1.0</td>\n",
       "      <td>1.0</td>\n",
       "      <td>1.0, 1.0</td>\n",
       "      <td>1</td>\n",
       "    </tr>\n",
       "    <tr>\n",
       "      <th>3</th>\n",
       "      <td>1</td>\n",
       "      <td>45</td>\n",
       "      <td>1.0</td>\n",
       "      <td>1.0</td>\n",
       "      <td>1.0, 1.0</td>\n",
       "      <td>1</td>\n",
       "    </tr>\n",
       "    <tr>\n",
       "      <th>4</th>\n",
       "      <td>1</td>\n",
       "      <td>22</td>\n",
       "      <td>1.0</td>\n",
       "      <td>1.0</td>\n",
       "      <td>1.0, 1.0</td>\n",
       "      <td>1</td>\n",
       "    </tr>\n",
       "  </tbody>\n",
       "</table>\n",
       "</div>"
      ],
      "text/plain": [
       "   week  n_domains  household_income  racial_background  stratify  panel_id\n",
       "0     1         40               1.0                1.0  1.0, 1.0         1\n",
       "1     1         43               1.0                1.0  1.0, 1.0         1\n",
       "2     1        147               1.0                1.0  1.0, 1.0         1\n",
       "3     1         45               1.0                1.0  1.0, 1.0         1\n",
       "4     1         22               1.0                1.0  1.0, 1.0         1"
      ]
     },
     "execution_count": 10,
     "metadata": {},
     "output_type": "execute_result"
    }
   ],
   "source": [
    "weeks_machines_domains = weeks_machines_domains_df.set_index(['machine_id','week'])['domains']\n",
    "all_panels_df['domains'] = all_panels_df.set_index(['machine_id','week']).index.map(weeks_machines_domains)\n",
    "all_panels_df.drop(['machine_id','domains'], axis=1).head()"
   ]
  },
  {
   "cell_type": "code",
   "execution_count": 11,
   "id": "bd217f14",
   "metadata": {},
   "outputs": [],
   "source": [
    "n_domains_distribution = all_panels_df.n_domains"
   ]
  },
  {
   "cell_type": "code",
   "execution_count": 12,
   "id": "ae5e1f5f",
   "metadata": {},
   "outputs": [],
   "source": [
    "# make a list of all domains where the frequency they appear in the list\n",
    "# is the same as the frequency which they appear in the panel samples\n",
    "# weekly domains sets\n",
    "domains_sets = all_panels_df.domains.to_list()\n",
    "good_domains = [d for domains in domains_sets for d in domains]\n",
    "# check this matches the n_domains distribution data\n",
    "assert(len(good_domains) == n_domains_distribution.sum())"
   ]
  },
  {
   "cell_type": "code",
   "execution_count": 13,
   "id": "92a447e7",
   "metadata": {},
   "outputs": [
    {
     "name": "stdout",
     "output_type": "stream",
     "text": [
      "3356228 unique domains\n"
     ]
    }
   ],
   "source": [
    "# make map for domains distribution\n",
    "# map: {domain: frequency}\n",
    "# transform that list into the map: {domain: frequency}\n",
    "domains_distribution_map = {d: 0 for d in set(good_domains)}\n",
    "print('%s unique domains' % len(domains_distribution_map))\n",
    "for d in good_domains:\n",
    "    domains_distribution_map[d] += 1\n",
    "# and then trandform this into 2 series:\n",
    "# domains_list has an item for each domain\n",
    "# and domains_p is a list of corresponding the probabilities (weights) \n",
    "# for each domain in domains_p where the indices match\n",
    "domains_list = list(domains_distribution_map.keys())\n",
    "domains_p = [v/len(good_domains) for v in domains_distribution_map.values()]\n",
    "assert(round((sum(domains_p)), 4) == 1)"
   ]
  },
  {
   "cell_type": "markdown",
   "id": "ba066602",
   "metadata": {},
   "source": [
    "what is the fastest way to sample domains?\n",
    "\n",
    "Answer: using random.sample instead of np.random.choice"
   ]
  },
  {
   "cell_type": "code",
   "execution_count": 14,
   "id": "0a4e7096",
   "metadata": {},
   "outputs": [
    {
     "name": "stdout",
     "output_type": "stream",
     "text": [
      "The slowest run took 10.19 times longer than the fastest. This could mean that an intermediate result is being cached.\n",
      "32.3 µs ± 34.3 µs per loop (mean ± std. dev. of 7 runs, 100000 loops each)\n"
     ]
    }
   ],
   "source": [
    "%%timeit\n",
    "# use random to sample without replacement\n",
    "random.sample(good_domains, k=7)"
   ]
  },
  {
   "cell_type": "code",
   "execution_count": 15,
   "id": "583fd025",
   "metadata": {},
   "outputs": [
    {
     "name": "stdout",
     "output_type": "stream",
     "text": [
      "3.2 s ± 297 ms per loop (mean ± std. dev. of 7 runs, 1 loop each)\n"
     ]
    }
   ],
   "source": [
    "%%timeit\n",
    "# use random to sample without replacement\n",
    "np.random.choice(domains_list, replace=False, p=domains_p, size=7)"
   ]
  },
  {
   "cell_type": "code",
   "execution_count": 16,
   "id": "cba1d286",
   "metadata": {},
   "outputs": [],
   "source": [
    "random.seed(0)\n",
    "\n",
    "def get_random_domains_set(x):\n",
    "    n_domains = random.choice(n_domains_distribution)\n",
    "    return set(random.sample(\n",
    "        good_domains,\n",
    "        k=n_domains,\n",
    "    ))"
   ]
  },
  {
   "cell_type": "markdown",
   "id": "0969ba8b",
   "metadata": {},
   "source": [
    "Create alternative version of panel by copying true panel and reassigning domains."
   ]
  },
  {
   "cell_type": "code",
   "execution_count": 17,
   "id": "aaea3756",
   "metadata": {},
   "outputs": [],
   "source": [
    "all_panels_random_domains_df = all_panels_df.copy().drop(\n",
    "    ['n_domains', 'domains'], axis=1\n",
    ")"
   ]
  },
  {
   "cell_type": "code",
   "execution_count": 18,
   "id": "dc2f1f57",
   "metadata": {},
   "outputs": [
    {
     "data": {
      "text/html": [
       "<div>\n",
       "<style scoped>\n",
       "    .dataframe tbody tr th:only-of-type {\n",
       "        vertical-align: middle;\n",
       "    }\n",
       "\n",
       "    .dataframe tbody tr th {\n",
       "        vertical-align: top;\n",
       "    }\n",
       "\n",
       "    .dataframe thead th {\n",
       "        text-align: right;\n",
       "    }\n",
       "</style>\n",
       "<table border=\"1\" class=\"dataframe\">\n",
       "  <thead>\n",
       "    <tr style=\"text-align: right;\">\n",
       "      <th></th>\n",
       "      <th>machine_id</th>\n",
       "      <th>week</th>\n",
       "      <th>household_income</th>\n",
       "      <th>racial_background</th>\n",
       "      <th>stratify</th>\n",
       "      <th>panel_id</th>\n",
       "    </tr>\n",
       "  </thead>\n",
       "  <tbody>\n",
       "    <tr>\n",
       "      <th>0</th>\n",
       "      <td>225477651</td>\n",
       "      <td>1</td>\n",
       "      <td>1.0</td>\n",
       "      <td>1.0</td>\n",
       "      <td>1.0, 1.0</td>\n",
       "      <td>1</td>\n",
       "    </tr>\n",
       "    <tr>\n",
       "      <th>1</th>\n",
       "      <td>215623532</td>\n",
       "      <td>1</td>\n",
       "      <td>1.0</td>\n",
       "      <td>1.0</td>\n",
       "      <td>1.0, 1.0</td>\n",
       "      <td>1</td>\n",
       "    </tr>\n",
       "    <tr>\n",
       "      <th>2</th>\n",
       "      <td>186655210</td>\n",
       "      <td>1</td>\n",
       "      <td>1.0</td>\n",
       "      <td>1.0</td>\n",
       "      <td>1.0, 1.0</td>\n",
       "      <td>1</td>\n",
       "    </tr>\n",
       "    <tr>\n",
       "      <th>3</th>\n",
       "      <td>224752776</td>\n",
       "      <td>1</td>\n",
       "      <td>1.0</td>\n",
       "      <td>1.0</td>\n",
       "      <td>1.0, 1.0</td>\n",
       "      <td>1</td>\n",
       "    </tr>\n",
       "    <tr>\n",
       "      <th>4</th>\n",
       "      <td>207687017</td>\n",
       "      <td>1</td>\n",
       "      <td>1.0</td>\n",
       "      <td>1.0</td>\n",
       "      <td>1.0, 1.0</td>\n",
       "      <td>1</td>\n",
       "    </tr>\n",
       "  </tbody>\n",
       "</table>\n",
       "</div>"
      ],
      "text/plain": [
       "   machine_id  week  household_income  racial_background  stratify  panel_id\n",
       "0   225477651     1               1.0                1.0  1.0, 1.0         1\n",
       "1   215623532     1               1.0                1.0  1.0, 1.0         1\n",
       "2   186655210     1               1.0                1.0  1.0, 1.0         1\n",
       "3   224752776     1               1.0                1.0  1.0, 1.0         1\n",
       "4   207687017     1               1.0                1.0  1.0, 1.0         1"
      ]
     },
     "execution_count": 18,
     "metadata": {},
     "output_type": "execute_result"
    }
   ],
   "source": [
    "all_panels_random_domains_df.head()"
   ]
  },
  {
   "cell_type": "code",
   "execution_count": 19,
   "id": "7dd4f2bd",
   "metadata": {},
   "outputs": [
    {
     "name": "stdout",
     "output_type": "stream",
     "text": [
      "3302090 total samples across panels\n",
      "took 0:00:17.262246 for 100000 samples\n"
     ]
    },
    {
     "data": {
      "text/html": [
       "<div>\n",
       "<style scoped>\n",
       "    .dataframe tbody tr th:only-of-type {\n",
       "        vertical-align: middle;\n",
       "    }\n",
       "\n",
       "    .dataframe tbody tr th {\n",
       "        vertical-align: top;\n",
       "    }\n",
       "\n",
       "    .dataframe thead th {\n",
       "        text-align: right;\n",
       "    }\n",
       "</style>\n",
       "<table border=\"1\" class=\"dataframe\">\n",
       "  <thead>\n",
       "    <tr style=\"text-align: right;\">\n",
       "      <th></th>\n",
       "      <th>machine_id</th>\n",
       "      <th>week</th>\n",
       "      <th>household_income</th>\n",
       "      <th>racial_background</th>\n",
       "      <th>stratify</th>\n",
       "      <th>panel_id</th>\n",
       "      <th>domains</th>\n",
       "      <th>n_domains</th>\n",
       "    </tr>\n",
       "  </thead>\n",
       "  <tbody>\n",
       "    <tr>\n",
       "      <th>0</th>\n",
       "      <td>225477651</td>\n",
       "      <td>1</td>\n",
       "      <td>1.0</td>\n",
       "      <td>1.0</td>\n",
       "      <td>1.0, 1.0</td>\n",
       "      <td>1</td>\n",
       "      <td>{culpeperva.gov, amway.com, opentable.com, map...</td>\n",
       "      <td>22</td>\n",
       "    </tr>\n",
       "    <tr>\n",
       "      <th>1</th>\n",
       "      <td>215623532</td>\n",
       "      <td>1</td>\n",
       "      <td>1.0</td>\n",
       "      <td>1.0</td>\n",
       "      <td>1.0, 1.0</td>\n",
       "      <td>1</td>\n",
       "      <td>{viralture.com, thegymsportsbars.com, offertor...</td>\n",
       "      <td>56</td>\n",
       "    </tr>\n",
       "  </tbody>\n",
       "</table>\n",
       "</div>"
      ],
      "text/plain": [
       "   machine_id  week  household_income  racial_background  stratify  panel_id  \\\n",
       "0   225477651     1               1.0                1.0  1.0, 1.0         1   \n",
       "1   215623532     1               1.0                1.0  1.0, 1.0         1   \n",
       "\n",
       "                                             domains  n_domains  \n",
       "0  {culpeperva.gov, amway.com, opentable.com, map...         22  \n",
       "1  {viralture.com, thegymsportsbars.com, offertor...         56  "
      ]
     },
     "execution_count": 19,
     "metadata": {},
     "output_type": "execute_result"
    }
   ],
   "source": [
    "# how long will this take?\n",
    "print('%s total samples across panels' % len(all_panels_random_domains_df))\n",
    "\n",
    "# how long with just N samples?\n",
    "N = 100000\n",
    "start_time = datetime.now()\n",
    "N_all_panels_random_domains_df = all_panels_random_domains_df.head(N).copy()\n",
    "N_all_panels_random_domains_df['domains'] = N_all_panels_random_domains_df.apply(get_random_domains_set, axis=1)\n",
    "N_all_panels_random_domains_df['n_domains'] = N_all_panels_random_domains_df.domains.apply(len)\n",
    "end_time = datetime.now()\n",
    "time = end_time - start_time\n",
    "print('took %s for %s samples' % (time, N))\n",
    "N_all_panels_random_domains_df.head(2)"
   ]
  },
  {
   "cell_type": "code",
   "execution_count": 20,
   "id": "2ed01f17",
   "metadata": {},
   "outputs": [
    {
     "name": "stdout",
     "output_type": "stream",
     "text": [
      "how long might this take for the entire set of samples\n"
     ]
    },
    {
     "data": {
      "text/plain": [
       "11.006966666666665"
      ]
     },
     "execution_count": 20,
     "metadata": {},
     "output_type": "execute_result"
    }
   ],
   "source": [
    "# how many minutes will this take?\n",
    "print('how long might this take for the entire set of samples')\n",
    "len(all_panels_random_domains_df)/N * (20/60) # took about so many seconds with N"
   ]
  },
  {
   "cell_type": "code",
   "execution_count": null,
   "id": "91c4983c",
   "metadata": {},
   "outputs": [],
   "source": [
    "all_panels_random_domains_df['domains'] = all_panels_random_domains_df.apply(get_random_domains_set, axis=1)\n",
    "all_panels_random_domains_df['n_domains'] = all_panels_random_domains_df.domains.apply(len)\n",
    "# all_panels_random_domains_df.head()"
   ]
  },
  {
   "cell_type": "markdown",
   "id": "205d4254",
   "metadata": {},
   "source": [
    "Compute simhash on domains"
   ]
  },
  {
   "cell_type": "code",
   "execution_count": null,
   "id": "1a02511a",
   "metadata": {},
   "outputs": [],
   "source": [
    "# apply simhash (expect >90 mins to run)\n",
    "start_t = datetime.now()\n",
    "all_panels_random_domains_df['simhash'] = all_panels_random_domains_df.domains.apply(floc.hashes.sim_hash_string)\n",
    "print('time to compute simhash for all samples:  %s' % (datetime.now() - start_t))"
   ]
  },
  {
   "cell_type": "code",
   "execution_count": null,
   "id": "be6fae03",
   "metadata": {},
   "outputs": [],
   "source": [
    "all_panels_random_domains_df.head()"
   ]
  },
  {
   "cell_type": "markdown",
   "id": "03edc2f5",
   "metadata": {},
   "source": [
    "##### Pre-compute cohorts for each panel\n",
    "\n",
    "each sample's cohort is dependent on the rest of the simhashes in the panel\n",
    "\n",
    "for this reason, cohorts must be computed per panel"
   ]
  },
  {
   "cell_type": "code",
   "execution_count": null,
   "id": "4cee1e36",
   "metadata": {},
   "outputs": [],
   "source": [
    "min_k = 40 \n",
    "# preset all cohorts to None\n",
    "all_panels_random_domains_df['cohort'] = np.nan\n",
    "\n",
    "for panel_id in all_panels_random_domains_df.panel_id.unique():\n",
    "    t_start = datetime.now()\n",
    "    if panel_id % 1 == 0:\n",
    "        print('computing cohorts for panel %s/%s' % (panel_id, all_panels_random_domains_df.panel_id.nunique()))\n",
    "    panel_df = all_panels_random_domains_df[all_panels_random_domains_df.panel_id==panel_id]\n",
    "    cohorts_dict = prefixLSH.get_cohorts_dict(panel_df.simhash.astype(int), min_k=min_k)\n",
    "    assign_cohort = lambda x: cohorts_dict[x.simhash] if x.panel_id == panel_id else x['cohort']\n",
    "    all_panels_random_domains_df['cohort'] = all_panels_random_domains_df.apply(assign_cohort, axis=1)\n",
    "    if panel_id % 1 == 0:\n",
    "        print('took %s' % (datetime.now() - t_start))"
   ]
  },
  {
   "cell_type": "code",
   "execution_count": null,
   "id": "39e69b6e",
   "metadata": {},
   "outputs": [],
   "source": [
    "all_panels_random_domains_df.head()"
   ]
  },
  {
   "cell_type": "markdown",
   "id": "ecf54408",
   "metadata": {},
   "source": [
    "save output"
   ]
  },
  {
   "cell_type": "code",
   "execution_count": 22,
   "id": "aca9219f",
   "metadata": {},
   "outputs": [],
   "source": [
    "all_panels_random_domains_cohorts_fpath = '../output/all_panels_random_domains_cohorts.csv'"
   ]
  },
  {
   "cell_type": "code",
   "execution_count": null,
   "id": "24a97d9f",
   "metadata": {},
   "outputs": [],
   "source": [
    "print('saving to %s...' % all_panels_random_domains_cohorts_fpath)\n",
    "all_panels_random_domains_df.to_csv(all_panels_random_domains_cohorts_fpath, index=False)"
   ]
  },
  {
   "cell_type": "markdown",
   "id": "f978db05",
   "metadata": {},
   "source": [
    "script re-entry point"
   ]
  },
  {
   "cell_type": "code",
   "execution_count": 23,
   "id": "cc308809",
   "metadata": {},
   "outputs": [
    {
     "name": "stdout",
     "output_type": "stream",
     "text": [
      "read in all panels: 3302090 total rows\n",
      "520 panels\n"
     ]
    },
    {
     "data": {
      "text/html": [
       "<div>\n",
       "<style scoped>\n",
       "    .dataframe tbody tr th:only-of-type {\n",
       "        vertical-align: middle;\n",
       "    }\n",
       "\n",
       "    .dataframe tbody tr th {\n",
       "        vertical-align: top;\n",
       "    }\n",
       "\n",
       "    .dataframe thead th {\n",
       "        text-align: right;\n",
       "    }\n",
       "</style>\n",
       "<table border=\"1\" class=\"dataframe\">\n",
       "  <thead>\n",
       "    <tr style=\"text-align: right;\">\n",
       "      <th></th>\n",
       "      <th>machine_id</th>\n",
       "      <th>week</th>\n",
       "      <th>household_income</th>\n",
       "      <th>racial_background</th>\n",
       "      <th>stratify</th>\n",
       "      <th>panel_id</th>\n",
       "      <th>domains</th>\n",
       "      <th>n_domains</th>\n",
       "      <th>simhash</th>\n",
       "      <th>cohort</th>\n",
       "    </tr>\n",
       "  </thead>\n",
       "  <tbody>\n",
       "    <tr>\n",
       "      <th>0</th>\n",
       "      <td>225477651</td>\n",
       "      <td>1</td>\n",
       "      <td>1.0</td>\n",
       "      <td>1.0</td>\n",
       "      <td>1.0, 1.0</td>\n",
       "      <td>1</td>\n",
       "      <td>{'zopim.com', 'papershredders.com', 'scbar.org...</td>\n",
       "      <td>28</td>\n",
       "      <td>537139723653023</td>\n",
       "      <td>48.0</td>\n",
       "    </tr>\n",
       "    <tr>\n",
       "      <th>1</th>\n",
       "      <td>215623532</td>\n",
       "      <td>1</td>\n",
       "      <td>1.0</td>\n",
       "      <td>1.0</td>\n",
       "      <td>1.0, 1.0</td>\n",
       "      <td>1</td>\n",
       "      <td>{'hotelwifi.com', 'antiquedress.com', 'precast...</td>\n",
       "      <td>11</td>\n",
       "      <td>427938381067001</td>\n",
       "      <td>39.0</td>\n",
       "    </tr>\n",
       "    <tr>\n",
       "      <th>2</th>\n",
       "      <td>186655210</td>\n",
       "      <td>1</td>\n",
       "      <td>1.0</td>\n",
       "      <td>1.0</td>\n",
       "      <td>1.0, 1.0</td>\n",
       "      <td>1</td>\n",
       "      <td>{'midwayusa.com', 'revtrak.net', 'secretflying...</td>\n",
       "      <td>15</td>\n",
       "      <td>758903871032785</td>\n",
       "      <td>74.0</td>\n",
       "    </tr>\n",
       "    <tr>\n",
       "      <th>3</th>\n",
       "      <td>224752776</td>\n",
       "      <td>1</td>\n",
       "      <td>1.0</td>\n",
       "      <td>1.0</td>\n",
       "      <td>1.0, 1.0</td>\n",
       "      <td>1</td>\n",
       "      <td>{'smoktech.com', 'jassam1.ga', 'pse.com', 'xmo...</td>\n",
       "      <td>23</td>\n",
       "      <td>238693364699737</td>\n",
       "      <td>23.0</td>\n",
       "    </tr>\n",
       "    <tr>\n",
       "      <th>4</th>\n",
       "      <td>207687017</td>\n",
       "      <td>1</td>\n",
       "      <td>1.0</td>\n",
       "      <td>1.0</td>\n",
       "      <td>1.0, 1.0</td>\n",
       "      <td>1</td>\n",
       "      <td>{'asian18tube.com', 'sourcehov.com', 'creation...</td>\n",
       "      <td>45</td>\n",
       "      <td>138557767141420</td>\n",
       "      <td>13.0</td>\n",
       "    </tr>\n",
       "  </tbody>\n",
       "</table>\n",
       "</div>"
      ],
      "text/plain": [
       "   machine_id  week  household_income  racial_background  stratify  panel_id  \\\n",
       "0   225477651     1               1.0                1.0  1.0, 1.0         1   \n",
       "1   215623532     1               1.0                1.0  1.0, 1.0         1   \n",
       "2   186655210     1               1.0                1.0  1.0, 1.0         1   \n",
       "3   224752776     1               1.0                1.0  1.0, 1.0         1   \n",
       "4   207687017     1               1.0                1.0  1.0, 1.0         1   \n",
       "\n",
       "                                             domains  n_domains  \\\n",
       "0  {'zopim.com', 'papershredders.com', 'scbar.org...         28   \n",
       "1  {'hotelwifi.com', 'antiquedress.com', 'precast...         11   \n",
       "2  {'midwayusa.com', 'revtrak.net', 'secretflying...         15   \n",
       "3  {'smoktech.com', 'jassam1.ga', 'pse.com', 'xmo...         23   \n",
       "4  {'asian18tube.com', 'sourcehov.com', 'creation...         45   \n",
       "\n",
       "           simhash  cohort  \n",
       "0  537139723653023    48.0  \n",
       "1  427938381067001    39.0  \n",
       "2  758903871032785    74.0  \n",
       "3  238693364699737    23.0  \n",
       "4  138557767141420    13.0  "
      ]
     },
     "execution_count": 23,
     "metadata": {},
     "output_type": "execute_result"
    }
   ],
   "source": [
    "all_panels_random_domains_df = pd.read_csv(all_panels_random_domains_cohorts_fpath)\n",
    "print('read in all panels: %s total rows' % len(all_panels_random_domains_df))\n",
    "print('%s panels' % all_panels_random_domains_df.panel_id.nunique())\n",
    "all_panels_random_domains_df.head()"
   ]
  },
  {
   "cell_type": "markdown",
   "id": "200380b1",
   "metadata": {},
   "source": [
    "Inspect cohorts"
   ]
  },
  {
   "cell_type": "code",
   "execution_count": 43,
   "id": "880652b9",
   "metadata": {
    "scrolled": false
   },
   "outputs": [
    {
     "name": "stdout",
     "output_type": "stream",
     "text": [
      "using panel id: 1\n",
      "cohort sizes:\n",
      "count    111.000000\n",
      "mean      60.018018\n",
      "std       14.512053\n",
      "min       40.000000\n",
      "25%       48.000000\n",
      "50%       57.000000\n",
      "75%       70.000000\n",
      "max      101.000000\n",
      "Name: cohort, dtype: float64\n"
     ]
    },
    {
     "data": {
      "image/png": "[encoded data removed]",
      "text/plain": [
       "<Figure size 400x300 with 2 Axes>"
      ]
     },
     "metadata": {
      "needs_background": "light"
     },
     "output_type": "display_data"
    },
    {
     "name": "stdout",
     "output_type": "stream",
     "text": [
      "using panel id: 2\n",
      "cohort sizes:\n",
      "count    111.000000\n",
      "mean      60.234234\n",
      "std       14.673387\n",
      "min       40.000000\n",
      "25%       47.500000\n",
      "50%       56.000000\n",
      "75%       70.500000\n",
      "max       92.000000\n",
      "Name: cohort, dtype: float64\n"
     ]
    },
    {
     "data": {
      "image/png": "[encoded data removed]",
      "text/plain": [
       "<Figure size 400x300 with 2 Axes>"
      ]
     },
     "metadata": {
      "needs_background": "light"
     },
     "output_type": "display_data"
    },
    {
     "name": "stdout",
     "output_type": "stream",
     "text": [
      "using panel id: 3\n",
      "cohort sizes:\n",
      "count    123.000000\n",
      "mean      56.073171\n",
      "std       14.255382\n",
      "min       40.000000\n",
      "25%       46.000000\n",
      "50%       53.000000\n",
      "75%       63.000000\n",
      "max      115.000000\n",
      "Name: cohort, dtype: float64\n"
     ]
    },
    {
     "data": {
      "image/png": "[encoded data removed]",
      "text/plain": [
       "<Figure size 400x300 with 2 Axes>"
      ]
     },
     "metadata": {
      "needs_background": "light"
     },
     "output_type": "display_data"
    },
    {
     "name": "stdout",
     "output_type": "stream",
     "text": [
      "using panel id: 349\n",
      "cohort sizes:\n",
      "count    109.000000\n",
      "mean      58.000000\n",
      "std       14.566578\n",
      "min       40.000000\n",
      "25%       46.000000\n",
      "50%       54.000000\n",
      "75%       67.000000\n",
      "max      100.000000\n",
      "Name: cohort, dtype: float64\n"
     ]
    },
    {
     "data": {
      "image/png": "[encoded data removed]",
      "text/plain": [
       "<Figure size 400x300 with 2 Axes>"
      ]
     },
     "metadata": {
      "needs_background": "light"
     },
     "output_type": "display_data"
    }
   ],
   "source": [
    "# just one panel at a time\n",
    "\n",
    "panel_ids = [1, 2, 3, random.choice(all_panels_random_domains_df.panel_id.unique())]\n",
    "for panel_id in panel_ids:\n",
    "    print('using panel id: %s' % panel_id)\n",
    "    panel_df = all_panels_random_domains_df[all_panels_random_domains_df.panel_id == panel_id].copy()\n",
    "    print('cohort sizes:')\n",
    "    cohort_counts = panel_df[\"cohort\"].value_counts()\n",
    "    print(cohort_counts.describe())\n",
    "    fig,ax = plt.subplots(2,1,figsize=(4,3), sharex=True, dpi=100)\n",
    "    cohort_counts.hist(ax=ax[0])\n",
    "    ax[0].set_ylabel('cohorts')\n",
    "    ax[1].set_ylabel('cohorts')\n",
    "    _ = ax[1].set_xlabel('cohort size')\n",
    "    _ = cohort_counts.hist(ax=ax[1], bins=50)\n",
    "    plt.show()"
   ]
  },
  {
   "cell_type": "code",
   "execution_count": 38,
   "id": "ba5f5dcc",
   "metadata": {},
   "outputs": [],
   "source": [
    "def get_cohort_demo_portions_df(panel_df, demo_col):\n",
    "    df = panel_df.groupby(\n",
    "        ['cohort', demo_col]\n",
    "    ).count()['panel_id'].rename('count').to_frame().reset_index(demo_col)\n",
    "    df['total'] = panel_df.groupby('cohort').count()['panel_id']\n",
    "    df['portion'] = df['count']/df['total']\n",
    "    return df\n",
    "\n",
    "dpi = 100\n",
    "t = 0.1\n",
    "\n",
    "def plot_cohort_demo_portions(panel_df, demo_col, demo_value_names_dict):\n",
    "    cohort_demo_portions_df = get_cohort_demo_portions_df(panel_df, demo_col)\n",
    "    demo_fractions = panel_df.dropna().groupby(demo_col)['panel_id'].count() / len(panel_df.dropna())\n",
    "    \n",
    "    for val in demo_value_names_dict:\n",
    "        print('%s' % demo_value_names_dict[val])\n",
    "        cohort_demo_mean = cohort_demo_portions_df[cohort_demo_portions_df[demo_col]==val].portion.mean()\n",
    "        print('mean fraction %s across cohorts = %0.2f' % (demo_value_names_dict[val], cohort_demo_mean))\n",
    "        # Google's sensitivity analysis actually looked at avg for sensitive categories\n",
    "        # across all users rather than across cohorts\n",
    "        demo_fraction = demo_fractions[val]\n",
    "        print('fraction %s across all users in cohorts = %0.2f' % (demo_value_names_dict[val], demo_fraction))\n",
    "\n",
    "        fig,ax = plt.subplots(1,1,figsize=(6,3), dpi=dpi)\n",
    "        cohort_demo_portions_df[cohort_demo_portions_df[demo_col]==val].portion.sort_values(ascending=False).plot.bar(ax=ax, label=\"\")\n",
    "\n",
    "        ax.hlines(y=demo_fraction, xmin=0, xmax=len(ax.get_xticks()), \n",
    "                  linestyles='-', color='black', label='mean')\n",
    "        if (demo_fraction - t) > 0:\n",
    "            ax.hlines(y=demo_fraction-t, xmin=0, xmax=len(ax.get_xticks()), \n",
    "                      linestyles='--', color='black', label='mean - t=0.1')\n",
    "        ax.hlines(y=demo_fraction+t, xmin=0, xmax=len(ax.get_xticks()), \n",
    "                  linestyles='--', color='black', label='mean + t=0.1')\n",
    "        #ax.legend()\n",
    "        ax.set_xticks([])\n",
    "        ax.set_xlabel('cohorts')\n",
    "        ax.set_ylabel('fraction \"%s\"' % demo_value_names_dict[val])\n",
    "        plt.show()\n",
    "    \n",
    "    return cohort_demo_portions_df"
   ]
  },
  {
   "cell_type": "code",
   "execution_count": 39,
   "id": "75959cfe",
   "metadata": {},
   "outputs": [],
   "source": [
    "race_values = {1:'white', 2:'black', 3:'asian', 5:'other'}\n",
    "hi_values = {1:'0 to 25k', 2:'25k to 50k', 3:'50k to 100k', 4:'100k +'}\n",
    "hi_race_values = {\n",
    "    \"1.0, 1.0\": \"0 to 25k, white\",\n",
    "    \"2.0, 1.0\": \"25k to 50k, white\",\n",
    "    \"3.0, 1.0\": \"50k to 100k, white\",\n",
    "    \"4.0, 1.0\": \"100k +, white\",\n",
    "    \n",
    "    \"1.0, 2.0\": \"0 to 25k, black\",\n",
    "    \"2.0, 2.0\": \"25k to 50k, black\",\n",
    "    \"3.0, 2.0\": \"50k to 100k, black\",\n",
    "    \"4.0, 2.0\": \"100k +, black\",\n",
    "    \n",
    "    \"1.0, 3.0\": \"0 to 25k, asian\",\n",
    "    \"2.0, 3.0\": \"25k to 50k, asian\",\n",
    "    \"3.0, 3.0\": \"50k to 100k, asian\",\n",
    "    \"4.0, 3.0\": \"100k +, asian\",\n",
    "    \n",
    "    \"1.0, 5.0\": \"0 to 25k, other\",\n",
    "    \"2.0, 5.0\": \"25k to 50k, other\",\n",
    "    \"3.0, 5.0\": \"50k to 100k, other\",\n",
    "    \"4.0, 5.0\": \"100k +, other\",\n",
    "}"
   ]
  },
  {
   "cell_type": "code",
   "execution_count": 40,
   "id": "6a78d44e",
   "metadata": {},
   "outputs": [
    {
     "name": "stdout",
     "output_type": "stream",
     "text": [
      "white\n",
      "mean fraction white across cohorts = 0.78\n",
      "fraction white across all users in cohorts = 0.78\n"
     ]
    },
    {
     "data": {
      "image/png": "[encoded data removed]",
      "text/plain": [
       "<Figure size 600x300 with 1 Axes>"
      ]
     },
     "metadata": {
      "needs_background": "light"
     },
     "output_type": "display_data"
    },
    {
     "name": "stdout",
     "output_type": "stream",
     "text": [
      "black\n",
      "mean fraction black across cohorts = 0.14\n",
      "fraction black across all users in cohorts = 0.13\n"
     ]
    },
    {
     "data": {
      "image/png": "[encoded data removed]",
      "text/plain": [
       "<Figure size 600x300 with 1 Axes>"
      ]
     },
     "metadata": {
      "needs_background": "light"
     },
     "output_type": "display_data"
    },
    {
     "name": "stdout",
     "output_type": "stream",
     "text": [
      "asian\n",
      "mean fraction asian across cohorts = 0.05\n",
      "fraction asian across all users in cohorts = 0.05\n"
     ]
    },
    {
     "data": {
      "image/png": "[encoded data removed]",
      "text/plain": [
       "<Figure size 600x300 with 1 Axes>"
      ]
     },
     "metadata": {
      "needs_background": "light"
     },
     "output_type": "display_data"
    },
    {
     "name": "stdout",
     "output_type": "stream",
     "text": [
      "other\n",
      "mean fraction other across cohorts = 0.03\n",
      "fraction other across all users in cohorts = 0.03\n"
     ]
    },
    {
     "data": {
      "image/png": "[encoded data removed]",
      "text/plain": [
       "<Figure size 600x300 with 1 Axes>"
      ]
     },
     "metadata": {
      "needs_background": "light"
     },
     "output_type": "display_data"
    },
    {
     "data": {
      "text/html": [
       "<div>\n",
       "<style scoped>\n",
       "    .dataframe tbody tr th:only-of-type {\n",
       "        vertical-align: middle;\n",
       "    }\n",
       "\n",
       "    .dataframe tbody tr th {\n",
       "        vertical-align: top;\n",
       "    }\n",
       "\n",
       "    .dataframe thead th {\n",
       "        text-align: right;\n",
       "    }\n",
       "</style>\n",
       "<table border=\"1\" class=\"dataframe\">\n",
       "  <thead>\n",
       "    <tr style=\"text-align: right;\">\n",
       "      <th></th>\n",
       "      <th>racial_background</th>\n",
       "      <th>count</th>\n",
       "      <th>total</th>\n",
       "      <th>portion</th>\n",
       "    </tr>\n",
       "    <tr>\n",
       "      <th>cohort</th>\n",
       "      <th></th>\n",
       "      <th></th>\n",
       "      <th></th>\n",
       "      <th></th>\n",
       "    </tr>\n",
       "  </thead>\n",
       "  <tbody>\n",
       "    <tr>\n",
       "      <th>1.0</th>\n",
       "      <td>1.0</td>\n",
       "      <td>38</td>\n",
       "      <td>49</td>\n",
       "      <td>0.775510</td>\n",
       "    </tr>\n",
       "    <tr>\n",
       "      <th>1.0</th>\n",
       "      <td>2.0</td>\n",
       "      <td>6</td>\n",
       "      <td>49</td>\n",
       "      <td>0.122449</td>\n",
       "    </tr>\n",
       "    <tr>\n",
       "      <th>1.0</th>\n",
       "      <td>3.0</td>\n",
       "      <td>4</td>\n",
       "      <td>49</td>\n",
       "      <td>0.081633</td>\n",
       "    </tr>\n",
       "    <tr>\n",
       "      <th>1.0</th>\n",
       "      <td>5.0</td>\n",
       "      <td>1</td>\n",
       "      <td>49</td>\n",
       "      <td>0.020408</td>\n",
       "    </tr>\n",
       "    <tr>\n",
       "      <th>2.0</th>\n",
       "      <td>1.0</td>\n",
       "      <td>35</td>\n",
       "      <td>53</td>\n",
       "      <td>0.660377</td>\n",
       "    </tr>\n",
       "  </tbody>\n",
       "</table>\n",
       "</div>"
      ],
      "text/plain": [
       "        racial_background  count  total   portion\n",
       "cohort                                           \n",
       "1.0                   1.0     38     49  0.775510\n",
       "1.0                   2.0      6     49  0.122449\n",
       "1.0                   3.0      4     49  0.081633\n",
       "1.0                   5.0      1     49  0.020408\n",
       "2.0                   1.0     35     53  0.660377"
      ]
     },
     "execution_count": 40,
     "metadata": {},
     "output_type": "execute_result"
    }
   ],
   "source": [
    "race = plot_cohort_demo_portions(panel_df, 'racial_background', race_values)\n",
    "race.head()"
   ]
  },
  {
   "cell_type": "code",
   "execution_count": 41,
   "id": "b0401ce4",
   "metadata": {},
   "outputs": [
    {
     "name": "stdout",
     "output_type": "stream",
     "text": [
      "0 to 25k\n",
      "mean fraction 0 to 25k across cohorts = 0.20\n",
      "fraction 0 to 25k across all users in cohorts = 0.20\n"
     ]
    },
    {
     "data": {
      "image/png": "[encoded data removed]",
      "text/plain": [
       "<Figure size 600x300 with 1 Axes>"
      ]
     },
     "metadata": {
      "needs_background": "light"
     },
     "output_type": "display_data"
    },
    {
     "name": "stdout",
     "output_type": "stream",
     "text": [
      "25k to 50k\n",
      "mean fraction 25k to 50k across cohorts = 0.22\n",
      "fraction 25k to 50k across all users in cohorts = 0.22\n"
     ]
    },
    {
     "data": {
      "image/png": "[encoded data removed]",
      "text/plain": [
       "<Figure size 600x300 with 1 Axes>"
      ]
     },
     "metadata": {
      "needs_background": "light"
     },
     "output_type": "display_data"
    },
    {
     "name": "stdout",
     "output_type": "stream",
     "text": [
      "50k to 100k\n",
      "mean fraction 50k to 100k across cohorts = 0.29\n",
      "fraction 50k to 100k across all users in cohorts = 0.29\n"
     ]
    },
    {
     "data": {
      "image/png": "[encoded data removed]",
      "text/plain": [
       "<Figure size 600x300 with 1 Axes>"
      ]
     },
     "metadata": {
      "needs_background": "light"
     },
     "output_type": "display_data"
    },
    {
     "name": "stdout",
     "output_type": "stream",
     "text": [
      "100k +\n",
      "mean fraction 100k + across cohorts = 0.29\n",
      "fraction 100k + across all users in cohorts = 0.29\n"
     ]
    },
    {
     "data": {
      "image/png": "[encoded data removed]",
      "text/plain": [
       "<Figure size 600x300 with 1 Axes>"
      ]
     },
     "metadata": {
      "needs_background": "light"
     },
     "output_type": "display_data"
    },
    {
     "data": {
      "text/html": [
       "<div>\n",
       "<style scoped>\n",
       "    .dataframe tbody tr th:only-of-type {\n",
       "        vertical-align: middle;\n",
       "    }\n",
       "\n",
       "    .dataframe tbody tr th {\n",
       "        vertical-align: top;\n",
       "    }\n",
       "\n",
       "    .dataframe thead th {\n",
       "        text-align: right;\n",
       "    }\n",
       "</style>\n",
       "<table border=\"1\" class=\"dataframe\">\n",
       "  <thead>\n",
       "    <tr style=\"text-align: right;\">\n",
       "      <th></th>\n",
       "      <th>household_income</th>\n",
       "      <th>count</th>\n",
       "      <th>total</th>\n",
       "      <th>portion</th>\n",
       "    </tr>\n",
       "    <tr>\n",
       "      <th>cohort</th>\n",
       "      <th></th>\n",
       "      <th></th>\n",
       "      <th></th>\n",
       "      <th></th>\n",
       "    </tr>\n",
       "  </thead>\n",
       "  <tbody>\n",
       "    <tr>\n",
       "      <th>1.0</th>\n",
       "      <td>1.0</td>\n",
       "      <td>4</td>\n",
       "      <td>49</td>\n",
       "      <td>0.081633</td>\n",
       "    </tr>\n",
       "    <tr>\n",
       "      <th>1.0</th>\n",
       "      <td>2.0</td>\n",
       "      <td>15</td>\n",
       "      <td>49</td>\n",
       "      <td>0.306122</td>\n",
       "    </tr>\n",
       "    <tr>\n",
       "      <th>1.0</th>\n",
       "      <td>3.0</td>\n",
       "      <td>17</td>\n",
       "      <td>49</td>\n",
       "      <td>0.346939</td>\n",
       "    </tr>\n",
       "    <tr>\n",
       "      <th>1.0</th>\n",
       "      <td>4.0</td>\n",
       "      <td>13</td>\n",
       "      <td>49</td>\n",
       "      <td>0.265306</td>\n",
       "    </tr>\n",
       "    <tr>\n",
       "      <th>2.0</th>\n",
       "      <td>1.0</td>\n",
       "      <td>16</td>\n",
       "      <td>53</td>\n",
       "      <td>0.301887</td>\n",
       "    </tr>\n",
       "  </tbody>\n",
       "</table>\n",
       "</div>"
      ],
      "text/plain": [
       "        household_income  count  total   portion\n",
       "cohort                                          \n",
       "1.0                  1.0      4     49  0.081633\n",
       "1.0                  2.0     15     49  0.306122\n",
       "1.0                  3.0     17     49  0.346939\n",
       "1.0                  4.0     13     49  0.265306\n",
       "2.0                  1.0     16     53  0.301887"
      ]
     },
     "execution_count": 41,
     "metadata": {},
     "output_type": "execute_result"
    }
   ],
   "source": [
    "hi = plot_cohort_demo_portions(panel_df, 'household_income', hi_values)\n",
    "hi.head()"
   ]
  },
  {
   "cell_type": "code",
   "execution_count": 42,
   "id": "b80de571",
   "metadata": {
    "scrolled": false
   },
   "outputs": [
    {
     "name": "stdout",
     "output_type": "stream",
     "text": [
      "0 to 25k, white\n",
      "mean fraction 0 to 25k, white across cohorts = 0.14\n",
      "fraction 0 to 25k, white across all users in cohorts = 0.14\n"
     ]
    },
    {
     "data": {
      "image/png": "[encoded data removed]",
      "text/plain": [
       "<Figure size 600x300 with 1 Axes>"
      ]
     },
     "metadata": {
      "needs_background": "light"
     },
     "output_type": "display_data"
    },
    {
     "name": "stdout",
     "output_type": "stream",
     "text": [
      "25k to 50k, white\n",
      "mean fraction 25k to 50k, white across cohorts = 0.17\n",
      "fraction 25k to 50k, white across all users in cohorts = 0.17\n"
     ]
    },
    {
     "data": {
      "image/png": "[encoded data removed]",
      "text/plain": [
       "<Figure size 600x300 with 1 Axes>"
      ]
     },
     "metadata": {
      "needs_background": "light"
     },
     "output_type": "display_data"
    },
    {
     "name": "stdout",
     "output_type": "stream",
     "text": [
      "50k to 100k, white\n",
      "mean fraction 50k to 100k, white across cohorts = 0.23\n",
      "fraction 50k to 100k, white across all users in cohorts = 0.23\n"
     ]
    },
    {
     "data": {
      "image/png": "[encoded data removed]",
      "text/plain": [
       "<Figure size 600x300 with 1 Axes>"
      ]
     },
     "metadata": {
      "needs_background": "light"
     },
     "output_type": "display_data"
    },
    {
     "name": "stdout",
     "output_type": "stream",
     "text": [
      "100k +, white\n",
      "mean fraction 100k +, white across cohorts = 0.24\n",
      "fraction 100k +, white across all users in cohorts = 0.24\n"
     ]
    },
    {
     "data": {
      "image/png": "[encoded data removed]",
      "text/plain": [
       "<Figure size 600x300 with 1 Axes>"
      ]
     },
     "metadata": {
      "needs_background": "light"
     },
     "output_type": "display_data"
    },
    {
     "name": "stdout",
     "output_type": "stream",
     "text": [
      "0 to 25k, black\n",
      "mean fraction 0 to 25k, black across cohorts = 0.05\n",
      "fraction 0 to 25k, black across all users in cohorts = 0.04\n"
     ]
    },
    {
     "data": {
      "image/png": "[encoded data removed]",
      "text/plain": [
       "<Figure size 600x300 with 1 Axes>"
      ]
     },
     "metadata": {
      "needs_background": "light"
     },
     "output_type": "display_data"
    },
    {
     "name": "stdout",
     "output_type": "stream",
     "text": [
      "25k to 50k, black\n",
      "mean fraction 25k to 50k, black across cohorts = 0.04\n",
      "fraction 25k to 50k, black across all users in cohorts = 0.03\n"
     ]
    },
    {
     "data": {
      "image/png": "[encoded data removed]",
      "text/plain": [
       "<Figure size 600x300 with 1 Axes>"
      ]
     },
     "metadata": {
      "needs_background": "light"
     },
     "output_type": "display_data"
    },
    {
     "name": "stdout",
     "output_type": "stream",
     "text": [
      "50k to 100k, black\n",
      "mean fraction 50k to 100k, black across cohorts = 0.04\n",
      "fraction 50k to 100k, black across all users in cohorts = 0.03\n"
     ]
    },
    {
     "data": {
      "image/png": "[encoded data removed]",
      "text/plain": [
       "<Figure size 600x300 with 1 Axes>"
      ]
     },
     "metadata": {
      "needs_background": "light"
     },
     "output_type": "display_data"
    },
    {
     "name": "stdout",
     "output_type": "stream",
     "text": [
      "100k +, black\n",
      "mean fraction 100k +, black across cohorts = 0.03\n",
      "fraction 100k +, black across all users in cohorts = 0.02\n"
     ]
    },
    {
     "data": {
      "image/png": "[encoded data removed]",
      "text/plain": [
       "<Figure size 600x300 with 1 Axes>"
      ]
     },
     "metadata": {
      "needs_background": "light"
     },
     "output_type": "display_data"
    },
    {
     "name": "stdout",
     "output_type": "stream",
     "text": [
      "0 to 25k, asian\n",
      "mean fraction 0 to 25k, asian across cohorts = 0.02\n",
      "fraction 0 to 25k, asian across all users in cohorts = 0.01\n"
     ]
    },
    {
     "data": {
      "image/png": "[encoded data removed]",
      "text/plain": [
       "<Figure size 600x300 with 1 Axes>"
      ]
     },
     "metadata": {
      "needs_background": "light"
     },
     "output_type": "display_data"
    },
    {
     "name": "stdout",
     "output_type": "stream",
     "text": [
      "25k to 50k, asian\n",
      "mean fraction 25k to 50k, asian across cohorts = 0.02\n",
      "fraction 25k to 50k, asian across all users in cohorts = 0.01\n"
     ]
    },
    {
     "data": {
      "image/png": "[encoded data removed]",
      "text/plain": [
       "<Figure size 600x300 with 1 Axes>"
      ]
     },
     "metadata": {
      "needs_background": "light"
     },
     "output_type": "display_data"
    },
    {
     "name": "stdout",
     "output_type": "stream",
     "text": [
      "50k to 100k, asian\n",
      "mean fraction 50k to 100k, asian across cohorts = 0.03\n",
      "fraction 50k to 100k, asian across all users in cohorts = 0.01\n"
     ]
    },
    {
     "data": {
      "image/png": "[encoded data removed]",
      "text/plain": [
       "<Figure size 600x300 with 1 Axes>"
      ]
     },
     "metadata": {
      "needs_background": "light"
     },
     "output_type": "display_data"
    },
    {
     "name": "stdout",
     "output_type": "stream",
     "text": [
      "100k +, asian\n",
      "mean fraction 100k +, asian across cohorts = 0.03\n",
      "fraction 100k +, asian across all users in cohorts = 0.02\n"
     ]
    },
    {
     "data": {
      "image/png": "[encoded data removed]",
      "text/plain": [
       "<Figure size 600x300 with 1 Axes>"
      ]
     },
     "metadata": {
      "needs_background": "light"
     },
     "output_type": "display_data"
    },
    {
     "name": "stdout",
     "output_type": "stream",
     "text": [
      "0 to 25k, other\n",
      "mean fraction 0 to 25k, other across cohorts = 0.02\n",
      "fraction 0 to 25k, other across all users in cohorts = 0.01\n"
     ]
    },
    {
     "data": {
      "image/png": "[encoded data removed]",
      "text/plain": [
       "<Figure size 600x300 with 1 Axes>"
      ]
     },
     "metadata": {
      "needs_background": "light"
     },
     "output_type": "display_data"
    },
    {
     "name": "stdout",
     "output_type": "stream",
     "text": [
      "25k to 50k, other\n",
      "mean fraction 25k to 50k, other across cohorts = 0.02\n",
      "fraction 25k to 50k, other across all users in cohorts = 0.01\n"
     ]
    },
    {
     "data": {
      "image/png": "[encoded data removed]",
      "text/plain": [
       "<Figure size 600x300 with 1 Axes>"
      ]
     },
     "metadata": {
      "needs_background": "light"
     },
     "output_type": "display_data"
    },
    {
     "name": "stdout",
     "output_type": "stream",
     "text": [
      "50k to 100k, other\n",
      "mean fraction 50k to 100k, other across cohorts = 0.02\n",
      "fraction 50k to 100k, other across all users in cohorts = 0.01\n"
     ]
    },
    {
     "data": {
      "image/png": "[encoded data removed]",
      "text/plain": [
       "<Figure size 600x300 with 1 Axes>"
      ]
     },
     "metadata": {
      "needs_background": "light"
     },
     "output_type": "display_data"
    },
    {
     "name": "stdout",
     "output_type": "stream",
     "text": [
      "100k +, other\n",
      "mean fraction 100k +, other across cohorts = 0.02\n",
      "fraction 100k +, other across all users in cohorts = 0.01\n"
     ]
    },
    {
     "data": {
      "image/png": "[encoded data removed]",
      "text/plain": [
       "<Figure size 600x300 with 1 Axes>"
      ]
     },
     "metadata": {
      "needs_background": "light"
     },
     "output_type": "display_data"
    },
    {
     "data": {
      "text/html": [
       "<div>\n",
       "<style scoped>\n",
       "    .dataframe tbody tr th:only-of-type {\n",
       "        vertical-align: middle;\n",
       "    }\n",
       "\n",
       "    .dataframe tbody tr th {\n",
       "        vertical-align: top;\n",
       "    }\n",
       "\n",
       "    .dataframe thead th {\n",
       "        text-align: right;\n",
       "    }\n",
       "</style>\n",
       "<table border=\"1\" class=\"dataframe\">\n",
       "  <thead>\n",
       "    <tr style=\"text-align: right;\">\n",
       "      <th></th>\n",
       "      <th>stratify</th>\n",
       "      <th>count</th>\n",
       "      <th>total</th>\n",
       "      <th>portion</th>\n",
       "    </tr>\n",
       "    <tr>\n",
       "      <th>cohort</th>\n",
       "      <th></th>\n",
       "      <th></th>\n",
       "      <th></th>\n",
       "      <th></th>\n",
       "    </tr>\n",
       "  </thead>\n",
       "  <tbody>\n",
       "    <tr>\n",
       "      <th>1.0</th>\n",
       "      <td>1.0, 1.0</td>\n",
       "      <td>2</td>\n",
       "      <td>49</td>\n",
       "      <td>0.040816</td>\n",
       "    </tr>\n",
       "    <tr>\n",
       "      <th>1.0</th>\n",
       "      <td>1.0, 2.0</td>\n",
       "      <td>2</td>\n",
       "      <td>49</td>\n",
       "      <td>0.040816</td>\n",
       "    </tr>\n",
       "    <tr>\n",
       "      <th>1.0</th>\n",
       "      <td>2.0, 1.0</td>\n",
       "      <td>12</td>\n",
       "      <td>49</td>\n",
       "      <td>0.244898</td>\n",
       "    </tr>\n",
       "    <tr>\n",
       "      <th>1.0</th>\n",
       "      <td>2.0, 2.0</td>\n",
       "      <td>2</td>\n",
       "      <td>49</td>\n",
       "      <td>0.040816</td>\n",
       "    </tr>\n",
       "    <tr>\n",
       "      <th>1.0</th>\n",
       "      <td>2.0, 3.0</td>\n",
       "      <td>1</td>\n",
       "      <td>49</td>\n",
       "      <td>0.020408</td>\n",
       "    </tr>\n",
       "    <tr>\n",
       "      <th>...</th>\n",
       "      <td>...</td>\n",
       "      <td>...</td>\n",
       "      <td>...</td>\n",
       "      <td>...</td>\n",
       "    </tr>\n",
       "    <tr>\n",
       "      <th>96.0</th>\n",
       "      <td>2.0, 5.0</td>\n",
       "      <td>1</td>\n",
       "      <td>43</td>\n",
       "      <td>0.023256</td>\n",
       "    </tr>\n",
       "    <tr>\n",
       "      <th>96.0</th>\n",
       "      <td>3.0, 1.0</td>\n",
       "      <td>9</td>\n",
       "      <td>43</td>\n",
       "      <td>0.209302</td>\n",
       "    </tr>\n",
       "    <tr>\n",
       "      <th>96.0</th>\n",
       "      <td>3.0, 2.0</td>\n",
       "      <td>2</td>\n",
       "      <td>43</td>\n",
       "      <td>0.046512</td>\n",
       "    </tr>\n",
       "    <tr>\n",
       "      <th>96.0</th>\n",
       "      <td>4.0, 1.0</td>\n",
       "      <td>7</td>\n",
       "      <td>43</td>\n",
       "      <td>0.162791</td>\n",
       "    </tr>\n",
       "    <tr>\n",
       "      <th>96.0</th>\n",
       "      <td>4.0, 3.0</td>\n",
       "      <td>1</td>\n",
       "      <td>43</td>\n",
       "      <td>0.023256</td>\n",
       "    </tr>\n",
       "  </tbody>\n",
       "</table>\n",
       "<p>1070 rows × 4 columns</p>\n",
       "</div>"
      ],
      "text/plain": [
       "        stratify  count  total   portion\n",
       "cohort                                  \n",
       "1.0     1.0, 1.0      2     49  0.040816\n",
       "1.0     1.0, 2.0      2     49  0.040816\n",
       "1.0     2.0, 1.0     12     49  0.244898\n",
       "1.0     2.0, 2.0      2     49  0.040816\n",
       "1.0     2.0, 3.0      1     49  0.020408\n",
       "...          ...    ...    ...       ...\n",
       "96.0    2.0, 5.0      1     43  0.023256\n",
       "96.0    3.0, 1.0      9     43  0.209302\n",
       "96.0    3.0, 2.0      2     43  0.046512\n",
       "96.0    4.0, 1.0      7     43  0.162791\n",
       "96.0    4.0, 3.0      1     43  0.023256\n",
       "\n",
       "[1070 rows x 4 columns]"
      ]
     },
     "execution_count": 42,
     "metadata": {},
     "output_type": "execute_result"
    }
   ],
   "source": [
    "hi_race = plot_cohort_demo_portions(panel_df, 'stratify', hi_race_values)\n",
    "hi_race"
   ]
  }
 ],
 "metadata": {
  "kernelspec": {
   "display_name": ".venv",
   "language": "python",
   "name": ".venv"
  },
  "language_info": {
   "codemirror_mode": {
    "name": "ipython",
    "version": 3
   },
   "file_extension": ".py",
   "mimetype": "text/x-python",
   "name": "python",
   "nbconvert_exporter": "python",
   "pygments_lexer": "ipython3",
   "version": "3.7.1"
  }
 },
 "nbformat": 4,
 "nbformat_minor": 5
}
