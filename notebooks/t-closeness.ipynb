{
 "cells": [
  {
   "cell_type": "code",
   "execution_count": 98,
   "id": "6da68c98",
   "metadata": {
    "scrolled": true
   },
   "outputs": [],
   "source": [
    "from datetime import datetime\n",
    "import sys\n",
    "sys.path.append('..')\n",
    "\n",
    "import matplotlib.pyplot as plt\n",
    "import numpy as np\n",
    "import pandas as pd\n",
    "import random\n",
    "\n",
    "from plotnine import (ggplot, geom_point, aes, \n",
    "                      stat_smooth, facet_wrap, \n",
    "                      geom_ribbon, geom_line, \n",
    "                      xlim, ylim, labs, \n",
    "                      scale_y_continuous, \n",
    "                      theme, element_rect, \n",
    "                      element_blank, element_line, \n",
    "                      element_text, theme_minimal)\n",
    "\n",
    "import floc\n",
    "\n",
    "from comscore.data import read_weeks_machines_domains\n",
    "import prefixLSH\n",
    "\n",
    "all_panels_cohorts_fpath = '../output/all_panels_cohorts.csv'\n",
    "T = np.arange(0,0.5,0.01)\n",
    "\n",
    "## Demographic mappings\n",
    "race_values = {1:'white', 2:'black', 3:'asian', 5:'other', 'any': 'any'}\n",
    "hi_values = {1:'0 to 25k', 2:'25k to 50k', 3:'50k to 100k', 4:'100k +'}\n",
    "hi_race_values = {\n",
    "    \"1.0, 1.0\": \"0 to 25k, white\",\n",
    "    \"2.0, 1.0\": \"25k to 50k, white\",\n",
    "    \"3.0, 1.0\": \"50k to 100k, white\",\n",
    "    \"4.0, 1.0\": \"100k +, white\",\n",
    "    \n",
    "    \"1.0, 2.0\": \"0 to 25k, black\",\n",
    "    \"2.0, 2.0\": \"25k to 50k, black\",\n",
    "    \"3.0, 2.0\": \"50k to 100k, black\",\n",
    "    \"4.0, 2.0\": \"100k +, black\",\n",
    "    \n",
    "    \"1.0, 3.0\": \"0 to 25k, asian\",\n",
    "    \"2.0, 3.0\": \"25k to 50k, asian\",\n",
    "    \"3.0, 3.0\": \"50k to 100k, asian\",\n",
    "    \"4.0, 3.0\": \"100k +, asian\",\n",
    "    \n",
    "    \"1.0, 5.0\": \"0 to 25k, other\",\n",
    "    \"2.0, 5.0\": \"25k to 50k, other\",\n",
    "    \"3.0, 5.0\": \"50k to 100k, other\",\n",
    "    \"4.0, 5.0\": \"100k +, other\",\n",
    "}"
   ]
  },
  {
   "cell_type": "markdown",
   "id": "fed8e64f",
   "metadata": {},
   "source": [
    "## Functions"
   ]
  },
  {
   "cell_type": "code",
   "execution_count": 2,
   "id": "2c797e12",
   "metadata": {},
   "outputs": [],
   "source": [
    "def get_cohort_demo_portions_df(panel_df, demo_col):\n",
    "    df = panel_df.groupby(\n",
    "        ['cohort', demo_col]\n",
    "    ).count()['panel_id'].rename('count').to_frame().reset_index(demo_col)\n",
    "    df['total'] = panel_df.groupby('cohort').count()['panel_id']\n",
    "    df['portion'] = df['count']/df['total']\n",
    "    return df"
   ]
  },
  {
   "cell_type": "markdown",
   "id": "c6f46a2a",
   "metadata": {},
   "source": [
    "## 1. read in panel data with cohort IDs"
   ]
  },
  {
   "cell_type": "code",
   "execution_count": 3,
   "id": "a142ebd0",
   "metadata": {
    "scrolled": false
   },
   "outputs": [
    {
     "name": "stdout",
     "output_type": "stream",
     "text": [
      "read in all panels: 3302090 total rows\n",
      "520 panels\n"
     ]
    },
    {
     "data": {
      "text/html": [
       "<div>\n",
       "<style scoped>\n",
       "    .dataframe tbody tr th:only-of-type {\n",
       "        vertical-align: middle;\n",
       "    }\n",
       "\n",
       "    .dataframe tbody tr th {\n",
       "        vertical-align: top;\n",
       "    }\n",
       "\n",
       "    .dataframe thead th {\n",
       "        text-align: right;\n",
       "    }\n",
       "</style>\n",
       "<table border=\"1\" class=\"dataframe\">\n",
       "  <thead>\n",
       "    <tr style=\"text-align: right;\">\n",
       "      <th></th>\n",
       "      <th>machine_id</th>\n",
       "      <th>week</th>\n",
       "      <th>n_domains</th>\n",
       "      <th>household_income</th>\n",
       "      <th>racial_background</th>\n",
       "      <th>stratify</th>\n",
       "      <th>panel_id</th>\n",
       "      <th>simhash</th>\n",
       "      <th>cohort</th>\n",
       "    </tr>\n",
       "  </thead>\n",
       "  <tbody>\n",
       "    <tr>\n",
       "      <th>0</th>\n",
       "      <td>225477651</td>\n",
       "      <td>1</td>\n",
       "      <td>40</td>\n",
       "      <td>1.0</td>\n",
       "      <td>1.0</td>\n",
       "      <td>1.0, 1.0</td>\n",
       "      <td>1</td>\n",
       "      <td>1053512748232354</td>\n",
       "      <td>107.0</td>\n",
       "    </tr>\n",
       "    <tr>\n",
       "      <th>1</th>\n",
       "      <td>215623532</td>\n",
       "      <td>1</td>\n",
       "      <td>43</td>\n",
       "      <td>1.0</td>\n",
       "      <td>1.0</td>\n",
       "      <td>1.0, 1.0</td>\n",
       "      <td>1</td>\n",
       "      <td>207270634237270</td>\n",
       "      <td>20.0</td>\n",
       "    </tr>\n",
       "    <tr>\n",
       "      <th>2</th>\n",
       "      <td>186655210</td>\n",
       "      <td>1</td>\n",
       "      <td>147</td>\n",
       "      <td>1.0</td>\n",
       "      <td>1.0</td>\n",
       "      <td>1.0, 1.0</td>\n",
       "      <td>1</td>\n",
       "      <td>155255686110552</td>\n",
       "      <td>14.0</td>\n",
       "    </tr>\n",
       "    <tr>\n",
       "      <th>3</th>\n",
       "      <td>224752776</td>\n",
       "      <td>1</td>\n",
       "      <td>45</td>\n",
       "      <td>1.0</td>\n",
       "      <td>1.0</td>\n",
       "      <td>1.0, 1.0</td>\n",
       "      <td>1</td>\n",
       "      <td>765518950719653</td>\n",
       "      <td>74.0</td>\n",
       "    </tr>\n",
       "    <tr>\n",
       "      <th>4</th>\n",
       "      <td>207687017</td>\n",
       "      <td>1</td>\n",
       "      <td>22</td>\n",
       "      <td>1.0</td>\n",
       "      <td>1.0</td>\n",
       "      <td>1.0, 1.0</td>\n",
       "      <td>1</td>\n",
       "      <td>1087583118580527</td>\n",
       "      <td>110.0</td>\n",
       "    </tr>\n",
       "  </tbody>\n",
       "</table>\n",
       "</div>"
      ],
      "text/plain": [
       "   machine_id  week  n_domains  household_income  racial_background  stratify  \\\n",
       "0   225477651     1         40               1.0                1.0  1.0, 1.0   \n",
       "1   215623532     1         43               1.0                1.0  1.0, 1.0   \n",
       "2   186655210     1        147               1.0                1.0  1.0, 1.0   \n",
       "3   224752776     1         45               1.0                1.0  1.0, 1.0   \n",
       "4   207687017     1         22               1.0                1.0  1.0, 1.0   \n",
       "\n",
       "   panel_id           simhash  cohort  \n",
       "0         1  1053512748232354   107.0  \n",
       "1         1   207270634237270    20.0  \n",
       "2         1   155255686110552    14.0  \n",
       "3         1   765518950719653    74.0  \n",
       "4         1  1087583118580527   110.0  "
      ]
     },
     "execution_count": 3,
     "metadata": {},
     "output_type": "execute_result"
    }
   ],
   "source": [
    "all_panels_df = pd.read_csv(all_panels_cohorts_fpath)\n",
    "print('read in all panels: %s total rows' % len(all_panels_df))\n",
    "print('%s panels' % all_panels_df.panel_id.nunique())\n",
    "all_panels_df.head()"
   ]
  },
  {
   "cell_type": "markdown",
   "id": "567e10d2",
   "metadata": {},
   "source": [
    "### 1.1 calculate overall prevalences"
   ]
  },
  {
   "cell_type": "code",
   "execution_count": 5,
   "id": "4c4ada8b",
   "metadata": {},
   "outputs": [],
   "source": [
    "panel_id = 38\n",
    "demo_col=\"racial_background\"\n",
    "t = 0.01\n",
    "panel_df = all_panels_df[all_panels_df.panel_id == panel_id]\n",
    "cohort_demo_portions_df = get_cohort_demo_portions_df(panel_df, demo_col)\n",
    "demo_fractions = panel_df.dropna().groupby(demo_col)['panel_id'].count() / len(panel_df.dropna())\n"
   ]
  },
  {
   "cell_type": "code",
   "execution_count": null,
   "id": "4dfe6487",
   "metadata": {},
   "outputs": [],
   "source": [
    "cohort_demo_portions_df.head()"
   ]
  },
  {
   "cell_type": "code",
   "execution_count": 142,
   "id": "060fc6d0",
   "metadata": {
    "scrolled": false
   },
   "outputs": [
    {
     "data": {
      "text/html": [
       "<div>\n",
       "<style scoped>\n",
       "    .dataframe tbody tr th:only-of-type {\n",
       "        vertical-align: middle;\n",
       "    }\n",
       "\n",
       "    .dataframe tbody tr th {\n",
       "        vertical-align: top;\n",
       "    }\n",
       "\n",
       "    .dataframe thead th {\n",
       "        text-align: right;\n",
       "    }\n",
       "</style>\n",
       "<table border=\"1\" class=\"dataframe\">\n",
       "  <thead>\n",
       "    <tr style=\"text-align: right;\">\n",
       "      <th></th>\n",
       "      <th>racial_background</th>\n",
       "      <th>pct_blocked</th>\n",
       "      <th>t</th>\n",
       "    </tr>\n",
       "  </thead>\n",
       "  <tbody>\n",
       "    <tr>\n",
       "      <th>0</th>\n",
       "      <td>1.0</td>\n",
       "      <td>0.178218</td>\n",
       "      <td>0.05</td>\n",
       "    </tr>\n",
       "    <tr>\n",
       "      <th>1</th>\n",
       "      <td>2.0</td>\n",
       "      <td>0.118812</td>\n",
       "      <td>0.05</td>\n",
       "    </tr>\n",
       "    <tr>\n",
       "      <th>2</th>\n",
       "      <td>3.0</td>\n",
       "      <td>0.069307</td>\n",
       "      <td>0.05</td>\n",
       "    </tr>\n",
       "    <tr>\n",
       "      <th>3</th>\n",
       "      <td>5.0</td>\n",
       "      <td>0.019802</td>\n",
       "      <td>0.05</td>\n",
       "    </tr>\n",
       "  </tbody>\n",
       "</table>\n",
       "</div>"
      ],
      "text/plain": [
       "   racial_background  pct_blocked     t\n",
       "0                1.0     0.178218  0.05\n",
       "1                2.0     0.118812  0.05\n",
       "2                3.0     0.069307  0.05\n",
       "3                5.0     0.019802  0.05"
      ]
     },
     "execution_count": 142,
     "metadata": {},
     "output_type": "execute_result"
    }
   ],
   "source": [
    "(cohort_demo_portions_df\n",
    " .assign(population_portion = lambda x: x[demo_col].map(demo_fractions))\n",
    " .assign(t = lambda x: x.portion - x.population_portion)\n",
    " .assign(blocked = lambda x: x.t >= t)\n",
    " .reset_index()\n",
    " .assign(n_cohorts = lambda x: x.cohort.nunique())\n",
    " .groupby(['racial_background'])\n",
    " .apply(lambda x: sum(x.blocked) / x.n_cohorts)\n",
    " .reset_index()\n",
    " [['racial_background', 'n_cohorts']]\n",
    " .drop_duplicates()\n",
    "  .rename(columns={'n_cohorts': 'pct_blocked'})\n",
    " .reset_index(drop=True)\n",
    " .assign(t=t)\n",
    ")"
   ]
  },
  {
   "cell_type": "code",
   "execution_count": 116,
   "id": "454800ff",
   "metadata": {
    "scrolled": false
   },
   "outputs": [],
   "source": [
    "panel_df = all_panels_df[all_panels_df.panel_id == panel_id]\n",
    "from tqdm.notebook import tqdm\n",
    "\n",
    "# TODO: abstract out how to compute 'blocked'\n",
    "\n",
    "def calculate_blocked(df, t, method):\n",
    "    assert method in ['t-close', 'likelihood']\n",
    "    if method == 't-close':\n",
    "        # 't-close'considers a cohort to be blocked if the cohort population's frequency\n",
    "        # for a category is at least `t` greater than the base population frequency\n",
    "        return (df\n",
    "              .assign(population_portion = lambda x: x[demo_col].map(demo_fractions))\n",
    "              .assign(t = lambda x: x.portion - x.population_portion)\n",
    "              .assign(blocked = lambda x: x.t >= t))\n",
    "    elif method == 'likelihood':\n",
    "        # 'likelihood'considers a cohort to be blocked if the cohort population's frequency\n",
    "        # for a category is twice that of the base population frequency\n",
    "        return (df\n",
    "              .assign(population_portion = lambda x: x[demo_col].map(demo_fractions))\n",
    "              .assign(t = lambda x: x.portion - x.population_portion)\n",
    "              .assign(blocked = lambda x: x.t >= (x.population_portion)))\n",
    "\n",
    "        \n",
    "\n",
    "def calculate_pct_blocked(panel_df, demo_col, t, blocked_method):\n",
    "    \"\"\"demo_col, 'pct_blocked'\n",
    "    \"\"\"\n",
    "    cohort_demo_portions_df = get_cohort_demo_portions_df(panel_df, demo_col)\n",
    "    demo_fractions = panel_df.dropna().groupby(demo_col)['panel_id'].count() / len(panel_df.dropna())\n",
    "    \n",
    "    # calculate the total number of cohorts that are blocked. \n",
    "    # a cohort is blocked here if any racial category is 'blocked' within that cohort.\n",
    "    total_pct_blocked = (cohort_demo_portions_df\n",
    "     .pipe(calculate_blocked, t=t, method=blocked_method)\n",
    "     .reset_index()\n",
    "     .assign(n_cohorts = lambda x: x.cohort.nunique())\n",
    "     .groupby('cohort')\n",
    "     .agg({'blocked': lambda x: sum(x) > 0})\n",
    "                    ).pipe(lambda df: df.blocked.sum() / len(df))\n",
    "    all_blocked_df = pd.DataFrame({demo_col: ['any'],\n",
    "                                 'pct_blocked': [total_pct_blocked],\n",
    "                                 't': [t]})\n",
    "    \n",
    "    return (cohort_demo_portions_df\n",
    "            # create population_portion, t, and blocked columns according to our method. \n",
    "     .pipe(calculate_blocked, t=t, method=blocked_method)\n",
    "     .reset_index()\n",
    "            # calculate percentage of cohorts, grouped by racial_background, that are blocked.\n",
    "     .assign(n_cohorts = lambda x: x.cohort.nunique())\n",
    "     .groupby([demo_col])\n",
    "     .apply(lambda x: sum(x.blocked) / x.n_cohorts)\n",
    "     .reset_index()\n",
    "            # becuase we use `apply` above, drop duplicates to get only demo_col, pct_blocked\n",
    "     [[demo_col, 'n_cohorts']]\n",
    "     .drop_duplicates()\n",
    "     .rename(columns={'n_cohorts': 'pct_blocked'})\n",
    "     .reset_index(drop=True)\n",
    "     .assign(t=t)\n",
    "            # then, concatenate with our all_blocked_df with a demo_col of `any`\n",
    "    ).pipe(lambda df: pd.concat([df, all_blocked_df]))\n",
    "\n",
    "def panel_t_closeness(panel_df, demo_col, method, T=T):\n",
    "    \"\"\"calculates t-closeness for a range of t values for a given demographic column and\n",
    "    panel dataframe.\n",
    "    returns a dataframe with the following columns\n",
    "    \"\"\"\n",
    "    return pd.concat([calculate_pct_blocked(panel_df, demo_col, t, blocked_method=method) for t in T])\n",
    "\n",
    "def all_panels_t_closeness(all_panels_df, demo_col, method, T=T, panel_ids=None):\n",
    "    if panel_ids is None:\n",
    "        panel_ids = all_panels_df.panel_id\n",
    "    panels = [all_panels_df[all_panels_df.panel_id == panel_id] for panel_id in panel_ids]\n",
    "    print(\"Extracted {} panels. computing t-closeness using method {}\".format(len(panel_ids), method))\n",
    "    t_closeness_dfs = [panel_t_closeness(panel, demo_col, method, T).assign(panel_id=panel_id) for panel, panel_id in tqdm(zip(panels, panel_ids))]\n",
    "    return pd.concat(t_closeness_dfs)"
   ]
  },
  {
   "cell_type": "markdown",
   "id": "e25b5a2b",
   "metadata": {},
   "source": [
    "### 1.2 Plot curves for each demographic group"
   ]
  },
  {
   "cell_type": "code",
   "execution_count": 117,
   "id": "4a22e74a",
   "metadata": {
    "scrolled": false
   },
   "outputs": [
    {
     "name": "stdout",
     "output_type": "stream",
     "text": [
      "Extracted 10 panels. computing t-closeness using method t-close\n"
     ]
    },
    {
     "data": {
      "application/vnd.jupyter.widget-view+json": {
       "model_id": "0576271d1ed344d580050b723e54a857",
       "version_major": 2,
       "version_minor": 0
      },
      "text/plain": [
       "0it [00:00, ?it/s]"
      ]
     },
     "metadata": {},
     "output_type": "display_data"
    },
    {
     "data": {
      "image/png": "[encoded data removed]",
      "text/plain": [
       "<Figure size 640x480 with 1 Axes>"
      ]
     },
     "metadata": {
      "needs_background": "light"
     },
     "output_type": "display_data"
    },
    {
     "data": {
      "text/plain": [
       "<ggplot: (386434024)>"
      ]
     },
     "execution_count": 117,
     "metadata": {},
     "output_type": "execute_result"
    }
   ],
   "source": [
    "\n",
    "\n",
    "panels = np.random.choice(all_panels_df.panel_id, size=10)\n",
    "tt = all_panels_t_closeness(all_panels_df, demo_col, method='t-close', panel_ids = panels)\n",
    "\n",
    "df = (tt\n",
    " .assign(racial_background = lambda x: x.racial_background.map(race_values))\n",
    " .groupby(['t', 'racial_background'])\n",
    " .agg({'pct_blocked': [np.mean, \n",
    "                               lambda x: np.mean(x) + 1.96*np.std(x),\n",
    "                               lambda x: np.mean(x) - 1.96*np.std(x)]})\n",
    " .set_axis(['pct_blocked', 'upper', 'lower'], axis=1, inplace=False)\n",
    " .reset_index()\n",
    ")\n",
    "\n",
    "(ggplot() +\n",
    "# geom_ribbon(aes(x='t', ymin='lower', ymax='upper'), alpha=0.02, linetype='dashed', size=0.3) +\n",
    " geom_line(aes(x='t', y='pct_blocked', color='racial_background'), data=df) +\n",
    "# geom_line(aes(x='t', y='pct_blocked'), data=df_mean) +\n",
    " labs(y=\"Fraction of Cohorts Blocked\",\n",
    "    x=\"t\",\n",
    "    color=\"Racial Background\") +\n",
    " theme_minimal() +\n",
    " scale_y_continuous(labels=lambda l: [\"%d%%\" % (v * 100) for v in l])\n",
    "# ylim(0, 0.25) +\n",
    "# xlim(0, 0.5)\n",
    ")"
   ]
  },
  {
   "cell_type": "markdown",
   "id": "629d1317",
   "metadata": {},
   "source": [
    "### 1.3 Plot boxplot for each group using \"likelihood\""
   ]
  },
  {
   "cell_type": "code",
   "execution_count": null,
   "id": "02ff5d01",
   "metadata": {},
   "outputs": [],
   "source": [
    "panels = np.random.choice(all_panels_df.panel_id, size=10)\n",
    "tt = all_panels_t_closeness(all_panels_df, demo_col, method='likelihood', panel_ids = panels)"
   ]
  },
  {
   "cell_type": "code",
   "execution_count": 146,
   "id": "e9fb7f23",
   "metadata": {
    "scrolled": false
   },
   "outputs": [
    {
     "data": {
      "image/png": "[encoded data removed]",
      "text/plain": [
       "<Figure size 640x480 with 1 Axes>"
      ]
     },
     "metadata": {
      "needs_background": "light"
     },
     "output_type": "display_data"
    },
    {
     "data": {
      "text/plain": [
       "<ggplot: (385918865)>"
      ]
     },
     "execution_count": 146,
     "metadata": {},
     "output_type": "execute_result"
    }
   ],
   "source": [
    "from plotnine import geom_bar, geom_boxplot\n",
    "\n",
    "\n",
    "df = (tt\n",
    " .assign(racial_background = lambda x: x.racial_background.map(race_values))\n",
    "      .drop(['t'], axis=1)\n",
    "      .drop_duplicates()\n",
    ")\n",
    "\n",
    "(ggplot() +\n",
    "# geom_ribbon(aes(x='t', ymin='lower', ymax='upper'), alpha=0.02, linetype='dashed', size=0.3) +\n",
    " geom_boxplot(aes(x='racial_background', y='pct_blocked'), data=df) +\n",
    "# geom_line(aes(x='t', y='pct_blocked'), data=df_mean) +\n",
    " labs(y=\"Fraction of Cohorts Blocked\",\n",
    "    x=\"Race\",\n",
    "    color=\"Racial Background\") +\n",
    " theme_minimal() +\n",
    " scale_y_continuous(labels=lambda l: [\"%d%%\" % (v * 100) for v in l])\n",
    ")"
   ]
  },
  {
   "cell_type": "markdown",
   "id": "6d37bbe1",
   "metadata": {},
   "source": [
    "---"
   ]
  },
  {
   "cell_type": "markdown",
   "id": "817ce045",
   "metadata": {},
   "source": [
    "## Old Code"
   ]
  },
  {
   "cell_type": "code",
   "execution_count": null,
   "id": "efdbf845",
   "metadata": {},
   "outputs": [],
   "source": [
    "def plot_t_closeness(panel_df, demo_col, demo_value_names_dict):\n",
    "    cohort_demo_portions_df = get_cohort_demo_portions_df(panel_df, demo_col)\n",
    "    demo_fractions = panel_df.dropna().groupby(demo_col)['panel_id'].count() / len(panel_df.dropna())\n",
    "    \n",
    "    for val in demo_value_names_dict:\n",
    "        print('%s' % demo_value_names_dict[val])\n",
    "        cohort_demo_mean = cohort_demo_portions_df[cohort_demo_portions_df[demo_col]==val].portion.mean()\n",
    "        print('mean fraction %s across cohorts = %0.2f' % (demo_value_names_dict[val], cohort_demo_mean))\n",
    "        # Google's sensitivity analysis actually looked at avg for sensitive categories\n",
    "        # across all users rather than across cohorts\n",
    "        demo_fraction = demo_fractions[val]\n",
    "        print('fraction %s across all users in cohorts = %0.2f' % (demo_value_names_dict[val], demo_fraction))\n",
    "\n",
    "        fig,ax = plt.subplots(1,1,figsize=(6,3), dpi=dpi)\n",
    "        cohort_demo_portions_df[cohort_demo_portions_df[demo_col]==val].portion.sort_values(ascending=False).plot.bar(ax=ax, label=\"\")\n",
    "\n",
    "        ax.hlines(y=demo_fraction, xmin=0, xmax=len(ax.get_xticks()), \n",
    "                  linestyles='-', color='black', label='mean')\n",
    "        if (demo_fraction - t) > 0:\n",
    "            ax.hlines(y=demo_fraction-t, xmin=0, xmax=len(ax.get_xticks()), \n",
    "                      linestyles='--', color='black', label='mean - t=0.1')\n",
    "        ax.hlines(y=demo_fraction+t, xmin=0, xmax=len(ax.get_xticks()), \n",
    "                  linestyles='--', color='black', label='mean + t=0.1')\n",
    "        #ax.legend()\n",
    "        ax.set_xticks([])\n",
    "        ax.set_xlabel('cohorts')\n",
    "        ax.set_ylabel('fraction \"%s\"' % demo_value_names_dict[val])\n",
    "        plt.show()\n",
    "    \n",
    "    return cohort_demo_portions_df"
   ]
  },
  {
   "cell_type": "code",
   "execution_count": null,
   "id": "0b06a68c",
   "metadata": {},
   "outputs": [],
   "source": [
    "demo_col='race'\n",
    "\n",
    "cohort_demo_portions_df = get_cohort_demo_portions_df(panel_df, demo_col)\n",
    "demo_fractions = panel_df.dropna().groupby(demo_col)['panel_id'].count() / len(panel_df.dropna())"
   ]
  },
  {
   "cell_type": "code",
   "execution_count": null,
   "id": "1c070371",
   "metadata": {},
   "outputs": [],
   "source": [
    "\n",
    "cohort_demo_portions_df = get_cohort_demo_portions_df(panel_df, demo_col)\n",
    "demo_fractions = panel_df.dropna().groupby(demo_col)['panel_id'].count() / len(panel_df.dropna())\n",
    "\n",
    "for val in demo_value_names_dict:\n",
    "    print('%s' % demo_value_names_dict[val])\n",
    "    cohort_demo_mean = cohort_demo_portions_df[cohort_demo_portions_df[demo_col]==val].portion.mean()\n",
    "    print('mean fraction %s across cohorts = %0.2f' % (demo_value_names_dict[val], cohort_demo_mean))\n",
    "    # Google's sensitivity analysis actually looked at avg for sensitive categories\n",
    "    # across all users rather than across cohorts\n",
    "    demo_fraction = demo_fractions[val]\n",
    "    print('fraction %s across all users in cohorts = %0.2f' % (demo_value_names_dict[val], demo_fraction))\n",
    "\n",
    "    fig,ax = plt.subplots(1,1,figsize=(6,3), dpi=dpi)\n",
    "    cohort_demo_portions_df[cohort_demo_portions_df[demo_col]==val].portion.sort_values(ascending=False).plot.bar(ax=ax, label=\"\")\n",
    "    "
   ]
  }
 ],
 "metadata": {
  "kernelspec": {
   "display_name": "Python 3 (ipykernel)",
   "language": "python",
   "name": "python3"
  },
  "language_info": {
   "codemirror_mode": {
    "name": "ipython",
    "version": 3
   },
   "file_extension": ".py",
   "mimetype": "text/x-python",
   "name": "python",
   "nbconvert_exporter": "python",
   "pygments_lexer": "ipython3",
   "version": "3.9.1"
  }
 },
 "nbformat": 4,
 "nbformat_minor": 5
}
