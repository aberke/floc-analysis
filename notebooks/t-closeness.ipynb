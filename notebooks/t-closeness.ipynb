{
 "cells": [
  {
   "cell_type": "code",
   "execution_count": 16,
   "id": "6da68c98",
   "metadata": {
    "scrolled": true
   },
   "outputs": [],
   "source": [
    "from datetime import datetime\n",
    "import sys\n",
    "sys.path.append('..')\n",
    "\n",
    "from pqdm.processes import pqdm\n",
    "from tqdm.notebook import tqdm\n",
    "import matplotlib.pyplot as plt\n",
    "import numpy as np\n",
    "import pandas as pd\n",
    "import random\n",
    "\n",
    "from plotnine import (ggplot, geom_point, aes, \n",
    "                      stat_smooth, facet_wrap, \n",
    "                      geom_ribbon, geom_line, \n",
    "                      xlim, ylim, labs, \n",
    "                      scale_y_continuous, \n",
    "                      theme, element_rect, \n",
    "                      element_blank, element_line, \n",
    "                      element_text, theme_minimal)\n",
    "from plotnine.coords import coord_cartesian\n",
    "\n",
    "import floc\n",
    "\n",
    "from comscore.data import read_weeks_machines_domains\n",
    "import prefixLSH\n",
    "\n",
    "all_panels_cohorts_fpath = '../output/all_panels_cohorts.csv'\n",
    "T = np.arange(0,0.5,0.01)\n",
    "\n",
    "## Demographic mappings\n",
    "race_values = {1:'white', 2:'black', 3:'asian', 5:'other', 'any': 'any'}\n",
    "hi_values = {1:'0 to 25k', 2:'25k to 50k', 3:'50k to 100k', 4:'100k +', 'any': 'any'}\n",
    "hi_race_values = {\n",
    "    \"1.0, 1.0\": \"0 to 25k, white\",\n",
    "    \"2.0, 1.0\": \"25k to 50k, white\",\n",
    "    \"3.0, 1.0\": \"50k to 100k, white\",\n",
    "    \"4.0, 1.0\": \"100k +, white\",\n",
    "    \n",
    "    \"1.0, 2.0\": \"0 to 25k, black\",\n",
    "    \"2.0, 2.0\": \"25k to 50k, black\",\n",
    "    \"3.0, 2.0\": \"50k to 100k, black\",\n",
    "    \"4.0, 2.0\": \"100k +, black\",\n",
    "    \n",
    "    \"1.0, 3.0\": \"0 to 25k, asian\",\n",
    "    \"2.0, 3.0\": \"25k to 50k, asian\",\n",
    "    \"3.0, 3.0\": \"50k to 100k, asian\",\n",
    "    \"4.0, 3.0\": \"100k +, asian\",\n",
    "    \n",
    "    \"1.0, 5.0\": \"0 to 25k, other\",\n",
    "    \"2.0, 5.0\": \"25k to 50k, other\",\n",
    "    \"3.0, 5.0\": \"50k to 100k, other\",\n",
    "    \"4.0, 5.0\": \"100k +, other\",\n",
    "    \"any\": \"any\"\n",
    "}"
   ]
  },
  {
   "cell_type": "markdown",
   "id": "fed8e64f",
   "metadata": {},
   "source": [
    "## Functions"
   ]
  },
  {
   "cell_type": "code",
   "execution_count": 8,
   "id": "2c797e12",
   "metadata": {},
   "outputs": [],
   "source": [
    "def get_cohort_demo_portions_df(panel_df, demo_col):\n",
    "    df = panel_df.groupby(\n",
    "        ['cohort', demo_col]\n",
    "    ).count()['panel_id'].rename('count').to_frame().reset_index(demo_col)\n",
    "    df['total'] = panel_df.groupby('cohort').count()['panel_id']\n",
    "    df['portion'] = df['count']/df['total']\n",
    "    return df\n",
    "\n",
    "\n",
    "def calculate_blocked(df, t, method, demo_col, demo_fractions):\n",
    "    # calculates for each row in `df` whether a cohort is blocked, depending on `method`.\n",
    "    assert method in ['t-close', 'likelihood']\n",
    "    if method == 't-close':\n",
    "        # 't-close'considers a cohort to be blocked if the cohort population's frequency\n",
    "        # for a category is at least `t` greater than the base population frequency\n",
    "        return (df\n",
    "              .assign(population_portion = lambda x: x[demo_col].map(demo_fractions))\n",
    "              .assign(t = lambda x: x.portion - x.population_portion)\n",
    "              .assign(blocked = lambda x: x.t >= t))\n",
    "    elif method == 'likelihood':\n",
    "        # 'likelihood'considers a cohort to be blocked if the cohort population's frequency\n",
    "        # for a category is twice that of the base population frequency\n",
    "        return (df\n",
    "              .assign(population_portion = lambda x: x[demo_col].map(demo_fractions))\n",
    "              .assign(t = lambda x: x.portion - x.population_portion)\n",
    "              .assign(blocked = lambda x: x.t >= (x.population_portion)))\n",
    "\n",
    "        \n",
    "\n",
    "def calculate_pct_blocked(panel_df, demo_col, t, blocked_method):\n",
    "    \"\"\"demo_col, 'pct_blocked'\n",
    "    \"\"\"\n",
    "    cohort_demo_portions_df = get_cohort_demo_portions_df(panel_df, demo_col)\n",
    "    demo_fractions = panel_df.dropna().groupby(demo_col)['panel_id'].count() / len(panel_df.dropna())\n",
    "    \n",
    "    # calculate the total number of cohorts that are blocked. \n",
    "    # a cohort is blocked here if any racial category is 'blocked' within that cohort.\n",
    "    total_pct_blocked = (cohort_demo_portions_df\n",
    "     .pipe(calculate_blocked, t=t, method=blocked_method, demo_col=demo_col, demo_fractions=demo_fractions)\n",
    "     .reset_index()\n",
    "     .assign(n_cohorts = lambda x: x.cohort.nunique())\n",
    "     .groupby('cohort')\n",
    "     .agg({'blocked': lambda x: sum(x) > 0})\n",
    "                    ).pipe(lambda df: df.blocked.sum() / len(df))\n",
    "    all_blocked_df = pd.DataFrame({demo_col: ['any'],\n",
    "                                 'pct_blocked': [total_pct_blocked],\n",
    "                                 't': [t]})\n",
    "    \n",
    "    return (cohort_demo_portions_df\n",
    "            # create population_portion, t, and blocked columns according to our method. \n",
    "     .pipe(calculate_blocked, t=t, method=blocked_method, demo_col=demo_col, demo_fractions=demo_fractions)\n",
    "     .reset_index()\n",
    "            # calculate percentage of cohorts, grouped by racial_background, that are blocked.\n",
    "     .assign(n_cohorts = lambda x: x.cohort.nunique())\n",
    "     .groupby([demo_col])\n",
    "     .apply(lambda x: sum(x.blocked) / x.n_cohorts)\n",
    "     .reset_index()\n",
    "            # becuase we use `apply` above, drop duplicates to get only demo_col, pct_blocked\n",
    "     [[demo_col, 'n_cohorts']]\n",
    "     .drop_duplicates()\n",
    "     .rename(columns={'n_cohorts': 'pct_blocked'})\n",
    "     .reset_index(drop=True)\n",
    "     .assign(t=t)\n",
    "            # then, concatenate with our all_blocked_df with a demo_col of `any`\n",
    "    ).pipe(lambda df: pd.concat([df, all_blocked_df]))\n",
    "\n",
    "def panel_t_closeness(panel_df, demo_col, method, T=T):\n",
    "    \"\"\"calculates t-closeness for a range of t values for a given demographic column and\n",
    "    panel dataframe.\n",
    "    returns a dataframe with the following columns\n",
    "    \"\"\"\n",
    "    return pd.concat([calculate_pct_blocked(panel_df, demo_col, t, blocked_method=method) for t in T])\n",
    "\n",
    "def all_panels_t_closeness(all_panels_df, demo_col, method, T=T, panel_ids=None, parallel=True):\n",
    "    \"\"\"Calculates t-closeness percentages across values of `demo_col` for a given \n",
    "    `all_panels_df` and value of `t`. If method is `likelihood`, t is IGNORED.\n",
    "    \"\"\"\n",
    "    from joblib import Parallel, delayed\n",
    "    if panel_ids is None:\n",
    "        panel_ids = all_panels_df.panel_id\n",
    "    panels = [all_panels_df[all_panels_df.panel_id == panel_id] for panel_id in panel_ids]\n",
    "    print(\"Extracted {} panels. computing t-closeness using method {}, parallel={}\".format(len(panel_ids), method, parallel))\n",
    "    if parallel:\n",
    "        t_closeness_dfs = Parallel(n_jobs=-1)(delayed(panel_t_closeness)(panel, demo_col, method, T) for panel in tqdm(panels))\n",
    "        t_closeness_dfs = [t.assign(panel_id=panel_id) for t, panel_id in zip(t_closeness_dfs, panel_ids)]\n",
    "    else:\n",
    "        t_closeness_dfs = [panel_t_closeness(panel, demo_col, method, T).assign(panel_id=panel_id) for panel, panel_id in tqdm(zip(panels, panel_ids))]\n",
    "    \n",
    "    return pd.concat(t_closeness_dfs)"
   ]
  },
  {
   "cell_type": "code",
   "execution_count": 18,
   "id": "13e411f7",
   "metadata": {},
   "outputs": [],
   "source": [
    "def get_value_map(demo_col):\n",
    "    if demo_col == 'racial_background':\n",
    "        return race_values\n",
    "    elif demo_col == 'household_income':\n",
    "        return hi_values\n",
    "    elif demo_col == 'stratify':\n",
    "        return hi_race_values\n",
    "\n",
    "def plot_t_closeness_curves(all_panels_df, demo_col, n_panels=None, parallel=True):\n",
    "    if n_panels is None:\n",
    "        n_panels = all_panels_df.panel_id.nunique()\n",
    "    panels = np.random.choice(all_panels_df.panel_id, size=n_panels)\n",
    "    tt = all_panels_t_closeness(all_panels_df, demo_col, method='t-close', panel_ids = panels, parallel=parallel)\n",
    "    df = (tt\n",
    "     .assign(**{demo_col: lambda x: x[demo_col].map(get_value_map(demo_col))})\n",
    "     .groupby(['t', demo_col])\n",
    "     .agg({'pct_blocked': [np.mean, \n",
    "                                   lambda x: np.mean(x) + 1.96*np.std(x),\n",
    "                                   lambda x: np.mean(x) - 1.96*np.std(x)]})\n",
    "     .set_axis(['pct_blocked', 'upper', 'lower'], axis=1, inplace=False)\n",
    "     .reset_index()\n",
    "    )\n",
    "\n",
    "    return (ggplot() +\n",
    "     geom_ribbon(aes(x='t', ymin='lower', ymax='upper', color=demo_col), data=df, alpha=0.02, linetype='dashed', size=0.3) +\n",
    "     geom_line(aes(x='t', y='pct_blocked', color=demo_col), data=df) +\n",
    "    # geom_line(aes(x='t', y='pct_blocked'), data=df_mean) +\n",
    "     labs(y=\"Fraction of Cohorts Blocked\",\n",
    "        x=\"t\") +\n",
    "     theme_minimal() +\n",
    "     scale_y_continuous(labels=lambda l: [\"%d%%\" % (v * 100) for v in l]) +\n",
    "     coord_cartesian(ylim = (0, 0.5), xlim = (0,0.5))\n",
    "    # xlim(0, 0.5)\n",
    "    )"
   ]
  },
  {
   "cell_type": "markdown",
   "id": "c6f46a2a",
   "metadata": {},
   "source": [
    "## 1. read in panel data with cohort IDs"
   ]
  },
  {
   "cell_type": "code",
   "execution_count": 4,
   "id": "a142ebd0",
   "metadata": {
    "scrolled": false
   },
   "outputs": [
    {
     "name": "stdout",
     "output_type": "stream",
     "text": [
      "read in all panels: 3302090 total rows\n",
      "520 panels\n"
     ]
    },
    {
     "data": {
      "text/html": [
       "<div>\n",
       "<style scoped>\n",
       "    .dataframe tbody tr th:only-of-type {\n",
       "        vertical-align: middle;\n",
       "    }\n",
       "\n",
       "    .dataframe tbody tr th {\n",
       "        vertical-align: top;\n",
       "    }\n",
       "\n",
       "    .dataframe thead th {\n",
       "        text-align: right;\n",
       "    }\n",
       "</style>\n",
       "<table border=\"1\" class=\"dataframe\">\n",
       "  <thead>\n",
       "    <tr style=\"text-align: right;\">\n",
       "      <th></th>\n",
       "      <th>machine_id</th>\n",
       "      <th>week</th>\n",
       "      <th>n_domains</th>\n",
       "      <th>household_income</th>\n",
       "      <th>racial_background</th>\n",
       "      <th>stratify</th>\n",
       "      <th>panel_id</th>\n",
       "      <th>simhash</th>\n",
       "      <th>cohort</th>\n",
       "    </tr>\n",
       "  </thead>\n",
       "  <tbody>\n",
       "    <tr>\n",
       "      <th>0</th>\n",
       "      <td>225477651</td>\n",
       "      <td>1</td>\n",
       "      <td>40</td>\n",
       "      <td>1.0</td>\n",
       "      <td>1.0</td>\n",
       "      <td>1.0, 1.0</td>\n",
       "      <td>1</td>\n",
       "      <td>1053512748232354</td>\n",
       "      <td>107.0</td>\n",
       "    </tr>\n",
       "    <tr>\n",
       "      <th>1</th>\n",
       "      <td>215623532</td>\n",
       "      <td>1</td>\n",
       "      <td>43</td>\n",
       "      <td>1.0</td>\n",
       "      <td>1.0</td>\n",
       "      <td>1.0, 1.0</td>\n",
       "      <td>1</td>\n",
       "      <td>207270634237270</td>\n",
       "      <td>20.0</td>\n",
       "    </tr>\n",
       "    <tr>\n",
       "      <th>2</th>\n",
       "      <td>186655210</td>\n",
       "      <td>1</td>\n",
       "      <td>147</td>\n",
       "      <td>1.0</td>\n",
       "      <td>1.0</td>\n",
       "      <td>1.0, 1.0</td>\n",
       "      <td>1</td>\n",
       "      <td>155255686110552</td>\n",
       "      <td>14.0</td>\n",
       "    </tr>\n",
       "    <tr>\n",
       "      <th>3</th>\n",
       "      <td>224752776</td>\n",
       "      <td>1</td>\n",
       "      <td>45</td>\n",
       "      <td>1.0</td>\n",
       "      <td>1.0</td>\n",
       "      <td>1.0, 1.0</td>\n",
       "      <td>1</td>\n",
       "      <td>765518950719653</td>\n",
       "      <td>74.0</td>\n",
       "    </tr>\n",
       "    <tr>\n",
       "      <th>4</th>\n",
       "      <td>207687017</td>\n",
       "      <td>1</td>\n",
       "      <td>22</td>\n",
       "      <td>1.0</td>\n",
       "      <td>1.0</td>\n",
       "      <td>1.0, 1.0</td>\n",
       "      <td>1</td>\n",
       "      <td>1087583118580527</td>\n",
       "      <td>110.0</td>\n",
       "    </tr>\n",
       "  </tbody>\n",
       "</table>\n",
       "</div>"
      ],
      "text/plain": [
       "   machine_id  week  n_domains  household_income  racial_background  stratify  \\\n",
       "0   225477651     1         40               1.0                1.0  1.0, 1.0   \n",
       "1   215623532     1         43               1.0                1.0  1.0, 1.0   \n",
       "2   186655210     1        147               1.0                1.0  1.0, 1.0   \n",
       "3   224752776     1         45               1.0                1.0  1.0, 1.0   \n",
       "4   207687017     1         22               1.0                1.0  1.0, 1.0   \n",
       "\n",
       "   panel_id           simhash  cohort  \n",
       "0         1  1053512748232354   107.0  \n",
       "1         1   207270634237270    20.0  \n",
       "2         1   155255686110552    14.0  \n",
       "3         1   765518950719653    74.0  \n",
       "4         1  1087583118580527   110.0  "
      ]
     },
     "execution_count": 4,
     "metadata": {},
     "output_type": "execute_result"
    }
   ],
   "source": [
    "all_panels_df = pd.read_csv(all_panels_cohorts_fpath)\n",
    "print('read in all panels: %s total rows' % len(all_panels_df))\n",
    "print('%s panels' % all_panels_df.panel_id.nunique())\n",
    "all_panels_df.head()"
   ]
  },
  {
   "cell_type": "markdown",
   "id": "e25b5a2b",
   "metadata": {},
   "source": [
    "### 1.1 Plot curves for each race group"
   ]
  },
  {
   "cell_type": "code",
   "execution_count": 23,
   "id": "bdc76feb",
   "metadata": {
    "scrolled": false
   },
   "outputs": [
    {
     "name": "stdout",
     "output_type": "stream",
     "text": [
      "Extracted 520 panels. computing t-closeness using method t-close, parallel=True\n"
     ]
    },
    {
     "data": {
      "application/vnd.jupyter.widget-view+json": {
       "model_id": "83abf14368d843efa0feb481f0626d5c",
       "version_major": 2,
       "version_minor": 0
      },
      "text/plain": [
       "  0%|          | 0/520 [00:00<?, ?it/s]"
      ]
     },
     "metadata": {},
     "output_type": "display_data"
    },
    {
     "name": "stdout",
     "output_type": "stream",
     "text": [
      "CPU times: user 5.3 s, sys: 404 ms, total: 5.7 s\n",
      "Wall time: 1min 27s\n"
     ]
    },
    {
     "data": {
      "image/png": "[encoded data removed]",
      "text/plain": [
       "<Figure size 640x480 with 1 Axes>"
      ]
     },
     "metadata": {
      "needs_background": "light"
     },
     "output_type": "display_data"
    },
    {
     "data": {
      "text/plain": [
       "<ggplot: (388130045)>"
      ]
     },
     "execution_count": 23,
     "metadata": {},
     "output_type": "execute_result"
    }
   ],
   "source": [
    "%%time \n",
    "plot_t_closeness_curves(all_panels_df, 'racial_background', n_panels=None)"
   ]
  },
  {
   "cell_type": "markdown",
   "id": "28cbe616",
   "metadata": {},
   "source": [
    "### 1.3 Household Income"
   ]
  },
  {
   "cell_type": "code",
   "execution_count": 24,
   "id": "b237dd84",
   "metadata": {
    "scrolled": false
   },
   "outputs": [
    {
     "name": "stdout",
     "output_type": "stream",
     "text": [
      "Extracted 520 panels. computing t-closeness using method t-close, parallel=True\n"
     ]
    },
    {
     "data": {
      "application/vnd.jupyter.widget-view+json": {
       "model_id": "5af68a1226d64b8f92d0f01b9b146d47",
       "version_major": 2,
       "version_minor": 0
      },
      "text/plain": [
       "  0%|          | 0/520 [00:00<?, ?it/s]"
      ]
     },
     "metadata": {},
     "output_type": "display_data"
    },
    {
     "data": {
      "image/png": "[encoded data removed]",
      "text/plain": [
       "<Figure size 640x480 with 1 Axes>"
      ]
     },
     "metadata": {
      "needs_background": "light"
     },
     "output_type": "display_data"
    },
    {
     "data": {
      "text/plain": [
       "<ggplot: (388979426)>"
      ]
     },
     "execution_count": 24,
     "metadata": {},
     "output_type": "execute_result"
    }
   ],
   "source": [
    "plot_t_closeness_curves(all_panels_df, 'household_income', n_panels=None)"
   ]
  },
  {
   "cell_type": "code",
   "execution_count": null,
   "id": "c391321a",
   "metadata": {},
   "outputs": [
    {
     "name": "stdout",
     "output_type": "stream",
     "text": [
      "Extracted 520 panels. computing t-closeness using method t-close, parallel=True\n"
     ]
    },
    {
     "data": {
      "application/vnd.jupyter.widget-view+json": {
       "model_id": "907d25b49432464e9e335ae2833dbd4e",
       "version_major": 2,
       "version_minor": 0
      },
      "text/plain": [
       "  0%|          | 0/520 [00:00<?, ?it/s]"
      ]
     },
     "metadata": {},
     "output_type": "display_data"
    }
   ],
   "source": [
    "plot_t_closeness_curves(all_panels_df, 'stratify', n_panels=None)"
   ]
  },
  {
   "cell_type": "markdown",
   "id": "5b104c26",
   "metadata": {},
   "source": [
    "---"
   ]
  },
  {
   "cell_type": "code",
   "execution_count": 49,
   "id": "607ab1c6",
   "metadata": {},
   "outputs": [
    {
     "data": {
      "text/html": [
       "<div>\n",
       "<style scoped>\n",
       "    .dataframe tbody tr th:only-of-type {\n",
       "        vertical-align: middle;\n",
       "    }\n",
       "\n",
       "    .dataframe tbody tr th {\n",
       "        vertical-align: top;\n",
       "    }\n",
       "\n",
       "    .dataframe thead th {\n",
       "        text-align: right;\n",
       "    }\n",
       "</style>\n",
       "<table border=\"1\" class=\"dataframe\">\n",
       "  <thead>\n",
       "    <tr style=\"text-align: right;\">\n",
       "      <th></th>\n",
       "      <th>household_income</th>\n",
       "      <th>pct_blocked</th>\n",
       "      <th>t</th>\n",
       "    </tr>\n",
       "  </thead>\n",
       "  <tbody>\n",
       "    <tr>\n",
       "      <th>0</th>\n",
       "      <td>1.0</td>\n",
       "      <td>0.053097</td>\n",
       "      <td>0.1</td>\n",
       "    </tr>\n",
       "    <tr>\n",
       "      <th>1</th>\n",
       "      <td>2.0</td>\n",
       "      <td>0.026549</td>\n",
       "      <td>0.1</td>\n",
       "    </tr>\n",
       "    <tr>\n",
       "      <th>2</th>\n",
       "      <td>3.0</td>\n",
       "      <td>0.044248</td>\n",
       "      <td>0.1</td>\n",
       "    </tr>\n",
       "    <tr>\n",
       "      <th>3</th>\n",
       "      <td>4.0</td>\n",
       "      <td>0.061947</td>\n",
       "      <td>0.1</td>\n",
       "    </tr>\n",
       "  </tbody>\n",
       "</table>\n",
       "</div>"
      ],
      "text/plain": [
       "   household_income  pct_blocked    t\n",
       "0               1.0     0.053097  0.1\n",
       "1               2.0     0.026549  0.1\n",
       "2               3.0     0.044248  0.1\n",
       "3               4.0     0.061947  0.1"
      ]
     },
     "execution_count": 49,
     "metadata": {},
     "output_type": "execute_result"
    }
   ],
   "source": [
    "panel = np.random.choice(all_panels_df.panel_id, size=1)[0]\n",
    "panel_df = all_panels_df[all_panels_df.panel_id == panel]\n",
    "demo_col = 'household_income'\n",
    "blocked_method = 't-close'\n",
    "t = 0.1\n",
    "\n",
    "cohort_demo_portions_df = get_cohort_demo_portions_df(panel_df, demo_col)\n",
    "demo_fractions = panel_df.dropna().groupby(demo_col)['panel_id'].count() / len(panel_df.dropna())\n",
    "\n",
    "(cohort_demo_portions_df\n",
    "            # create population_portion, t, and blocked columns according to our method. \n",
    "     .pipe(calculate_blocked, t=t, method=blocked_method, demo_col=demo_col)\n",
    "     .reset_index()\n",
    "            # calculate percentage of cohorts, grouped by racial_background, that are blocked.\n",
    "     .assign(n_cohorts = lambda x: x.cohort.nunique())\n",
    "     .groupby([demo_col])\n",
    "     .apply(lambda x: sum(x.blocked) / x.n_cohorts)\n",
    "     .reset_index()\n",
    "            # becuase we use `apply` above, drop duplicates to get only demo_col, pct_blocked\n",
    "     [[demo_col, 'n_cohorts']]\n",
    "     .drop_duplicates()\n",
    "     .rename(columns={'n_cohorts': 'pct_blocked'})\n",
    "     .reset_index(drop=True)\n",
    "     .assign(t=t)\n",
    "            # then, concatenate with our all_blocked_df with a demo_col of `any`\n",
    "    )"
   ]
  },
  {
   "cell_type": "code",
   "execution_count": 170,
   "id": "dd41b1c1",
   "metadata": {},
   "outputs": [
    {
     "name": "stdout",
     "output_type": "stream",
     "text": [
      "Extracted 10 panels. computing t-closeness using method t-close\n"
     ]
    },
    {
     "data": {
      "application/vnd.jupyter.widget-view+json": {
       "model_id": "ffb467fe54aa487bb59e14b1e02596e0",
       "version_major": 2,
       "version_minor": 0
      },
      "text/plain": [
       "0it [00:00, ?it/s]"
      ]
     },
     "metadata": {},
     "output_type": "display_data"
    }
   ],
   "source": [
    "panels = np.random.choice(all_panels_df.panel_id, size=10)\n",
    "tt = all_panels_t_closeness(all_panels_df, \"household_income\", method='t-close', panel_ids = panels)"
   ]
  },
  {
   "cell_type": "code",
   "execution_count": 172,
   "id": "4b7d36cd",
   "metadata": {
    "scrolled": true
   },
   "outputs": [
    {
     "data": {
      "text/html": [
       "<div>\n",
       "<style scoped>\n",
       "    .dataframe tbody tr th:only-of-type {\n",
       "        vertical-align: middle;\n",
       "    }\n",
       "\n",
       "    .dataframe tbody tr th {\n",
       "        vertical-align: top;\n",
       "    }\n",
       "\n",
       "    .dataframe thead th {\n",
       "        text-align: right;\n",
       "    }\n",
       "</style>\n",
       "<table border=\"1\" class=\"dataframe\">\n",
       "  <thead>\n",
       "    <tr style=\"text-align: right;\">\n",
       "      <th></th>\n",
       "      <th>household_income</th>\n",
       "      <th>pct_blocked</th>\n",
       "      <th>t</th>\n",
       "      <th>panel_id</th>\n",
       "    </tr>\n",
       "  </thead>\n",
       "  <tbody>\n",
       "    <tr>\n",
       "      <th>0</th>\n",
       "      <td>1.0</td>\n",
       "      <td>0.000000</td>\n",
       "      <td>0.00</td>\n",
       "      <td>276</td>\n",
       "    </tr>\n",
       "    <tr>\n",
       "      <th>1</th>\n",
       "      <td>2.0</td>\n",
       "      <td>0.905172</td>\n",
       "      <td>0.00</td>\n",
       "      <td>276</td>\n",
       "    </tr>\n",
       "    <tr>\n",
       "      <th>2</th>\n",
       "      <td>3.0</td>\n",
       "      <td>1.000000</td>\n",
       "      <td>0.00</td>\n",
       "      <td>276</td>\n",
       "    </tr>\n",
       "    <tr>\n",
       "      <th>3</th>\n",
       "      <td>4.0</td>\n",
       "      <td>0.000000</td>\n",
       "      <td>0.00</td>\n",
       "      <td>276</td>\n",
       "    </tr>\n",
       "    <tr>\n",
       "      <th>0</th>\n",
       "      <td>any</td>\n",
       "      <td>1.000000</td>\n",
       "      <td>0.00</td>\n",
       "      <td>276</td>\n",
       "    </tr>\n",
       "    <tr>\n",
       "      <th>0</th>\n",
       "      <td>1.0</td>\n",
       "      <td>0.000000</td>\n",
       "      <td>0.01</td>\n",
       "      <td>276</td>\n",
       "    </tr>\n",
       "    <tr>\n",
       "      <th>1</th>\n",
       "      <td>2.0</td>\n",
       "      <td>0.853448</td>\n",
       "      <td>0.01</td>\n",
       "      <td>276</td>\n",
       "    </tr>\n",
       "    <tr>\n",
       "      <th>2</th>\n",
       "      <td>3.0</td>\n",
       "      <td>1.000000</td>\n",
       "      <td>0.01</td>\n",
       "      <td>276</td>\n",
       "    </tr>\n",
       "    <tr>\n",
       "      <th>3</th>\n",
       "      <td>4.0</td>\n",
       "      <td>0.000000</td>\n",
       "      <td>0.01</td>\n",
       "      <td>276</td>\n",
       "    </tr>\n",
       "    <tr>\n",
       "      <th>0</th>\n",
       "      <td>any</td>\n",
       "      <td>1.000000</td>\n",
       "      <td>0.01</td>\n",
       "      <td>276</td>\n",
       "    </tr>\n",
       "    <tr>\n",
       "      <th>0</th>\n",
       "      <td>1.0</td>\n",
       "      <td>0.000000</td>\n",
       "      <td>0.02</td>\n",
       "      <td>276</td>\n",
       "    </tr>\n",
       "    <tr>\n",
       "      <th>1</th>\n",
       "      <td>2.0</td>\n",
       "      <td>0.844828</td>\n",
       "      <td>0.02</td>\n",
       "      <td>276</td>\n",
       "    </tr>\n",
       "    <tr>\n",
       "      <th>2</th>\n",
       "      <td>3.0</td>\n",
       "      <td>1.000000</td>\n",
       "      <td>0.02</td>\n",
       "      <td>276</td>\n",
       "    </tr>\n",
       "    <tr>\n",
       "      <th>3</th>\n",
       "      <td>4.0</td>\n",
       "      <td>0.000000</td>\n",
       "      <td>0.02</td>\n",
       "      <td>276</td>\n",
       "    </tr>\n",
       "    <tr>\n",
       "      <th>0</th>\n",
       "      <td>any</td>\n",
       "      <td>1.000000</td>\n",
       "      <td>0.02</td>\n",
       "      <td>276</td>\n",
       "    </tr>\n",
       "    <tr>\n",
       "      <th>0</th>\n",
       "      <td>1.0</td>\n",
       "      <td>0.000000</td>\n",
       "      <td>0.03</td>\n",
       "      <td>276</td>\n",
       "    </tr>\n",
       "    <tr>\n",
       "      <th>1</th>\n",
       "      <td>2.0</td>\n",
       "      <td>0.818966</td>\n",
       "      <td>0.03</td>\n",
       "      <td>276</td>\n",
       "    </tr>\n",
       "    <tr>\n",
       "      <th>2</th>\n",
       "      <td>3.0</td>\n",
       "      <td>1.000000</td>\n",
       "      <td>0.03</td>\n",
       "      <td>276</td>\n",
       "    </tr>\n",
       "    <tr>\n",
       "      <th>3</th>\n",
       "      <td>4.0</td>\n",
       "      <td>0.000000</td>\n",
       "      <td>0.03</td>\n",
       "      <td>276</td>\n",
       "    </tr>\n",
       "    <tr>\n",
       "      <th>0</th>\n",
       "      <td>any</td>\n",
       "      <td>1.000000</td>\n",
       "      <td>0.03</td>\n",
       "      <td>276</td>\n",
       "    </tr>\n",
       "    <tr>\n",
       "      <th>0</th>\n",
       "      <td>1.0</td>\n",
       "      <td>0.000000</td>\n",
       "      <td>0.04</td>\n",
       "      <td>276</td>\n",
       "    </tr>\n",
       "    <tr>\n",
       "      <th>1</th>\n",
       "      <td>2.0</td>\n",
       "      <td>0.801724</td>\n",
       "      <td>0.04</td>\n",
       "      <td>276</td>\n",
       "    </tr>\n",
       "    <tr>\n",
       "      <th>2</th>\n",
       "      <td>3.0</td>\n",
       "      <td>1.000000</td>\n",
       "      <td>0.04</td>\n",
       "      <td>276</td>\n",
       "    </tr>\n",
       "    <tr>\n",
       "      <th>3</th>\n",
       "      <td>4.0</td>\n",
       "      <td>0.000000</td>\n",
       "      <td>0.04</td>\n",
       "      <td>276</td>\n",
       "    </tr>\n",
       "    <tr>\n",
       "      <th>0</th>\n",
       "      <td>any</td>\n",
       "      <td>1.000000</td>\n",
       "      <td>0.04</td>\n",
       "      <td>276</td>\n",
       "    </tr>\n",
       "    <tr>\n",
       "      <th>0</th>\n",
       "      <td>1.0</td>\n",
       "      <td>0.000000</td>\n",
       "      <td>0.05</td>\n",
       "      <td>276</td>\n",
       "    </tr>\n",
       "    <tr>\n",
       "      <th>1</th>\n",
       "      <td>2.0</td>\n",
       "      <td>0.758621</td>\n",
       "      <td>0.05</td>\n",
       "      <td>276</td>\n",
       "    </tr>\n",
       "    <tr>\n",
       "      <th>2</th>\n",
       "      <td>3.0</td>\n",
       "      <td>1.000000</td>\n",
       "      <td>0.05</td>\n",
       "      <td>276</td>\n",
       "    </tr>\n",
       "    <tr>\n",
       "      <th>3</th>\n",
       "      <td>4.0</td>\n",
       "      <td>0.000000</td>\n",
       "      <td>0.05</td>\n",
       "      <td>276</td>\n",
       "    </tr>\n",
       "    <tr>\n",
       "      <th>0</th>\n",
       "      <td>any</td>\n",
       "      <td>1.000000</td>\n",
       "      <td>0.05</td>\n",
       "      <td>276</td>\n",
       "    </tr>\n",
       "    <tr>\n",
       "      <th>0</th>\n",
       "      <td>1.0</td>\n",
       "      <td>0.000000</td>\n",
       "      <td>0.06</td>\n",
       "      <td>276</td>\n",
       "    </tr>\n",
       "    <tr>\n",
       "      <th>1</th>\n",
       "      <td>2.0</td>\n",
       "      <td>0.706897</td>\n",
       "      <td>0.06</td>\n",
       "      <td>276</td>\n",
       "    </tr>\n",
       "    <tr>\n",
       "      <th>2</th>\n",
       "      <td>3.0</td>\n",
       "      <td>1.000000</td>\n",
       "      <td>0.06</td>\n",
       "      <td>276</td>\n",
       "    </tr>\n",
       "    <tr>\n",
       "      <th>3</th>\n",
       "      <td>4.0</td>\n",
       "      <td>0.000000</td>\n",
       "      <td>0.06</td>\n",
       "      <td>276</td>\n",
       "    </tr>\n",
       "    <tr>\n",
       "      <th>0</th>\n",
       "      <td>any</td>\n",
       "      <td>1.000000</td>\n",
       "      <td>0.06</td>\n",
       "      <td>276</td>\n",
       "    </tr>\n",
       "    <tr>\n",
       "      <th>0</th>\n",
       "      <td>1.0</td>\n",
       "      <td>0.000000</td>\n",
       "      <td>0.07</td>\n",
       "      <td>276</td>\n",
       "    </tr>\n",
       "    <tr>\n",
       "      <th>1</th>\n",
       "      <td>2.0</td>\n",
       "      <td>0.646552</td>\n",
       "      <td>0.07</td>\n",
       "      <td>276</td>\n",
       "    </tr>\n",
       "    <tr>\n",
       "      <th>2</th>\n",
       "      <td>3.0</td>\n",
       "      <td>0.982759</td>\n",
       "      <td>0.07</td>\n",
       "      <td>276</td>\n",
       "    </tr>\n",
       "    <tr>\n",
       "      <th>3</th>\n",
       "      <td>4.0</td>\n",
       "      <td>0.000000</td>\n",
       "      <td>0.07</td>\n",
       "      <td>276</td>\n",
       "    </tr>\n",
       "    <tr>\n",
       "      <th>0</th>\n",
       "      <td>any</td>\n",
       "      <td>1.000000</td>\n",
       "      <td>0.07</td>\n",
       "      <td>276</td>\n",
       "    </tr>\n",
       "    <tr>\n",
       "      <th>0</th>\n",
       "      <td>1.0</td>\n",
       "      <td>0.000000</td>\n",
       "      <td>0.08</td>\n",
       "      <td>276</td>\n",
       "    </tr>\n",
       "    <tr>\n",
       "      <th>1</th>\n",
       "      <td>2.0</td>\n",
       "      <td>0.543103</td>\n",
       "      <td>0.08</td>\n",
       "      <td>276</td>\n",
       "    </tr>\n",
       "    <tr>\n",
       "      <th>2</th>\n",
       "      <td>3.0</td>\n",
       "      <td>0.982759</td>\n",
       "      <td>0.08</td>\n",
       "      <td>276</td>\n",
       "    </tr>\n",
       "    <tr>\n",
       "      <th>3</th>\n",
       "      <td>4.0</td>\n",
       "      <td>0.000000</td>\n",
       "      <td>0.08</td>\n",
       "      <td>276</td>\n",
       "    </tr>\n",
       "    <tr>\n",
       "      <th>0</th>\n",
       "      <td>any</td>\n",
       "      <td>1.000000</td>\n",
       "      <td>0.08</td>\n",
       "      <td>276</td>\n",
       "    </tr>\n",
       "    <tr>\n",
       "      <th>0</th>\n",
       "      <td>1.0</td>\n",
       "      <td>0.000000</td>\n",
       "      <td>0.09</td>\n",
       "      <td>276</td>\n",
       "    </tr>\n",
       "    <tr>\n",
       "      <th>1</th>\n",
       "      <td>2.0</td>\n",
       "      <td>0.448276</td>\n",
       "      <td>0.09</td>\n",
       "      <td>276</td>\n",
       "    </tr>\n",
       "    <tr>\n",
       "      <th>2</th>\n",
       "      <td>3.0</td>\n",
       "      <td>0.982759</td>\n",
       "      <td>0.09</td>\n",
       "      <td>276</td>\n",
       "    </tr>\n",
       "    <tr>\n",
       "      <th>3</th>\n",
       "      <td>4.0</td>\n",
       "      <td>0.000000</td>\n",
       "      <td>0.09</td>\n",
       "      <td>276</td>\n",
       "    </tr>\n",
       "    <tr>\n",
       "      <th>0</th>\n",
       "      <td>any</td>\n",
       "      <td>1.000000</td>\n",
       "      <td>0.09</td>\n",
       "      <td>276</td>\n",
       "    </tr>\n",
       "  </tbody>\n",
       "</table>\n",
       "</div>"
      ],
      "text/plain": [
       "  household_income  pct_blocked     t  panel_id\n",
       "0              1.0     0.000000  0.00       276\n",
       "1              2.0     0.905172  0.00       276\n",
       "2              3.0     1.000000  0.00       276\n",
       "3              4.0     0.000000  0.00       276\n",
       "0              any     1.000000  0.00       276\n",
       "0              1.0     0.000000  0.01       276\n",
       "1              2.0     0.853448  0.01       276\n",
       "2              3.0     1.000000  0.01       276\n",
       "3              4.0     0.000000  0.01       276\n",
       "0              any     1.000000  0.01       276\n",
       "0              1.0     0.000000  0.02       276\n",
       "1              2.0     0.844828  0.02       276\n",
       "2              3.0     1.000000  0.02       276\n",
       "3              4.0     0.000000  0.02       276\n",
       "0              any     1.000000  0.02       276\n",
       "0              1.0     0.000000  0.03       276\n",
       "1              2.0     0.818966  0.03       276\n",
       "2              3.0     1.000000  0.03       276\n",
       "3              4.0     0.000000  0.03       276\n",
       "0              any     1.000000  0.03       276\n",
       "0              1.0     0.000000  0.04       276\n",
       "1              2.0     0.801724  0.04       276\n",
       "2              3.0     1.000000  0.04       276\n",
       "3              4.0     0.000000  0.04       276\n",
       "0              any     1.000000  0.04       276\n",
       "0              1.0     0.000000  0.05       276\n",
       "1              2.0     0.758621  0.05       276\n",
       "2              3.0     1.000000  0.05       276\n",
       "3              4.0     0.000000  0.05       276\n",
       "0              any     1.000000  0.05       276\n",
       "0              1.0     0.000000  0.06       276\n",
       "1              2.0     0.706897  0.06       276\n",
       "2              3.0     1.000000  0.06       276\n",
       "3              4.0     0.000000  0.06       276\n",
       "0              any     1.000000  0.06       276\n",
       "0              1.0     0.000000  0.07       276\n",
       "1              2.0     0.646552  0.07       276\n",
       "2              3.0     0.982759  0.07       276\n",
       "3              4.0     0.000000  0.07       276\n",
       "0              any     1.000000  0.07       276\n",
       "0              1.0     0.000000  0.08       276\n",
       "1              2.0     0.543103  0.08       276\n",
       "2              3.0     0.982759  0.08       276\n",
       "3              4.0     0.000000  0.08       276\n",
       "0              any     1.000000  0.08       276\n",
       "0              1.0     0.000000  0.09       276\n",
       "1              2.0     0.448276  0.09       276\n",
       "2              3.0     0.982759  0.09       276\n",
       "3              4.0     0.000000  0.09       276\n",
       "0              any     1.000000  0.09       276"
      ]
     },
     "execution_count": 172,
     "metadata": {},
     "output_type": "execute_result"
    }
   ],
   "source": [
    "tt.head(50)"
   ]
  },
  {
   "cell_type": "markdown",
   "id": "6d37bbe1",
   "metadata": {},
   "source": [
    "---"
   ]
  },
  {
   "cell_type": "code",
   "execution_count": null,
   "id": "a2c36011",
   "metadata": {},
   "outputs": [],
   "source": [
    "panels = np.random.choice(all_panels_df.panel_id, size=10)\n",
    "tt = all_panels_t_closeness(all_panels_df, \"household_income\", method='t-close', panel_ids = panels)"
   ]
  },
  {
   "cell_type": "code",
   "execution_count": 157,
   "id": "4a22e74a",
   "metadata": {
    "scrolled": true
   },
   "outputs": [
    {
     "data": {
      "image/png": "[encoded data removed]",
      "text/plain": [
       "<Figure size 640x480 with 1 Axes>"
      ]
     },
     "metadata": {
      "needs_background": "light"
     },
     "output_type": "display_data"
    },
    {
     "data": {
      "text/plain": [
       "<ggplot: (387931423)>"
      ]
     },
     "execution_count": 157,
     "metadata": {},
     "output_type": "execute_result"
    }
   ],
   "source": [
    "\n",
    "df = (tt\n",
    " .assign(racial_background = lambda x: x.racial_background.map(race_values))\n",
    " .groupby(['t', 'racial_background'])\n",
    " .agg({'pct_blocked': [np.mean, \n",
    "                               lambda x: np.mean(x) + 1.96*np.std(x),\n",
    "                               lambda x: np.mean(x) - 1.96*np.std(x)]})\n",
    " .set_axis(['pct_blocked', 'upper', 'lower'], axis=1, inplace=False)\n",
    " .reset_index()\n",
    ")\n",
    "\n",
    "(ggplot() +\n",
    "# geom_ribbon(aes(x='t', ymin='lower', ymax='upper'), alpha=0.02, linetype='dashed', size=0.3) +\n",
    " geom_line(aes(x='t', y='pct_blocked', color='racial_background'), data=df) +\n",
    "# geom_line(aes(x='t', y='pct_blocked'), data=df_mean) +\n",
    " labs(y=\"Fraction of Cohorts Blocked\",\n",
    "    x=\"t\",\n",
    "    color=\"Racial Background\") +\n",
    " theme_minimal() +\n",
    " scale_y_continuous(labels=lambda l: [\"%d%%\" % (v * 100) for v in l])\n",
    "# ylim(0, 0.25) +\n",
    "# xlim(0, 0.5)\n",
    ")"
   ]
  },
  {
   "cell_type": "markdown",
   "id": "e4f37cc0",
   "metadata": {},
   "source": [
    "### 1.2 Plot boxplot for each group using \"likelihood\" approach"
   ]
  },
  {
   "cell_type": "code",
   "execution_count": null,
   "id": "bbe1de46",
   "metadata": {},
   "outputs": [],
   "source": [
    "panels = np.random.choice(all_panels_df.panel_id, size=10)\n",
    "tt = all_panels_t_closeness(all_panels_df, demo_col, method='likelihood', panel_ids = panels)"
   ]
  },
  {
   "cell_type": "code",
   "execution_count": 146,
   "id": "fc7f361e",
   "metadata": {
    "scrolled": false
   },
   "outputs": [
    {
     "data": {
      "image/png": "[encoded data removed]",
      "text/plain": [
       "<Figure size 640x480 with 1 Axes>"
      ]
     },
     "metadata": {
      "needs_background": "light"
     },
     "output_type": "display_data"
    },
    {
     "data": {
      "text/plain": [
       "<ggplot: (385918865)>"
      ]
     },
     "execution_count": 146,
     "metadata": {},
     "output_type": "execute_result"
    }
   ],
   "source": [
    "from plotnine import geom_bar, geom_boxplot\n",
    "\n",
    "\n",
    "df = (tt\n",
    " .assign(racial_background = lambda x: x.racial_background.map(race_values))\n",
    "      .drop(['t'], axis=1)\n",
    "      .drop_duplicates()\n",
    ")\n",
    "\n",
    "(ggplot() +\n",
    "# geom_ribbon(aes(x='t', ymin='lower', ymax='upper'), alpha=0.02, linetype='dashed', size=0.3) +\n",
    " geom_boxplot(aes(x='racial_background', y='pct_blocked'), data=df) +\n",
    "# geom_line(aes(x='t', y='pct_blocked'), data=df_mean) +\n",
    " labs(y=\"Fraction of Cohorts Blocked\",\n",
    "    x=\"Race\",\n",
    "    color=\"Racial Background\") +\n",
    " theme_minimal() +\n",
    " scale_y_continuous(labels=lambda l: [\"%d%%\" % (v * 100) for v in l])\n",
    ")"
   ]
  },
  {
   "cell_type": "markdown",
   "id": "817ce045",
   "metadata": {},
   "source": [
    "## Old Code"
   ]
  },
  {
   "cell_type": "code",
   "execution_count": null,
   "id": "efdbf845",
   "metadata": {},
   "outputs": [],
   "source": [
    "def plot_t_closeness(panel_df, demo_col, demo_value_names_dict):\n",
    "    cohort_demo_portions_df = get_cohort_demo_portions_df(panel_df, demo_col)\n",
    "    demo_fractions = panel_df.dropna().groupby(demo_col)['panel_id'].count() / len(panel_df.dropna())\n",
    "    \n",
    "    for val in demo_value_names_dict:\n",
    "        print('%s' % demo_value_names_dict[val])\n",
    "        cohort_demo_mean = cohort_demo_portions_df[cohort_demo_portions_df[demo_col]==val].portion.mean()\n",
    "        print('mean fraction %s across cohorts = %0.2f' % (demo_value_names_dict[val], cohort_demo_mean))\n",
    "        # Google's sensitivity analysis actually looked at avg for sensitive categories\n",
    "        # across all users rather than across cohorts\n",
    "        demo_fraction = demo_fractions[val]\n",
    "        print('fraction %s across all users in cohorts = %0.2f' % (demo_value_names_dict[val], demo_fraction))\n",
    "\n",
    "        fig,ax = plt.subplots(1,1,figsize=(6,3), dpi=dpi)\n",
    "        cohort_demo_portions_df[cohort_demo_portions_df[demo_col]==val].portion.sort_values(ascending=False).plot.bar(ax=ax, label=\"\")\n",
    "\n",
    "        ax.hlines(y=demo_fraction, xmin=0, xmax=len(ax.get_xticks()), \n",
    "                  linestyles='-', color='black', label='mean')\n",
    "        if (demo_fraction - t) > 0:\n",
    "            ax.hlines(y=demo_fraction-t, xmin=0, xmax=len(ax.get_xticks()), \n",
    "                      linestyles='--', color='black', label='mean - t=0.1')\n",
    "        ax.hlines(y=demo_fraction+t, xmin=0, xmax=len(ax.get_xticks()), \n",
    "                  linestyles='--', color='black', label='mean + t=0.1')\n",
    "        #ax.legend()\n",
    "        ax.set_xticks([])\n",
    "        ax.set_xlabel('cohorts')\n",
    "        ax.set_ylabel('fraction \"%s\"' % demo_value_names_dict[val])\n",
    "        plt.show()\n",
    "    \n",
    "    return cohort_demo_portions_df"
   ]
  },
  {
   "cell_type": "code",
   "execution_count": null,
   "id": "0b06a68c",
   "metadata": {},
   "outputs": [],
   "source": [
    "demo_col='race'\n",
    "\n",
    "cohort_demo_portions_df = get_cohort_demo_portions_df(panel_df, demo_col)\n",
    "demo_fractions = panel_df.dropna().groupby(demo_col)['panel_id'].count() / len(panel_df.dropna())"
   ]
  },
  {
   "cell_type": "code",
   "execution_count": null,
   "id": "1c070371",
   "metadata": {},
   "outputs": [],
   "source": [
    "\n",
    "cohort_demo_portions_df = get_cohort_demo_portions_df(panel_df, demo_col)\n",
    "demo_fractions = panel_df.dropna().groupby(demo_col)['panel_id'].count() / len(panel_df.dropna())\n",
    "\n",
    "for val in demo_value_names_dict:\n",
    "    print('%s' % demo_value_names_dict[val])\n",
    "    cohort_demo_mean = cohort_demo_portions_df[cohort_demo_portions_df[demo_col]==val].portion.mean()\n",
    "    print('mean fraction %s across cohorts = %0.2f' % (demo_value_names_dict[val], cohort_demo_mean))\n",
    "    # Google's sensitivity analysis actually looked at avg for sensitive categories\n",
    "    # across all users rather than across cohorts\n",
    "    demo_fraction = demo_fractions[val]\n",
    "    print('fraction %s across all users in cohorts = %0.2f' % (demo_value_names_dict[val], demo_fraction))\n",
    "\n",
    "    fig,ax = plt.subplots(1,1,figsize=(6,3), dpi=dpi)\n",
    "    cohort_demo_portions_df[cohort_demo_portions_df[demo_col]==val].portion.sort_values(ascending=False).plot.bar(ax=ax, label=\"\")\n",
    "    "
   ]
  }
 ],
 "metadata": {
  "kernelspec": {
   "display_name": "Python 3 (ipykernel)",
   "language": "python",
   "name": "python3"
  },
  "language_info": {
   "codemirror_mode": {
    "name": "ipython",
    "version": 3
   },
   "file_extension": ".py",
   "mimetype": "text/x-python",
   "name": "python",
   "nbconvert_exporter": "python",
   "pygments_lexer": "ipython3",
   "version": "3.9.1"
  }
 },
 "nbformat": 4,
 "nbformat_minor": 5
}
