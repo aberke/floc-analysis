{
 "cells": [
  {
   "cell_type": "code",
   "execution_count": 1,
   "id": "44da472b",
   "metadata": {},
   "outputs": [],
   "source": [
    "from datetime import datetime\n",
    "\n",
    "import matplotlib.pyplot as plt\n",
    "import numpy as np\n",
    "import pandas as pd\n",
    "\n",
    "sessions_fpath = '../data/comscore/2017/sessions.csv'"
   ]
  },
  {
   "cell_type": "markdown",
   "id": "73590c8c",
   "metadata": {},
   "source": [
    "This is a big file. Some preliminary questions:\n",
    "\n",
    "\n",
    "- what are the columns?\n",
    "- how many rows?\n",
    "- how many machines?\n",
    "- what is the time range?\n",
    "- how many unique domains?"
   ]
  },
  {
   "cell_type": "code",
   "execution_count": 2,
   "id": "8b064472",
   "metadata": {},
   "outputs": [],
   "source": [
    "CHUNKSIZE = 1000000 # number of rows to read at a time"
   ]
  },
  {
   "cell_type": "markdown",
   "id": "1d4744f5",
   "metadata": {},
   "source": [
    "Take an initial look at the columns"
   ]
  },
  {
   "cell_type": "code",
   "execution_count": 3,
   "id": "07827b18",
   "metadata": {},
   "outputs": [
    {
     "name": "stderr",
     "output_type": "stream",
     "text": [
      "/Users/aberke/projects/CSL_Andorra_COVID_Public/env/lib/python3.7/site-packages/IPython/core/interactiveshell.py:3166: DtypeWarning: Columns (2,10) have mixed types.Specify dtype option on import or set low_memory=False.\n",
      "  interactivity=interactivity, compiler=compiler, result=result)\n"
     ]
    },
    {
     "name": "stdout",
     "output_type": "stream",
     "text": [
      "Index(['machine_id', 'site_session_id', 'domain_id', 'ref_domain__name',\n",
      "       'pages_viewed', 'duration', 'event_date', 'event_time', 'tran_flg',\n",
      "       'prod_category_id', 'prod_name', 'prod_qty', 'prod_totprice',\n",
      "       'basket_tot', 'hoh_most_education', 'census_region', 'household_size',\n",
      "       'hoh_oldest_age', 'household_income', 'children', 'racial_background',\n",
      "       'connection_speed', 'country_of_origin', 'zip_code', 'domain_name'],\n",
      "      dtype='object')\n"
     ]
    }
   ],
   "source": [
    "sessions_chunk = pd.read_csv(sessions_fpath, nrows=CHUNKSIZE)\n",
    "print(sessions_chunk.columns)"
   ]
  },
  {
   "cell_type": "code",
   "execution_count": 6,
   "id": "31a00b88",
   "metadata": {},
   "outputs": [
    {
     "data": {
      "text/html": [
       "<div>\n",
       "<style scoped>\n",
       "    .dataframe tbody tr th:only-of-type {\n",
       "        vertical-align: middle;\n",
       "    }\n",
       "\n",
       "    .dataframe tbody tr th {\n",
       "        vertical-align: top;\n",
       "    }\n",
       "\n",
       "    .dataframe thead th {\n",
       "        text-align: right;\n",
       "    }\n",
       "</style>\n",
       "<table border=\"1\" class=\"dataframe\">\n",
       "  <thead>\n",
       "    <tr style=\"text-align: right;\">\n",
       "      <th></th>\n",
       "      <th>site_session_id</th>\n",
       "      <th>domain_id</th>\n",
       "      <th>ref_domain__name</th>\n",
       "      <th>pages_viewed</th>\n",
       "      <th>duration</th>\n",
       "      <th>event_date</th>\n",
       "      <th>event_time</th>\n",
       "      <th>tran_flg</th>\n",
       "      <th>prod_category_id</th>\n",
       "      <th>prod_name</th>\n",
       "      <th>...</th>\n",
       "      <th>census_region</th>\n",
       "      <th>household_size</th>\n",
       "      <th>hoh_oldest_age</th>\n",
       "      <th>household_income</th>\n",
       "      <th>children</th>\n",
       "      <th>racial_background</th>\n",
       "      <th>connection_speed</th>\n",
       "      <th>country_of_origin</th>\n",
       "      <th>zip_code</th>\n",
       "      <th>domain_name</th>\n",
       "    </tr>\n",
       "  </thead>\n",
       "  <tbody>\n",
       "    <tr>\n",
       "      <th>0</th>\n",
       "      <td>2296065101119308896</td>\n",
       "      <td></td>\n",
       "      <td>NaN</td>\n",
       "      <td>13.0</td>\n",
       "      <td>33</td>\n",
       "      <td>20171007</td>\n",
       "      <td>22:45:57</td>\n",
       "      <td>1.0</td>\n",
       "      <td>7.009031e+09</td>\n",
       "      <td>Bosch Premium Performance Battery Group, Size 51R</td>\n",
       "      <td>...</td>\n",
       "      <td>3</td>\n",
       "      <td>5</td>\n",
       "      <td>3</td>\n",
       "      <td>12</td>\n",
       "      <td>1</td>\n",
       "      <td>2</td>\n",
       "      <td>1</td>\n",
       "      <td>1</td>\n",
       "      <td>36832.0</td>\n",
       "      <td>NaN</td>\n",
       "    </tr>\n",
       "    <tr>\n",
       "      <th>1</th>\n",
       "      <td>2296065101119308896</td>\n",
       "      <td></td>\n",
       "      <td>NaN</td>\n",
       "      <td>13.0</td>\n",
       "      <td>33</td>\n",
       "      <td>20171007</td>\n",
       "      <td>22:45:57</td>\n",
       "      <td>1.0</td>\n",
       "      <td>9.990000e+02</td>\n",
       "      <td>Additional Service Required</td>\n",
       "      <td>...</td>\n",
       "      <td>3</td>\n",
       "      <td>5</td>\n",
       "      <td>3</td>\n",
       "      <td>12</td>\n",
       "      <td>1</td>\n",
       "      <td>2</td>\n",
       "      <td>1</td>\n",
       "      <td>1</td>\n",
       "      <td>36832.0</td>\n",
       "      <td>NaN</td>\n",
       "    </tr>\n",
       "  </tbody>\n",
       "</table>\n",
       "<p>2 rows × 24 columns</p>\n",
       "</div>"
      ],
      "text/plain": [
       "       site_session_id domain_id ref_domain__name  pages_viewed  duration  \\\n",
       "0  2296065101119308896                        NaN          13.0        33   \n",
       "1  2296065101119308896                        NaN          13.0        33   \n",
       "\n",
       "   event_date event_time  tran_flg  prod_category_id  \\\n",
       "0    20171007   22:45:57       1.0      7.009031e+09   \n",
       "1    20171007   22:45:57       1.0      9.990000e+02   \n",
       "\n",
       "                                           prod_name  ...  census_region  \\\n",
       "0  Bosch Premium Performance Battery Group, Size 51R  ...              3   \n",
       "1                        Additional Service Required  ...              3   \n",
       "\n",
       "   household_size  hoh_oldest_age  household_income  children  \\\n",
       "0               5               3                12         1   \n",
       "1               5               3                12         1   \n",
       "\n",
       "   racial_background  connection_speed  country_of_origin  zip_code  \\\n",
       "0                  2                 1                  1   36832.0   \n",
       "1                  2                 1                  1   36832.0   \n",
       "\n",
       "   domain_name  \n",
       "0          NaN  \n",
       "1          NaN  \n",
       "\n",
       "[2 rows x 24 columns]"
      ]
     },
     "execution_count": 6,
     "metadata": {},
     "output_type": "execute_result"
    }
   ],
   "source": [
    "sessions_chunk.drop('machine_id', axis=1).head(2)"
   ]
  },
  {
   "cell_type": "code",
   "execution_count": 11,
   "id": "95bbfd3d",
   "metadata": {},
   "outputs": [
    {
     "name": "stdout",
     "output_type": "stream",
     "text": [
      "[ 1. nan]\n"
     ]
    },
    {
     "data": {
      "text/html": [
       "<div>\n",
       "<style scoped>\n",
       "    .dataframe tbody tr th:only-of-type {\n",
       "        vertical-align: middle;\n",
       "    }\n",
       "\n",
       "    .dataframe tbody tr th {\n",
       "        vertical-align: top;\n",
       "    }\n",
       "\n",
       "    .dataframe thead th {\n",
       "        text-align: right;\n",
       "    }\n",
       "</style>\n",
       "<table border=\"1\" class=\"dataframe\">\n",
       "  <thead>\n",
       "    <tr style=\"text-align: right;\">\n",
       "      <th></th>\n",
       "      <th>site_session_id</th>\n",
       "      <th>domain_id</th>\n",
       "      <th>ref_domain__name</th>\n",
       "      <th>pages_viewed</th>\n",
       "      <th>duration</th>\n",
       "      <th>event_date</th>\n",
       "      <th>event_time</th>\n",
       "      <th>tran_flg</th>\n",
       "      <th>prod_category_id</th>\n",
       "      <th>prod_name</th>\n",
       "      <th>...</th>\n",
       "      <th>census_region</th>\n",
       "      <th>household_size</th>\n",
       "      <th>hoh_oldest_age</th>\n",
       "      <th>household_income</th>\n",
       "      <th>children</th>\n",
       "      <th>racial_background</th>\n",
       "      <th>connection_speed</th>\n",
       "      <th>country_of_origin</th>\n",
       "      <th>zip_code</th>\n",
       "      <th>domain_name</th>\n",
       "    </tr>\n",
       "  </thead>\n",
       "  <tbody>\n",
       "    <tr>\n",
       "      <th>132</th>\n",
       "      <td>4343212900663777792</td>\n",
       "      <td>10000007656169623153</td>\n",
       "      <td>NaN</td>\n",
       "      <td>1.0</td>\n",
       "      <td>1</td>\n",
       "      <td>20170515</td>\n",
       "      <td>7:25:23</td>\n",
       "      <td>NaN</td>\n",
       "      <td>NaN</td>\n",
       "      <td>NaN</td>\n",
       "      <td>...</td>\n",
       "      <td>4</td>\n",
       "      <td>3</td>\n",
       "      <td>5</td>\n",
       "      <td>14</td>\n",
       "      <td>0</td>\n",
       "      <td>3</td>\n",
       "      <td>1</td>\n",
       "      <td>1</td>\n",
       "      <td>92630.0</td>\n",
       "      <td>moonmovie.biz</td>\n",
       "    </tr>\n",
       "    <tr>\n",
       "      <th>133</th>\n",
       "      <td>7476887538255155754</td>\n",
       "      <td>10000020440092761508</td>\n",
       "      <td>NaN</td>\n",
       "      <td>1.0</td>\n",
       "      <td>1</td>\n",
       "      <td>20170205</td>\n",
       "      <td>23:27:22</td>\n",
       "      <td>NaN</td>\n",
       "      <td>NaN</td>\n",
       "      <td>NaN</td>\n",
       "      <td>...</td>\n",
       "      <td>4</td>\n",
       "      <td>4</td>\n",
       "      <td>10</td>\n",
       "      <td>13</td>\n",
       "      <td>1</td>\n",
       "      <td>3</td>\n",
       "      <td>1</td>\n",
       "      <td>1</td>\n",
       "      <td>87544.0</td>\n",
       "      <td>kiaanime.ru</td>\n",
       "    </tr>\n",
       "  </tbody>\n",
       "</table>\n",
       "<p>2 rows × 24 columns</p>\n",
       "</div>"
      ],
      "text/plain": [
       "         site_session_id             domain_id ref_domain__name  pages_viewed  \\\n",
       "132  4343212900663777792  10000007656169623153              NaN           1.0   \n",
       "133  7476887538255155754  10000020440092761508              NaN           1.0   \n",
       "\n",
       "     duration  event_date event_time  tran_flg  prod_category_id prod_name  \\\n",
       "132         1    20170515    7:25:23       NaN               NaN       NaN   \n",
       "133         1    20170205   23:27:22       NaN               NaN       NaN   \n",
       "\n",
       "     ...  census_region  household_size  hoh_oldest_age  household_income  \\\n",
       "132  ...              4               3               5                14   \n",
       "133  ...              4               4              10                13   \n",
       "\n",
       "     children  racial_background  connection_speed  country_of_origin  \\\n",
       "132         0                  3                 1                  1   \n",
       "133         1                  3                 1                  1   \n",
       "\n",
       "     zip_code    domain_name  \n",
       "132   92630.0  moonmovie.biz  \n",
       "133   87544.0    kiaanime.ru  \n",
       "\n",
       "[2 rows x 24 columns]"
      ]
     },
     "execution_count": 11,
     "metadata": {},
     "output_type": "execute_result"
    }
   ],
   "source": [
    "# it looks like the tran_flg is 1 when this is a transaction. w/e don't care.\n",
    "print(sessions_chunk.tran_flg.unique())\n",
    "sessions_chunk[sessions_chunk.tran_flg != 1.0].drop('machine_id', axis=1).head(2)"
   ]
  },
  {
   "cell_type": "markdown",
   "id": "a9ef1d42",
   "metadata": {},
   "source": [
    "Count and track things while reading in the file in chunks\n",
    "\n",
    "- total rows\n",
    "- machine ids\n",
    "- domains\n",
    "- dates\n"
   ]
  },
  {
   "cell_type": "code",
   "execution_count": 94,
   "id": "1a2c2e3f",
   "metadata": {},
   "outputs": [
    {
     "name": "stderr",
     "output_type": "stream",
     "text": [
      "/Users/aberke/projects/CSL_Andorra_COVID_Public/env/lib/python3.7/site-packages/ipykernel_launcher.py:7: DeprecationWarning: The default dtype for empty Series will be 'object' instead of 'float64' in a future version. Specify a dtype explicitly to silence this warning.\n",
      "  import sys\n"
     ]
    },
    {
     "name": "stdout",
     "output_type": "stream",
     "text": [
      "15:32:24.362971 : chunk 0 : 999865 rows : 999865 total rows\n",
      "time to handle chunk: 0:00:08.754132\n",
      "15:32:34.023855 : chunk 1 : 1000000 rows : 1999865 total rows\n",
      "time to handle chunk: 0:00:06.336392\n",
      "15:32:41.241136 : chunk 2 : 999999 rows : 2999864 total rows\n",
      "time to handle chunk: 0:00:07.143679\n",
      "15:32:49.291411 : chunk 3 : 999999 rows : 3999863 total rows\n",
      "time to handle chunk: 0:00:08.621332\n",
      "15:32:58.788540 : chunk 4 : 1000000 rows : 4999863 total rows\n",
      "time to handle chunk: 0:00:05.361728\n",
      "15:33:05.116693 : chunk 5 : 999999 rows : 5999862 total rows\n",
      "time to handle chunk: 0:00:08.525129\n",
      "15:33:14.553755 : chunk 6 : 1000000 rows : 6999862 total rows\n",
      "time to handle chunk: 0:00:09.346377\n",
      "15:33:24.776694 : chunk 7 : 1000000 rows : 7999862 total rows\n",
      "time to handle chunk: 0:00:06.180690\n",
      "15:33:31.798675 : chunk 8 : 1000000 rows : 8999862 total rows\n",
      "time to handle chunk: 0:00:01.281904\n",
      "15:33:33.924036 : chunk 9 : 1000000 rows : 9999862 total rows\n",
      "time to handle chunk: 0:00:01.488952\n",
      "15:33:36.284613 : chunk 10 : 1000000 rows : 10999862 total rows\n",
      "time to handle chunk: 0:00:01.592802\n",
      "15:33:38.699875 : chunk 11 : 1000000 rows : 11999862 total rows\n",
      "time to handle chunk: 0:00:01.372080\n",
      "15:33:40.942260 : chunk 12 : 999999 rows : 12999861 total rows\n",
      "time to handle chunk: 0:00:03.659011\n",
      "15:33:45.525549 : chunk 13 : 999973 rows : 13999834 total rows\n",
      "time to handle chunk: 0:00:09.839724\n",
      "15:33:56.238551 : chunk 14 : 999999 rows : 14999833 total rows\n",
      "time to handle chunk: 0:00:08.456826\n",
      "15:34:05.628588 : chunk 15 : 1000000 rows : 15999833 total rows\n",
      "time to handle chunk: 0:00:08.825663\n",
      "15:34:15.571490 : chunk 16 : 1000000 rows : 16999833 total rows\n",
      "time to handle chunk: 0:00:05.028125\n",
      "15:34:21.506733 : chunk 17 : 999998 rows : 17999831 total rows\n",
      "time to handle chunk: 0:00:09.368779\n",
      "15:34:31.938346 : chunk 18 : 999998 rows : 18999829 total rows\n",
      "time to handle chunk: 0:00:11.273192\n",
      "15:34:44.150891 : chunk 19 : 999998 rows : 19999827 total rows\n",
      "time to handle chunk: 0:00:11.132375\n",
      "15:34:56.238238 : chunk 20 : 999997 rows : 20999824 total rows\n",
      "time to handle chunk: 0:00:09.079010\n",
      "15:35:06.239250 : chunk 21 : 1000000 rows : 21999824 total rows\n",
      "time to handle chunk: 0:00:10.447621\n",
      "15:35:17.721336 : chunk 22 : 999997 rows : 22999821 total rows\n",
      "time to handle chunk: 0:00:10.846599\n",
      "15:35:29.752323 : chunk 23 : 999998 rows : 23999819 total rows\n",
      "time to handle chunk: 0:00:11.164145\n",
      "15:35:42.050428 : chunk 24 : 999999 rows : 24999818 total rows\n",
      "time to handle chunk: 0:00:06.397105\n",
      "15:35:49.758557 : chunk 25 : 999999 rows : 25999817 total rows\n",
      "time to handle chunk: 0:00:08.332352\n",
      "15:35:59.004512 : chunk 26 : 999998 rows : 26999815 total rows\n",
      "time to handle chunk: 0:00:08.222356\n",
      "15:36:08.209066 : chunk 27 : 1000000 rows : 27999815 total rows\n",
      "time to handle chunk: 0:00:11.980659\n",
      "15:36:21.617969 : chunk 28 : 1000000 rows : 28999815 total rows\n",
      "time to handle chunk: 0:00:09.750149\n",
      "15:36:32.361263 : chunk 29 : 999999 rows : 29999814 total rows\n",
      "time to handle chunk: 0:00:11.065884\n",
      "15:36:44.374833 : chunk 30 : 1000000 rows : 30999814 total rows\n",
      "time to handle chunk: 0:00:08.329228\n",
      "15:36:53.780459 : chunk 31 : 1000000 rows : 31999814 total rows\n",
      "time to handle chunk: 0:00:09.550069\n",
      "15:37:04.531335 : chunk 32 : 999998 rows : 32999812 total rows\n",
      "time to handle chunk: 0:00:12.914210\n",
      "15:37:18.798069 : chunk 33 : 999999 rows : 33999811 total rows\n",
      "time to handle chunk: 0:00:11.616254\n",
      "15:37:31.579214 : chunk 34 : 999998 rows : 34999809 total rows\n",
      "time to handle chunk: 0:00:10.716299\n",
      "15:37:43.409191 : chunk 35 : 999999 rows : 35999808 total rows\n",
      "time to handle chunk: 0:00:06.703877\n",
      "15:37:51.316686 : chunk 36 : 999997 rows : 36999805 total rows\n",
      "time to handle chunk: 0:00:09.262296\n",
      "15:38:01.734516 : chunk 37 : 999997 rows : 37999802 total rows\n",
      "time to handle chunk: 0:00:19.359292\n",
      "15:38:22.325348 : chunk 38 : 999998 rows : 38999800 total rows\n",
      "time to handle chunk: 0:00:11.691511\n",
      "15:38:35.151477 : chunk 39 : 1000000 rows : 39999800 total rows\n",
      "time to handle chunk: 0:00:07.249184\n",
      "15:38:43.523836 : chunk 40 : 999998 rows : 40999798 total rows\n",
      "time to handle chunk: 0:00:09.030485\n",
      "15:38:53.551494 : chunk 41 : 999998 rows : 41999796 total rows\n",
      "time to handle chunk: 0:00:08.545515\n",
      "15:39:03.059551 : chunk 42 : 1000000 rows : 42999796 total rows\n",
      "time to handle chunk: 0:00:07.866732\n",
      "15:39:12.149019 : chunk 43 : 999998 rows : 43999794 total rows\n",
      "time to handle chunk: 0:00:06.725292\n",
      "15:39:19.854975 : chunk 44 : 999999 rows : 44999793 total rows\n",
      "time to handle chunk: 0:00:09.696426\n",
      "15:39:30.513024 : chunk 45 : 1000000 rows : 45999793 total rows\n",
      "time to handle chunk: 0:00:08.477647\n",
      "15:39:40.153511 : chunk 46 : 999999 rows : 46999792 total rows\n",
      "time to handle chunk: 0:00:08.469092\n",
      "15:39:49.728657 : chunk 47 : 999999 rows : 47999791 total rows\n",
      "time to handle chunk: 0:00:10.606360\n",
      "15:40:01.574415 : chunk 48 : 999999 rows : 48999790 total rows\n",
      "time to handle chunk: 0:00:10.211507\n",
      "15:40:12.693386 : chunk 49 : 1000000 rows : 49999790 total rows\n",
      "time to handle chunk: 0:00:06.962001\n",
      "15:40:20.597479 : chunk 50 : 999998 rows : 50999788 total rows\n",
      "time to handle chunk: 0:00:08.698360\n",
      "15:40:30.248532 : chunk 51 : 999999 rows : 51999787 total rows\n",
      "time to handle chunk: 0:00:15.349086\n",
      "15:40:46.494721 : chunk 52 : 999999 rows : 52999786 total rows\n",
      "time to handle chunk: 0:00:07.383028\n",
      "15:40:54.813297 : chunk 53 : 999999 rows : 53999785 total rows\n",
      "time to handle chunk: 0:00:08.983880\n",
      "15:41:04.697111 : chunk 54 : 1000000 rows : 54999785 total rows\n",
      "time to handle chunk: 0:00:03.961460\n",
      "15:41:09.566548 : chunk 55 : 1000000 rows : 55999785 total rows\n",
      "time to handle chunk: 0:00:01.159133\n",
      "15:41:11.852816 : chunk 56 : 1000000 rows : 56999785 total rows\n",
      "time to handle chunk: 0:00:01.155201\n",
      "15:41:13.899569 : chunk 57 : 1000000 rows : 57999785 total rows\n",
      "time to handle chunk: 0:00:01.254686\n",
      "15:41:16.065894 : chunk 58 : 1000000 rows : 58999785 total rows\n",
      "time to handle chunk: 0:00:01.358087\n",
      "15:41:18.552730 : chunk 59 : 1000000 rows : 59999785 total rows\n",
      "time to handle chunk: 0:00:01.300660\n",
      "15:41:20.849891 : chunk 60 : 1000000 rows : 60999785 total rows\n",
      "time to handle chunk: 0:00:01.152573\n",
      "15:41:22.895141 : chunk 61 : 1000000 rows : 61999785 total rows\n",
      "time to handle chunk: 0:00:01.111514\n",
      "15:41:24.910345 : chunk 62 : 1000000 rows : 62999785 total rows\n",
      "time to handle chunk: 0:00:01.038291\n",
      "15:41:27.803583 : chunk 63 : 1000000 rows : 63999785 total rows\n",
      "time to handle chunk: 0:00:04.876315\n",
      "15:41:33.604448 : chunk 64 : 999997 rows : 64999782 total rows\n",
      "time to handle chunk: 0:00:09.125358\n",
      "15:41:43.676706 : chunk 65 : 1000000 rows : 65999782 total rows\n",
      "time to handle chunk: 0:00:08.677623\n",
      "15:41:53.284180 : chunk 66 : 999998 rows : 66999780 total rows\n",
      "time to handle chunk: 0:00:08.244484\n",
      "15:42:02.440800 : chunk 67 : 1000000 rows : 67999780 total rows\n",
      "time to handle chunk: 0:00:10.160508\n",
      "15:42:13.571570 : chunk 68 : 1000000 rows : 68999780 total rows\n",
      "time to handle chunk: 0:00:09.488062\n",
      "15:42:24.150095 : chunk 69 : 999998 rows : 69999778 total rows\n",
      "time to handle chunk: 0:00:11.461872\n",
      "15:42:36.528475 : chunk 70 : 999999 rows : 70999777 total rows\n",
      "time to handle chunk: 0:00:07.877794\n",
      "15:42:45.303598 : chunk 71 : 1000000 rows : 71999777 total rows\n",
      "time to handle chunk: 0:00:08.631111\n",
      "15:42:54.785223 : chunk 72 : 1000000 rows : 72999777 total rows\n",
      "time to handle chunk: 0:00:03.530895\n",
      "15:42:59.220903 : chunk 73 : 1000000 rows : 73999777 total rows\n",
      "time to handle chunk: 0:00:03.651768\n",
      "15:43:03.891067 : chunk 74 : 999998 rows : 74999775 total rows\n",
      "time to handle chunk: 0:00:08.763860\n",
      "15:43:13.616028 : chunk 75 : 1000000 rows : 75999775 total rows\n",
      "time to handle chunk: 0:00:09.158750\n",
      "15:43:23.695758 : chunk 76 : 1000000 rows : 76999775 total rows\n",
      "time to handle chunk: 0:00:09.738516\n",
      "15:43:34.406972 : chunk 77 : 1000000 rows : 77999775 total rows\n",
      "time to handle chunk: 0:00:09.775364\n",
      "15:43:45.101106 : chunk 78 : 999998 rows : 78999773 total rows\n",
      "time to handle chunk: 0:00:18.583465\n",
      "15:44:05.215305 : chunk 79 : 999998 rows : 79999771 total rows\n",
      "time to handle chunk: 0:00:13.094311\n",
      "15:44:19.259377 : chunk 80 : 1000000 rows : 80999771 total rows\n",
      "time to handle chunk: 0:00:11.248010\n",
      "15:44:31.411844 : chunk 81 : 1000000 rows : 81999771 total rows\n",
      "time to handle chunk: 0:00:06.008814\n"
     ]
    },
    {
     "name": "stdout",
     "output_type": "stream",
     "text": [
      "15:44:38.395112 : chunk 82 : 999999 rows : 82999770 total rows\n",
      "time to handle chunk: 0:00:07.318684\n",
      "15:44:46.671823 : chunk 83 : 999997 rows : 83999767 total rows\n",
      "time to handle chunk: 0:00:08.143687\n",
      "15:44:55.696243 : chunk 84 : 999999 rows : 84999766 total rows\n",
      "time to handle chunk: 0:00:06.286137\n",
      "15:45:02.973911 : chunk 85 : 999999 rows : 85999765 total rows\n",
      "time to handle chunk: 0:00:07.369534\n",
      "15:45:11.347262 : chunk 86 : 1000000 rows : 86999765 total rows\n",
      "time to handle chunk: 0:00:06.204482\n",
      "15:45:18.646109 : chunk 87 : 1000000 rows : 87999765 total rows\n",
      "time to handle chunk: 0:00:03.955627\n",
      "15:45:23.508330 : chunk 88 : 999999 rows : 88999764 total rows\n",
      "time to handle chunk: 0:00:09.310048\n",
      "15:45:33.760030 : chunk 89 : 999998 rows : 89999762 total rows\n",
      "time to handle chunk: 0:00:08.992278\n",
      "15:45:43.686798 : chunk 90 : 999998 rows : 90999760 total rows\n",
      "time to handle chunk: 0:00:08.075151\n",
      "15:45:52.683672 : chunk 91 : 999999 rows : 91999759 total rows\n",
      "time to handle chunk: 0:00:08.816738\n",
      "15:46:02.399145 : chunk 92 : 999999 rows : 92999758 total rows\n",
      "time to handle chunk: 0:00:09.800371\n",
      "15:46:13.119285 : chunk 93 : 1000000 rows : 93999758 total rows\n",
      "time to handle chunk: 0:00:09.245720\n",
      "15:46:23.292509 : chunk 94 : 999997 rows : 94999755 total rows\n",
      "time to handle chunk: 0:00:09.951691\n",
      "15:46:34.128063 : chunk 95 : 999999 rows : 95999754 total rows\n",
      "time to handle chunk: 0:00:08.767815\n",
      "15:46:43.834137 : chunk 96 : 999999 rows : 96999753 total rows\n",
      "time to handle chunk: 0:00:08.981017\n",
      "15:46:53.725675 : chunk 97 : 999999 rows : 97999752 total rows\n",
      "time to handle chunk: 0:00:05.963141\n",
      "15:47:00.560425 : chunk 98 : 1000000 rows : 98999752 total rows\n",
      "time to handle chunk: 0:00:05.443417\n",
      "15:47:06.864738 : chunk 99 : 1000000 rows : 99999752 total rows\n",
      "time to handle chunk: 0:00:02.237197\n",
      "15:47:09.926211 : chunk 100 : 1000000 rows : 100999752 total rows\n",
      "time to handle chunk: 0:00:01.898860\n",
      "15:47:12.700297 : chunk 101 : 1000000 rows : 101999752 total rows\n",
      "time to handle chunk: 0:00:01.875305\n",
      "15:47:15.465620 : chunk 102 : 999999 rows : 102999751 total rows\n",
      "time to handle chunk: 0:00:07.405428\n",
      "15:47:23.893212 : chunk 103 : 999999 rows : 103999750 total rows\n",
      "time to handle chunk: 0:00:08.434282\n",
      "15:47:33.221034 : chunk 104 : 1000000 rows : 104999750 total rows\n",
      "time to handle chunk: 0:00:06.290189\n",
      "15:47:40.427007 : chunk 105 : 999999 rows : 105999749 total rows\n",
      "time to handle chunk: 0:00:21.266850\n",
      "15:48:02.697711 : chunk 106 : 999999 rows : 106999748 total rows\n",
      "time to handle chunk: 0:00:07.665105\n",
      "15:48:11.301312 : chunk 107 : 999998 rows : 107999746 total rows\n",
      "time to handle chunk: 0:00:09.642379\n",
      "15:48:21.855250 : chunk 108 : 1000000 rows : 108999746 total rows\n",
      "time to handle chunk: 0:00:09.262901\n",
      "15:48:32.082213 : chunk 109 : 999999 rows : 109999745 total rows\n",
      "time to handle chunk: 0:00:10.702698\n",
      "15:48:43.686821 : chunk 110 : 999999 rows : 110999744 total rows\n",
      "time to handle chunk: 0:00:07.709153\n",
      "15:48:52.323198 : chunk 111 : 999999 rows : 111999743 total rows\n",
      "time to handle chunk: 0:00:09.497525\n",
      "15:49:02.685604 : chunk 112 : 1000000 rows : 112999743 total rows\n",
      "time to handle chunk: 0:00:03.732339\n",
      "15:49:07.287380 : chunk 113 : 1000000 rows : 113999743 total rows\n",
      "time to handle chunk: 0:00:02.063375\n",
      "15:49:10.343859 : chunk 114 : 1000000 rows : 114999743 total rows\n",
      "time to handle chunk: 0:00:01.660234\n",
      "15:49:12.867487 : chunk 115 : 1000000 rows : 115999743 total rows\n",
      "time to handle chunk: 0:00:01.891580\n",
      "15:49:15.702965 : chunk 116 : 1000000 rows : 116999743 total rows\n",
      "time to handle chunk: 0:00:05.228717\n",
      "15:49:21.855655 : chunk 117 : 1000000 rows : 117999743 total rows\n",
      "time to handle chunk: 0:00:08.821148\n",
      "15:49:31.596710 : chunk 118 : 999999 rows : 118999742 total rows\n",
      "time to handle chunk: 0:00:05.717240\n",
      "15:49:38.255260 : chunk 119 : 1000000 rows : 119999742 total rows\n",
      "time to handle chunk: 0:00:01.997450\n",
      "15:49:41.254015 : chunk 120 : 1000000 rows : 120999742 total rows\n",
      "time to handle chunk: 0:00:01.573133\n",
      "15:49:43.755888 : chunk 121 : 1000000 rows : 121999742 total rows\n",
      "time to handle chunk: 0:00:01.588004\n",
      "15:49:46.238751 : chunk 122 : 1000000 rows : 122999742 total rows\n",
      "time to handle chunk: 0:00:01.443669\n",
      "15:49:48.558831 : chunk 123 : 1000000 rows : 123999742 total rows\n",
      "time to handle chunk: 0:00:03.766805\n",
      "15:49:53.250104 : chunk 124 : 1000000 rows : 124999742 total rows\n",
      "time to handle chunk: 0:00:13.426436\n",
      "15:50:07.663433 : chunk 125 : 1000000 rows : 125999742 total rows\n",
      "time to handle chunk: 0:00:10.827332\n",
      "15:50:19.478671 : chunk 126 : 999999 rows : 126999741 total rows\n",
      "time to handle chunk: 0:00:10.588892\n",
      "15:50:31.508859 : chunk 127 : 999998 rows : 127999739 total rows\n",
      "time to handle chunk: 0:00:11.399354\n",
      "15:50:43.807775 : chunk 128 : 999998 rows : 128999737 total rows\n",
      "time to handle chunk: 0:00:09.976041\n",
      "15:50:54.824264 : chunk 129 : 999999 rows : 129999736 total rows\n",
      "time to handle chunk: 0:00:09.285552\n",
      "15:51:05.122542 : chunk 130 : 1000000 rows : 130999736 total rows\n",
      "time to handle chunk: 0:00:06.522322\n",
      "15:51:12.597531 : chunk 131 : 1000000 rows : 131999736 total rows\n",
      "time to handle chunk: 0:00:02.358512\n",
      "15:51:16.121054 : chunk 132 : 1000000 rows : 132999736 total rows\n",
      "time to handle chunk: 0:00:02.599636\n",
      "15:51:19.875155 : chunk 133 : 1000000 rows : 133999736 total rows\n",
      "time to handle chunk: 0:00:01.999043\n",
      "15:51:23.028945 : chunk 134 : 1000000 rows : 134999736 total rows\n",
      "time to handle chunk: 0:00:02.121995\n",
      "15:51:27.594923 : chunk 135 : 1000000 rows : 135999736 total rows\n",
      "time to handle chunk: 0:00:11.176985\n",
      "15:51:39.812646 : chunk 136 : 999999 rows : 136999735 total rows\n",
      "time to handle chunk: 0:00:09.628666\n",
      "15:51:50.356422 : chunk 137 : 999998 rows : 137999733 total rows\n",
      "time to handle chunk: 0:00:08.104127\n",
      "15:51:59.401778 : chunk 138 : 999997 rows : 138999730 total rows\n",
      "time to handle chunk: 0:00:15.343128\n",
      "15:52:15.714807 : chunk 139 : 999998 rows : 139999728 total rows\n",
      "time to handle chunk: 0:00:08.760347\n",
      "15:52:25.726642 : chunk 140 : 1000000 rows : 140999728 total rows\n",
      "time to handle chunk: 0:00:09.831235\n",
      "15:52:36.549855 : chunk 141 : 999999 rows : 141999727 total rows\n",
      "time to handle chunk: 0:00:09.583831\n",
      "15:52:47.070195 : chunk 142 : 999998 rows : 142999725 total rows\n",
      "time to handle chunk: 0:00:08.641453\n",
      "15:52:56.386961 : chunk 143 : 670860 rows : 143670585 total rows\n",
      "time to handle chunk: 0:00:08.643441\n"
     ]
    }
   ],
   "source": [
    "# count machine_id -> # total sessions\n",
    "# make a map: machine_id -> {set of dates}\n",
    "# make a map: event_date -> {set of machines}\n",
    "# make a map: domains --> {set of machines}\n",
    "\n",
    "total_rows = 0\n",
    "machines_sessions_count = pd.Series()\n",
    "machines_dates = {}\n",
    "dates_machines = {}\n",
    "domains_machines = {}\n",
    "\n",
    "sessions_chunk = None\n",
    "rows = 0\n",
    "i = 0\n",
    "for sessions_chunk in pd.read_csv(sessions_fpath, \n",
    "                                  chunksize=CHUNKSIZE,\n",
    "                                  usecols=['machine_id', 'event_date', 'domain_name'],\n",
    "                                  #parse_dates=['event_date'],\n",
    "                                 ):\n",
    "    sessions_chunk.dropna(inplace=True)\n",
    "    rows = len(sessions_chunk)\n",
    "    total_rows += rows\n",
    "    start_d = datetime.now()\n",
    "    print('%s : chunk %s : %s rows : %s total rows' % (start_d.time(), i, rows, total_rows))\n",
    "    # count total sessions per machine\n",
    "    machines_sessions_count = machines_sessions_count.add(\n",
    "        sessions_chunk['machine_id'].value_counts(),\n",
    "        fill_value=0,\n",
    "    )\n",
    "    # count unique sessions dates for machines by making a set of dates per machine\n",
    "    _machines_dates = sessions_chunk.groupby(['machine_id'])['event_date'].agg('unique')\n",
    "    for machine_id, dates in _machines_dates.to_dict().items():\n",
    "        if machine_id in machines_dates:\n",
    "            machines_dates[machine_id].update(set(dates))\n",
    "        else:\n",
    "            machines_dates[machine_id] = set(dates)\n",
    "    # count unique machines per date by making a set of machines per event date\n",
    "    _dates_machines = sessions_chunk.groupby(['event_date'])['machine_id'].agg('unique')\n",
    "    for date, machines in _dates_machines.to_dict().items():\n",
    "        if date in dates_machines:\n",
    "            dates_machines[date].update(set(machines))\n",
    "        else:\n",
    "            dates_machines[date] = set(machines)\n",
    "    # count unique machines per domain by making a set of machines per domain\n",
    "    _domains_machines = sessions_chunk.groupby(['domain_name'])['machine_id'].agg('unique')\n",
    "    for domain, machines in _domains_machines.to_dict().items():\n",
    "        if domain in domains_machines:\n",
    "            domains_machines[domain].update(set(machines))\n",
    "        else:\n",
    "            domains_machines[domain] = set(machines)     \n",
    "    i += 1\n",
    "#     if i > 5:\n",
    "#         break \n",
    "    print('time to handle chunk: %s' % (datetime.now() - start_d))"
   ]
  },
  {
   "cell_type": "markdown",
   "id": "97b1c37c",
   "metadata": {},
   "source": [
    "Look at what we got...\n",
    "\n",
    "How many total rows of data?\n",
    "\n",
    "What is the date range of the data?\n",
    "\n",
    "How many unique machines?\n",
    "\n",
    "How many unique domains?"
   ]
  },
  {
   "cell_type": "code",
   "execution_count": 118,
   "id": "8cd4955a",
   "metadata": {},
   "outputs": [
    {
     "name": "stdout",
     "output_type": "stream",
     "text": [
      "143670585 total rows read in 144 chunks of size 1000000\n",
      "time range of data: 2017-01-01 to 2017-12-31\n",
      "93793 unique machines\n",
      "4852017 unique domains\n"
     ]
    }
   ],
   "source": [
    "print('%s total rows read in %s chunks of size %s' % (total_rows, i, CHUNKSIZE))\n",
    "\n",
    "dates = sorted([datetime.strptime(str(d),'%Y%m%d').strftime('%Y-%m-%d') for d in dates_machines.keys()])\n",
    "print('time range of data: %s to %s' % (dates[0], dates[-1]))\n",
    "\n",
    "print('%s unique machines' % len(machines_sessions_count))\n",
    "\n",
    "print('%s unique domains' % len(domains_machines))"
   ]
  },
  {
   "cell_type": "markdown",
   "id": "f200ecac",
   "metadata": {},
   "source": [
    "What are the most popular domains and what are the distributions of machines per domain?"
   ]
  },
  {
   "cell_type": "code",
   "execution_count": 174,
   "id": "48d2f40f",
   "metadata": {},
   "outputs": [
    {
     "data": {
      "text/plain": [
       "google.com               84677\n",
       "bing.com                 77292\n",
       "yahoo.com                74213\n",
       "facebook.com             70462\n",
       "live.com                 69352\n",
       "msn.com                  68955\n",
       "youtube.com              68623\n",
       "amazon.com               62691\n",
       "microsoft.com            61701\n",
       "ebay.com                 41305\n",
       "walmart.com              38877\n",
       "adobe.com                37070\n",
       "paypal.com               36970\n",
       "apple.com                36564\n",
       "pinterest.com            35860\n",
       "247-inc.net              34810\n",
       "wikipedia.org            34279\n",
       "office.com               29594\n",
       "googlesyndication.com    29473\n",
       "netflix.com              28138\n",
       "dtype: int64"
      ]
     },
     "execution_count": 174,
     "metadata": {},
     "output_type": "execute_result"
    }
   ],
   "source": [
    "domains_machines_count = pd.Series({d: len(ms) for d, ms in domains_machines.items()})\n",
    "domains_machines_count.sort_values(ascending=False).head(20)"
   ]
  },
  {
   "cell_type": "markdown",
   "id": "164ad4f7",
   "metadata": {},
   "source": [
    "Most domains show up just once!"
   ]
  },
  {
   "cell_type": "code",
   "execution_count": 175,
   "id": "71a74907",
   "metadata": {},
   "outputs": [
    {
     "data": {
      "text/plain": [
       "count    4.852017e+06\n",
       "mean     6.375336e+00\n",
       "std      1.592021e+02\n",
       "min      1.000000e+00\n",
       "25%      1.000000e+00\n",
       "50%      1.000000e+00\n",
       "75%      2.000000e+00\n",
       "max      8.467700e+04\n",
       "dtype: float64"
      ]
     },
     "execution_count": 175,
     "metadata": {},
     "output_type": "execute_result"
    }
   ],
   "source": [
    "domains_machines_count.describe()"
   ]
  },
  {
   "cell_type": "markdown",
   "id": "d443733e",
   "metadata": {},
   "source": [
    "What are the rare domains like? Are they malformed? Are they personal servers?\n",
    "\n",
    "Domains for FLoC should be eTLD+1. This is complex to check. We just check there is at least one \".\"."
   ]
  },
  {
   "cell_type": "code",
   "execution_count": 176,
   "id": "6b1ee7f3",
   "metadata": {},
   "outputs": [
    {
     "data": {
      "text/plain": [
       "001476.com                1\n",
       "004b17a0c349157de.com    15\n",
       "005.tv                   11\n",
       "005005.com                1\n",
       "007srzt.com               1\n",
       "                         ..\n",
       "zzsba.com                 2\n",
       "zzshavuicg                1\n",
       "zzstream.li               4\n",
       "zztxkj.com                1\n",
       "zzxwcs.com                1\n",
       "Length: 4852017, dtype: int64"
      ]
     },
     "execution_count": 176,
     "metadata": {},
     "output_type": "execute_result"
    }
   ],
   "source": [
    "domains_machines_count"
   ]
  },
  {
   "cell_type": "code",
   "execution_count": 177,
   "id": "a89ac631",
   "metadata": {},
   "outputs": [],
   "source": [
    "bad_count = domains_machines_count[domains_machines_count.index.map(lambda d: \".\" not in d)]"
   ]
  },
  {
   "cell_type": "code",
   "execution_count": 178,
   "id": "ddd2e3be",
   "metadata": {},
   "outputs": [
    {
     "name": "stdout",
     "output_type": "stream",
     "text": [
      "bad domains:\n",
      "10.2% = 496377/4852017 of total domains\n",
      "count    496377.000000\n",
      "mean          1.012934\n",
      "std           2.749253\n",
      "min           1.000000\n",
      "25%           1.000000\n",
      "50%           1.000000\n",
      "75%           1.000000\n",
      "max        1629.000000\n",
      "dtype: float64\n"
     ]
    },
    {
     "data": {
      "text/plain": [
       "1350server         1\n",
       "aaclcmbrfrjyd      1\n",
       "aadckakhnnk        1\n",
       "aafmtmqj           1\n",
       "aafndpilhvnruhb    1\n",
       "                  ..\n",
       "zzfdlhsqseb        1\n",
       "zzhecrvpuvklqig    1\n",
       "zzioiqnaqbhvxt     1\n",
       "zzqheumcfgmgx      1\n",
       "zzshavuicg         1\n",
       "Length: 496377, dtype: int64"
      ]
     },
     "execution_count": 178,
     "metadata": {},
     "output_type": "execute_result"
    }
   ],
   "source": [
    "print('bad domains:')\n",
    "print('%0.1f%% = %s/%s of total domains' % (\n",
    "    100*len(bad_count)/len(domains_machines_count), \n",
    "    len(bad_count),\n",
    "    len(domains_machines_count)\n",
    "))\n",
    "print(bad_count.describe())\n",
    "bad_count"
   ]
  },
  {
   "cell_type": "markdown",
   "id": "f2af869d",
   "metadata": {},
   "source": [
    "Exclude these bad domains"
   ]
  },
  {
   "cell_type": "code",
   "execution_count": 179,
   "id": "74e0d640",
   "metadata": {},
   "outputs": [],
   "source": [
    "domains_machines_count = domains_machines_count[domains_machines_count.index.map(lambda d: \".\" in d)]"
   ]
  },
  {
   "cell_type": "code",
   "execution_count": 180,
   "id": "9d2fba16",
   "metadata": {},
   "outputs": [
    {
     "data": {
      "text/plain": [
       "count    4.355640e+06\n",
       "mean     6.986445e+00\n",
       "std      1.680155e+02\n",
       "min      1.000000e+00\n",
       "25%      1.000000e+00\n",
       "50%      1.000000e+00\n",
       "75%      2.000000e+00\n",
       "max      8.467700e+04\n",
       "dtype: float64"
      ]
     },
     "execution_count": 180,
     "metadata": {},
     "output_type": "execute_result"
    }
   ],
   "source": [
    "domains_machines_count.describe()"
   ]
  },
  {
   "cell_type": "code",
   "execution_count": 184,
   "id": "526781a0",
   "metadata": {},
   "outputs": [
    {
     "data": {
      "text/plain": [
       "Text(0.5, 1.0, 'histogram of machines per domain')"
      ]
     },
     "execution_count": 184,
     "metadata": {},
     "output_type": "execute_result"
    },
    {
     "data": {
      "image/png": "[encoded data removed]",
      "text/plain": [
       "<Figure size 400x300 with 1 Axes>"
      ]
     },
     "metadata": {
      "needs_background": "light"
     },
     "output_type": "display_data"
    }
   ],
   "source": [
    "fig, ax = plt.subplots(1,1, figsize=(4,3), dpi=100)\n",
    "domains_machines_count.plot.hist(logy=True, ax=ax, bins=50)\n",
    "ax.set_xlabel('machines per domain')\n",
    "ax.set_ylabel('domains')\n",
    "ax.set_title('histogram of machines per domain')"
   ]
  },
  {
   "cell_type": "markdown",
   "id": "f940d7b7",
   "metadata": {},
   "source": [
    "How many total sessions per machine?"
   ]
  },
  {
   "cell_type": "code",
   "execution_count": 201,
   "id": "1b88799c",
   "metadata": {},
   "outputs": [
    {
     "data": {
      "image/png": "[encoded data removed]",
      "text/plain": [
       "<Figure size 400x200 with 1 Axes>"
      ]
     },
     "metadata": {
      "needs_background": "light"
     },
     "output_type": "display_data"
    },
    {
     "name": "stdout",
     "output_type": "stream",
     "text": [
      "count    9.379300e+04\n",
      "mean     1.531784e+03\n",
      "std      5.490888e+03\n",
      "min      1.000000e+00\n",
      "25%      1.750000e+02\n",
      "50%      6.170000e+02\n",
      "75%      1.797000e+03\n",
      "max      1.416960e+06\n",
      "dtype: float64\n",
      "\n",
      "excluding outliers\n",
      "count    89102.000000\n",
      "mean      1084.772373\n",
      "std       1296.935369\n",
      "min          1.000000\n",
      "25%        162.000000\n",
      "50%        552.000000\n",
      "75%       1527.000000\n",
      "max       6017.000000\n",
      "dtype: float64\n"
     ]
    },
    {
     "data": {
      "image/png": "[encoded data removed]",
      "text/plain": [
       "<Figure size 400x200 with 1 Axes>"
      ]
     },
     "metadata": {
      "needs_background": "light"
     },
     "output_type": "display_data"
    }
   ],
   "source": [
    "fig, ax = plt.subplots(1,1, figsize=(4,2), dpi=100)\n",
    "machines_sessions_count.plot.hist(logy=True, ax=ax, bins=50)\n",
    "ax.set_xlabel('sessions per machine')\n",
    "ax.set_title('histogram of sessions per machine')\n",
    "plt.show()\n",
    "print(machines_sessions_count.describe())\n",
    "print('\\nexcluding outliers')\n",
    "machines_sessions_count_95 = machines_sessions_count[machines_sessions_count < machines_sessions_count.quantile(.95)]\n",
    "fig, ax = plt.subplots(1,1, figsize=(4,2), dpi=100)\n",
    "machines_sessions_count_95.plot.hist(logy=True, ax=ax, bins=50)\n",
    "print(machines_sessions_count_95.describe())\n",
    "ax.set_xlabel('sessions per machine')\n",
    "_ = ax.set_title('histogram of sessions per machine')"
   ]
  },
  {
   "cell_type": "markdown",
   "id": "ba5b025d",
   "metadata": {},
   "source": [
    "What is the distribution of the unique number of days of sessions per machine?"
   ]
  },
  {
   "cell_type": "code",
   "execution_count": 206,
   "id": "ff546679",
   "metadata": {},
   "outputs": [
    {
     "data": {
      "image/png": "[encoded data removed]",
      "text/plain": [
       "<Figure size 400x200 with 1 Axes>"
      ]
     },
     "metadata": {
      "needs_background": "light"
     },
     "output_type": "display_data"
    },
    {
     "name": "stdout",
     "output_type": "stream",
     "text": [
      "count    93793.000000\n",
      "mean       125.569872\n",
      "std        102.483746\n",
      "min          1.000000\n",
      "25%         36.000000\n",
      "50%         99.000000\n",
      "75%        203.000000\n",
      "max        365.000000\n",
      "dtype: float64\n"
     ]
    }
   ],
   "source": [
    "machines_dates_count = pd.Series({m: len(dates) for m, dates in machines_dates.items()})\n",
    "fig, ax = plt.subplots(1,1, figsize=(4,2), dpi=100)\n",
    "machines_dates_count.plot.hist(ax=ax, bins=50)\n",
    "ax.set_xlabel('days per machine')\n",
    "ax.set_title('histogram of session days per machine')\n",
    "plt.show()\n",
    "print(machines_dates_count.describe())"
   ]
  },
  {
   "cell_type": "markdown",
   "id": "a93eb716",
   "metadata": {},
   "source": [
    "How many machines per day?"
   ]
  },
  {
   "cell_type": "code",
   "execution_count": 210,
   "id": "b202f179",
   "metadata": {},
   "outputs": [
    {
     "data": {
      "text/plain": [
       "count      365.000000\n",
       "mean     32267.328767\n",
       "std       3252.646984\n",
       "min       9475.000000\n",
       "25%      30506.000000\n",
       "50%      32619.000000\n",
       "75%      34904.000000\n",
       "max      37307.000000\n",
       "dtype: float64"
      ]
     },
     "execution_count": 210,
     "metadata": {},
     "output_type": "execute_result"
    }
   ],
   "source": [
    "dates_machines_count = pd.Series({datetime.strptime(str(d), '%Y%m%d'):len(m) for d, m in dates_machines.items()})\n",
    "dates_machines_count.describe()"
   ]
  },
  {
   "cell_type": "markdown",
   "id": "4dd32e32",
   "metadata": {},
   "source": [
    "Note the daily machine count is much smaller than the total number of machines. However, we are interested in weekly machine count (where machines have at least 7 domains visited) w.r.t. FLoC analysis."
   ]
  },
  {
   "cell_type": "code",
   "execution_count": 212,
   "id": "2670ca8b",
   "metadata": {},
   "outputs": [
    {
     "data": {
      "text/plain": [
       "2017-01-01    27198\n",
       "2017-01-02    32635\n",
       "2017-01-03    34964\n",
       "2017-01-04    34760\n",
       "2017-01-05    34712\n",
       "              ...  \n",
       "2017-12-27    29951\n",
       "2017-12-28    30149\n",
       "2017-12-29    29979\n",
       "2017-12-30    27083\n",
       "2017-12-31    25887\n",
       "Length: 365, dtype: int64"
      ]
     },
     "execution_count": 212,
     "metadata": {},
     "output_type": "execute_result"
    }
   ],
   "source": [
    "dates_machines_count"
   ]
  },
  {
   "cell_type": "code",
   "execution_count": 236,
   "id": "081bdc59",
   "metadata": {},
   "outputs": [
    {
     "data": {
      "image/png": "[encoded data removed]",
      "text/plain": [
       "<Figure size 1200x300 with 1 Axes>"
      ]
     },
     "metadata": {
      "needs_background": "light"
     },
     "output_type": "display_data"
    }
   ],
   "source": [
    "fig, ax = plt.subplots(1,1, figsize=(12,3), dpi=100)\n",
    "ax.bar(dates_machines_count.index, dates_machines_count)\n",
    "ax.set_xlim(dates_machines_count.index[0], dates_machines_count.index[-1])\n",
    "plt.show()"
   ]
  },
  {
   "cell_type": "code",
   "execution_count": 265,
   "id": "022a0aab",
   "metadata": {},
   "outputs": [],
   "source": [
    "dates = [datetime.strptime(str(d), '%Y%m%d') for d in unique_dates]"
   ]
  },
  {
   "cell_type": "markdown",
   "id": "38e27d2c",
   "metadata": {},
   "source": [
    "In the following analysis we exclude sessions from 2017-01-01 (Jan 1).\n",
    "\n",
    "This is because...\n",
    "- we need a way to divide browser histories into 7-day intervals\n",
    "- we use the isocalendar function to extract calendar weeks from the session event dates\n",
    "- isocalendar codes Jan 1 as week 52 instead of week 1\n",
    "- excluding 1 day from 365 days give us perfect 364/52 weeks -> 7 days per calendar week"
   ]
  },
  {
   "cell_type": "markdown",
   "id": "9085fbd8",
   "metadata": {},
   "source": [
    "Here I'll show you..."
   ]
  },
  {
   "cell_type": "code",
   "execution_count": 274,
   "id": "56e4134d",
   "metadata": {
    "scrolled": true
   },
   "outputs": [
    {
     "name": "stdout",
     "output_type": "stream",
     "text": [
      "calendar week for jan 1: 52\n",
      "calendar week for jan 2: 1\n",
      "calendar week for jan 3: 1\n"
     ]
    },
    {
     "data": {
      "image/png": "[encoded data removed]",
      "text/plain": [
       "<Figure size 720x72 with 1 Axes>"
      ]
     },
     "metadata": {
      "needs_background": "light"
     },
     "output_type": "display_data"
    },
    {
     "data": {
      "image/png": "[encoded data removed]",
      "text/plain": [
       "<Figure size 720x72 with 1 Axes>"
      ]
     },
     "metadata": {
      "needs_background": "light"
     },
     "output_type": "display_data"
    }
   ],
   "source": [
    "jan1 = datetime.strptime(str('20170101'), '%Y%m%d')\n",
    "print('calendar week for jan 1: %s' % jan1.isocalendar()[1])\n",
    "print('calendar week for jan 2: %s' % datetime.strptime(str('20170102'), '%Y%m%d').isocalendar()[1])\n",
    "print('calendar week for jan 3: %s' % datetime.strptime(str('20170103'), '%Y%m%d').isocalendar()[1])\n",
    "\n",
    "def plot_days_per_week(dates):\n",
    "    dates_weeks = [d.isocalendar()[1] for d in dates]\n",
    "    fig,ax = plt.subplots(1,1,figsize=(10,1))\n",
    "    pd.Series(dates_weeks).value_counts().sort_index().plot.bar(ax=ax)\n",
    "    ax.set_xlabel('week')\n",
    "    ax.set_ylabel('days per week')\n",
    "    return ax\n",
    "    \n",
    "ax = plot_days_per_week(dates)\n",
    "ax.set_title('calendar days per week for all event dates')\n",
    "\n",
    "ax = plot_days_per_week([d for d in dates if d > jan1])\n",
    "_ = ax.set_title('calendar days per week excluding Jan 1')"
   ]
  },
  {
   "cell_type": "markdown",
   "id": "3f5f9b27",
   "metadata": {},
   "source": [
    "Collect machines data for panel FLoC analysis.\n",
    "\n",
    "Create a table:\n",
    "\n",
    "```\n",
    "week, machine_id, domains, n_domains\n",
    "```\n",
    "\n",
    "where domains is the unique set of domains visited by machine_id for given week.\n",
    "\n",
    "To make this by processing data in chunks, we collect unique set of domains per week, machine in a dictionary and then transform the dictionary back into a dataframe.\n"
   ]
  },
  {
   "cell_type": "code",
   "execution_count": 405,
   "id": "1a27e332",
   "metadata": {},
   "outputs": [],
   "source": [
    "# make a map: {week: {machine_id: {set of domains from the week}}}\n",
    "weeks_machines_domains = {w: {machine_id: set() for machine_id in machines_dates} for w in range(1, 52+1)}"
   ]
  },
  {
   "cell_type": "code",
   "execution_count": 406,
   "id": "0bcd6fa5",
   "metadata": {
    "scrolled": true
   },
   "outputs": [
    {
     "name": "stdout",
     "output_type": "stream",
     "text": [
      "17:44:46.293821 : chunk 0\n",
      "992897 rows --> 992897 total rows\n",
      "time to handle chunk: 0:01:39.992049\n",
      "17:46:27.362385 : chunk 1\n",
      "994667 rows --> 1987564 total rows\n",
      "time to handle chunk: 0:00:28.510595\n",
      "17:46:56.987386 : chunk 2\n",
      "994243 rows --> 2981807 total rows\n",
      "time to handle chunk: 0:00:30.412497\n",
      "17:47:28.487261 : chunk 3\n",
      "992891 rows --> 3974698 total rows\n",
      "time to handle chunk: 0:00:33.236638\n",
      "17:48:02.734282 : chunk 4\n",
      "991085 rows --> 4965783 total rows\n",
      "time to handle chunk: 0:00:28.308754\n",
      "17:48:32.113937 : chunk 5\n",
      "992174 rows --> 5957957 total rows\n",
      "time to handle chunk: 0:01:46.593701\n",
      "17:50:19.979415 : chunk 6\n",
      "990308 rows --> 6948265 total rows\n",
      "time to handle chunk: 0:00:41.524961\n",
      "17:51:02.912884 : chunk 7\n",
      "995147 rows --> 7943412 total rows\n",
      "time to handle chunk: 0:00:27.472011\n",
      "17:51:31.422662 : chunk 8\n",
      "997777 rows --> 8941189 total rows\n",
      "time to handle chunk: 0:00:17.780262\n",
      "17:51:50.219554 : chunk 9\n",
      "997548 rows --> 9938737 total rows\n",
      "time to handle chunk: 0:00:19.012599\n",
      "17:52:10.522231 : chunk 10\n",
      "997512 rows --> 10936249 total rows\n",
      "time to handle chunk: 0:01:32.875083\n",
      "17:53:44.773177 : chunk 11\n",
      "997486 rows --> 11933735 total rows\n",
      "time to handle chunk: 0:00:18.796572\n",
      "17:54:04.681252 : chunk 12\n",
      "996023 rows --> 12929758 total rows\n",
      "time to handle chunk: 0:00:23.382892\n",
      "17:54:29.176953 : chunk 13\n",
      "989893 rows --> 13919651 total rows\n",
      "time to handle chunk: 0:00:40.865237\n",
      "17:55:11.143550 : chunk 14\n",
      "992055 rows --> 14911706 total rows\n",
      "time to handle chunk: 0:00:37.002269\n",
      "17:55:49.208634 : chunk 15\n",
      "992676 rows --> 15904382 total rows\n",
      "time to handle chunk: 0:02:01.848895\n",
      "17:57:52.158598 : chunk 16\n",
      "995507 rows --> 16899889 total rows\n",
      "time to handle chunk: 0:00:18.995634\n",
      "17:58:12.183310 : chunk 17\n",
      "993245 rows --> 17893134 total rows\n",
      "time to handle chunk: 0:00:38.655907\n",
      "17:58:51.927003 : chunk 18\n",
      "990670 rows --> 18883804 total rows\n",
      "time to handle chunk: 0:00:39.559592\n",
      "17:59:32.576034 : chunk 19\n",
      "991486 rows --> 19875290 total rows\n",
      "time to handle chunk: 0:01:55.787711\n",
      "18:01:29.534634 : chunk 20\n",
      "992230 rows --> 20867520 total rows\n",
      "time to handle chunk: 0:00:44.522943\n",
      "18:02:15.335187 : chunk 21\n",
      "990038 rows --> 21857558 total rows\n",
      "time to handle chunk: 0:00:37.759776\n",
      "18:02:54.273928 : chunk 22\n",
      "991617 rows --> 22849175 total rows\n",
      "time to handle chunk: 0:00:37.050003\n",
      "18:03:32.417703 : chunk 23\n",
      "991188 rows --> 23840363 total rows\n",
      "time to handle chunk: 0:00:33.285668\n",
      "18:04:06.666686 : chunk 24\n",
      "994028 rows --> 24834391 total rows\n",
      "time to handle chunk: 0:01:42.367538\n",
      "18:05:50.140706 : chunk 25\n",
      "994166 rows --> 25828557 total rows\n",
      "time to handle chunk: 0:00:34.267382\n",
      "18:06:25.487616 : chunk 26\n",
      "993111 rows --> 26821668 total rows\n",
      "time to handle chunk: 0:00:35.924270\n",
      "18:07:02.474229 : chunk 27\n",
      "991187 rows --> 27812855 total rows\n",
      "time to handle chunk: 0:00:34.334015\n",
      "18:07:37.913645 : chunk 28\n",
      "990530 rows --> 28803385 total rows\n",
      "time to handle chunk: 0:00:33.712532\n",
      "18:08:12.740656 : chunk 29\n",
      "991075 rows --> 29794460 total rows\n",
      "time to handle chunk: 0:01:50.080287\n",
      "18:10:03.848630 : chunk 30\n",
      "994514 rows --> 30788974 total rows\n",
      "time to handle chunk: 0:00:36.186908\n",
      "18:10:41.332564 : chunk 31\n",
      "993159 rows --> 31782133 total rows\n",
      "time to handle chunk: 0:00:33.818154\n",
      "18:11:16.222347 : chunk 32\n",
      "991403 rows --> 32773536 total rows\n",
      "time to handle chunk: 0:00:33.764141\n",
      "18:11:51.045395 : chunk 33\n",
      "991547 rows --> 33765083 total rows\n",
      "time to handle chunk: 0:01:53.033137\n",
      "18:13:45.443853 : chunk 34\n",
      "993379 rows --> 34758462 total rows\n",
      "time to handle chunk: 0:00:36.343067\n",
      "18:14:22.802786 : chunk 35\n",
      "995518 rows --> 35753980 total rows\n",
      "time to handle chunk: 0:00:29.647079\n",
      "18:14:53.512011 : chunk 36\n",
      "992703 rows --> 36746683 total rows\n",
      "time to handle chunk: 0:00:35.671931\n",
      "18:15:30.190099 : chunk 37\n",
      "991418 rows --> 37738101 total rows\n",
      "time to handle chunk: 0:00:34.373003\n",
      "18:16:05.559794 : chunk 38\n",
      "988380 rows --> 38726481 total rows\n",
      "time to handle chunk: 0:01:55.407184\n",
      "18:18:02.294883 : chunk 39\n",
      "993723 rows --> 39720204 total rows\n",
      "time to handle chunk: 0:00:31.297123\n",
      "18:18:34.694155 : chunk 40\n",
      "992567 rows --> 40712771 total rows\n",
      "time to handle chunk: 0:00:38.145493\n",
      "18:19:13.914110 : chunk 41\n",
      "992773 rows --> 41705544 total rows\n",
      "time to handle chunk: 0:00:36.094501\n",
      "18:19:51.088393 : chunk 42\n",
      "994573 rows --> 42700117 total rows\n",
      "time to handle chunk: 0:02:06.676485\n",
      "18:21:58.914043 : chunk 43\n",
      "995024 rows --> 43695141 total rows\n",
      "time to handle chunk: 0:00:30.554766\n",
      "18:22:30.464764 : chunk 44\n",
      "991673 rows --> 44686814 total rows\n",
      "time to handle chunk: 0:00:33.254086\n",
      "18:23:04.685758 : chunk 45\n",
      "992107 rows --> 45678921 total rows\n",
      "time to handle chunk: 0:00:31.994467\n",
      "18:23:37.647057 : chunk 46\n",
      "994033 rows --> 46672954 total rows\n",
      "time to handle chunk: 0:00:29.319838\n",
      "18:24:08.013005 : chunk 47\n",
      "992793 rows --> 47665747 total rows\n",
      "time to handle chunk: 0:02:02.796216\n",
      "18:26:12.012317 : chunk 48\n",
      "992879 rows --> 48658626 total rows\n",
      "time to handle chunk: 0:00:34.154503\n",
      "18:26:47.218048 : chunk 49\n",
      "995381 rows --> 49654007 total rows\n",
      "time to handle chunk: 0:00:30.698575\n",
      "18:27:18.927584 : chunk 50\n",
      "992725 rows --> 50646732 total rows\n",
      "time to handle chunk: 0:00:30.555342\n",
      "18:27:50.483817 : chunk 51\n",
      "990879 rows --> 51637611 total rows\n",
      "time to handle chunk: 0:00:32.381246\n",
      "18:28:23.853421 : chunk 52\n",
      "994358 rows --> 52631969 total rows\n",
      "time to handle chunk: 0:02:08.164112\n",
      "18:30:33.173743 : chunk 53\n",
      "992627 rows --> 53624596 total rows\n",
      "time to handle chunk: 0:00:37.036874\n",
      "18:31:11.215015 : chunk 54\n",
      "997015 rows --> 54621611 total rows\n",
      "time to handle chunk: 0:00:18.509667\n",
      "18:31:30.672745 : chunk 55\n",
      "998175 rows --> 55619786 total rows\n",
      "time to handle chunk: 0:00:12.971953\n",
      "18:31:44.833277 : chunk 56\n",
      "998147 rows --> 56617933 total rows\n",
      "time to handle chunk: 0:00:13.962215\n",
      "18:31:59.757746 : chunk 57\n",
      "997939 rows --> 57615872 total rows\n",
      "time to handle chunk: 0:01:40.098660\n",
      "18:33:41.007188 : chunk 58\n",
      "997711 rows --> 58613583 total rows\n",
      "time to handle chunk: 0:00:16.439772\n",
      "18:33:58.455468 : chunk 59\n",
      "997695 rows --> 59611278 total rows\n",
      "time to handle chunk: 0:00:16.514887\n",
      "18:34:15.927462 : chunk 60\n",
      "997840 rows --> 60609118 total rows\n",
      "time to handle chunk: 0:00:15.896471\n",
      "18:34:32.784691 : chunk 61\n",
      "997917 rows --> 61607035 total rows\n",
      "time to handle chunk: 0:00:16.205772\n",
      "18:34:50.017058 : chunk 62\n",
      "998011 rows --> 62605046 total rows\n",
      "time to handle chunk: 0:00:13.758902\n",
      "18:35:04.768551 : chunk 63\n",
      "996016 rows --> 63601062 total rows\n",
      "time to handle chunk: 0:01:45.094326\n",
      "18:36:50.961332 : chunk 64\n",
      "991583 rows --> 64592645 total rows\n",
      "time to handle chunk: 0:00:39.357185\n",
      "18:37:31.317525 : chunk 65\n",
      "992856 rows --> 65585501 total rows\n",
      "time to handle chunk: 0:00:37.604833\n",
      "18:38:10.488835 : chunk 66\n",
      "992761 rows --> 66578262 total rows\n",
      "time to handle chunk: 0:00:31.840497\n",
      "18:38:43.440146 : chunk 67\n",
      "991564 rows --> 67569826 total rows\n",
      "time to handle chunk: 0:00:34.175918\n",
      "18:39:18.589926 : chunk 68\n",
      "994024 rows --> 68563850 total rows\n",
      "time to handle chunk: 0:02:05.986986\n",
      "18:41:25.732848 : chunk 69\n",
      "992624 rows --> 69556474 total rows\n",
      "time to handle chunk: 0:00:38.667472\n",
      "18:42:05.653381 : chunk 70\n",
      "992514 rows --> 70548988 total rows\n",
      "time to handle chunk: 0:00:34.517796\n",
      "18:42:41.239108 : chunk 71\n",
      "991753 rows --> 71540741 total rows\n",
      "time to handle chunk: 0:00:34.948094\n",
      "18:43:17.148233 : chunk 72\n",
      "998478 rows --> 72539219 total rows\n",
      "time to handle chunk: 0:02:05.793229\n",
      "18:45:24.322562 : chunk 73\n",
      "998153 rows --> 73537372 total rows\n",
      "time to handle chunk: 0:00:25.846687\n",
      "18:45:51.260534 : chunk 74\n",
      "993849 rows --> 74531221 total rows\n",
      "time to handle chunk: 0:00:34.580869\n",
      "18:46:26.886503 : chunk 75\n",
      "993162 rows --> 75524383 total rows\n",
      "time to handle chunk: 0:00:35.840336\n",
      "18:47:03.693162 : chunk 76\n",
      "992313 rows --> 76516696 total rows\n",
      "time to handle chunk: 0:00:36.419109\n",
      "18:47:41.341128 : chunk 77\n",
      "992809 rows --> 77509505 total rows\n",
      "time to handle chunk: 0:02:13.815665\n",
      "18:49:56.338867 : chunk 78\n",
      "993159 rows --> 78502664 total rows\n",
      "time to handle chunk: 0:00:33.297407\n",
      "18:50:30.687468 : chunk 79\n",
      "992637 rows --> 79495301 total rows\n",
      "time to handle chunk: 0:00:33.028664\n",
      "18:51:04.740381 : chunk 80\n",
      "991000 rows --> 80486301 total rows\n",
      "time to handle chunk: 0:00:33.993020\n",
      "18:51:39.702210 : chunk 81\n",
      "995765 rows --> 81482066 total rows\n",
      "time to handle chunk: 0:00:23.573597\n",
      "18:52:04.266320 : chunk 82\n"
     ]
    },
    {
     "name": "stdout",
     "output_type": "stream",
     "text": [
      "994475 rows --> 82476541 total rows\n",
      "time to handle chunk: 0:02:07.891331\n",
      "18:54:13.388567 : chunk 83\n",
      "993915 rows --> 83470456 total rows\n",
      "time to handle chunk: 0:00:33.716200\n",
      "18:54:48.148552 : chunk 84\n",
      "996164 rows --> 84466620 total rows\n",
      "time to handle chunk: 0:00:30.879089\n",
      "18:55:20.030923 : chunk 85\n",
      "993863 rows --> 85460483 total rows\n",
      "time to handle chunk: 0:00:31.750774\n",
      "18:55:52.829404 : chunk 86\n",
      "995683 rows --> 86456166 total rows\n",
      "time to handle chunk: 0:02:08.390979\n",
      "18:58:02.557574 : chunk 87\n",
      "997581 rows --> 87453747 total rows\n",
      "time to handle chunk: 0:00:32.504771\n",
      "18:58:36.450296 : chunk 88\n",
      "988280 rows --> 88442027 total rows\n",
      "time to handle chunk: 0:00:35.836464\n",
      "18:59:13.364606 : chunk 89\n",
      "991168 rows --> 89433195 total rows\n",
      "time to handle chunk: 0:00:35.142206\n",
      "18:59:49.533831 : chunk 90\n",
      "991188 rows --> 90424383 total rows\n",
      "time to handle chunk: 0:00:33.295658\n",
      "19:00:23.822436 : chunk 91\n",
      "992371 rows --> 91416754 total rows\n",
      "time to handle chunk: 0:02:12.636128\n",
      "19:02:37.749491 : chunk 92\n",
      "983825 rows --> 92400579 total rows\n",
      "time to handle chunk: 0:00:34.572960\n",
      "19:03:13.368577 : chunk 93\n",
      "991424 rows --> 93392003 total rows\n",
      "time to handle chunk: 0:00:33.565441\n",
      "19:03:47.978846 : chunk 94\n",
      "991240 rows --> 94383243 total rows\n",
      "time to handle chunk: 0:00:35.288129\n",
      "19:04:24.343072 : chunk 95\n",
      "993720 rows --> 95376963 total rows\n",
      "time to handle chunk: 0:00:37.365486\n",
      "19:05:02.755780 : chunk 96\n",
      "992230 rows --> 96369193 total rows\n",
      "time to handle chunk: 0:02:23.774344\n",
      "19:07:27.656593 : chunk 97\n",
      "994462 rows --> 97363655 total rows\n",
      "time to handle chunk: 0:00:30.632832\n",
      "19:07:59.294419 : chunk 98\n",
      "995558 rows --> 98359213 total rows\n",
      "time to handle chunk: 0:00:27.006829\n",
      "19:08:27.417798 : chunk 99\n",
      "997709 rows --> 99356922 total rows\n",
      "time to handle chunk: 0:00:22.060920\n",
      "19:08:50.558989 : chunk 100\n",
      "997428 rows --> 100354350 total rows\n",
      "time to handle chunk: 0:01:56.426470\n",
      "19:10:48.085784 : chunk 101\n",
      "997258 rows --> 101351608 total rows\n",
      "time to handle chunk: 0:00:23.646344\n",
      "19:11:12.751385 : chunk 102\n",
      "992787 rows --> 102344395 total rows\n",
      "time to handle chunk: 0:00:33.389478\n",
      "19:11:47.198279 : chunk 103\n",
      "994211 rows --> 103338606 total rows\n",
      "time to handle chunk: 0:00:38.886154\n",
      "19:12:27.103648 : chunk 104\n",
      "995598 rows --> 104334204 total rows\n",
      "time to handle chunk: 0:00:34.495252\n",
      "19:13:02.657182 : chunk 105\n",
      "992146 rows --> 105326350 total rows\n",
      "time to handle chunk: 0:02:22.567567\n",
      "19:15:26.479300 : chunk 106\n",
      "993420 rows --> 106319770 total rows\n",
      "time to handle chunk: 0:00:37.030395\n",
      "19:16:04.558555 : chunk 107\n",
      "990517 rows --> 107310287 total rows\n",
      "time to handle chunk: 0:00:36.754665\n",
      "19:16:42.277756 : chunk 108\n",
      "993034 rows --> 108303321 total rows\n",
      "time to handle chunk: 0:00:34.489453\n",
      "19:17:17.764716 : chunk 109\n",
      "992631 rows --> 109295952 total rows\n",
      "time to handle chunk: 0:00:38.988265\n",
      "19:17:57.728929 : chunk 110\n",
      "993227 rows --> 110289179 total rows\n",
      "time to handle chunk: 0:02:18.669892\n",
      "19:20:17.650392 : chunk 111\n",
      "992490 rows --> 111281669 total rows\n",
      "time to handle chunk: 0:00:36.149684\n",
      "19:20:54.798711 : chunk 112\n",
      "996671 rows --> 112278340 total rows\n",
      "time to handle chunk: 0:00:20.594801\n",
      "19:21:16.331058 : chunk 113\n",
      "996948 rows --> 113275288 total rows\n",
      "time to handle chunk: 0:00:16.009514\n",
      "19:21:33.287865 : chunk 114\n",
      "996947 rows --> 114272235 total rows\n",
      "time to handle chunk: 0:00:14.445689\n",
      "19:21:48.707409 : chunk 115\n",
      "996964 rows --> 115269199 total rows\n",
      "time to handle chunk: 0:01:58.930978\n",
      "19:23:48.772873 : chunk 116\n",
      "995517 rows --> 116264716 total rows\n",
      "time to handle chunk: 0:00:26.875176\n",
      "19:24:16.695014 : chunk 117\n",
      "985042 rows --> 117249758 total rows\n",
      "time to handle chunk: 0:00:35.176250\n",
      "19:24:52.898105 : chunk 118\n",
      "995236 rows --> 118244994 total rows\n",
      "time to handle chunk: 0:00:24.519846\n",
      "19:25:18.379339 : chunk 119\n",
      "997693 rows --> 119242687 total rows\n",
      "time to handle chunk: 0:00:15.592818\n",
      "19:25:34.908448 : chunk 120\n",
      "997583 rows --> 120240270 total rows\n",
      "time to handle chunk: 0:01:53.447485\n",
      "19:27:29.460786 : chunk 121\n",
      "997300 rows --> 121237570 total rows\n",
      "time to handle chunk: 0:00:16.841648\n",
      "19:27:47.234628 : chunk 122\n",
      "997218 rows --> 122234788 total rows\n",
      "time to handle chunk: 0:00:14.847060\n",
      "19:28:03.001318 : chunk 123\n",
      "996249 rows --> 123231037 total rows\n",
      "time to handle chunk: 0:00:24.462887\n",
      "19:28:28.452825 : chunk 124\n",
      "992656 rows --> 124223693 total rows\n",
      "time to handle chunk: 0:00:35.906137\n",
      "19:29:05.395567 : chunk 125\n",
      "994118 rows --> 125217811 total rows\n",
      "time to handle chunk: 0:02:21.926950\n",
      "19:31:28.551043 : chunk 126\n",
      "993629 rows --> 126211440 total rows\n",
      "time to handle chunk: 0:00:38.458382\n",
      "19:32:08.082101 : chunk 127\n",
      "990992 rows --> 127202432 total rows\n",
      "time to handle chunk: 0:00:37.288241\n",
      "19:32:46.435118 : chunk 128\n",
      "991364 rows --> 128193796 total rows\n",
      "time to handle chunk: 0:00:31.541605\n",
      "19:33:19.016179 : chunk 129\n",
      "993019 rows --> 129186815 total rows\n",
      "time to handle chunk: 0:00:37.528576\n",
      "19:33:57.519815 : chunk 130\n",
      "995099 rows --> 130181914 total rows\n",
      "time to handle chunk: 0:02:17.666530\n",
      "19:36:16.336231 : chunk 131\n",
      "997262 rows --> 131179176 total rows\n",
      "time to handle chunk: 0:00:18.811393\n",
      "19:36:36.140544 : chunk 132\n",
      "997020 rows --> 132176196 total rows\n",
      "time to handle chunk: 0:00:19.278909\n",
      "19:36:56.437634 : chunk 133\n",
      "996928 rows --> 133173124 total rows\n",
      "time to handle chunk: 0:00:19.500884\n",
      "19:37:17.005877 : chunk 134\n",
      "996980 rows --> 134170104 total rows\n",
      "time to handle chunk: 0:00:16.888044\n",
      "19:37:35.059921 : chunk 135\n",
      "992938 rows --> 135163042 total rows\n",
      "time to handle chunk: 0:02:22.702619\n",
      "19:39:59.051631 : chunk 136\n",
      "992716 rows --> 136155758 total rows\n",
      "time to handle chunk: 0:00:39.450557\n",
      "19:40:39.559713 : chunk 137\n",
      "994300 rows --> 137150058 total rows\n",
      "time to handle chunk: 0:00:32.748992\n",
      "19:41:13.355477 : chunk 138\n",
      "991839 rows --> 138141897 total rows\n",
      "time to handle chunk: 0:00:36.517658\n",
      "19:41:50.905924 : chunk 139\n",
      "993626 rows --> 139135523 total rows\n",
      "time to handle chunk: 0:00:38.173431\n",
      "19:42:30.668862 : chunk 140\n",
      "993517 rows --> 140129040 total rows\n",
      "time to handle chunk: 0:02:36.559134\n",
      "19:45:09.257319 : chunk 141\n",
      "993067 rows --> 141122107 total rows\n",
      "time to handle chunk: 0:00:36.144902\n",
      "19:45:46.453709 : chunk 142\n",
      "993429 rows --> 142115536 total rows\n",
      "time to handle chunk: 0:00:37.181195\n",
      "19:46:24.368882 : chunk 143\n",
      "664254 rows --> 142779790 total rows\n",
      "time to handle chunk: 0:00:27.437481\n"
     ]
    }
   ],
   "source": [
    "sessions_chunk = None\n",
    "total_rows = 0\n",
    "i = 0\n",
    "for sessions_chunk in pd.read_csv(sessions_fpath, \n",
    "                                  chunksize=CHUNKSIZE,\n",
    "                                  usecols=['machine_id', 'event_date', 'domain_name'],\n",
    "                                  parse_dates=['event_date'],\n",
    "                                 ):\n",
    "    start_d = datetime.now()\n",
    "    print('%s : chunk %s' % (start_d.time(), i))\n",
    "    # drop rows with nan or malformed domains\n",
    "    sessions_chunk.dropna(inplace=True)\n",
    "    # drop malformed domains\n",
    "    sessions_chunk = sessions_chunk[sessions_chunk.domain_name.map(lambda d: \".\" in d)]\n",
    "    # drop rows where event date is Jan 1 2017.\n",
    "    sessions_chunk = sessions_chunk[sessions_chunk.event_date > jan1]\n",
    "    rows = len(sessions_chunk)\n",
    "    total_rows += rows\n",
    "    print('%s rows --> %s total rows' % (rows, total_rows))\n",
    "    #print('2 %s : chunk %s' % (datetime.now().time(), i))\n",
    "    # assign weeks\n",
    "    sessions_chunk['week'] = sessions_chunk.event_date.apply(lambda d: d.isocalendar()[1])\n",
    "    #print('3 %s : chunk %s' % (datetime.now().time(), i))\n",
    "    # group by week, machine_id so that each row corresponds to list of unique\n",
    "    # domains visited for given week for given machine\n",
    "    week_machine_domains = sessions_chunk.groupby(\n",
    "        ['week', 'machine_id']\n",
    "    )['domain_name'].unique()\n",
    "    #print('4 %s : chunk %s' % (datetime.now().time(), i))\n",
    "    # iterate over weeks to update the week_machines_domains dict for each week\n",
    "    for w in range(1, 52+1):\n",
    "        # maps for week w, {machine_id -> [array of unique domains]}\n",
    "        w_machine_domains_dict = week_machine_domains.xs(w).to_dict()\n",
    "        for m, d_array in w_machine_domains_dict.items():\n",
    "            weeks_machines_domains[w][m].update(set(d_array))    \n",
    "    i += 1\n",
    "#     if i > 1:\n",
    "#         break \n",
    "    print('time to handle chunk: %s' % (datetime.now() - start_d)) "
   ]
  },
  {
   "cell_type": "code",
   "execution_count": 407,
   "id": "a71c119c",
   "metadata": {},
   "outputs": [
    {
     "name": "stdout",
     "output_type": "stream",
     "text": [
      "about 95.3 minutes\n"
     ]
    }
   ],
   "source": [
    "# how long will this above process take?\n",
    "# about 40 seconds / chunk\n",
    "# 143 chunks\n",
    "print('about %0.1f minutes' % (143 * 40 / 60))"
   ]
  },
  {
   "cell_type": "code",
   "execution_count": 408,
   "id": "9e336bad",
   "metadata": {},
   "outputs": [],
   "source": [
    "# weeks_machines_domains"
   ]
  },
  {
   "cell_type": "code",
   "execution_count": 409,
   "id": "53d56687",
   "metadata": {},
   "outputs": [
    {
     "name": "stdout",
     "output_type": "stream",
     "text": [
      "week 10 19:46:53.893400\n",
      "week 20 19:46:56.794518\n",
      "week 30 19:48:49.262154\n",
      "week 40 19:48:53.596176\n",
      "week 50 19:48:59.174649\n"
     ]
    }
   ],
   "source": [
    "weeks_machines_domains_df = pd.DataFrame({})\n",
    "for w in range(1, 52+1):\n",
    "    if w % 10 == 0:\n",
    "        print('week', w, datetime.now().time())\n",
    "    weeks_machines_domains_df = weeks_machines_domains_df.append(pd.DataFrame.from_dict(\n",
    "        {m: [m, w, d, len(d)] for m,d in weeks_machines_domains[w].items()}, \n",
    "        orient='index', \n",
    "        columns=['machine_id', 'week','domains', 'n_domains']\n",
    "    ))"
   ]
  },
  {
   "cell_type": "code",
   "execution_count": 482,
   "id": "a847c43f",
   "metadata": {},
   "outputs": [
    {
     "data": {
      "text/html": [
       "<div>\n",
       "<style scoped>\n",
       "    .dataframe tbody tr th:only-of-type {\n",
       "        vertical-align: middle;\n",
       "    }\n",
       "\n",
       "    .dataframe tbody tr th {\n",
       "        vertical-align: top;\n",
       "    }\n",
       "\n",
       "    .dataframe thead th {\n",
       "        text-align: right;\n",
       "    }\n",
       "</style>\n",
       "<table border=\"1\" class=\"dataframe\">\n",
       "  <thead>\n",
       "    <tr style=\"text-align: right;\">\n",
       "      <th></th>\n",
       "      <th>week</th>\n",
       "      <th>n_domains</th>\n",
       "      <th>domains</th>\n",
       "    </tr>\n",
       "  </thead>\n",
       "  <tbody>\n",
       "    <tr>\n",
       "      <th>0</th>\n",
       "      <td>1</td>\n",
       "      <td>119</td>\n",
       "      <td>{homeworkmarket.com, shareably.net, crschools....</td>\n",
       "    </tr>\n",
       "    <tr>\n",
       "      <th>1</th>\n",
       "      <td>1</td>\n",
       "      <td>0</td>\n",
       "      <td>{}</td>\n",
       "    </tr>\n",
       "    <tr>\n",
       "      <th>2</th>\n",
       "      <td>1</td>\n",
       "      <td>2</td>\n",
       "      <td>{nbcsports.com, google.com}</td>\n",
       "    </tr>\n",
       "    <tr>\n",
       "      <th>3</th>\n",
       "      <td>1</td>\n",
       "      <td>5</td>\n",
       "      <td>{signaturesalon.us, tasteofhome.com, facebook....</td>\n",
       "    </tr>\n",
       "    <tr>\n",
       "      <th>4</th>\n",
       "      <td>1</td>\n",
       "      <td>8</td>\n",
       "      <td>{myway.com, victoryoutreach.org, adobeconnect....</td>\n",
       "    </tr>\n",
       "  </tbody>\n",
       "</table>\n",
       "</div>"
      ],
      "text/plain": [
       "   week  n_domains                                            domains\n",
       "0     1        119  {homeworkmarket.com, shareably.net, crschools....\n",
       "1     1          0                                                 {}\n",
       "2     1          2                        {nbcsports.com, google.com}\n",
       "3     1          5  {signaturesalon.us, tasteofhome.com, facebook....\n",
       "4     1          8  {myway.com, victoryoutreach.org, adobeconnect...."
      ]
     },
     "execution_count": 482,
     "metadata": {},
     "output_type": "execute_result"
    }
   ],
   "source": [
    "weeks_machines_domains_df.drop('machine_id', axis=1).head()"
   ]
  },
  {
   "cell_type": "code",
   "execution_count": 483,
   "id": "ccded0fe",
   "metadata": {},
   "outputs": [
    {
     "data": {
      "text/html": [
       "<div>\n",
       "<style scoped>\n",
       "    .dataframe tbody tr th:only-of-type {\n",
       "        vertical-align: middle;\n",
       "    }\n",
       "\n",
       "    .dataframe tbody tr th {\n",
       "        vertical-align: top;\n",
       "    }\n",
       "\n",
       "    .dataframe thead th {\n",
       "        text-align: right;\n",
       "    }\n",
       "</style>\n",
       "<table border=\"1\" class=\"dataframe\">\n",
       "  <thead>\n",
       "    <tr style=\"text-align: right;\">\n",
       "      <th></th>\n",
       "      <th>week</th>\n",
       "      <th>n_domains</th>\n",
       "      <th>domains</th>\n",
       "    </tr>\n",
       "  </thead>\n",
       "  <tbody>\n",
       "    <tr>\n",
       "      <th>619866</th>\n",
       "      <td>7</td>\n",
       "      <td>150591</td>\n",
       "      <td>{dongan-sh.com, suikerkist.nl, misdevelopment....</td>\n",
       "    </tr>\n",
       "    <tr>\n",
       "      <th>1276417</th>\n",
       "      <td>14</td>\n",
       "      <td>146780</td>\n",
       "      <td>{worldsleepcongress.com, beaverstatefling.com,...</td>\n",
       "    </tr>\n",
       "    <tr>\n",
       "      <th>1182624</th>\n",
       "      <td>13</td>\n",
       "      <td>131204</td>\n",
       "      <td>{imprimerie-moderne.fr, alpipro.biz, themequon...</td>\n",
       "    </tr>\n",
       "    <tr>\n",
       "      <th>2445238</th>\n",
       "      <td>27</td>\n",
       "      <td>96662</td>\n",
       "      <td>{pisirme.com, ybirozi.ru, dq-ht.net, worldslee...</td>\n",
       "    </tr>\n",
       "    <tr>\n",
       "      <th>1557796</th>\n",
       "      <td>17</td>\n",
       "      <td>93042</td>\n",
       "      <td>{dienthoaidoc.org, xxlejx.com, minetydance.com...</td>\n",
       "    </tr>\n",
       "  </tbody>\n",
       "</table>\n",
       "</div>"
      ],
      "text/plain": [
       "         week  n_domains                                            domains\n",
       "619866      7     150591  {dongan-sh.com, suikerkist.nl, misdevelopment....\n",
       "1276417    14     146780  {worldsleepcongress.com, beaverstatefling.com,...\n",
       "1182624    13     131204  {imprimerie-moderne.fr, alpipro.biz, themequon...\n",
       "2445238    27      96662  {pisirme.com, ybirozi.ru, dq-ht.net, worldslee...\n",
       "1557796    17      93042  {dienthoaidoc.org, xxlejx.com, minetydance.com..."
      ]
     },
     "execution_count": 483,
     "metadata": {},
     "output_type": "execute_result"
    }
   ],
   "source": [
    "weeks_machines_domains_df.sort_values('n_domains',ascending=False).drop('machine_id',axis=1).head()"
   ]
  },
  {
   "cell_type": "code",
   "execution_count": 484,
   "id": "2867ac70",
   "metadata": {},
   "outputs": [
    {
     "data": {
      "text/plain": [
       "4877236"
      ]
     },
     "execution_count": 484,
     "metadata": {},
     "output_type": "execute_result"
    }
   ],
   "source": [
    "len(weeks_machines_domains_df)"
   ]
  },
  {
   "cell_type": "markdown",
   "id": "390d0fb0",
   "metadata": {},
   "source": [
    "#### Save to file and reread from file.\n",
    "\n",
    "The domains set is encoded as a string for easier file read/writes."
   ]
  },
  {
   "cell_type": "code",
   "execution_count": 3,
   "id": "e5f59d12",
   "metadata": {},
   "outputs": [],
   "source": [
    "weeks_machines_domains_fpath = '../output/weeks_machines_domains.csv'\n",
    "\n",
    "def write_weeks_machines_domains(df):\n",
    "    weeks_machines_domains_df['domains_str'] = df.domains.apply(lambda x: \"|\".join(x))\n",
    "    print('saving %s rows to file %s...' % (len(df), weeks_machines_domains_fpath))\n",
    "    df.drop('domains', axis=1).to_csv(weeks_machines_domains_fpath, index=False)\n",
    "    print('...saved')\n",
    "    \n",
    "def read_weeks_machines_domains(nrows=None):\n",
    "    print('reading from %s...' % weeks_machines_domains_fpath)\n",
    "    df = pd.read_csv(weeks_machines_domains_fpath, nrows=nrows)\n",
    "    df['domains'] = df.fillna('').domains_str.apply(lambda x: set(x.split('|')))\n",
    "    df.drop('domains_str', axis=1, inplace=True)\n",
    "    print('... read %s rows' % len(df))\n",
    "    return df"
   ]
  },
  {
   "cell_type": "code",
   "execution_count": 459,
   "id": "a64efac5",
   "metadata": {},
   "outputs": [
    {
     "name": "stdout",
     "output_type": "stream",
     "text": [
      "saving 4877236 rows to file ../output/weeks_machines_domains.csv...\n",
      "...saved\n"
     ]
    }
   ],
   "source": [
    "write_weeks_machines_domains(weeks_machines_domains_df)"
   ]
  },
  {
   "cell_type": "markdown",
   "id": "b6d5a5ed",
   "metadata": {},
   "source": [
    "### Re-entry point\n",
    "\n",
    "Read from file"
   ]
  },
  {
   "cell_type": "code",
   "execution_count": 4,
   "id": "53735769",
   "metadata": {},
   "outputs": [
    {
     "name": "stdout",
     "output_type": "stream",
     "text": [
      "reading from ../output/weeks_machines_domains.csv...\n",
      "... read 4877236 rows\n"
     ]
    }
   ],
   "source": [
    "weeks_machines_domains_df = read_weeks_machines_domains()"
   ]
  },
  {
   "cell_type": "code",
   "execution_count": 5,
   "id": "3415bb7a",
   "metadata": {},
   "outputs": [
    {
     "data": {
      "text/plain": [
       "4877236"
      ]
     },
     "execution_count": 5,
     "metadata": {},
     "output_type": "execute_result"
    }
   ],
   "source": [
    "len(weeks_machines_domains_df)"
   ]
  },
  {
   "cell_type": "code",
   "execution_count": 6,
   "id": "4a06fb8f",
   "metadata": {},
   "outputs": [
    {
     "data": {
      "text/html": [
       "<div>\n",
       "<style scoped>\n",
       "    .dataframe tbody tr th:only-of-type {\n",
       "        vertical-align: middle;\n",
       "    }\n",
       "\n",
       "    .dataframe tbody tr th {\n",
       "        vertical-align: top;\n",
       "    }\n",
       "\n",
       "    .dataframe thead th {\n",
       "        text-align: right;\n",
       "    }\n",
       "</style>\n",
       "<table border=\"1\" class=\"dataframe\">\n",
       "  <thead>\n",
       "    <tr style=\"text-align: right;\">\n",
       "      <th></th>\n",
       "      <th>week</th>\n",
       "      <th>n_domains</th>\n",
       "      <th>domains</th>\n",
       "    </tr>\n",
       "  </thead>\n",
       "  <tbody>\n",
       "    <tr>\n",
       "      <th>0</th>\n",
       "      <td>1</td>\n",
       "      <td>119</td>\n",
       "      <td>{maurices.com, smarttrk.com, pinterest.com, su...</td>\n",
       "    </tr>\n",
       "    <tr>\n",
       "      <th>1</th>\n",
       "      <td>1</td>\n",
       "      <td>0</td>\n",
       "      <td>{}</td>\n",
       "    </tr>\n",
       "    <tr>\n",
       "      <th>2</th>\n",
       "      <td>1</td>\n",
       "      <td>2</td>\n",
       "      <td>{nbcsports.com, google.com}</td>\n",
       "    </tr>\n",
       "    <tr>\n",
       "      <th>3</th>\n",
       "      <td>1</td>\n",
       "      <td>5</td>\n",
       "      <td>{google.com, signaturesalon.us, salonrunner.co...</td>\n",
       "    </tr>\n",
       "    <tr>\n",
       "      <th>4</th>\n",
       "      <td>1</td>\n",
       "      <td>8</td>\n",
       "      <td>{myvoi.org, myway.com, google.com, mshatrainin...</td>\n",
       "    </tr>\n",
       "  </tbody>\n",
       "</table>\n",
       "</div>"
      ],
      "text/plain": [
       "   week  n_domains                                            domains\n",
       "0     1        119  {maurices.com, smarttrk.com, pinterest.com, su...\n",
       "1     1          0                                                 {}\n",
       "2     1          2                        {nbcsports.com, google.com}\n",
       "3     1          5  {google.com, signaturesalon.us, salonrunner.co...\n",
       "4     1          8  {myvoi.org, myway.com, google.com, mshatrainin..."
      ]
     },
     "execution_count": 6,
     "metadata": {},
     "output_type": "execute_result"
    }
   ],
   "source": [
    "weeks_machines_domains_df.drop('machine_id', axis=1).head()"
   ]
  },
  {
   "cell_type": "code",
   "execution_count": 7,
   "id": "12f74d87",
   "metadata": {},
   "outputs": [
    {
     "name": "stdout",
     "output_type": "stream",
     "text": [
      "has domains: 3058796\n",
      "has 7 domains: 2078124\n"
     ]
    },
    {
     "data": {
      "text/plain": [
       "count    4.877236e+06\n",
       "mean     1.325588e+01\n",
       "std      1.761905e+02\n",
       "min      0.000000e+00\n",
       "25%      0.000000e+00\n",
       "50%      4.000000e+00\n",
       "75%      1.600000e+01\n",
       "max      1.505910e+05\n",
       "Name: n_domains, dtype: float64"
      ]
     },
     "execution_count": 7,
     "metadata": {},
     "output_type": "execute_result"
    }
   ],
   "source": [
    "# how many had more than 0 domains?\n",
    "has_domains =  len(weeks_machines_domains_df[weeks_machines_domains_df.n_domains > 0])\n",
    "# how many had at least 7 domains?\n",
    "has_7domains =  len(weeks_machines_domains_df[weeks_machines_domains_df.n_domains >= 7])\n",
    "print('has domains: %s' % has_domains)\n",
    "print('has 7 domains: %s' % has_7domains)\n",
    "\n",
    "weeks_machines_domains_df['n_domains'].describe()"
   ]
  },
  {
   "cell_type": "markdown",
   "id": "63b13725",
   "metadata": {},
   "source": [
    "How many domains per machine each week?"
   ]
  },
  {
   "cell_type": "code",
   "execution_count": 8,
   "id": "702dec0a",
   "metadata": {},
   "outputs": [
    {
     "data": {
      "image/png": "[encoded data removed]",
      "text/plain": [
       "<Figure size 1800x600 with 1 Axes>"
      ]
     },
     "metadata": {
      "needs_background": "light"
     },
     "output_type": "display_data"
    }
   ],
   "source": [
    "fig, ax = plt.subplots(figsize=(12,4), dpi=150)\n",
    "weeks_machines_domains_df.boxplot(column=['n_domains'], by='week', ax=ax)\n",
    "ax.set_ylabel('domains per machine')\n",
    "fig.suptitle('')\n",
    "_ = ax.set_title('boxplot : domains per machine grouped by week')"
   ]
  },
  {
   "cell_type": "markdown",
   "id": "337687e9",
   "metadata": {},
   "source": [
    "Show plot without extreme outliers."
   ]
  },
  {
   "cell_type": "code",
   "execution_count": 9,
   "id": "db04788c",
   "metadata": {},
   "outputs": [
    {
     "name": "stdout",
     "output_type": "stream",
     "text": [
      "black dashed line for 7 domains\n"
     ]
    },
    {
     "data": {
      "image/png": "[encoded data removed]",
      "text/plain": [
       "<Figure size 2100x750 with 1 Axes>"
      ]
     },
     "metadata": {
      "needs_background": "light"
     },
     "output_type": "display_data"
    }
   ],
   "source": [
    "fig, ax = plt.subplots(figsize=(14,5), dpi=150)\n",
    "weeks_machines_domains_df.boxplot(column=['n_domains'], by='week', ax=ax)\n",
    "ax.set_ylabel('domains per machine')\n",
    "fig.suptitle('')\n",
    "ax.axhline(y=7, linestyle='--', color='black', label='7 domains')\n",
    "ax.set_ylim(0, 50)\n",
    "print('black dashed line for 7 domains')\n",
    "_ = ax.set_title('boxplot : domains per machine grouped by week')"
   ]
  },
  {
   "cell_type": "markdown",
   "id": "09a246fd",
   "metadata": {},
   "source": [
    "How many machines with at least 7 domains per week?"
   ]
  },
  {
   "cell_type": "code",
   "execution_count": 10,
   "id": "4c53f132",
   "metadata": {},
   "outputs": [
    {
     "data": {
      "text/html": [
       "<div>\n",
       "<style scoped>\n",
       "    .dataframe tbody tr th:only-of-type {\n",
       "        vertical-align: middle;\n",
       "    }\n",
       "\n",
       "    .dataframe tbody tr th {\n",
       "        vertical-align: top;\n",
       "    }\n",
       "\n",
       "    .dataframe thead th {\n",
       "        text-align: right;\n",
       "    }\n",
       "</style>\n",
       "<table border=\"1\" class=\"dataframe\">\n",
       "  <thead>\n",
       "    <tr style=\"text-align: right;\">\n",
       "      <th></th>\n",
       "      <th>week</th>\n",
       "      <th>n_domains</th>\n",
       "      <th>domains</th>\n",
       "    </tr>\n",
       "  </thead>\n",
       "  <tbody>\n",
       "    <tr>\n",
       "      <th>0</th>\n",
       "      <td>1</td>\n",
       "      <td>119</td>\n",
       "      <td>{maurices.com, smarttrk.com, pinterest.com, su...</td>\n",
       "    </tr>\n",
       "    <tr>\n",
       "      <th>4</th>\n",
       "      <td>1</td>\n",
       "      <td>8</td>\n",
       "      <td>{myvoi.org, myway.com, google.com, mshatrainin...</td>\n",
       "    </tr>\n",
       "    <tr>\n",
       "      <th>6</th>\n",
       "      <td>1</td>\n",
       "      <td>45</td>\n",
       "      <td>{buzzfeed.com, hymnwiki.org, 100layercake.com,...</td>\n",
       "    </tr>\n",
       "    <tr>\n",
       "      <th>7</th>\n",
       "      <td>1</td>\n",
       "      <td>9</td>\n",
       "      <td>{msn.com, att.net, dresslily.com, obsev.com, a...</td>\n",
       "    </tr>\n",
       "    <tr>\n",
       "      <th>8</th>\n",
       "      <td>1</td>\n",
       "      <td>35</td>\n",
       "      <td>{gearbest.com, inliberty.ru, golbis.com, admix...</td>\n",
       "    </tr>\n",
       "  </tbody>\n",
       "</table>\n",
       "</div>"
      ],
      "text/plain": [
       "   week  n_domains                                            domains\n",
       "0     1        119  {maurices.com, smarttrk.com, pinterest.com, su...\n",
       "4     1          8  {myvoi.org, myway.com, google.com, mshatrainin...\n",
       "6     1         45  {buzzfeed.com, hymnwiki.org, 100layercake.com,...\n",
       "7     1          9  {msn.com, att.net, dresslily.com, obsev.com, a...\n",
       "8     1         35  {gearbest.com, inliberty.ru, golbis.com, admix..."
      ]
     },
     "execution_count": 10,
     "metadata": {},
     "output_type": "execute_result"
    }
   ],
   "source": [
    "weeks_machines_domains_df[weeks_machines_domains_df.n_domains >= 7].drop('machine_id',axis=1).head()"
   ]
  },
  {
   "cell_type": "code",
   "execution_count": 11,
   "id": "d542b9c1",
   "metadata": {},
   "outputs": [
    {
     "data": {
      "text/plain": [
       "week\n",
       "1    42102\n",
       "2    42537\n",
       "3    43892\n",
       "4    42265\n",
       "5    44071\n",
       "Name: machine_id, dtype: int64"
      ]
     },
     "execution_count": 11,
     "metadata": {},
     "output_type": "execute_result"
    }
   ],
   "source": [
    "weeks_machines_7domains = weeks_machines_domains_df[\n",
    "    (weeks_machines_domains_df.n_domains >= 7)\n",
    "].groupby('week')['machine_id'].count()\n",
    "weeks_machines_7domains.head()"
   ]
  },
  {
   "cell_type": "code",
   "execution_count": 12,
   "id": "9e48fb32",
   "metadata": {},
   "outputs": [
    {
     "data": {
      "text/plain": [
       "week\n",
       "1    0.448882\n",
       "2    0.453520\n",
       "3    0.467967\n",
       "4    0.450620\n",
       "5    0.469875\n",
       "Name: machine_id, dtype: float64"
      ]
     },
     "execution_count": 12,
     "metadata": {},
     "output_type": "execute_result"
    }
   ],
   "source": [
    "weeks_machines_7d_pct = weeks_machines_7domains / weeks_machines_domains_df.machine_id.nunique()\n",
    "weeks_machines_7d_pct.head()"
   ]
  },
  {
   "cell_type": "code",
   "execution_count": 13,
   "id": "2864b430",
   "metadata": {},
   "outputs": [
    {
     "data": {
      "image/png": "[encoded data removed]",
      "text/plain": [
       "<Figure size 1200x400 with 2 Axes>"
      ]
     },
     "metadata": {
      "needs_background": "light"
     },
     "output_type": "display_data"
    }
   ],
   "source": [
    "fig, ax = plt.subplots(1,1, figsize=(12, 4), dpi=100)\n",
    "ax.bar(weeks_machines_7domains.index, weeks_machines_7domains)\n",
    "ax.set_xlim(0, 53)\n",
    "ax.set_title('number of machines with at least 7 domains per week')\n",
    "ax.set_ylabel('machines')\n",
    "ax_pct = ax.twinx()\n",
    "ax_pct.bar(weeks_machines_7d_pct.index, weeks_machines_7d_pct)\n",
    "_ = ax_pct.set_ylabel('% total machines')"
   ]
  },
  {
   "cell_type": "code",
   "execution_count": null,
   "id": "c1b9525f",
   "metadata": {},
   "outputs": [],
   "source": []
  }
 ],
 "metadata": {
  "kernelspec": {
   "display_name": "Python 3.7.1 64-bit ('env': venv)",
   "language": "python",
   "name": "python37164bitenvvenv8bc9e11411a346f699f1ee06d9e74332"
  },
  "language_info": {
   "codemirror_mode": {
    "name": "ipython",
    "version": 3
   },
   "file_extension": ".py",
   "mimetype": "text/x-python",
   "name": "python",
   "nbconvert_exporter": "python",
   "pygments_lexer": "ipython3",
   "version": "3.7.1"
  }
 },
 "nbformat": 4,
 "nbformat_minor": 5
}
