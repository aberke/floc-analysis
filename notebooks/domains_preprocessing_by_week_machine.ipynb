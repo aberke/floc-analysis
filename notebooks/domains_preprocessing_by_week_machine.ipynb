{
 "cells": [
  {
   "cell_type": "code",
   "execution_count": 2,
   "metadata": {},
   "outputs": [],
   "source": [
    "from datetime import datetime\n",
    "import re\n",
    "import sys\n",
    "sys.path.append('..')\n",
    "\n",
    "import floc\n",
    "import matplotlib.pyplot as plt\n",
    "import numpy as np\n",
    "import pandas as pd\n",
    "from joblib import Parallel, delayed\n",
    "\n",
    "\n",
    "sessions_fpath = '../data/comscore/2017/sessions.csv'"
   ]
  },
  {
   "cell_type": "markdown",
   "metadata": {},
   "source": [
    "Find all bad domains, save to `output/bad_domains.txt`"
   ]
  },
  {
   "cell_type": "code",
   "execution_count": 3,
   "metadata": {},
   "outputs": [],
   "source": [
    "bad_domains_fpath = '../output/bad_domains.txt'"
   ]
  },
  {
   "cell_type": "code",
   "execution_count": 105,
   "metadata": {},
   "outputs": [],
   "source": [
    "domains_df = pd.read_csv(sessions_fpath, usecols=['domain_name'], encoding=\"ISO-8859-1\")\n",
    "domains = domains_df.domain_name.unique()"
   ]
  },
  {
   "cell_type": "code",
   "execution_count": 106,
   "metadata": {},
   "outputs": [
    {
     "name": "stdout",
     "output_type": "stream",
     "text": [
      "read in 4852018 unique domains\n"
     ]
    }
   ],
   "source": [
    "print('read in %s unique domains' % len(domains))"
   ]
  },
  {
   "cell_type": "code",
   "execution_count": 132,
   "metadata": {},
   "outputs": [],
   "source": [
    "valid_hostname_regex = \"^(([a-zA-Z0-9]|[a-zA-Z0-9][a-zA-Z0-9\\-]*[a-zA-Z0-9])\\.)*([A-Za-z0-9]|[A-Za-z0-9][A-Za-z0-9\\-]*[A-Za-z0-9])$\"\n",
    "valid_hostname_pattern = re.compile(valid_hostname_regex)\n",
    "\n",
    "def _is_bad_etld1_pattern(d):\n",
    "    d = str(d)\n",
    "    return False if ('.' in d and valid_hostname_pattern.fullmatch(d)) else True\n",
    "\n",
    "def _is_bad_domain(domain):\n",
    "    if _is_bad_etld1_pattern(str(domain)):\n",
    "        return True\n",
    "    try: \n",
    "        floc.hashes.sim_hash_string([domain])\n",
    "        return False\n",
    "    except Exception as e:\n",
    "        return True\n",
    "    \n",
    "def get_bad_domains(domains):\n",
    "    bad_domains = [d for d in domains if _is_bad_domain(d)]\n",
    "    return bad_domains"
   ]
  },
  {
   "cell_type": "code",
   "execution_count": 110,
   "metadata": {},
   "outputs": [
    {
     "name": "stdout",
     "output_type": "stream",
     "text": [
      "writing 498004 bad domains to ../output/bad_domains.txt\n"
     ]
    }
   ],
   "source": [
    "bad_domains = get_bad_domains(domains)\n",
    "\n",
    "print('writing %s bad domains to %s' % (len(bad_domains), bad_domains_fpath))\n",
    "with open(bad_domains_fpath, 'w') as f:\n",
    "    for domain in bad_domains:\n",
    "        f.write(str(domain) + \"\\n\")"
   ]
  },
  {
   "cell_type": "code",
   "execution_count": 111,
   "metadata": {},
   "outputs": [
    {
     "name": "stdout",
     "output_type": "stream",
     "text": [
      "read 498004 bad domains from ../output/bad_domains.txt\n"
     ]
    }
   ],
   "source": [
    "bad_domains = []\n",
    "with open(bad_domains_fpath, 'r') as f:\n",
    "    for l in f.readlines():\n",
    "        bad_domains.append(l.strip())\n",
    "print('read %s bad domains from %s' % (len(bad_domains), bad_domains_fpath))"
   ]
  },
  {
   "cell_type": "markdown",
   "metadata": {},
   "source": [
    "---"
   ]
  },
  {
   "cell_type": "markdown",
   "metadata": {},
   "source": [
    "## make pre-processed domains data for each machine, week\n",
    "\n",
    "Read in sessions data, strip bad domains, format date correctly, and save to file\n",
    "\n",
    "process in chunks"
   ]
  },
  {
   "cell_type": "markdown",
   "metadata": {},
   "source": [
    "#### Make filter to keep / drop domains\n",
    "\n",
    "Separate out the bad domains that look like eTLD+1's but that are not. \n",
    "These are the domains that cannot be quickly checked with a regex.\n",
    "\n",
    "Making filter in this way that first checks if the domain matches a pattern and then checks if domain is in the smaller set of 'wellformed bad domains' that do have a valid pattern is WAY faster than checking each domain against list of all bad domains."
   ]
  },
  {
   "cell_type": "code",
   "execution_count": 123,
   "metadata": {},
   "outputs": [
    {
     "name": "stdout",
     "output_type": "stream",
     "text": [
      "498004 bad domains\n"
     ]
    },
    {
     "data": {
      "text/plain": [
       "['nan',\n",
       " 'lcvvdqo',\n",
       " 'cirqzrsgfi',\n",
       " 'yahiyfxxfqk',\n",
       " 'nnnlstzallxwl',\n",
       " 'dwffhonlxjnkuv',\n",
       " 'snapjsfzsphjzh',\n",
       " 'mbalwtfeoqcyvnr',\n",
       " 'ygkebjvdqqbsxj',\n",
       " 'obje']"
      ]
     },
     "execution_count": 123,
     "metadata": {},
     "output_type": "execute_result"
    }
   ],
   "source": [
    "print('%s bad domains' % len(bad_domains))\n",
    "bad_domains[:10]"
   ]
  },
  {
   "cell_type": "code",
   "execution_count": 113,
   "metadata": {},
   "outputs": [],
   "source": [
    "wellformed_bad_domains = [d for d in bad_domains if not _is_bad_etld1_pattern(d)]"
   ]
  },
  {
   "cell_type": "code",
   "execution_count": 114,
   "metadata": {},
   "outputs": [
    {
     "name": "stdout",
     "output_type": "stream",
     "text": [
      "1304 wellformed bad domains\n"
     ]
    },
    {
     "data": {
      "text/plain": [
       "['mil.ar',\n",
       " 'mn.it',\n",
       " 'health.vn',\n",
       " 'nv.us',\n",
       " 'sc.ke',\n",
       " 'dnsalias.com',\n",
       " 'mil.ni',\n",
       " 'gov.ec',\n",
       " 'mi.th',\n",
       " 'savona.it']"
      ]
     },
     "execution_count": 114,
     "metadata": {},
     "output_type": "execute_result"
    }
   ],
   "source": [
    "print('%s wellformed bad domains' % len(wellformed_bad_domains))\n",
    "wellformed_bad_domains[:10]"
   ]
  },
  {
   "cell_type": "code",
   "execution_count": 126,
   "metadata": {},
   "outputs": [],
   "source": [
    "# Filter to keep domains\n",
    "def keep_domain(d):\n",
    "    return (not _is_bad_etld1_pattern(d)) and (not d in wellformed_bad_domains)"
   ]
  },
  {
   "cell_type": "code",
   "execution_count": 116,
   "metadata": {},
   "outputs": [],
   "source": [
    "# make a map: {week: {machine_id: {set of domains from the week}}}\n",
    "machine_ids = pd.read_csv(sessions_fpath, usecols=['machine_id'], encoding=\"ISO-8859-1\").machine_id.unique()\n",
    "weeks_machines_domains = {w: {machine_id: set() for machine_id in machine_ids} for w in range(1, 52+1)}"
   ]
  },
  {
   "cell_type": "code",
   "execution_count": 11,
   "metadata": {},
   "outputs": [
    {
     "name": "stdout",
     "output_type": "stream",
     "text": [
      "93793 machine ids\n"
     ]
    }
   ],
   "source": [
    "print('%s machine ids' % len(machine_ids))"
   ]
  },
  {
   "cell_type": "code",
   "execution_count": 119,
   "metadata": {},
   "outputs": [],
   "source": [
    "jan1 = datetime.strptime(str('20170101'), '%Y%m%d')"
   ]
  },
  {
   "cell_type": "code",
   "execution_count": 127,
   "metadata": {
    "scrolled": true
   },
   "outputs": [
    {
     "name": "stdout",
     "output_type": "stream",
     "text": [
      "2021-12-07 18:07:48.044241 : chunk 0\n",
      "time to handle chunk: 0:00:46.226161\n",
      "2021-12-07 18:08:35.290825 : chunk 1\n",
      "time to handle chunk: 0:02:58.101329\n",
      "2021-12-07 18:11:34.444638 : chunk 2\n",
      "time to handle chunk: 0:00:37.567284\n",
      "2021-12-07 18:12:13.015798 : chunk 3\n",
      "time to handle chunk: 0:00:40.306774\n",
      "2021-12-07 18:12:54.329302 : chunk 4\n",
      "time to handle chunk: 0:01:59.722084\n",
      "2021-12-07 18:14:55.104358 : chunk 5\n",
      "time to handle chunk: 0:00:45.944244\n",
      "2021-12-07 18:15:42.101927 : chunk 6\n",
      "time to handle chunk: 0:00:44.493653\n",
      "2021-12-07 18:16:27.530737 : chunk 7\n",
      "time to handle chunk: 0:02:02.831155\n",
      "2021-12-07 18:18:31.334200 : chunk 8\n",
      "time to handle chunk: 0:00:28.748619\n",
      "2021-12-07 18:19:00.978074 : chunk 9\n",
      "time to handle chunk: 0:00:29.957896\n",
      "2021-12-07 18:19:31.888153 : chunk 10\n",
      "time to handle chunk: 0:02:02.530292\n",
      "2021-12-07 18:21:35.397033 : chunk 11\n",
      "time to handle chunk: 0:00:29.473008\n",
      "2021-12-07 18:22:05.781355 : chunk 12\n",
      "time to handle chunk: 0:00:31.564007\n",
      "2021-12-07 18:22:38.305235 : chunk 13\n",
      "time to handle chunk: 0:02:13.226589\n",
      "2021-12-07 18:24:52.549093 : chunk 14\n",
      "time to handle chunk: 0:00:39.184914\n",
      "2021-12-07 18:25:32.685105 : chunk 15\n",
      "time to handle chunk: 0:00:36.836790\n",
      "2021-12-07 18:26:10.432402 : chunk 16\n",
      "time to handle chunk: 0:02:00.206403\n",
      "2021-12-07 18:28:11.637973 : chunk 17\n",
      "time to handle chunk: 0:00:40.546193\n",
      "2021-12-07 18:28:53.146171 : chunk 18\n",
      "time to handle chunk: 0:00:44.922625\n",
      "2021-12-07 18:29:39.030063 : chunk 19\n",
      "time to handle chunk: 0:02:25.501947\n",
      "2021-12-07 18:32:05.632162 : chunk 20\n",
      "time to handle chunk: 0:00:43.301914\n",
      "2021-12-07 18:32:49.921660 : chunk 21\n",
      "time to handle chunk: 0:02:20.824839\n",
      "2021-12-07 18:35:11.828673 : chunk 22\n",
      "time to handle chunk: 0:00:41.995671\n",
      "2021-12-07 18:35:54.779473 : chunk 23\n",
      "time to handle chunk: 0:00:40.428396\n",
      "2021-12-07 18:36:36.209031 : chunk 24\n",
      "time to handle chunk: 0:02:11.304799\n",
      "2021-12-07 18:38:48.499193 : chunk 25\n",
      "time to handle chunk: 0:00:40.411800\n",
      "2021-12-07 18:39:29.891133 : chunk 26\n",
      "time to handle chunk: 0:00:40.254057\n",
      "2021-12-07 18:40:11.164614 : chunk 27\n",
      "time to handle chunk: 0:02:17.220742\n",
      "2021-12-07 18:42:29.375270 : chunk 28\n",
      "time to handle chunk: 0:00:38.663928\n",
      "2021-12-07 18:43:09.020927 : chunk 29\n",
      "time to handle chunk: 0:00:39.499686\n",
      "2021-12-07 18:43:49.467490 : chunk 30\n",
      "time to handle chunk: 0:02:13.480430\n",
      "2021-12-07 18:46:03.947868 : chunk 31\n",
      "time to handle chunk: 0:00:38.619406\n",
      "2021-12-07 18:46:43.532148 : chunk 32\n",
      "time to handle chunk: 0:00:39.219351\n",
      "2021-12-07 18:47:23.862390 : chunk 33\n",
      "time to handle chunk: 0:02:17.298312\n",
      "2021-12-07 18:49:42.410268 : chunk 34\n",
      "time to handle chunk: 0:00:40.360027\n",
      "2021-12-07 18:50:23.745412 : chunk 35\n",
      "time to handle chunk: 0:02:13.581340\n",
      "2021-12-07 18:52:38.293437 : chunk 36\n",
      "time to handle chunk: 0:00:37.780568\n",
      "2021-12-07 18:53:17.122885 : chunk 37\n",
      "time to handle chunk: 0:00:40.180774\n",
      "2021-12-07 18:53:58.261058 : chunk 38\n",
      "time to handle chunk: 0:02:26.420333\n",
      "2021-12-07 18:56:25.768705 : chunk 39\n",
      "time to handle chunk: 0:00:37.832595\n",
      "2021-12-07 18:57:04.563167 : chunk 40\n",
      "time to handle chunk: 0:00:42.823987\n",
      "2021-12-07 18:57:48.366975 : chunk 41\n",
      "time to handle chunk: 0:02:27.576203\n",
      "2021-12-07 19:00:17.863032 : chunk 42\n",
      "time to handle chunk: 0:00:41.682023\n",
      "2021-12-07 19:01:00.527255 : chunk 43\n",
      "time to handle chunk: 0:00:38.912449\n",
      "2021-12-07 19:01:40.402368 : chunk 44\n",
      "time to handle chunk: 0:02:26.061096\n",
      "2021-12-07 19:04:07.555529 : chunk 45\n",
      "time to handle chunk: 0:00:41.248109\n",
      "2021-12-07 19:04:49.742246 : chunk 46\n",
      "time to handle chunk: 0:02:22.744897\n",
      "2021-12-07 19:07:13.526906 : chunk 47\n",
      "time to handle chunk: 0:00:39.722429\n",
      "2021-12-07 19:07:54.169103 : chunk 48\n",
      "time to handle chunk: 0:00:40.711328\n",
      "2021-12-07 19:08:35.821264 : chunk 49\n",
      "time to handle chunk: 0:02:17.801199\n",
      "2021-12-07 19:10:54.601426 : chunk 50\n",
      "time to handle chunk: 0:00:39.390407\n",
      "2021-12-07 19:11:34.940069 : chunk 51\n",
      "time to handle chunk: 0:00:40.574299\n",
      "2021-12-07 19:12:16.812391 : chunk 52\n",
      "time to handle chunk: 0:02:30.026978\n",
      "2021-12-07 19:14:47.853502 : chunk 53\n",
      "time to handle chunk: 0:00:42.167960\n",
      "2021-12-07 19:15:30.952734 : chunk 54\n",
      "time to handle chunk: 0:00:31.506075\n",
      "2021-12-07 19:16:03.386065 : chunk 55\n",
      "time to handle chunk: 0:02:11.057112\n",
      "2021-12-07 19:18:15.378497 : chunk 56\n",
      "time to handle chunk: 0:00:29.851396\n",
      "2021-12-07 19:18:46.161217 : chunk 57\n",
      "time to handle chunk: 0:00:28.460758\n",
      "2021-12-07 19:19:15.529653 : chunk 58\n",
      "time to handle chunk: 0:02:10.186141\n",
      "2021-12-07 19:21:26.671459 : chunk 59\n",
      "time to handle chunk: 0:00:29.740316\n",
      "2021-12-07 19:21:57.321404 : chunk 60\n",
      "time to handle chunk: 0:00:30.895587\n",
      "2021-12-07 19:22:29.141914 : chunk 61\n",
      "time to handle chunk: 0:02:14.514291\n",
      "2021-12-07 19:24:44.621630 : chunk 62\n",
      "time to handle chunk: 0:00:28.344905\n",
      "2021-12-07 19:25:13.901398 : chunk 63\n",
      "time to handle chunk: 0:00:32.080180\n",
      "2021-12-07 19:25:46.970270 : chunk 64\n",
      "time to handle chunk: 0:02:22.582327\n",
      "2021-12-07 19:28:10.568485 : chunk 65\n",
      "time to handle chunk: 0:00:42.839040\n",
      "2021-12-07 19:28:54.376531 : chunk 66\n",
      "time to handle chunk: 0:00:39.469973\n",
      "2021-12-07 19:29:34.829012 : chunk 67\n",
      "time to handle chunk: 0:02:30.307535\n",
      "2021-12-07 19:32:06.117082 : chunk 68\n",
      "time to handle chunk: 0:00:38.468566\n",
      "2021-12-07 19:32:45.551361 : chunk 69\n",
      "time to handle chunk: 0:00:42.375057\n",
      "2021-12-07 19:33:28.889027 : chunk 70\n",
      "time to handle chunk: 0:02:29.090827\n",
      "2021-12-07 19:35:59.118083 : chunk 71\n",
      "time to handle chunk: 0:00:44.548078\n",
      "2021-12-07 19:36:44.566060 : chunk 72\n",
      "time to handle chunk: 0:00:39.459681\n",
      "2021-12-07 19:37:24.939193 : chunk 73\n",
      "time to handle chunk: 0:02:24.023290\n",
      "2021-12-07 19:39:49.943488 : chunk 74\n",
      "time to handle chunk: 0:00:41.103855\n",
      "2021-12-07 19:40:31.984200 : chunk 75\n",
      "time to handle chunk: 0:02:25.859476\n",
      "2021-12-07 19:42:58.887436 : chunk 76\n",
      "time to handle chunk: 0:00:41.647127\n",
      "2021-12-07 19:43:41.746999 : chunk 77\n",
      "time to handle chunk: 0:00:40.164552\n",
      "2021-12-07 19:44:23.023527 : chunk 78\n",
      "time to handle chunk: 0:02:31.711194\n",
      "2021-12-07 19:46:55.973549 : chunk 79\n",
      "time to handle chunk: 0:00:41.962187\n",
      "2021-12-07 19:47:39.310763 : chunk 80\n",
      "time to handle chunk: 0:00:40.836073\n",
      "2021-12-07 19:48:21.088275 : chunk 81\n",
      "time to handle chunk: 0:02:25.176260\n",
      "2021-12-07 19:50:47.305840 : chunk 82\n",
      "time to handle chunk: 0:00:38.178780\n",
      "2021-12-07 19:51:26.445401 : chunk 83\n",
      "time to handle chunk: 0:00:39.565149\n",
      "2021-12-07 19:52:06.900808 : chunk 84\n",
      "time to handle chunk: 0:02:29.684478\n",
      "2021-12-07 19:54:37.695253 : chunk 85\n",
      "time to handle chunk: 0:00:39.752248\n",
      "2021-12-07 19:55:18.500803 : chunk 86\n",
      "time to handle chunk: 0:02:39.461277\n",
      "2021-12-07 19:57:59.062347 : chunk 87\n",
      "time to handle chunk: 0:00:41.909924\n",
      "2021-12-07 19:58:41.952926 : chunk 88\n",
      "time to handle chunk: 0:00:43.394533\n",
      "2021-12-07 19:59:26.323705 : chunk 89\n",
      "time to handle chunk: 0:02:32.393925\n",
      "2021-12-07 20:01:59.719662 : chunk 90\n",
      "time to handle chunk: 0:00:41.774798\n",
      "2021-12-07 20:02:42.477923 : chunk 91\n",
      "time to handle chunk: 0:00:40.670269\n",
      "2021-12-07 20:03:24.084465 : chunk 92\n",
      "time to handle chunk: 0:02:34.843827\n",
      "2021-12-07 20:05:59.930057 : chunk 93\n",
      "time to handle chunk: 0:00:41.993458\n",
      "2021-12-07 20:06:42.888193 : chunk 94\n",
      "time to handle chunk: 0:02:38.124958\n",
      "2021-12-07 20:09:22.031405 : chunk 95\n",
      "time to handle chunk: 0:00:43.948162\n",
      "2021-12-07 20:10:06.943097 : chunk 96\n",
      "time to handle chunk: 0:00:42.321055\n",
      "2021-12-07 20:10:50.249069 : chunk 97\n",
      "time to handle chunk: 0:02:39.110555\n",
      "2021-12-07 20:13:30.381926 : chunk 98\n",
      "time to handle chunk: 0:00:39.279545\n",
      "2021-12-07 20:14:10.633918 : chunk 99\n",
      "time to handle chunk: 0:00:34.976772\n",
      "2021-12-07 20:14:46.532155 : chunk 100\n",
      "time to handle chunk: 0:02:24.817670\n",
      "2021-12-07 20:17:12.295021 : chunk 101\n",
      "time to handle chunk: 0:00:32.800109\n",
      "2021-12-07 20:17:46.027329 : chunk 102\n",
      "time to handle chunk: 0:00:38.417482\n",
      "2021-12-07 20:18:25.476309 : chunk 103\n",
      "time to handle chunk: 0:02:51.094058\n",
      "2021-12-07 20:21:17.719625 : chunk 104\n",
      "time to handle chunk: 0:00:43.736796\n",
      "2021-12-07 20:22:02.527122 : chunk 105\n",
      "time to handle chunk: 0:00:42.892265\n",
      "2021-12-07 20:22:46.417409 : chunk 106\n",
      "time to handle chunk: 0:02:42.371386\n",
      "2021-12-07 20:25:29.826791 : chunk 107\n",
      "time to handle chunk: 0:00:43.694449\n",
      "2021-12-07 20:26:14.445723 : chunk 108\n",
      "time to handle chunk: 0:02:37.630917\n",
      "2021-12-07 20:28:53.089886 : chunk 109\n"
     ]
    },
    {
     "name": "stdout",
     "output_type": "stream",
     "text": [
      "time to handle chunk: 0:00:41.705664\n",
      "2021-12-07 20:29:35.765631 : chunk 110\n",
      "time to handle chunk: 0:00:39.563450\n",
      "2021-12-07 20:30:16.599782 : chunk 111\n",
      "time to handle chunk: 0:02:40.777289\n",
      "2021-12-07 20:32:58.396319 : chunk 112\n",
      "time to handle chunk: 0:00:33.346548\n",
      "2021-12-07 20:33:32.665981 : chunk 113\n",
      "time to handle chunk: 0:00:31.248416\n",
      "2021-12-07 20:34:04.956673 : chunk 114\n",
      "time to handle chunk: 0:02:29.088866\n",
      "2021-12-07 20:36:35.023208 : chunk 115\n",
      "time to handle chunk: 0:00:29.782576\n",
      "2021-12-07 20:37:05.734717 : chunk 116\n",
      "time to handle chunk: 0:00:36.932666\n",
      "2021-12-07 20:37:43.622922 : chunk 117\n",
      "time to handle chunk: 0:02:37.733345\n",
      "2021-12-07 20:40:22.343351 : chunk 118\n",
      "time to handle chunk: 0:00:34.467418\n",
      "2021-12-07 20:40:57.739604 : chunk 119\n",
      "time to handle chunk: 0:00:32.318967\n",
      "2021-12-07 20:41:30.970139 : chunk 120\n",
      "time to handle chunk: 0:02:30.567729\n",
      "2021-12-07 20:44:02.492697 : chunk 121\n",
      "time to handle chunk: 0:00:31.822674\n",
      "2021-12-07 20:44:35.250900 : chunk 122\n",
      "time to handle chunk: 0:00:29.146421\n",
      "2021-12-07 20:45:05.329285 : chunk 123\n",
      "time to handle chunk: 0:00:33.985844\n",
      "2021-12-07 20:45:40.305581 : chunk 124\n",
      "time to handle chunk: 0:02:40.364064\n",
      "2021-12-07 20:48:21.707460 : chunk 125\n",
      "time to handle chunk: 0:00:40.442025\n",
      "2021-12-07 20:49:03.133434 : chunk 126\n",
      "time to handle chunk: 0:02:48.198132\n",
      "2021-12-07 20:51:52.351684 : chunk 127\n",
      "time to handle chunk: 0:00:44.208951\n",
      "2021-12-07 20:52:37.595214 : chunk 128\n",
      "time to handle chunk: 0:00:41.628461\n",
      "2021-12-07 20:53:20.214031 : chunk 129\n",
      "time to handle chunk: 0:02:44.854660\n",
      "2021-12-07 20:56:06.073768 : chunk 130\n",
      "time to handle chunk: 0:00:34.530854\n",
      "2021-12-07 20:56:41.554017 : chunk 131\n",
      "time to handle chunk: 0:00:29.478373\n",
      "2021-12-07 20:57:11.984041 : chunk 132\n",
      "time to handle chunk: 0:02:33.872517\n",
      "2021-12-07 20:59:46.835075 : chunk 133\n",
      "time to handle chunk: 0:00:30.173906\n",
      "2021-12-07 21:00:17.937843 : chunk 134\n",
      "time to handle chunk: 0:00:29.848333\n",
      "2021-12-07 21:00:48.803890 : chunk 135\n",
      "time to handle chunk: 0:02:43.652074\n",
      "2021-12-07 21:03:33.580248 : chunk 136\n",
      "time to handle chunk: 0:00:46.049219\n",
      "2021-12-07 21:04:20.663653 : chunk 137\n",
      "time to handle chunk: 0:00:43.501460\n",
      "2021-12-07 21:05:05.132177 : chunk 138\n",
      "time to handle chunk: 0:07:35.771617\n",
      "2021-12-07 21:12:42.193750 : chunk 139\n",
      "time to handle chunk: 0:00:53.090906\n",
      "2021-12-07 21:13:36.331864 : chunk 140\n",
      "time to handle chunk: 0:00:51.292101\n",
      "2021-12-07 21:14:28.738516 : chunk 141\n",
      "time to handle chunk: 0:05:44.929036\n",
      "2021-12-07 21:20:15.105037 : chunk 142\n",
      "time to handle chunk: 0:00:52.435987\n",
      "2021-12-07 21:21:08.212760 : chunk 143\n",
      "time to handle chunk: 0:00:34.336179\n"
     ]
    }
   ],
   "source": [
    "CHUNKSIZE=1000000\n",
    "\n",
    "\n",
    "def process_chunk(sessions_chunk):\n",
    "    # drop rows with nan or malformed domains\n",
    "    sessions_chunk.dropna(inplace=True)\n",
    "    # drop malformed domains\n",
    "    sessions_chunk = sessions_chunk[sessions_chunk.domain_name.map(keep_domain)]\n",
    "    # drop rows where event date is Jan 1 2017.\n",
    "    sessions_chunk = sessions_chunk[sessions_chunk.event_date > jan1]\n",
    "    # assign weeks\n",
    "    sessions_chunk['week'] = sessions_chunk.event_date.apply(lambda d: d.isocalendar()[1])\n",
    "    # group by week, machine_id so that each row corresponds to list of unique\n",
    "    # domains visited for given week for given machine\n",
    "    week_machine_domains = sessions_chunk.groupby(\n",
    "        ['week', 'machine_id']\n",
    "    )['domain_name'].unique()\n",
    "    return week_machine_domains\n",
    "\n",
    "\n",
    "chunks = pd.read_csv(sessions_fpath, \n",
    "                     encoding=\"ISO-8859-1\", \n",
    "                     chunksize=CHUNKSIZE, \n",
    "                     usecols=['machine_id', 'event_date', 'domain_name'],\n",
    "                     parse_dates=['event_date'])\n",
    "\n",
    "for i, chunk in enumerate(chunks):\n",
    "    start_d = datetime.now()\n",
    "    print('%s : chunk %s' % (start_d, i))\n",
    "    week_machine_domains = process_chunk(chunk)\n",
    "    for w in range(1, 52+1):\n",
    "        # maps for week w, {machine_id -> [array of unique domains]}\n",
    "        w_machine_domains_dict = week_machine_domains.xs(w).to_dict()\n",
    "        for m, d_array in w_machine_domains_dict.items():\n",
    "            weeks_machines_domains[w][m].update(set(d_array))\n",
    "    print('time to handle chunk: %s' % (datetime.now() - start_d))\n"
   ]
  },
  {
   "cell_type": "code",
   "execution_count": 128,
   "metadata": {},
   "outputs": [
    {
     "name": "stdout",
     "output_type": "stream",
     "text": [
      "week 10 21:24:06.278347\n",
      "week 20 21:24:08.697728\n",
      "week 30 21:24:11.624576\n",
      "week 40 21:24:15.020631\n",
      "week 50 21:25:54.953120\n"
     ]
    }
   ],
   "source": [
    "weeks_machines_domains_df = pd.DataFrame({})\n",
    "for w in range(1, 52+1):\n",
    "    if w % 10 == 0:\n",
    "        print('week', w, datetime.now().time())\n",
    "    weeks_machines_domains_df = weeks_machines_domains_df.append(pd.DataFrame.from_dict(\n",
    "        {m: [m, w, d, len(d)] for m,d in weeks_machines_domains[w].items()}, \n",
    "        orient='index', \n",
    "        columns=['machine_id', 'week','domains', 'n_domains']\n",
    "    ))"
   ]
  },
  {
   "cell_type": "code",
   "execution_count": 129,
   "metadata": {},
   "outputs": [
    {
     "data": {
      "text/html": [
       "<div>\n",
       "<style scoped>\n",
       "    .dataframe tbody tr th:only-of-type {\n",
       "        vertical-align: middle;\n",
       "    }\n",
       "\n",
       "    .dataframe tbody tr th {\n",
       "        vertical-align: top;\n",
       "    }\n",
       "\n",
       "    .dataframe thead th {\n",
       "        text-align: right;\n",
       "    }\n",
       "</style>\n",
       "<table border=\"1\" class=\"dataframe\">\n",
       "  <thead>\n",
       "    <tr style=\"text-align: right;\">\n",
       "      <th></th>\n",
       "      <th>week</th>\n",
       "      <th>domains</th>\n",
       "      <th>n_domains</th>\n",
       "    </tr>\n",
       "  </thead>\n",
       "  <tbody>\n",
       "    <tr>\n",
       "      <th>227609563</th>\n",
       "      <td>7</td>\n",
       "      <td>{bridgestonetire.ca, utharakalam.com, lovtradi...</td>\n",
       "      <td>150244</td>\n",
       "    </tr>\n",
       "    <tr>\n",
       "      <th>227609563</th>\n",
       "      <td>14</td>\n",
       "      <td>{schmidtmachinery.com, zedezign.com, ecoforest...</td>\n",
       "      <td>146385</td>\n",
       "    </tr>\n",
       "    <tr>\n",
       "      <th>227609563</th>\n",
       "      <td>13</td>\n",
       "      <td>{norakiraly.com, actualizarwhatsappgratis.com,...</td>\n",
       "      <td>130823</td>\n",
       "    </tr>\n",
       "    <tr>\n",
       "      <th>181325602</th>\n",
       "      <td>27</td>\n",
       "      <td>{festivalstudios.tv, stranarazuma.ru, drafmedi...</td>\n",
       "      <td>96429</td>\n",
       "    </tr>\n",
       "    <tr>\n",
       "      <th>227609563</th>\n",
       "      <td>17</td>\n",
       "      <td>{dnsmsn.com, old1415.cn, newburghpower.com, ba...</td>\n",
       "      <td>92748</td>\n",
       "    </tr>\n",
       "  </tbody>\n",
       "</table>\n",
       "</div>"
      ],
      "text/plain": [
       "           week                                            domains  n_domains\n",
       "227609563     7  {bridgestonetire.ca, utharakalam.com, lovtradi...     150244\n",
       "227609563    14  {schmidtmachinery.com, zedezign.com, ecoforest...     146385\n",
       "227609563    13  {norakiraly.com, actualizarwhatsappgratis.com,...     130823\n",
       "181325602    27  {festivalstudios.tv, stranarazuma.ru, drafmedi...      96429\n",
       "227609563    17  {dnsmsn.com, old1415.cn, newburghpower.com, ba...      92748"
      ]
     },
     "execution_count": 129,
     "metadata": {},
     "output_type": "execute_result"
    }
   ],
   "source": [
    "weeks_machines_domains_df.sort_values(\n",
    "    'n_domains', ascending=False\n",
    ").drop('machine_id', axis=1).head()"
   ]
  },
  {
   "cell_type": "markdown",
   "metadata": {},
   "source": [
    "#### Save to file and reread from file.\n",
    "\n",
    "The domains set is encoded as a string for easier file read/writes."
   ]
  },
  {
   "cell_type": "code",
   "execution_count": 5,
   "metadata": {},
   "outputs": [],
   "source": [
    "weeks_machines_domains_fpath = '../output/weeks_machines_domains.csv'\n",
    "\n",
    "def write_weeks_machines_domains(df):\n",
    "    df['domains_str'] = df.domains.apply(lambda x: \"|\".join(x))\n",
    "    print('saving %s rows to file %s...' % (len(df), weeks_machines_domains_fpath))\n",
    "    df.drop('domains', axis=1).to_csv(weeks_machines_domains_fpath, index=False)\n",
    "    print('...saved')\n",
    "    \n",
    "def read_weeks_machines_domains(nrows=None):\n",
    "    print('reading from %s...' % weeks_machines_domains_fpath)\n",
    "    df = pd.read_csv(weeks_machines_domains_fpath, nrows=nrows)\n",
    "    df['domains'] = df.domains_str.fillna('').apply(lambda x: set(x.split('|')) if x else set())\n",
    "    df.drop('domains_str', axis=1, inplace=True)\n",
    "    print('... read %s rows' % len(df))\n",
    "    return df"
   ]
  },
  {
   "cell_type": "code",
   "execution_count": 131,
   "metadata": {},
   "outputs": [
    {
     "name": "stdout",
     "output_type": "stream",
     "text": [
      "saving 4877236 rows to file ../output/weeks_machines_domains.csv...\n",
      "...saved\n"
     ]
    }
   ],
   "source": [
    "write_weeks_machines_domains(weeks_machines_domains_df)"
   ]
  },
  {
   "cell_type": "markdown",
   "metadata": {},
   "source": [
    "### Re-entry point\n",
    "\n",
    "Read from file"
   ]
  },
  {
   "cell_type": "code",
   "execution_count": 6,
   "metadata": {},
   "outputs": [
    {
     "name": "stdout",
     "output_type": "stream",
     "text": [
      "reading from ../output/weeks_machines_domains.csv...\n",
      "... read 4877236 rows\n"
     ]
    },
    {
     "data": {
      "text/html": [
       "<div>\n",
       "<style scoped>\n",
       "    .dataframe tbody tr th:only-of-type {\n",
       "        vertical-align: middle;\n",
       "    }\n",
       "\n",
       "    .dataframe tbody tr th {\n",
       "        vertical-align: top;\n",
       "    }\n",
       "\n",
       "    .dataframe thead th {\n",
       "        text-align: right;\n",
       "    }\n",
       "</style>\n",
       "<table border=\"1\" class=\"dataframe\">\n",
       "  <thead>\n",
       "    <tr style=\"text-align: right;\">\n",
       "      <th></th>\n",
       "      <th>week</th>\n",
       "      <th>n_domains</th>\n",
       "      <th>domains</th>\n",
       "    </tr>\n",
       "  </thead>\n",
       "  <tbody>\n",
       "    <tr>\n",
       "      <th>0</th>\n",
       "      <td>1</td>\n",
       "      <td>104</td>\n",
       "      <td>{guim.co.uk, tomshardware.com, watchonlinecart...</td>\n",
       "    </tr>\n",
       "    <tr>\n",
       "      <th>1</th>\n",
       "      <td>1</td>\n",
       "      <td>0</td>\n",
       "      <td>{}</td>\n",
       "    </tr>\n",
       "    <tr>\n",
       "      <th>2</th>\n",
       "      <td>1</td>\n",
       "      <td>20</td>\n",
       "      <td>{sammsoft.com, safeway.com, snagajob.com, shei...</td>\n",
       "    </tr>\n",
       "    <tr>\n",
       "      <th>3</th>\n",
       "      <td>1</td>\n",
       "      <td>49</td>\n",
       "      <td>{online-tech-tips.com, jjgirls.com, jenysmith....</td>\n",
       "    </tr>\n",
       "    <tr>\n",
       "      <th>4</th>\n",
       "      <td>1</td>\n",
       "      <td>64</td>\n",
       "      <td>{coupons.com, 247-inc.net, espn.com, scottrade...</td>\n",
       "    </tr>\n",
       "  </tbody>\n",
       "</table>\n",
       "</div>"
      ],
      "text/plain": [
       "   week  n_domains                                            domains\n",
       "0     1        104  {guim.co.uk, tomshardware.com, watchonlinecart...\n",
       "1     1          0                                                 {}\n",
       "2     1         20  {sammsoft.com, safeway.com, snagajob.com, shei...\n",
       "3     1         49  {online-tech-tips.com, jjgirls.com, jenysmith....\n",
       "4     1         64  {coupons.com, 247-inc.net, espn.com, scottrade..."
      ]
     },
     "execution_count": 6,
     "metadata": {},
     "output_type": "execute_result"
    }
   ],
   "source": [
    "weeks_machines_domains_df = read_weeks_machines_domains()\n",
    "weeks_machines_domains_df.drop('machine_id', axis=1).head()"
   ]
  },
  {
   "cell_type": "code",
   "execution_count": 28,
   "metadata": {},
   "outputs": [
    {
     "name": "stdout",
     "output_type": "stream",
     "text": [
      "black dashed line for 7 domains\n"
     ]
    },
    {
     "data": {
      "image/png": "[encoded data removed]",
      "text/plain": [
       "<Figure size 3600x900 with 1 Axes>"
      ]
     },
     "metadata": {
      "needs_background": "light"
     },
     "output_type": "display_data"
    }
   ],
   "source": [
    "# basic stats\n",
    "weeks_machines_domains_df['n_domains'].describe()\n",
    "\n",
    "# show box plot without extreme outliers\n",
    "dpi=300 # 150\n",
    "fig, ax = plt.subplots(figsize=(12, 3), dpi=dpi)\n",
    "weeks_machines_domains_df.boxplot(column=['n_domains'], by='week', ax=ax)\n",
    "ax.set_ylabel('domains per machine')\n",
    "fig.suptitle('')\n",
    "ax.axhline(y=7, linestyle='--', color='black', label='7 domains')\n",
    "ax.set_ylim(0, 50) # exclude showing large outliers\n",
    "print('black dashed line for 7 domains')\n",
    "_ = ax.set_xticklabels(['' if i%2 != 0 else i for i in range(1,53)])\n",
    "# title = 'boxplot : domains per machine grouped by week'\n",
    "title = ''\n",
    "_ = ax.set_title(title)"
   ]
  }
 ],
 "metadata": {
  "kernelspec": {
   "display_name": ".venv",
   "language": "python",
   "name": ".venv"
  },
  "language_info": {
   "codemirror_mode": {
    "name": "ipython",
    "version": 3
   },
   "file_extension": ".py",
   "mimetype": "text/x-python",
   "name": "python",
   "nbconvert_exporter": "python",
   "pygments_lexer": "ipython3",
   "version": "3.7.1"
  }
 },
 "nbformat": 4,
 "nbformat_minor": 2
}
