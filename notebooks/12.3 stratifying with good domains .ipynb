{
 "cells": [
  {
   "cell_type": "code",
   "execution_count": 4,
   "metadata": {},
   "outputs": [
    {
     "name": "stdout",
     "output_type": "stream",
     "text": [
      "The autoreload extension is already loaded. To reload it, use:\n",
      "  %reload_ext autoreload\n"
     ]
    }
   ],
   "source": [
    "from datetime import datetime\n",
    "import sys\n",
    "sys.path.append('..')\n",
    "%load_ext autoreload\n",
    "%autoreload 2\n",
    "import matplotlib.pyplot as plt\n",
    "import numpy as np\n",
    "import pandas as pd\n",
    "import floc\n",
    "\n",
    "from comscore.data import read_weeks_machines_domains\n"
   ]
  },
  {
   "cell_type": "code",
   "execution_count": 5,
   "metadata": {},
   "outputs": [
    {
     "name": "stdout",
     "output_type": "stream",
     "text": [
      "reading from ../output/weeks_machines_domains.csv...\n",
      "... read 4877236 rows\n"
     ]
    }
   ],
   "source": [
    "weeks_machines_domains_fpath = '../output/weeks_machines_domains.csv'\n",
    "\n",
    "weeks_machines_domains_df = read_weeks_machines_domains(weeks_machines_domains_fpath)"
   ]
  },
  {
   "cell_type": "code",
   "execution_count": 10,
   "metadata": {},
   "outputs": [
    {
     "data": {
      "text/html": [
       "<div>\n",
       "<style scoped>\n",
       "    .dataframe tbody tr th:only-of-type {\n",
       "        vertical-align: middle;\n",
       "    }\n",
       "\n",
       "    .dataframe tbody tr th {\n",
       "        vertical-align: top;\n",
       "    }\n",
       "\n",
       "    .dataframe thead th {\n",
       "        text-align: right;\n",
       "    }\n",
       "</style>\n",
       "<table border=\"1\" class=\"dataframe\">\n",
       "  <thead>\n",
       "    <tr style=\"text-align: right;\">\n",
       "      <th></th>\n",
       "      <th>week</th>\n",
       "      <th>n_domains</th>\n",
       "      <th>domains</th>\n",
       "    </tr>\n",
       "  </thead>\n",
       "  <tbody>\n",
       "    <tr>\n",
       "      <th>0</th>\n",
       "      <td>1</td>\n",
       "      <td>104</td>\n",
       "      <td>{moviepilot.com, pigeonsandplanes.com, reddit....</td>\n",
       "    </tr>\n",
       "    <tr>\n",
       "      <th>1</th>\n",
       "      <td>1</td>\n",
       "      <td>0</td>\n",
       "      <td>{}</td>\n",
       "    </tr>\n",
       "    <tr>\n",
       "      <th>2</th>\n",
       "      <td>1</td>\n",
       "      <td>20</td>\n",
       "      <td>{yahoo.com, dreamlandjewelry.com, snagajob.com...</td>\n",
       "    </tr>\n",
       "    <tr>\n",
       "      <th>3</th>\n",
       "      <td>1</td>\n",
       "      <td>49</td>\n",
       "      <td>{jenysmith.net, javhub.net, watchmygirlfriend....</td>\n",
       "    </tr>\n",
       "    <tr>\n",
       "      <th>4</th>\n",
       "      <td>1</td>\n",
       "      <td>64</td>\n",
       "      <td>{yahoo.com, arstechnica.com, ask.com, facebook...</td>\n",
       "    </tr>\n",
       "  </tbody>\n",
       "</table>\n",
       "</div>"
      ],
      "text/plain": [
       "   week  n_domains                                            domains\n",
       "0     1        104  {moviepilot.com, pigeonsandplanes.com, reddit....\n",
       "1     1          0                                                 {}\n",
       "2     1         20  {yahoo.com, dreamlandjewelry.com, snagajob.com...\n",
       "3     1         49  {jenysmith.net, javhub.net, watchmygirlfriend....\n",
       "4     1         64  {yahoo.com, arstechnica.com, ask.com, facebook..."
      ]
     },
     "execution_count": 10,
     "metadata": {},
     "output_type": "execute_result"
    }
   ],
   "source": [
    "weeks_machines_domains_df.drop('machine_id', axis=1).head()"
   ]
  },
  {
   "cell_type": "markdown",
   "metadata": {},
   "source": [
    "---"
   ]
  },
  {
   "cell_type": "markdown",
   "metadata": {},
   "source": [
    "Here we sample panels which will be done in a script. We test the output."
   ]
  },
  {
   "cell_type": "code",
   "execution_count": 12,
   "metadata": {},
   "outputs": [
    {
     "name": "stdout",
     "output_type": "stream",
     "text": [
      "Reading CPS and comscore data...\n"
     ]
    }
   ],
   "source": [
    "# we will do the following in a script\n",
    "from config import N_PANELS, COMSCORE_YEAR, N_CORES, INCOME_MAPPING\n",
    "from comscore.data import read_cps_df, read_comscore_demo_df\n",
    "from comscore.panel import generate_stratified_sample, stratify_cps\n",
    "from comscore.utils.stratify import stratify_data_without_replacement\n",
    "from joblib import Parallel, delayed\n",
    "\n",
    "print(\"Reading CPS and comscore data...\")\n",
    "cps_df = read_cps_df(fpath=\"../data/CPS-race.csv\")\n",
    "comscore_demo_df = read_comscore_demo_df(fpath='../data/comscore/{year}/demographics.csv', year=COMSCORE_YEAR)"
   ]
  },
  {
   "cell_type": "code",
   "execution_count": 13,
   "metadata": {},
   "outputs": [],
   "source": [
    "# collapse income categories to 4 categories\n",
    "cps_df['comscore_mapping'] = cps_df.comscore_mapping.apply(lambda x: INCOME_MAPPING[x])\n",
    "comscore_demo_df['household_income'] = comscore_demo_df.household_income.apply(lambda x: INCOME_MAPPING[x])\n"
   ]
  },
  {
   "cell_type": "code",
   "execution_count": 14,
   "metadata": {},
   "outputs": [
    {
     "data": {
      "text/html": [
       "<div>\n",
       "<style scoped>\n",
       "    .dataframe tbody tr th:only-of-type {\n",
       "        vertical-align: middle;\n",
       "    }\n",
       "\n",
       "    .dataframe tbody tr th {\n",
       "        vertical-align: top;\n",
       "    }\n",
       "\n",
       "    .dataframe thead th {\n",
       "        text-align: right;\n",
       "    }\n",
       "</style>\n",
       "<table border=\"1\" class=\"dataframe\">\n",
       "  <thead>\n",
       "    <tr style=\"text-align: right;\">\n",
       "      <th></th>\n",
       "      <th>1</th>\n",
       "      <th>2</th>\n",
       "      <th>3</th>\n",
       "      <th>comscore_mapping</th>\n",
       "      <th>5</th>\n",
       "    </tr>\n",
       "  </thead>\n",
       "  <tbody>\n",
       "    <tr>\n",
       "      <th>1</th>\n",
       "      <td>2739</td>\n",
       "      <td>1186</td>\n",
       "      <td>280</td>\n",
       "      <td>1</td>\n",
       "      <td>166</td>\n",
       "    </tr>\n",
       "    <tr>\n",
       "      <th>2</th>\n",
       "      <td>2154</td>\n",
       "      <td>883</td>\n",
       "      <td>107</td>\n",
       "      <td>1</td>\n",
       "      <td>151</td>\n",
       "    </tr>\n",
       "    <tr>\n",
       "      <th>3</th>\n",
       "      <td>4142</td>\n",
       "      <td>1274</td>\n",
       "      <td>172</td>\n",
       "      <td>1</td>\n",
       "      <td>237</td>\n",
       "    </tr>\n",
       "    <tr>\n",
       "      <th>4</th>\n",
       "      <td>4494</td>\n",
       "      <td>1163</td>\n",
       "      <td>214</td>\n",
       "      <td>1</td>\n",
       "      <td>176</td>\n",
       "    </tr>\n",
       "    <tr>\n",
       "      <th>5</th>\n",
       "      <td>4579</td>\n",
       "      <td>1070</td>\n",
       "      <td>217</td>\n",
       "      <td>1</td>\n",
       "      <td>231</td>\n",
       "    </tr>\n",
       "  </tbody>\n",
       "</table>\n",
       "</div>"
      ],
      "text/plain": [
       "      1     2    3  comscore_mapping    5\n",
       "1  2739  1186  280                 1  166\n",
       "2  2154   883  107                 1  151\n",
       "3  4142  1274  172                 1  237\n",
       "4  4494  1163  214                 1  176\n",
       "5  4579  1070  217                 1  231"
      ]
     },
     "execution_count": 14,
     "metadata": {},
     "output_type": "execute_result"
    }
   ],
   "source": [
    "cps_df.head()"
   ]
  },
  {
   "cell_type": "code",
   "execution_count": 15,
   "metadata": {},
   "outputs": [
    {
     "data": {
      "text/html": [
       "<div>\n",
       "<style scoped>\n",
       "    .dataframe tbody tr th:only-of-type {\n",
       "        vertical-align: middle;\n",
       "    }\n",
       "\n",
       "    .dataframe tbody tr th {\n",
       "        vertical-align: top;\n",
       "    }\n",
       "\n",
       "    .dataframe thead th {\n",
       "        text-align: right;\n",
       "    }\n",
       "</style>\n",
       "<table border=\"1\" class=\"dataframe\">\n",
       "  <thead>\n",
       "    <tr style=\"text-align: right;\">\n",
       "      <th></th>\n",
       "      <th>machine_id</th>\n",
       "      <th>household_income</th>\n",
       "      <th>racial_background</th>\n",
       "    </tr>\n",
       "  </thead>\n",
       "  <tbody>\n",
       "    <tr>\n",
       "      <th>0</th>\n",
       "      <td>46569906.0</td>\n",
       "      <td>3</td>\n",
       "      <td>1.0</td>\n",
       "    </tr>\n",
       "    <tr>\n",
       "      <th>1</th>\n",
       "      <td>70298839.0</td>\n",
       "      <td>2</td>\n",
       "      <td>1.0</td>\n",
       "    </tr>\n",
       "    <tr>\n",
       "      <th>2</th>\n",
       "      <td>76984170.0</td>\n",
       "      <td>3</td>\n",
       "      <td>1.0</td>\n",
       "    </tr>\n",
       "    <tr>\n",
       "      <th>3</th>\n",
       "      <td>76991725.0</td>\n",
       "      <td>3</td>\n",
       "      <td>1.0</td>\n",
       "    </tr>\n",
       "    <tr>\n",
       "      <th>5</th>\n",
       "      <td>81191519.0</td>\n",
       "      <td>1</td>\n",
       "      <td>1.0</td>\n",
       "    </tr>\n",
       "  </tbody>\n",
       "</table>\n",
       "</div>"
      ],
      "text/plain": [
       "   machine_id  household_income  racial_background\n",
       "0  46569906.0                 3                1.0\n",
       "1  70298839.0                 2                1.0\n",
       "2  76984170.0                 3                1.0\n",
       "3  76991725.0                 3                1.0\n",
       "5  81191519.0                 1                1.0"
      ]
     },
     "execution_count": 15,
     "metadata": {},
     "output_type": "execute_result"
    }
   ],
   "source": [
    "comscore_demo_df.head()"
   ]
  },
  {
   "cell_type": "code",
   "execution_count": 28,
   "metadata": {},
   "outputs": [
    {
     "name": "stdout",
     "output_type": "stream",
     "text": [
      "dropped 4877236 - 2073411 = 2803825 rows to create sampling frame\n",
      "CPU times: user 890 ms, sys: 92.6 ms, total: 982 ms\n",
      "Wall time: 994 ms\n"
     ]
    }
   ],
   "source": [
    "%%time\n",
    "\n",
    "# we create stratified samples where the sampling frame is limited to machines,weeks\n",
    "# with at least the threshold number of domains (7 domains for FLoC OT implementation)\n",
    "\n",
    "N_DOMAINS_THRESHOLD = 7\n",
    "\n",
    "comscore_sampling_frame_df = (\n",
    "    weeks_machines_domains_df[weeks_machines_domains_df.n_domains >= N_DOMAINS_THRESHOLD]\n",
    "    .merge(comscore_demo_df, \n",
    "               how='left', \n",
    "               left_on='machine_id', \n",
    "               right_on='machine_id')\n",
    "      \n",
    ")\n",
    "# TODO? could maybe drop domains column\n",
    "print('dropped %s - %s = %s rows to create sampling frame' % (\n",
    "    len(weeks_machines_domains_df), \n",
    "    len(comscore_sampling_frame_df), \n",
    "    (len(weeks_machines_domains_df) - len(comscore_sampling_frame_df)))\n",
    ")"
   ]
  },
  {
   "cell_type": "code",
   "execution_count": 29,
   "metadata": {},
   "outputs": [
    {
     "data": {
      "text/html": [
       "<div>\n",
       "<style scoped>\n",
       "    .dataframe tbody tr th:only-of-type {\n",
       "        vertical-align: middle;\n",
       "    }\n",
       "\n",
       "    .dataframe tbody tr th {\n",
       "        vertical-align: top;\n",
       "    }\n",
       "\n",
       "    .dataframe thead th {\n",
       "        text-align: right;\n",
       "    }\n",
       "</style>\n",
       "<table border=\"1\" class=\"dataframe\">\n",
       "  <thead>\n",
       "    <tr style=\"text-align: right;\">\n",
       "      <th></th>\n",
       "      <th>week</th>\n",
       "      <th>n_domains</th>\n",
       "      <th>domains</th>\n",
       "      <th>household_income</th>\n",
       "      <th>racial_background</th>\n",
       "    </tr>\n",
       "  </thead>\n",
       "  <tbody>\n",
       "    <tr>\n",
       "      <th>0</th>\n",
       "      <td>1</td>\n",
       "      <td>104</td>\n",
       "      <td>{moviepilot.com, pigeonsandplanes.com, reddit....</td>\n",
       "      <td>1.0</td>\n",
       "      <td>2.0</td>\n",
       "    </tr>\n",
       "    <tr>\n",
       "      <th>1</th>\n",
       "      <td>1</td>\n",
       "      <td>20</td>\n",
       "      <td>{yahoo.com, dreamlandjewelry.com, snagajob.com...</td>\n",
       "      <td>2.0</td>\n",
       "      <td>1.0</td>\n",
       "    </tr>\n",
       "    <tr>\n",
       "      <th>2</th>\n",
       "      <td>1</td>\n",
       "      <td>49</td>\n",
       "      <td>{jenysmith.net, javhub.net, watchmygirlfriend....</td>\n",
       "      <td>4.0</td>\n",
       "      <td>3.0</td>\n",
       "    </tr>\n",
       "    <tr>\n",
       "      <th>3</th>\n",
       "      <td>1</td>\n",
       "      <td>64</td>\n",
       "      <td>{yahoo.com, arstechnica.com, ask.com, facebook...</td>\n",
       "      <td>1.0</td>\n",
       "      <td>1.0</td>\n",
       "    </tr>\n",
       "    <tr>\n",
       "      <th>4</th>\n",
       "      <td>1</td>\n",
       "      <td>74</td>\n",
       "      <td>{sling.com, adage.com, giftcardgranny.com, que...</td>\n",
       "      <td>3.0</td>\n",
       "      <td>3.0</td>\n",
       "    </tr>\n",
       "  </tbody>\n",
       "</table>\n",
       "</div>"
      ],
      "text/plain": [
       "   week  n_domains                                            domains  \\\n",
       "0     1        104  {moviepilot.com, pigeonsandplanes.com, reddit....   \n",
       "1     1         20  {yahoo.com, dreamlandjewelry.com, snagajob.com...   \n",
       "2     1         49  {jenysmith.net, javhub.net, watchmygirlfriend....   \n",
       "3     1         64  {yahoo.com, arstechnica.com, ask.com, facebook...   \n",
       "4     1         74  {sling.com, adage.com, giftcardgranny.com, que...   \n",
       "\n",
       "   household_income  racial_background  \n",
       "0               1.0                2.0  \n",
       "1               2.0                1.0  \n",
       "2               4.0                3.0  \n",
       "3               1.0                1.0  \n",
       "4               3.0                3.0  "
      ]
     },
     "execution_count": 29,
     "metadata": {},
     "output_type": "execute_result"
    }
   ],
   "source": [
    "comscore_sampling_frame_df.drop('machine_id', axis=1).head()"
   ]
  },
  {
   "cell_type": "code",
   "execution_count": 30,
   "metadata": {},
   "outputs": [],
   "source": [
    "import random\n",
    "\n",
    "def generate_weekly_stratified_samples(cps_df, \n",
    "                                       comscore_sampling_frame_df, \n",
    "                                       seed_value=datetime.now()):\n",
    "    \"\"\"\n",
    "    Creates a randomly stratified panel for each week of comscore data.\n",
    "    stratification is on the joint distribution of racial background and household income\n",
    "    where the distribution is determined by census CPS data.\n",
    "    \n",
    "    args:\n",
    "    \n",
    "    cps_df\n",
    "    \n",
    "    comscore_sampling_frame_df is a table with columns\n",
    "        machine_id, week, household_income, racial_background\n",
    "        where the data has been limited to a sampling frame with valid data\n",
    "    \"\"\"\n",
    "    random.seed(seed_value)\n",
    "    cps_stratify = stratify_cps(cps_df)\n",
    "    comscore_sampling_frame_df['stratify'] = (\n",
    "        comscore_sampling_frame_df.household_income.astype(float).astype(str) \\\n",
    "        + \", \" \\\n",
    "        + comscore_sampling_frame_df.racial_background.astype(float).astype(str)\n",
    "    )\n",
    "    weekly_panels = []\n",
    "    for week in comscore_sampling_frame_df.week.unique():\n",
    "        \n",
    "        comscore_week_df = comscore_sampling_frame_df[comscore_sampling_frame_df.week == week]\n",
    "        demo_df_s = stratify_data_without_replacement(\n",
    "            comscore_week_df, \"stratify\", cps_stratify.index, cps_stratify.values\n",
    "        )\n",
    "        weekly_panels.append(demo_df_s)\n",
    "    return pd.concat(weekly_panels)"
   ]
  },
  {
   "cell_type": "code",
   "execution_count": 52,
   "metadata": {},
   "outputs": [
    {
     "name": "stdout",
     "output_type": "stream",
     "text": [
      "1/10: generating weekly panels\n",
      "2/10: generating weekly panels\n",
      "3/10: generating weekly panels\n",
      "4/10: generating weekly panels\n",
      "5/10: generating weekly panels\n",
      "6/10: generating weekly panels\n",
      "7/10: generating weekly panels\n",
      "8/10: generating weekly panels\n",
      "9/10: generating weekly panels\n",
      "10/10: generating weekly panels\n",
      "CPU times: user 1min 6s, sys: 3.22 s, total: 1min 9s\n",
      "Wall time: 1min 10s\n"
     ]
    }
   ],
   "source": [
    "%%time\n",
    "N_WEEKLY_PANELS = 10\n",
    "all_panels = []\n",
    "for p in range(N_WEEKLY_PANELS):\n",
    "    print('%s/%s: generating weekly panels' % (p + 1, N_WEEKLY_PANELS))\n",
    "    # each call returns 52 panels representing 1 week\n",
    "    panel_weeks = generate_weekly_stratified_samples(cps_df, comscore_sampling_frame_df)\n",
    "    panel_weeks['panel_id'] = panel_weeks.week + p * 52\n",
    "    all_panels.append(panel_weeks)"
   ]
  },
  {
   "cell_type": "code",
   "execution_count": 53,
   "metadata": {},
   "outputs": [],
   "source": [
    "all_panels_df = pd.concat(all_panels).reset_index(drop=True)"
   ]
  },
  {
   "cell_type": "markdown",
   "metadata": {},
   "source": [
    "Save the panel to file."
   ]
  },
  {
   "cell_type": "code",
   "execution_count": 58,
   "metadata": {},
   "outputs": [],
   "source": [
    "all_panels_fpath = '../output/all_panels.csv'"
   ]
  },
  {
   "cell_type": "code",
   "execution_count": 59,
   "metadata": {},
   "outputs": [
    {
     "name": "stdout",
     "output_type": "stream",
     "text": [
      "saving all panels to file ../output/all_panels.csv ...\n",
      "... saved\n"
     ]
    }
   ],
   "source": [
    "print('saving all panels to file %s ...' % all_panels_fpath)\n",
    "all_panels_df.drop(['domains'], axis=1).to_csv(all_panels_fpath, index=False)\n",
    "print('... saved')"
   ]
  },
  {
   "cell_type": "markdown",
   "metadata": {},
   "source": [
    "### Panel testing"
   ]
  },
  {
   "cell_type": "markdown",
   "metadata": {},
   "source": [
    "Read panel again"
   ]
  },
  {
   "cell_type": "code",
   "execution_count": 64,
   "metadata": {},
   "outputs": [],
   "source": [
    "all_panels_df = pd.read_csv(all_panels_fpath)"
   ]
  },
  {
   "cell_type": "markdown",
   "metadata": {},
   "source": [
    "Sanity checks that we did this right:"
   ]
  },
  {
   "cell_type": "code",
   "execution_count": 65,
   "metadata": {
    "scrolled": true
   },
   "outputs": [
    {
     "name": "stdout",
     "output_type": "stream",
     "text": [
      "all panels: 3302090 total rows\n",
      "520 panels\n"
     ]
    },
    {
     "data": {
      "text/html": [
       "<div>\n",
       "<style scoped>\n",
       "    .dataframe tbody tr th:only-of-type {\n",
       "        vertical-align: middle;\n",
       "    }\n",
       "\n",
       "    .dataframe tbody tr th {\n",
       "        vertical-align: top;\n",
       "    }\n",
       "\n",
       "    .dataframe thead th {\n",
       "        text-align: right;\n",
       "    }\n",
       "</style>\n",
       "<table border=\"1\" class=\"dataframe\">\n",
       "  <thead>\n",
       "    <tr style=\"text-align: right;\">\n",
       "      <th></th>\n",
       "      <th>week</th>\n",
       "      <th>n_domains</th>\n",
       "      <th>household_income</th>\n",
       "      <th>racial_background</th>\n",
       "      <th>stratify</th>\n",
       "      <th>panel_id</th>\n",
       "    </tr>\n",
       "  </thead>\n",
       "  <tbody>\n",
       "    <tr>\n",
       "      <th>0</th>\n",
       "      <td>1</td>\n",
       "      <td>11</td>\n",
       "      <td>1.0</td>\n",
       "      <td>1.0</td>\n",
       "      <td>1.0, 1.0</td>\n",
       "      <td>1</td>\n",
       "    </tr>\n",
       "    <tr>\n",
       "      <th>1</th>\n",
       "      <td>1</td>\n",
       "      <td>28</td>\n",
       "      <td>1.0</td>\n",
       "      <td>1.0</td>\n",
       "      <td>1.0, 1.0</td>\n",
       "      <td>1</td>\n",
       "    </tr>\n",
       "    <tr>\n",
       "      <th>2</th>\n",
       "      <td>1</td>\n",
       "      <td>7</td>\n",
       "      <td>1.0</td>\n",
       "      <td>1.0</td>\n",
       "      <td>1.0, 1.0</td>\n",
       "      <td>1</td>\n",
       "    </tr>\n",
       "    <tr>\n",
       "      <th>3</th>\n",
       "      <td>1</td>\n",
       "      <td>112</td>\n",
       "      <td>1.0</td>\n",
       "      <td>1.0</td>\n",
       "      <td>1.0, 1.0</td>\n",
       "      <td>1</td>\n",
       "    </tr>\n",
       "    <tr>\n",
       "      <th>4</th>\n",
       "      <td>1</td>\n",
       "      <td>61</td>\n",
       "      <td>1.0</td>\n",
       "      <td>1.0</td>\n",
       "      <td>1.0, 1.0</td>\n",
       "      <td>1</td>\n",
       "    </tr>\n",
       "  </tbody>\n",
       "</table>\n",
       "</div>"
      ],
      "text/plain": [
       "   week  n_domains  household_income  racial_background  stratify  panel_id\n",
       "0     1         11               1.0                1.0  1.0, 1.0         1\n",
       "1     1         28               1.0                1.0  1.0, 1.0         1\n",
       "2     1          7               1.0                1.0  1.0, 1.0         1\n",
       "3     1        112               1.0                1.0  1.0, 1.0         1\n",
       "4     1         61               1.0                1.0  1.0, 1.0         1"
      ]
     },
     "execution_count": 65,
     "metadata": {},
     "output_type": "execute_result"
    }
   ],
   "source": [
    "print('all panels: %s total rows' % len(all_panels_df))\n",
    "print('%s panels' % all_panels_df.panel_id.nunique())\n",
    "all_panels_df.drop(['machine_id'], axis=1).head()"
   ]
  },
  {
   "cell_type": "markdown",
   "metadata": {},
   "source": [
    "Note that not all panels are the same size because they are sampled by week, and each week in the sampling frame has a slightly different set of users.\n",
    "But we should at least expect panels for the same week to be the same size."
   ]
  },
  {
   "cell_type": "code",
   "execution_count": 77,
   "metadata": {},
   "outputs": [
    {
     "data": {
      "text/plain": [
       "week  panel_id\n",
       "1     1           6662\n",
       "      53          6662\n",
       "      105         6662\n",
       "      157         6662\n",
       "      209         6662\n",
       "                  ... \n",
       "52    312         5261\n",
       "      364         5261\n",
       "      416         5261\n",
       "      468         5261\n",
       "      520         5261\n",
       "Name: count, Length: 520, dtype: int64"
      ]
     },
     "execution_count": 77,
     "metadata": {},
     "output_type": "execute_result"
    }
   ],
   "source": [
    "# assert all panels for the same week have the same size\n",
    "week_panel_id_counts = all_panels_df.groupby('week')['panel_id'].value_counts().rename('count')\n",
    "for week in all_panels_df.week.unique():\n",
    "    assert(week_panel_id_counts.xs(week).nunique() == 1)\n",
    "\n",
    "week_panel_id_counts"
   ]
  },
  {
   "cell_type": "code",
   "execution_count": 86,
   "metadata": {},
   "outputs": [
    {
     "data": {
      "text/plain": [
       "Text(0, 0.5, 'panel size')"
      ]
     },
     "execution_count": 86,
     "metadata": {},
     "output_type": "execute_result"
    },
    {
     "data": {
      "image/png": "[encoded data removed]",
      "text/plain": [
       "<Figure size 1000x300 with 1 Axes>"
      ]
     },
     "metadata": {
      "needs_background": "light"
     },
     "output_type": "display_data"
    }
   ],
   "source": [
    "fig, ax = plt.subplots(1,1, figsize=(10,3), dpi=100)\n",
    "week_panel_id_counts.to_frame().reset_index().drop_duplicates(\n",
    "    subset=['week']\n",
    ").set_index('week')['count'].plot.bar(ax=ax)\n",
    "ax.set_ylabel('panel size')"
   ]
  },
  {
   "cell_type": "code",
   "execution_count": null,
   "metadata": {},
   "outputs": [],
   "source": [
    "TODO: check the demographics distributions are correct"
   ]
  }
 ],
 "metadata": {
  "kernelspec": {
   "display_name": ".venv",
   "language": "python",
   "name": ".venv"
  },
  "language_info": {
   "codemirror_mode": {
    "name": "ipython",
    "version": 3
   },
   "file_extension": ".py",
   "mimetype": "text/x-python",
   "name": "python",
   "nbconvert_exporter": "python",
   "pygments_lexer": "ipython3",
   "version": "3.7.1"
  }
 },
 "nbformat": 4,
 "nbformat_minor": 2
}
