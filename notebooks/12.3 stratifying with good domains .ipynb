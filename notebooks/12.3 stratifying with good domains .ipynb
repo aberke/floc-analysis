{
 "cells": [
  {
   "cell_type": "code",
   "execution_count": 5,
   "metadata": {},
   "outputs": [],
   "source": [
    "from datetime import datetime\n",
    "import sys\n",
    "sys.path.append('..')\n",
    "%autoreload 2\n",
    "import matplotlib.pyplot as plt\n",
    "import numpy as np\n",
    "import pandas as pd\n",
    "import floc\n",
    "\n",
    "from comscore.data import read_weeks_machines_domains\n",
    "\n",
    "sessions_fpath = '../data/comscore/2017/sessions.csv'"
   ]
  },
  {
   "cell_type": "code",
   "execution_count": 3,
   "metadata": {},
   "outputs": [
    {
     "name": "stdout",
     "output_type": "stream",
     "text": [
      "reading from ../output/weeks_machines_domains.csv...\n",
      "... read 4877236 rows\n"
     ]
    }
   ],
   "source": [
    "weeks_machines_domains_fpath = '../output/weeks_machines_domains.csv'\n",
    "\n",
    "wmd = read_weeks_machines_domains(weeks_machines_domains_fpath)"
   ]
  },
  {
   "cell_type": "code",
   "execution_count": 23,
   "metadata": {},
   "outputs": [],
   "source": [
    "machine_weeks_df = (wmd\n",
    "                    .assign(domains = lambda x: x.domains.apply(lambda y: [d for d in y if d != '']))\n",
    "                    .assign(n_domains=lambda x: x.domains.apply(len)))"
   ]
  },
  {
   "cell_type": "code",
   "execution_count": 24,
   "metadata": {},
   "outputs": [
    {
     "data": {
      "text/html": [
       "<div>\n",
       "<style scoped>\n",
       "    .dataframe tbody tr th:only-of-type {\n",
       "        vertical-align: middle;\n",
       "    }\n",
       "\n",
       "    .dataframe tbody tr th {\n",
       "        vertical-align: top;\n",
       "    }\n",
       "\n",
       "    .dataframe thead th {\n",
       "        text-align: right;\n",
       "    }\n",
       "</style>\n",
       "<table border=\"1\" class=\"dataframe\">\n",
       "  <thead>\n",
       "    <tr style=\"text-align: right;\">\n",
       "      <th></th>\n",
       "      <th>machine_id</th>\n",
       "      <th>week</th>\n",
       "      <th>n_domains</th>\n",
       "      <th>domains</th>\n",
       "    </tr>\n",
       "  </thead>\n",
       "  <tbody>\n",
       "    <tr>\n",
       "      <th>0</th>\n",
       "      <td>46569906</td>\n",
       "      <td>1</td>\n",
       "      <td>119</td>\n",
       "      <td>[tricoathletics.com, webassign.net, opinionshe...</td>\n",
       "    </tr>\n",
       "    <tr>\n",
       "      <th>1</th>\n",
       "      <td>70298839</td>\n",
       "      <td>1</td>\n",
       "      <td>0</td>\n",
       "      <td>[]</td>\n",
       "    </tr>\n",
       "    <tr>\n",
       "      <th>2</th>\n",
       "      <td>76984170</td>\n",
       "      <td>1</td>\n",
       "      <td>2</td>\n",
       "      <td>[google.com, nbcsports.com]</td>\n",
       "    </tr>\n",
       "    <tr>\n",
       "      <th>3</th>\n",
       "      <td>76991725</td>\n",
       "      <td>1</td>\n",
       "      <td>5</td>\n",
       "      <td>[signaturesalon.us, facebook.com, salonrunner....</td>\n",
       "    </tr>\n",
       "    <tr>\n",
       "      <th>4</th>\n",
       "      <td>81191519</td>\n",
       "      <td>1</td>\n",
       "      <td>8</td>\n",
       "      <td>[adobeconnect.com, myway.com, docusign.net, ms...</td>\n",
       "    </tr>\n",
       "  </tbody>\n",
       "</table>\n",
       "</div>"
      ],
      "text/plain": [
       "   machine_id  week  n_domains  \\\n",
       "0    46569906     1        119   \n",
       "1    70298839     1          0   \n",
       "2    76984170     1          2   \n",
       "3    76991725     1          5   \n",
       "4    81191519     1          8   \n",
       "\n",
       "                                             domains  \n",
       "0  [tricoathletics.com, webassign.net, opinionshe...  \n",
       "1                                                 []  \n",
       "2                        [google.com, nbcsports.com]  \n",
       "3  [signaturesalon.us, facebook.com, salonrunner....  \n",
       "4  [adobeconnect.com, myway.com, docusign.net, ms...  "
      ]
     },
     "execution_count": 24,
     "metadata": {},
     "output_type": "execute_result"
    }
   ],
   "source": [
    "machine_weeks_df.head()"
   ]
  },
  {
   "cell_type": "markdown",
   "metadata": {},
   "source": [
    "---"
   ]
  },
  {
   "cell_type": "code",
   "execution_count": 52,
   "metadata": {},
   "outputs": [
    {
     "name": "stdout",
     "output_type": "stream",
     "text": [
      "Reading CPS and comscore data...\n"
     ]
    }
   ],
   "source": [
    "import pandas as pd\n",
    "from config import N_PANELS, COMSCORE_YEAR, N_CORES, INCOME_MAPPING\n",
    "from comscore.data import read_cps_df, read_comscore_demo_df\n",
    "from comscore.panel import generate_stratified_sample, stratify_cps\n",
    "from comscore.utils.stratify import stratify_data_without_replacement\n",
    "from joblib import Parallel, delayed\n",
    "\n",
    "print(\"Reading CPS and comscore data...\")\n",
    "cps_df = read_cps_df(fpath=\"../data/CPS-race.csv\")\n",
    "comscore_demo_df = read_comscore_demo_df(fpath='../data/comscore/{year}/demographics.csv', year=COMSCORE_YEAR)"
   ]
  },
  {
   "cell_type": "code",
   "execution_count": 16,
   "metadata": {},
   "outputs": [
    {
     "name": "stdout",
     "output_type": "stream",
     "text": [
      "Done. Generating panels...\n"
     ]
    }
   ],
   "source": [
    "# collapse income categories to 4 categories\n",
    "cps_df['comscore_mapping'] = cps_df.comscore_mapping.apply(lambda x: INCOME_MAPPING[x])\n",
    "comscore_demo_df['household_income'] = comscore_demo_df.household_income.apply(lambda x: INCOME_MAPPING[x])\n"
   ]
  },
  {
   "cell_type": "code",
   "execution_count": 38,
   "metadata": {},
   "outputs": [
    {
     "name": "stdout",
     "output_type": "stream",
     "text": [
      "CPU times: user 5.35 s, sys: 521 ms, total: 5.87 s\n",
      "Wall time: 5.86 s\n"
     ]
    }
   ],
   "source": [
    "%%time\n",
    "N_DOMAINS_THRESHOLD = 7\n",
    "df = (machine_weeks_df\n",
    "      .query('n_domains >= 7')\n",
    "      .merge(comscore_demo_df, \n",
    "                       how='left', \n",
    "                       left_on='machine_id', \n",
    "                       right_on='machine_id')\n",
    "      \n",
    "     )"
   ]
  },
  {
   "cell_type": "code",
   "execution_count": 42,
   "metadata": {},
   "outputs": [
    {
     "data": {
      "text/html": [
       "<div>\n",
       "<style scoped>\n",
       "    .dataframe tbody tr th:only-of-type {\n",
       "        vertical-align: middle;\n",
       "    }\n",
       "\n",
       "    .dataframe tbody tr th {\n",
       "        vertical-align: top;\n",
       "    }\n",
       "\n",
       "    .dataframe thead th {\n",
       "        text-align: right;\n",
       "    }\n",
       "</style>\n",
       "<table border=\"1\" class=\"dataframe\">\n",
       "  <thead>\n",
       "    <tr style=\"text-align: right;\">\n",
       "      <th></th>\n",
       "      <th>machine_id</th>\n",
       "      <th>week</th>\n",
       "      <th>n_domains</th>\n",
       "      <th>domains</th>\n",
       "      <th>household_income</th>\n",
       "      <th>racial_background</th>\n",
       "    </tr>\n",
       "  </thead>\n",
       "  <tbody>\n",
       "    <tr>\n",
       "      <th>0</th>\n",
       "      <td>46569906</td>\n",
       "      <td>1</td>\n",
       "      <td>119</td>\n",
       "      <td>[tricoathletics.com, webassign.net, opinionshe...</td>\n",
       "      <td>3.0</td>\n",
       "      <td>1.0</td>\n",
       "    </tr>\n",
       "    <tr>\n",
       "      <th>1</th>\n",
       "      <td>81191519</td>\n",
       "      <td>1</td>\n",
       "      <td>8</td>\n",
       "      <td>[adobeconnect.com, myway.com, docusign.net, ms...</td>\n",
       "      <td>1.0</td>\n",
       "      <td>1.0</td>\n",
       "    </tr>\n",
       "    <tr>\n",
       "      <th>2</th>\n",
       "      <td>92330491</td>\n",
       "      <td>1</td>\n",
       "      <td>45</td>\n",
       "      <td>[freeldssheetmusic.org, ashleyhallmusic.com, m...</td>\n",
       "      <td>2.0</td>\n",
       "      <td>1.0</td>\n",
       "    </tr>\n",
       "    <tr>\n",
       "      <th>3</th>\n",
       "      <td>93557605</td>\n",
       "      <td>1</td>\n",
       "      <td>9</td>\n",
       "      <td>[obsev.com, yahoo.com, msn.com, rosewe.com, em...</td>\n",
       "      <td>1.0</td>\n",
       "      <td>1.0</td>\n",
       "    </tr>\n",
       "    <tr>\n",
       "      <th>4</th>\n",
       "      <td>99534294</td>\n",
       "      <td>1</td>\n",
       "      <td>35</td>\n",
       "      <td>[gearbest.com, glavpost.com, yahoo.com, contex...</td>\n",
       "      <td>3.0</td>\n",
       "      <td>1.0</td>\n",
       "    </tr>\n",
       "  </tbody>\n",
       "</table>\n",
       "</div>"
      ],
      "text/plain": [
       "   machine_id  week  n_domains  \\\n",
       "0    46569906     1        119   \n",
       "1    81191519     1          8   \n",
       "2    92330491     1         45   \n",
       "3    93557605     1          9   \n",
       "4    99534294     1         35   \n",
       "\n",
       "                                             domains  household_income  \\\n",
       "0  [tricoathletics.com, webassign.net, opinionshe...               3.0   \n",
       "1  [adobeconnect.com, myway.com, docusign.net, ms...               1.0   \n",
       "2  [freeldssheetmusic.org, ashleyhallmusic.com, m...               2.0   \n",
       "3  [obsev.com, yahoo.com, msn.com, rosewe.com, em...               1.0   \n",
       "4  [gearbest.com, glavpost.com, yahoo.com, contex...               3.0   \n",
       "\n",
       "   racial_background  \n",
       "0                1.0  \n",
       "1                1.0  \n",
       "2                1.0  \n",
       "3                1.0  \n",
       "4                1.0  "
      ]
     },
     "execution_count": 42,
     "metadata": {},
     "output_type": "execute_result"
    }
   ],
   "source": [
    "df.head()"
   ]
  },
  {
   "cell_type": "code",
   "execution_count": 53,
   "metadata": {},
   "outputs": [],
   "source": [
    "def generate_weekly_stratified_samples(cps_df, \n",
    "                                       comscore_demo_df, \n",
    "                                       machine_weeks_df, \n",
    "                                       seed_value=datetime.now()):\n",
    "    import random\n",
    "    random.seed(seed_value)\n",
    "    cps_stratify = stratify_cps(cps_df)\n",
    "    comscore_demo_df['stratify'] = (\n",
    "        comscore_demo_df.household_income.astype(float).astype(str) \\\n",
    "        + \", \" \\\n",
    "        + comscore_demo_df.racial_background.astype(float).astype(str)\n",
    "    )\n",
    "    df = (machine_weeks_df\n",
    "      .query('n_domains >= 7')\n",
    "      .merge(comscore_demo_df, \n",
    "                       how='left', \n",
    "                       left_on='machine_id', \n",
    "                       right_on='machine_id')\n",
    "      \n",
    "     )\n",
    "    # psuedocode - adjust accordingly after using saved machine,week data\n",
    "    ## read_weeks_machines_domains()\n",
    "    weekly_panels = []\n",
    "    for week in df.week.unique():\n",
    "        week_df = df[df.week == week]\n",
    "        demo_df_s = stratify_data_without_replacement(\n",
    "            week_df, \"stratify\", cps_stratify.index, cps_stratify.values\n",
    "        )\n",
    "        weekly_panels.append(demo_df_s)\n",
    "    return pd.concat(weekly_panels)"
   ]
  },
  {
   "cell_type": "code",
   "execution_count": null,
   "metadata": {},
   "outputs": [
    {
     "name": "stderr",
     "output_type": "stream",
     "text": [
      "/tmp/ipykernel_2675761/2849538417.py:6: DeprecationWarning: Seeding based on hashing is deprecated\n",
      "since Python 3.9 and will be removed in a subsequent version. The only \n",
      "supported seed types are: None, int, float, str, bytes, and bytearray.\n",
      "  random.seed(seed_value)\n",
      "<timed exec>:6: UserWarning: Pandas doesn't allow columns to be created via a new attribute name - see https://pandas.pydata.org/pandas-docs/stable/indexing.html#attribute-access\n"
     ]
    }
   ],
   "source": [
    "%%time\n",
    "n_panels = 10\n",
    "all_panels = []\n",
    "for p in range(1, n_panels + 1):\n",
    "    # 52 panels\n",
    "    panel_weeks = generate_weekly_stratified_samples(cps_df, comscore_demo_df, machine_weeks_df)\n",
    "    panel_weeks.panel_id = panel_weeks.week * p\n",
    "    all_panels.append(panel_weeks)"
   ]
  },
  {
   "cell_type": "markdown",
   "metadata": {},
   "source": [
    "extract just machine_id, week, panel_id from this dataframe"
   ]
  },
  {
   "cell_type": "code",
   "execution_count": null,
   "metadata": {},
   "outputs": [],
   "source": [
    "\n",
    "\n",
    "print(\"Generating panels...\")\n",
    "\n",
    "panels = Parallel(n_jobs=N_CORES)(delayed(generate_stratified_sample)(cps_df, comscore_demo_df,\n",
    "    seed_value=n) for n in range(N_PANELS))\n",
    "\n",
    "print(\"Done. Assigning panel IDs and writing to disk...\")\n",
    "\n",
    "panels = [p.assign(panel_id=n) for n, p in enumerate(panels)]\n",
    "all_panels = pd.concat(panels).reset_index(drop=True)\n",
    "all_panels.to_csv('output/all_panels.csv')"
   ]
  }
 ],
 "metadata": {
  "kernelspec": {
   "display_name": "conda-floc",
   "language": "python",
   "name": "conda-floc"
  },
  "language_info": {
   "codemirror_mode": {
    "name": "ipython",
    "version": 3
   },
   "file_extension": ".py",
   "mimetype": "text/x-python",
   "name": "python",
   "nbconvert_exporter": "python",
   "pygments_lexer": "ipython3",
   "version": "3.9.7"
  }
 },
 "nbformat": 4,
 "nbformat_minor": 2
}
