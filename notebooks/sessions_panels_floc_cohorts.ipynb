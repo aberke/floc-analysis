{
 "cells": [
  {
   "cell_type": "markdown",
   "id": "05b4c28e",
   "metadata": {},
   "source": [
    "# FLoC Cohorts from sessions panel data\n",
    "\n"
   ]
  },
  {
   "cell_type": "code",
   "execution_count": 1,
   "id": "45a51e33",
   "metadata": {},
   "outputs": [],
   "source": [
    "from datetime import datetime\n",
    "import sys\n",
    "sys.path.append('..')\n",
    "\n",
    "import matplotlib.pyplot as plt\n",
    "import numpy as np\n",
    "import pandas as pd\n",
    "import random\n",
    "\n",
    "import floc\n",
    "\n",
    "from comscore.data import read_weeks_machines_domains\n",
    "import prefixLSH\n"
   ]
  },
  {
   "cell_type": "markdown",
   "id": "2101d349",
   "metadata": {},
   "source": [
    "read in pre-processed sessions data"
   ]
  },
  {
   "cell_type": "code",
   "execution_count": 4,
   "id": "3a55b0d2",
   "metadata": {},
   "outputs": [
    {
     "name": "stdout",
     "output_type": "stream",
     "text": [
      "reading from ../output/weeks_machines_domains.csv...\n",
      "... read 4877236 rows\n"
     ]
    },
    {
     "data": {
      "text/html": [
       "<div>\n",
       "<style scoped>\n",
       "    .dataframe tbody tr th:only-of-type {\n",
       "        vertical-align: middle;\n",
       "    }\n",
       "\n",
       "    .dataframe tbody tr th {\n",
       "        vertical-align: top;\n",
       "    }\n",
       "\n",
       "    .dataframe thead th {\n",
       "        text-align: right;\n",
       "    }\n",
       "</style>\n",
       "<table border=\"1\" class=\"dataframe\">\n",
       "  <thead>\n",
       "    <tr style=\"text-align: right;\">\n",
       "      <th></th>\n",
       "      <th>week</th>\n",
       "      <th>n_domains</th>\n",
       "    </tr>\n",
       "  </thead>\n",
       "  <tbody>\n",
       "    <tr>\n",
       "      <th>0</th>\n",
       "      <td>1</td>\n",
       "      <td>104</td>\n",
       "    </tr>\n",
       "    <tr>\n",
       "      <th>1</th>\n",
       "      <td>1</td>\n",
       "      <td>0</td>\n",
       "    </tr>\n",
       "    <tr>\n",
       "      <th>2</th>\n",
       "      <td>1</td>\n",
       "      <td>20</td>\n",
       "    </tr>\n",
       "    <tr>\n",
       "      <th>3</th>\n",
       "      <td>1</td>\n",
       "      <td>49</td>\n",
       "    </tr>\n",
       "    <tr>\n",
       "      <th>4</th>\n",
       "      <td>1</td>\n",
       "      <td>64</td>\n",
       "    </tr>\n",
       "  </tbody>\n",
       "</table>\n",
       "</div>"
      ],
      "text/plain": [
       "   week  n_domains\n",
       "0     1        104\n",
       "1     1          0\n",
       "2     1         20\n",
       "3     1         49\n",
       "4     1         64"
      ]
     },
     "execution_count": 4,
     "metadata": {},
     "output_type": "execute_result"
    }
   ],
   "source": [
    "# read in the pre-processed sessions data \n",
    "# this maps week,machine_id -> domains set\n",
    "weeks_machines_domains_fpath = '../output/weeks_machines_domains.csv'\n",
    "weeks_machines_domains_df = read_weeks_machines_domains(weeks_machines_domains_fpath)\n",
    "weeks_machines_domains_df.drop(['machine_id', 'domains'], axis=1).head()"
   ]
  },
  {
   "cell_type": "markdown",
   "id": "917fbc00",
   "metadata": {},
   "source": [
    "___"
   ]
  },
  {
   "cell_type": "markdown",
   "id": "b2e74397",
   "metadata": {},
   "source": [
    "read in panels that were created based on the sessions data and demographic data\n",
    "\n",
    "attach domains data\n",
    "\n",
    "attach the simhash computed from the domains\n",
    "\n",
    "precompute cohorts for each panel"
   ]
  },
  {
   "cell_type": "code",
   "execution_count": 5,
   "id": "be91b948",
   "metadata": {},
   "outputs": [
    {
     "name": "stdout",
     "output_type": "stream",
     "text": [
      "read in all panels: 3302090 total rows\n",
      "520 panels\n"
     ]
    },
    {
     "data": {
      "text/html": [
       "<div>\n",
       "<style scoped>\n",
       "    .dataframe tbody tr th:only-of-type {\n",
       "        vertical-align: middle;\n",
       "    }\n",
       "\n",
       "    .dataframe tbody tr th {\n",
       "        vertical-align: top;\n",
       "    }\n",
       "\n",
       "    .dataframe thead th {\n",
       "        text-align: right;\n",
       "    }\n",
       "</style>\n",
       "<table border=\"1\" class=\"dataframe\">\n",
       "  <thead>\n",
       "    <tr style=\"text-align: right;\">\n",
       "      <th></th>\n",
       "      <th>week</th>\n",
       "      <th>n_domains</th>\n",
       "      <th>household_income</th>\n",
       "      <th>racial_background</th>\n",
       "      <th>stratify</th>\n",
       "      <th>panel_id</th>\n",
       "    </tr>\n",
       "  </thead>\n",
       "  <tbody>\n",
       "    <tr>\n",
       "      <th>0</th>\n",
       "      <td>1</td>\n",
       "      <td>40</td>\n",
       "      <td>1.0</td>\n",
       "      <td>1.0</td>\n",
       "      <td>1.0, 1.0</td>\n",
       "      <td>1</td>\n",
       "    </tr>\n",
       "    <tr>\n",
       "      <th>1</th>\n",
       "      <td>1</td>\n",
       "      <td>43</td>\n",
       "      <td>1.0</td>\n",
       "      <td>1.0</td>\n",
       "      <td>1.0, 1.0</td>\n",
       "      <td>1</td>\n",
       "    </tr>\n",
       "    <tr>\n",
       "      <th>2</th>\n",
       "      <td>1</td>\n",
       "      <td>147</td>\n",
       "      <td>1.0</td>\n",
       "      <td>1.0</td>\n",
       "      <td>1.0, 1.0</td>\n",
       "      <td>1</td>\n",
       "    </tr>\n",
       "    <tr>\n",
       "      <th>3</th>\n",
       "      <td>1</td>\n",
       "      <td>45</td>\n",
       "      <td>1.0</td>\n",
       "      <td>1.0</td>\n",
       "      <td>1.0, 1.0</td>\n",
       "      <td>1</td>\n",
       "    </tr>\n",
       "    <tr>\n",
       "      <th>4</th>\n",
       "      <td>1</td>\n",
       "      <td>22</td>\n",
       "      <td>1.0</td>\n",
       "      <td>1.0</td>\n",
       "      <td>1.0, 1.0</td>\n",
       "      <td>1</td>\n",
       "    </tr>\n",
       "  </tbody>\n",
       "</table>\n",
       "</div>"
      ],
      "text/plain": [
       "   week  n_domains  household_income  racial_background  stratify  panel_id\n",
       "0     1         40               1.0                1.0  1.0, 1.0         1\n",
       "1     1         43               1.0                1.0  1.0, 1.0         1\n",
       "2     1        147               1.0                1.0  1.0, 1.0         1\n",
       "3     1         45               1.0                1.0  1.0, 1.0         1\n",
       "4     1         22               1.0                1.0  1.0, 1.0         1"
      ]
     },
     "execution_count": 5,
     "metadata": {},
     "output_type": "execute_result"
    }
   ],
   "source": [
    "all_panels_fpath = '../output/all_panels.csv'\n",
    "all_panels_df = pd.read_csv(all_panels_fpath)\n",
    "print('read in all panels: %s total rows' % len(all_panels_df))\n",
    "print('%s panels' % all_panels_df.panel_id.nunique())\n",
    "all_panels_df.drop(['machine_id'], axis=1).head()"
   ]
  },
  {
   "cell_type": "code",
   "execution_count": 6,
   "id": "5fbb00ea",
   "metadata": {},
   "outputs": [
    {
     "data": {
      "text/html": [
       "<div>\n",
       "<style scoped>\n",
       "    .dataframe tbody tr th:only-of-type {\n",
       "        vertical-align: middle;\n",
       "    }\n",
       "\n",
       "    .dataframe tbody tr th {\n",
       "        vertical-align: top;\n",
       "    }\n",
       "\n",
       "    .dataframe thead th {\n",
       "        text-align: right;\n",
       "    }\n",
       "</style>\n",
       "<table border=\"1\" class=\"dataframe\">\n",
       "  <thead>\n",
       "    <tr style=\"text-align: right;\">\n",
       "      <th></th>\n",
       "      <th>week</th>\n",
       "      <th>n_domains</th>\n",
       "      <th>household_income</th>\n",
       "      <th>racial_background</th>\n",
       "      <th>stratify</th>\n",
       "      <th>panel_id</th>\n",
       "    </tr>\n",
       "  </thead>\n",
       "  <tbody>\n",
       "    <tr>\n",
       "      <th>0</th>\n",
       "      <td>1</td>\n",
       "      <td>40</td>\n",
       "      <td>1.0</td>\n",
       "      <td>1.0</td>\n",
       "      <td>1.0, 1.0</td>\n",
       "      <td>1</td>\n",
       "    </tr>\n",
       "    <tr>\n",
       "      <th>1</th>\n",
       "      <td>1</td>\n",
       "      <td>43</td>\n",
       "      <td>1.0</td>\n",
       "      <td>1.0</td>\n",
       "      <td>1.0, 1.0</td>\n",
       "      <td>1</td>\n",
       "    </tr>\n",
       "    <tr>\n",
       "      <th>2</th>\n",
       "      <td>1</td>\n",
       "      <td>147</td>\n",
       "      <td>1.0</td>\n",
       "      <td>1.0</td>\n",
       "      <td>1.0, 1.0</td>\n",
       "      <td>1</td>\n",
       "    </tr>\n",
       "    <tr>\n",
       "      <th>3</th>\n",
       "      <td>1</td>\n",
       "      <td>45</td>\n",
       "      <td>1.0</td>\n",
       "      <td>1.0</td>\n",
       "      <td>1.0, 1.0</td>\n",
       "      <td>1</td>\n",
       "    </tr>\n",
       "    <tr>\n",
       "      <th>4</th>\n",
       "      <td>1</td>\n",
       "      <td>22</td>\n",
       "      <td>1.0</td>\n",
       "      <td>1.0</td>\n",
       "      <td>1.0, 1.0</td>\n",
       "      <td>1</td>\n",
       "    </tr>\n",
       "  </tbody>\n",
       "</table>\n",
       "</div>"
      ],
      "text/plain": [
       "   week  n_domains  household_income  racial_background  stratify  panel_id\n",
       "0     1         40               1.0                1.0  1.0, 1.0         1\n",
       "1     1         43               1.0                1.0  1.0, 1.0         1\n",
       "2     1        147               1.0                1.0  1.0, 1.0         1\n",
       "3     1         45               1.0                1.0  1.0, 1.0         1\n",
       "4     1         22               1.0                1.0  1.0, 1.0         1"
      ]
     },
     "execution_count": 6,
     "metadata": {},
     "output_type": "execute_result"
    }
   ],
   "source": [
    "weeks_machines_domains = weeks_machines_domains_df.set_index(['machine_id','week'])['domains']\n",
    "all_panels_df['domains'] = all_panels_df.set_index(['machine_id','week']).index.map(weeks_machines_domains)\n",
    "all_panels_df.drop(['machine_id','domains'], axis=1).head()"
   ]
  },
  {
   "cell_type": "code",
   "execution_count": 7,
   "id": "c34f8c86",
   "metadata": {},
   "outputs": [],
   "source": [
    "# apply simhash\n",
    "all_panels_df['simhash'] = all_panels_df.domains.apply(floc.hashes.sim_hash_string)"
   ]
  },
  {
   "cell_type": "markdown",
   "id": "94b2f62f",
   "metadata": {},
   "source": [
    "Save intermediary output: panels with simhash"
   ]
  },
  {
   "cell_type": "code",
   "execution_count": 8,
   "id": "d3cb5df9",
   "metadata": {},
   "outputs": [],
   "source": [
    "all_panels_simhash_fpath = '../output/all_panels_simhash.csv'"
   ]
  },
  {
   "cell_type": "code",
   "execution_count": 10,
   "id": "1f8cb514",
   "metadata": {},
   "outputs": [
    {
     "name": "stdout",
     "output_type": "stream",
     "text": [
      "saving to ../output/all_panels_simhash.csv...\n"
     ]
    }
   ],
   "source": [
    "print('saving to %s...' % all_panels_simhash_fpath)\n",
    "all_panels_df.drop('domains', axis=1).to_csv(all_panels_simhash_fpath, index=False)"
   ]
  },
  {
   "cell_type": "markdown",
   "id": "65e62c5d",
   "metadata": {},
   "source": [
    "script re-entry point"
   ]
  },
  {
   "cell_type": "code",
   "execution_count": 11,
   "id": "2ceb407d",
   "metadata": {},
   "outputs": [
    {
     "name": "stdout",
     "output_type": "stream",
     "text": [
      "read in all panels: 3302090 total rows\n",
      "520 panels\n"
     ]
    },
    {
     "data": {
      "text/html": [
       "<div>\n",
       "<style scoped>\n",
       "    .dataframe tbody tr th:only-of-type {\n",
       "        vertical-align: middle;\n",
       "    }\n",
       "\n",
       "    .dataframe tbody tr th {\n",
       "        vertical-align: top;\n",
       "    }\n",
       "\n",
       "    .dataframe thead th {\n",
       "        text-align: right;\n",
       "    }\n",
       "</style>\n",
       "<table border=\"1\" class=\"dataframe\">\n",
       "  <thead>\n",
       "    <tr style=\"text-align: right;\">\n",
       "      <th></th>\n",
       "      <th>machine_id</th>\n",
       "      <th>week</th>\n",
       "      <th>n_domains</th>\n",
       "      <th>household_income</th>\n",
       "      <th>racial_background</th>\n",
       "      <th>stratify</th>\n",
       "      <th>panel_id</th>\n",
       "      <th>simhash</th>\n",
       "    </tr>\n",
       "  </thead>\n",
       "  <tbody>\n",
       "    <tr>\n",
       "      <th>0</th>\n",
       "      <td>225477651</td>\n",
       "      <td>1</td>\n",
       "      <td>40</td>\n",
       "      <td>1.0</td>\n",
       "      <td>1.0</td>\n",
       "      <td>1.0, 1.0</td>\n",
       "      <td>1</td>\n",
       "      <td>1053512748232354</td>\n",
       "    </tr>\n",
       "    <tr>\n",
       "      <th>1</th>\n",
       "      <td>215623532</td>\n",
       "      <td>1</td>\n",
       "      <td>43</td>\n",
       "      <td>1.0</td>\n",
       "      <td>1.0</td>\n",
       "      <td>1.0, 1.0</td>\n",
       "      <td>1</td>\n",
       "      <td>207270634237270</td>\n",
       "    </tr>\n",
       "    <tr>\n",
       "      <th>2</th>\n",
       "      <td>186655210</td>\n",
       "      <td>1</td>\n",
       "      <td>147</td>\n",
       "      <td>1.0</td>\n",
       "      <td>1.0</td>\n",
       "      <td>1.0, 1.0</td>\n",
       "      <td>1</td>\n",
       "      <td>155255686110552</td>\n",
       "    </tr>\n",
       "    <tr>\n",
       "      <th>3</th>\n",
       "      <td>224752776</td>\n",
       "      <td>1</td>\n",
       "      <td>45</td>\n",
       "      <td>1.0</td>\n",
       "      <td>1.0</td>\n",
       "      <td>1.0, 1.0</td>\n",
       "      <td>1</td>\n",
       "      <td>765518950719653</td>\n",
       "    </tr>\n",
       "    <tr>\n",
       "      <th>4</th>\n",
       "      <td>207687017</td>\n",
       "      <td>1</td>\n",
       "      <td>22</td>\n",
       "      <td>1.0</td>\n",
       "      <td>1.0</td>\n",
       "      <td>1.0, 1.0</td>\n",
       "      <td>1</td>\n",
       "      <td>1087583118580527</td>\n",
       "    </tr>\n",
       "  </tbody>\n",
       "</table>\n",
       "</div>"
      ],
      "text/plain": [
       "   machine_id  week  n_domains  household_income  racial_background  stratify  \\\n",
       "0   225477651     1         40               1.0                1.0  1.0, 1.0   \n",
       "1   215623532     1         43               1.0                1.0  1.0, 1.0   \n",
       "2   186655210     1        147               1.0                1.0  1.0, 1.0   \n",
       "3   224752776     1         45               1.0                1.0  1.0, 1.0   \n",
       "4   207687017     1         22               1.0                1.0  1.0, 1.0   \n",
       "\n",
       "   panel_id           simhash  \n",
       "0         1  1053512748232354  \n",
       "1         1   207270634237270  \n",
       "2         1   155255686110552  \n",
       "3         1   765518950719653  \n",
       "4         1  1087583118580527  "
      ]
     },
     "execution_count": 11,
     "metadata": {},
     "output_type": "execute_result"
    }
   ],
   "source": [
    "all_panels_df = pd.read_csv(all_panels_simhash_fpath)\n",
    "print('read in all panels: %s total rows' % len(all_panels_df))\n",
    "print('%s panels' % all_panels_df.panel_id.nunique())\n",
    "all_panels_df.head()"
   ]
  },
  {
   "cell_type": "markdown",
   "id": "b6970394",
   "metadata": {},
   "source": [
    "##### Pre-compute cohorts for each panel\n",
    "\n",
    "each sample's cohort is dependent on the rest of the simhashes in the panel\n",
    "\n",
    "for this reason, cohorts must be computed per panel"
   ]
  },
  {
   "cell_type": "code",
   "execution_count": 12,
   "id": "c2803aa2",
   "metadata": {},
   "outputs": [],
   "source": [
    "all_panels_cohorts_df = all_panels_df.copy()"
   ]
  },
  {
   "cell_type": "code",
   "execution_count": null,
   "id": "584449d1",
   "metadata": {},
   "outputs": [
    {
     "name": "stdout",
     "output_type": "stream",
     "text": [
      "computing cohorts for panel 1/520\n",
      "took 0:00:52.600540\n",
      "computing cohorts for panel 2/520\n",
      "took 0:00:51.353196\n",
      "computing cohorts for panel 3/520\n",
      "took 0:00:50.400729\n",
      "computing cohorts for panel 4/520\n",
      "took 0:00:50.253033\n",
      "computing cohorts for panel 5/520\n",
      "took 0:00:48.421979\n",
      "computing cohorts for panel 6/520\n",
      "took 0:00:48.979739\n",
      "computing cohorts for panel 7/520\n",
      "took 0:00:49.001481\n",
      "computing cohorts for panel 8/520\n",
      "took 0:00:48.793433\n",
      "computing cohorts for panel 9/520\n",
      "took 0:00:50.414048\n",
      "computing cohorts for panel 10/520\n",
      "took 0:00:54.387241\n",
      "computing cohorts for panel 11/520\n",
      "took 0:00:46.691973\n",
      "computing cohorts for panel 12/520\n",
      "took 0:00:47.792375\n",
      "computing cohorts for panel 13/520\n",
      "took 0:00:48.431833\n",
      "computing cohorts for panel 14/520\n",
      "took 0:00:48.221698\n",
      "computing cohorts for panel 15/520\n",
      "took 0:00:49.071599\n",
      "computing cohorts for panel 16/520\n",
      "took 0:00:49.839058\n",
      "computing cohorts for panel 17/520\n"
     ]
    }
   ],
   "source": [
    "# TODO: repeat this analysis with another min_k for a robustness test\n",
    "# e.g. all_panels_cohorts80_df = all_panels_df.copy(); min_k=80\n",
    "min_k = 40 \n",
    "# preset all cohorts to None\n",
    "# cohort_k40 = 'cohort_k40'\n",
    "all_panels_df['cohort'] = np.nan\n",
    "\n",
    "for panel_id in all_panels_df.panel_id.unique():\n",
    "    t_start = datetime.now()\n",
    "    if panel_id % 1 == 0:\n",
    "        print('computing cohorts for panel %s/%s' % (panel_id, all_panels_df.panel_id.nunique()))\n",
    "    panel_df = all_panels_df[all_panels_cohorts_df.panel_id==panel_id]\n",
    "    cohorts_dict = prefixLSH.get_cohorts_dict(panel_df.simhash.astype(int), min_k=min_k)\n",
    "    assign_cohort = lambda x: cohorts_dict[x.simhash] if x.panel_id == panel_id else x['cohort']\n",
    "    all_panels_df['cohort'] = all_panels_df.apply(assign_cohort, axis=1)\n",
    "    if panel_id % 1 == 0:\n",
    "        print('took %s' % (datetime.now() - t_start))"
   ]
  },
  {
   "cell_type": "code",
   "execution_count": null,
   "id": "8faf5fa0",
   "metadata": {},
   "outputs": [],
   "source": [
    "all_panels_df.head(3) "
   ]
  },
  {
   "cell_type": "code",
   "execution_count": null,
   "id": "993157f3",
   "metadata": {},
   "outputs": [],
   "source": [
    "panel_df1 = all_panels_df[all_panels_df.panel_id == 1]\n",
    "print('cohort sizes:')\n",
    "cohort_counts = panel_df1['cohort'].value_counts()\n",
    "print(cohort_counts.describe())\n",
    "\n",
    "fig,ax = plt.subplots(2,1,figsize=(4,3), sharex=True, dpi=100)\n",
    "cohort_counts.hist(ax=ax[0])\n",
    "ax[0].set_ylabel('cohorts')\n",
    "ax[1].set_ylabel('cohorts')\n",
    "_ = ax[1].set_xlabel('cohort size')\n",
    "_ = cohort_counts.hist(ax=ax[1], bins=50)"
   ]
  },
  {
   "cell_type": "markdown",
   "id": "ece4e574",
   "metadata": {},
   "source": [
    "save intermediary output"
   ]
  },
  {
   "cell_type": "code",
   "execution_count": null,
   "id": "8f7ccd16",
   "metadata": {},
   "outputs": [],
   "source": [
    "all_panels_cohorts_fpath = '../output/all_panels_cohorts.csv'"
   ]
  },
  {
   "cell_type": "code",
   "execution_count": null,
   "id": "8a0f2d44",
   "metadata": {},
   "outputs": [],
   "source": [
    "print('saving to %s...' % all_panels_cohorts_fpath)\n",
    "all_panels_df.to_csv(all_panels_cohorts_fpath, index=False)"
   ]
  },
  {
   "cell_type": "markdown",
   "id": "d1e6a10d",
   "metadata": {},
   "source": [
    "script re-entry point"
   ]
  },
  {
   "cell_type": "code",
   "execution_count": null,
   "id": "dfd0a9a1",
   "metadata": {},
   "outputs": [],
   "source": [
    "all_panels_df = pd.read_csv(all_panels_cohorts_fpath)\n",
    "print('read in all panels: %s total rows' % len(all_panels_df))\n",
    "print('%s panels' % all_panels_df.panel_id.nunique())\n",
    "all_panels_df.head()"
   ]
  },
  {
   "cell_type": "code",
   "execution_count": null,
   "id": "d50246cd",
   "metadata": {},
   "outputs": [],
   "source": [
    "# get just one panel for now"
   ]
  },
  {
   "cell_type": "code",
   "execution_count": null,
   "id": "1504924e",
   "metadata": {},
   "outputs": [],
   "source": [
    "panel_id = random.choice(all_panels_df.panel_id.unique())\n",
    "print('using random panel id: %s' % panel_id)"
   ]
  },
  {
   "cell_type": "code",
   "execution_count": 29,
   "id": "197173f8",
   "metadata": {},
   "outputs": [
    {
     "data": {
      "text/html": [
       "<div>\n",
       "<style scoped>\n",
       "    .dataframe tbody tr th:only-of-type {\n",
       "        vertical-align: middle;\n",
       "    }\n",
       "\n",
       "    .dataframe tbody tr th {\n",
       "        vertical-align: top;\n",
       "    }\n",
       "\n",
       "    .dataframe thead th {\n",
       "        text-align: right;\n",
       "    }\n",
       "</style>\n",
       "<table border=\"1\" class=\"dataframe\">\n",
       "  <thead>\n",
       "    <tr style=\"text-align: right;\">\n",
       "      <th></th>\n",
       "      <th>week</th>\n",
       "      <th>n_domains</th>\n",
       "      <th>household_income</th>\n",
       "      <th>racial_background</th>\n",
       "      <th>stratify</th>\n",
       "      <th>panel_id</th>\n",
       "      <th>simhash</th>\n",
       "    </tr>\n",
       "  </thead>\n",
       "  <tbody>\n",
       "    <tr>\n",
       "      <th>707826</th>\n",
       "      <td>8</td>\n",
       "      <td>36</td>\n",
       "      <td>1.0</td>\n",
       "      <td>1.0</td>\n",
       "      <td>1.0, 1.0</td>\n",
       "      <td>112</td>\n",
       "      <td>598844775602146</td>\n",
       "    </tr>\n",
       "    <tr>\n",
       "      <th>707827</th>\n",
       "      <td>8</td>\n",
       "      <td>20</td>\n",
       "      <td>1.0</td>\n",
       "      <td>1.0</td>\n",
       "      <td>1.0, 1.0</td>\n",
       "      <td>112</td>\n",
       "      <td>52417318348</td>\n",
       "    </tr>\n",
       "    <tr>\n",
       "      <th>707828</th>\n",
       "      <td>8</td>\n",
       "      <td>25</td>\n",
       "      <td>1.0</td>\n",
       "      <td>1.0</td>\n",
       "      <td>1.0, 1.0</td>\n",
       "      <td>112</td>\n",
       "      <td>253662113111417</td>\n",
       "    </tr>\n",
       "    <tr>\n",
       "      <th>707829</th>\n",
       "      <td>8</td>\n",
       "      <td>10</td>\n",
       "      <td>1.0</td>\n",
       "      <td>1.0</td>\n",
       "      <td>1.0, 1.0</td>\n",
       "      <td>112</td>\n",
       "      <td>313649201634270</td>\n",
       "    </tr>\n",
       "    <tr>\n",
       "      <th>707830</th>\n",
       "      <td>8</td>\n",
       "      <td>7</td>\n",
       "      <td>1.0</td>\n",
       "      <td>1.0</td>\n",
       "      <td>1.0, 1.0</td>\n",
       "      <td>112</td>\n",
       "      <td>230404157507221</td>\n",
       "    </tr>\n",
       "  </tbody>\n",
       "</table>\n",
       "</div>"
      ],
      "text/plain": [
       "        week  n_domains  household_income  racial_background  stratify  \\\n",
       "707826     8         36               1.0                1.0  1.0, 1.0   \n",
       "707827     8         20               1.0                1.0  1.0, 1.0   \n",
       "707828     8         25               1.0                1.0  1.0, 1.0   \n",
       "707829     8         10               1.0                1.0  1.0, 1.0   \n",
       "707830     8          7               1.0                1.0  1.0, 1.0   \n",
       "\n",
       "        panel_id          simhash  \n",
       "707826       112  598844775602146  \n",
       "707827       112      52417318348  \n",
       "707828       112  253662113111417  \n",
       "707829       112  313649201634270  \n",
       "707830       112  230404157507221  "
      ]
     },
     "execution_count": 29,
     "metadata": {},
     "output_type": "execute_result"
    }
   ],
   "source": [
    "panel_df = all_panels_df[all_panels_df.panel_id == panel_id].copy()"
   ]
  },
  {
   "cell_type": "code",
   "execution_count": null,
   "id": "de3803da",
   "metadata": {},
   "outputs": [],
   "source": [
    "print('cohort sizes:')\n",
    "\n",
    "cohorts_counts = panel_df[\"cohort\"].value_counts()\n",
    "print(cohort_counts.describe())\n",
    "\n",
    "fig,ax = plt.subplots(2,1,figsize=(4,3), sharex=True, dpi=100)\n",
    "cohort_counts.hist(ax=ax[0])\n",
    "ax[0].set_ylabel('cohorts')\n",
    "ax[1].set_ylabel('cohorts')\n",
    "_ = ax[1].set_xlabel('cohort size')\n",
    "_ = cohort_counts.hist(ax=ax[1], bins=50)"
   ]
  },
  {
   "cell_type": "code",
   "execution_count": null,
   "id": "be9f7dfa",
   "metadata": {},
   "outputs": [],
   "source": [
    "def get_cohort_demo_portions_df(panel_df, demo_col):\n",
    "    df = panel_df.groupby(\n",
    "        ['cohort', demo_col]\n",
    "    ).count()['panel_id'].rename('count').to_frame().reset_index(demo_col)\n",
    "    df['total'] = panel_df.groupby('cohort').count()['panel_id']\n",
    "    df['portion'] = df['count']/df['total']\n",
    "    return df"
   ]
  },
  {
   "cell_type": "code",
   "execution_count": null,
   "id": "66b2d2bc",
   "metadata": {},
   "outputs": [],
   "source": [
    "dpi = 100\n",
    "t = 0.1\n",
    "\n",
    "def plot_cohort_demo_portions(panel_df, demo_col, demo_value_names_dict):\n",
    "    cohort_demo_portions_df = get_cohort_demo_portions_df(panel_df, demo_col)\n",
    "    demo_fractions = panel_df.dropna().groupby(demo_col)['panel_id'].count() / len(panel_df.dropna())\n",
    "    \n",
    "    for val in demo_value_names_dict:\n",
    "        print('%s' % demo_value_names_dict[val])\n",
    "        cohort_demo_mean = cohort_demo_portions_df[cohort_demo_portions_df[demo_col]==val].portion.mean()\n",
    "        print('mean fraction %s across cohorts = %0.2f' % (demo_value_names_dict[val], cohort_demo_mean))\n",
    "        # Google's sensitivity analysis actually looked at avg for sensitive categories\n",
    "        # across all users rather than across cohorts\n",
    "        demo_fraction = demo_fractions[val]\n",
    "        print('fraction %s across all users in cohorts = %0.2f' % (demo_value_names_dict[val], demo_fraction))\n",
    "\n",
    "        fig,ax = plt.subplots(1,1,figsize=(6,3), dpi=dpi)\n",
    "        cohort_demo_portions_df[cohort_demo_portions_df[demo_col]==val].portion.sort_values(ascending=False).plot.bar(ax=ax, label=\"\")\n",
    "\n",
    "        ax.hlines(y=demo_fraction, xmin=0, xmax=len(ax.get_xticks()), \n",
    "                  linestyles='-', color='black', label='mean')\n",
    "        if (demo_fraction - t) > 0:\n",
    "            ax.hlines(y=demo_fraction-t, xmin=0, xmax=len(ax.get_xticks()), \n",
    "                      linestyles='--', color='black', label='mean - t=0.1')\n",
    "        ax.hlines(y=demo_fraction+t, xmin=0, xmax=len(ax.get_xticks()), \n",
    "                  linestyles='--', color='black', label='mean + t=0.1')\n",
    "        #ax.legend()\n",
    "        ax.set_xticks([])\n",
    "        ax.set_xlabel('cohorts')\n",
    "        ax.set_ylabel('fraction \"%s\"' % demo_value_names_dict[val])\n",
    "        plt.show()\n",
    "    \n",
    "    return cohort_demo_portions_df"
   ]
  },
  {
   "cell_type": "code",
   "execution_count": null,
   "id": "d5af5d01",
   "metadata": {},
   "outputs": [],
   "source": [
    "race_values = {1:'white', 2:'black', 3:'asian', 5:'other'}\n",
    "hi_values = {1:'0 to 25k', 2:'25k to 50k', 3:'50k to 100k', 4:'100k +'}\n",
    "hi_race_values = {\n",
    "    \"1.0, 1.0\": \"0 to 25k, white\",\n",
    "    \"2.0, 1.0\": \"25k to 50k, white\",\n",
    "    \"3.0, 1.0\": \"50k to 100k, white\",\n",
    "    \"4.0, 1.0\": \"100k +, white\",\n",
    "    \n",
    "    \"1.0, 2.0\": \"0 to 25k, black\",\n",
    "    \"2.0, 2.0\": \"25k to 50k, black\",\n",
    "    \"3.0, 2.0\": \"50k to 100k, black\",\n",
    "    \"4.0, 2.0\": \"100k +, black\",\n",
    "    \n",
    "    \"1.0, 3.0\": \"0 to 25k, asian\",\n",
    "    \"2.0, 3.0\": \"25k to 50k, asian\",\n",
    "    \"3.0, 3.0\": \"50k to 100k, asian\",\n",
    "    \"4.0, 3.0\": \"100k +, asian\",\n",
    "    \n",
    "    \"1.0, 5.0\": \"0 to 25k, other\",\n",
    "    \"2.0, 5.0\": \"25k to 50k, other\",\n",
    "    \"3.0, 5.0\": \"50k to 100k, other\",\n",
    "    \"4.0, 5.0\": \"100k +, other\",\n",
    "}"
   ]
  },
  {
   "cell_type": "markdown",
   "id": "326717b1",
   "metadata": {},
   "source": [
    "Looking at race"
   ]
  },
  {
   "cell_type": "code",
   "execution_count": null,
   "id": "4a3c5ed0",
   "metadata": {},
   "outputs": [],
   "source": [
    "race = plot_cohort_demo_portions(panel_df, 'racial_background', race_values)\n",
    "race.head()"
   ]
  },
  {
   "cell_type": "markdown",
   "id": "94d9c1cc",
   "metadata": {},
   "source": [
    "Looking at just household income"
   ]
  },
  {
   "cell_type": "code",
   "execution_count": null,
   "id": "66aa0aa6",
   "metadata": {},
   "outputs": [],
   "source": [
    "hi = plot_cohort_demo_portions(panel_df, 'household_income', hi_values)\n",
    "hi.head()"
   ]
  },
  {
   "cell_type": "code",
   "execution_count": null,
   "id": "de8b0224",
   "metadata": {
    "scrolled": false
   },
   "outputs": [],
   "source": [
    "hi_race = plot_cohort_demo_portions(panel_df, 'stratify', hi_race_values)\n",
    "hi_race"
   ]
  },
  {
   "cell_type": "code",
   "execution_count": null,
   "id": "774c5f0a",
   "metadata": {},
   "outputs": [],
   "source": []
  }
 ],
 "metadata": {
  "kernelspec": {
   "display_name": ".venv",
   "language": "python",
   "name": ".venv"
  },
  "language_info": {
   "codemirror_mode": {
    "name": "ipython",
    "version": 3
   },
   "file_extension": ".py",
   "mimetype": "text/x-python",
   "name": "python",
   "nbconvert_exporter": "python",
   "pygments_lexer": "ipython3",
   "version": "3.7.1"
  }
 },
 "nbformat": 4,
 "nbformat_minor": 5
}
